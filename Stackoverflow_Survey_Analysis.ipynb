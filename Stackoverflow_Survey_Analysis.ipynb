{
 "cells": [
  {
   "cell_type": "markdown",
   "metadata": {},
   "source": [
    "## Stackoverflow_Survey_Analysis_2018"
   ]
  },
  {
   "cell_type": "code",
   "execution_count": 1,
   "metadata": {},
   "outputs": [],
   "source": [
    "import numpy as np\n",
    "import pandas as pd\n",
    "import matplotlib.pyplot as plt\n",
    "%matplotlib inline\n",
    "import seaborn as sns\n",
    "import warnings; \n",
    "warnings.simplefilter('ignore')"
   ]
  },
  {
   "cell_type": "markdown",
   "metadata": {},
   "source": [
    "## Exlporing 2018 Dataset"
   ]
  },
  {
   "cell_type": "code",
   "execution_count": 2,
   "metadata": {},
   "outputs": [
    {
     "data": {
      "text/html": [
       "<div>\n",
       "<style scoped>\n",
       "    .dataframe tbody tr th:only-of-type {\n",
       "        vertical-align: middle;\n",
       "    }\n",
       "\n",
       "    .dataframe tbody tr th {\n",
       "        vertical-align: top;\n",
       "    }\n",
       "\n",
       "    .dataframe thead th {\n",
       "        text-align: right;\n",
       "    }\n",
       "</style>\n",
       "<table border=\"1\" class=\"dataframe\">\n",
       "  <thead>\n",
       "    <tr style=\"text-align: right;\">\n",
       "      <th></th>\n",
       "      <th>Respondent</th>\n",
       "      <th>Hobby</th>\n",
       "      <th>OpenSource</th>\n",
       "      <th>Country</th>\n",
       "      <th>Student</th>\n",
       "      <th>Employment</th>\n",
       "      <th>FormalEducation</th>\n",
       "      <th>UndergradMajor</th>\n",
       "      <th>CompanySize</th>\n",
       "      <th>DevType</th>\n",
       "      <th>...</th>\n",
       "      <th>Exercise</th>\n",
       "      <th>Gender</th>\n",
       "      <th>SexualOrientation</th>\n",
       "      <th>EducationParents</th>\n",
       "      <th>RaceEthnicity</th>\n",
       "      <th>Age</th>\n",
       "      <th>Dependents</th>\n",
       "      <th>MilitaryUS</th>\n",
       "      <th>SurveyTooLong</th>\n",
       "      <th>SurveyEasy</th>\n",
       "    </tr>\n",
       "  </thead>\n",
       "  <tbody>\n",
       "    <tr>\n",
       "      <th>0</th>\n",
       "      <td>1</td>\n",
       "      <td>Yes</td>\n",
       "      <td>No</td>\n",
       "      <td>Kenya</td>\n",
       "      <td>No</td>\n",
       "      <td>Employed part-time</td>\n",
       "      <td>Bachelor’s degree (BA, BS, B.Eng., etc.)</td>\n",
       "      <td>Mathematics or statistics</td>\n",
       "      <td>20 to 99 employees</td>\n",
       "      <td>Full-stack developer</td>\n",
       "      <td>...</td>\n",
       "      <td>3 - 4 times per week</td>\n",
       "      <td>Male</td>\n",
       "      <td>Straight or heterosexual</td>\n",
       "      <td>Bachelor’s degree (BA, BS, B.Eng., etc.)</td>\n",
       "      <td>Black or of African descent</td>\n",
       "      <td>25 - 34 years old</td>\n",
       "      <td>Yes</td>\n",
       "      <td>NaN</td>\n",
       "      <td>The survey was an appropriate length</td>\n",
       "      <td>Very easy</td>\n",
       "    </tr>\n",
       "    <tr>\n",
       "      <th>1</th>\n",
       "      <td>3</td>\n",
       "      <td>Yes</td>\n",
       "      <td>Yes</td>\n",
       "      <td>United Kingdom</td>\n",
       "      <td>No</td>\n",
       "      <td>Employed full-time</td>\n",
       "      <td>Bachelor’s degree (BA, BS, B.Eng., etc.)</td>\n",
       "      <td>A natural science (ex. biology, chemistry, phy...</td>\n",
       "      <td>10,000 or more employees</td>\n",
       "      <td>Database administrator;DevOps specialist;Full-...</td>\n",
       "      <td>...</td>\n",
       "      <td>Daily or almost every day</td>\n",
       "      <td>Male</td>\n",
       "      <td>Straight or heterosexual</td>\n",
       "      <td>Bachelor’s degree (BA, BS, B.Eng., etc.)</td>\n",
       "      <td>White or of European descent</td>\n",
       "      <td>35 - 44 years old</td>\n",
       "      <td>Yes</td>\n",
       "      <td>NaN</td>\n",
       "      <td>The survey was an appropriate length</td>\n",
       "      <td>Somewhat easy</td>\n",
       "    </tr>\n",
       "  </tbody>\n",
       "</table>\n",
       "<p>2 rows × 129 columns</p>\n",
       "</div>"
      ],
      "text/plain": [
       "   Respondent Hobby OpenSource         Country Student          Employment  \\\n",
       "0           1   Yes         No           Kenya      No  Employed part-time   \n",
       "1           3   Yes        Yes  United Kingdom      No  Employed full-time   \n",
       "\n",
       "                            FormalEducation  \\\n",
       "0  Bachelor’s degree (BA, BS, B.Eng., etc.)   \n",
       "1  Bachelor’s degree (BA, BS, B.Eng., etc.)   \n",
       "\n",
       "                                      UndergradMajor  \\\n",
       "0                          Mathematics or statistics   \n",
       "1  A natural science (ex. biology, chemistry, phy...   \n",
       "\n",
       "                CompanySize  \\\n",
       "0        20 to 99 employees   \n",
       "1  10,000 or more employees   \n",
       "\n",
       "                                             DevType  ...  \\\n",
       "0                               Full-stack developer  ...   \n",
       "1  Database administrator;DevOps specialist;Full-...  ...   \n",
       "\n",
       "                    Exercise Gender         SexualOrientation  \\\n",
       "0       3 - 4 times per week   Male  Straight or heterosexual   \n",
       "1  Daily or almost every day   Male  Straight or heterosexual   \n",
       "\n",
       "                           EducationParents                 RaceEthnicity  \\\n",
       "0  Bachelor’s degree (BA, BS, B.Eng., etc.)   Black or of African descent   \n",
       "1  Bachelor’s degree (BA, BS, B.Eng., etc.)  White or of European descent   \n",
       "\n",
       "                 Age Dependents  MilitaryUS  \\\n",
       "0  25 - 34 years old        Yes         NaN   \n",
       "1  35 - 44 years old        Yes         NaN   \n",
       "\n",
       "                          SurveyTooLong     SurveyEasy  \n",
       "0  The survey was an appropriate length      Very easy  \n",
       "1  The survey was an appropriate length  Somewhat easy  \n",
       "\n",
       "[2 rows x 129 columns]"
      ]
     },
     "execution_count": 2,
     "metadata": {},
     "output_type": "execute_result"
    }
   ],
   "source": [
    "df2018 = pd.read_csv(r'C:\\Users\\sanja\\Stack_Data\\survey_results_public_2018.csv')\n",
    "df2018.head(2)"
   ]
  },
  {
   "cell_type": "code",
   "execution_count": 3,
   "metadata": {},
   "outputs": [
    {
     "data": {
      "text/plain": [
       "(98855, 129)"
      ]
     },
     "execution_count": 3,
     "metadata": {},
     "output_type": "execute_result"
    }
   ],
   "source": [
    "df2018.shape"
   ]
  },
  {
   "cell_type": "code",
   "execution_count": 4,
   "metadata": {},
   "outputs": [],
   "source": [
    "#print(df2018.columns.tolist()      !--> Listing coloumsn in table"
   ]
  },
  {
   "cell_type": "code",
   "execution_count": 5,
   "metadata": {},
   "outputs": [],
   "source": [
    "#dropping the columns\n",
    "#drop_cols = ['Respondent', 'OpenSource', 'Student', 'FormalEducation', 'CompanySize', 'CareerSatisfaction', 'HopeFiveYears', 'LastNewJob', 'AssessJob1', 'AssessJob2', 'AssessJob3', 'AssessJob4', 'AssessJob5', 'AssessJob6', 'AssessJob7', 'AssessJob8', 'AssessJob9', 'AssessJob10', 'AssessBenefits1', 'AssessBenefits2', 'AssessBenefits3', 'AssessBenefits4', 'AssessBenefits5', 'AssessBenefits6', 'AssessBenefits7', 'AssessBenefits8', 'AssessBenefits9', 'AssessBenefits10', 'AssessBenefits11', 'JobContactPriorities1', 'JobContactPriorities2', 'JobContactPriorities3', 'JobContactPriorities4', 'JobContactPriorities5', 'JobEmailPriorities1', 'JobEmailPriorities2', 'JobEmailPriorities3', 'JobEmailPriorities4', 'JobEmailPriorities5', 'JobEmailPriorities6', 'JobEmailPriorities7', 'UpdateCV', 'CommunicationTools', 'TimeFullyProductive', 'EducationTypes', 'SelfTaughtTypes', 'TimeAfterBootcamp', 'HackathonReasons', 'AgreeDisagree1', 'AgreeDisagree2', 'AgreeDisagree3', 'DatabaseWorkedWith', 'DatabaseDesireNextYear', 'PlatformDesireNextYear', 'FrameworkWorkedWith', 'FrameworkDesireNextYear', 'IDE', 'NumberMonitors', 'Methodology', 'VersionControl', 'CheckInCode', 'AdBlocker', 'AdBlockerDisable', 'AdBlockerReasons', 'AdsAgreeDisagree1', 'AdsAgreeDisagree2', 'AdsAgreeDisagree3', 'AdsActions', 'AdsPriorities1', 'AdsPriorities2', 'AdsPriorities3', 'AdsPriorities4', 'AdsPriorities5', 'AdsPriorities6', 'AdsPriorities7', 'AIDangerous', 'AIInteresting', 'AIResponsible', 'AIFuture', 'EthicsChoice', 'EthicsReport', 'EthicsResponsible', 'EthicalImplications', 'StackOverflowRecommend', 'StackOverflowVisit', 'StackOverflowHasAccount', 'StackOverflowParticipate', 'StackOverflowJobs', 'StackOverflowDevStory', 'StackOverflowJobsRecommend', 'StackOverflowConsiderMember', 'HypotheticalTools1', 'HypotheticalTools2', 'HypotheticalTools3', 'HypotheticalTools4', 'HypotheticalTools5', 'WakeTime', 'HoursComputer', 'HoursOutside', 'SkipMeals', 'ErgonomicDevices', 'Exercise', 'SexualOrientation', 'EducationParents', 'Dependents', 'MilitaryUS', 'SurveyTooLong', 'SurveyEasy']\n",
    "#df2018.drop(drop_cols, axis=1, inplace=True)"
   ]
  },
  {
   "cell_type": "code",
   "execution_count": 6,
   "metadata": {},
   "outputs": [],
   "source": [
    "#df2018.shape #checking rows and col after dropping the table"
   ]
  },
  {
   "cell_type": "markdown",
   "metadata": {},
   "source": [
    "### Data Filtering - Sorting & Renaming\n"
   ]
  },
  {
   "cell_type": "code",
   "execution_count": 7,
   "metadata": {},
   "outputs": [],
   "source": [
    "col=['Age','ConvertedSalary','Country','Currency','DevType','Employment','RaceEthnicity','Gender','SalaryType','Hobby','JobSatisfaction','JobSearchStatus','OperatingSystem','UndergradMajor','YearsCoding','YearsCodingProf','LanguageDesireNextYear','LanguageWorkedWith',]\n",
    "df=df2018[col]"
   ]
  },
  {
   "cell_type": "code",
   "execution_count": 8,
   "metadata": {},
   "outputs": [],
   "source": [
    "#renaming the colo\n",
    "# 'ConvertedSalary': 'SalaryUSD'\n",
    "df.rename(columns={'ConvertedSalary': 'SalaryUSD' }, inplace =True)"
   ]
  },
  {
   "cell_type": "code",
   "execution_count": 9,
   "metadata": {},
   "outputs": [
    {
     "data": {
      "text/html": [
       "<div>\n",
       "<style scoped>\n",
       "    .dataframe tbody tr th:only-of-type {\n",
       "        vertical-align: middle;\n",
       "    }\n",
       "\n",
       "    .dataframe tbody tr th {\n",
       "        vertical-align: top;\n",
       "    }\n",
       "\n",
       "    .dataframe thead th {\n",
       "        text-align: right;\n",
       "    }\n",
       "</style>\n",
       "<table border=\"1\" class=\"dataframe\">\n",
       "  <thead>\n",
       "    <tr style=\"text-align: right;\">\n",
       "      <th></th>\n",
       "      <th>Age</th>\n",
       "      <th>Country</th>\n",
       "      <th>Currency</th>\n",
       "      <th>DevType</th>\n",
       "      <th>Employment</th>\n",
       "      <th>Gender</th>\n",
       "      <th>Hobby</th>\n",
       "      <th>JobSatisfaction</th>\n",
       "      <th>JobSearchStatus</th>\n",
       "      <th>LanguageDesireNextYear</th>\n",
       "      <th>LanguageWorkedWith</th>\n",
       "      <th>OperatingSystem</th>\n",
       "      <th>RaceEthnicity</th>\n",
       "      <th>SalaryType</th>\n",
       "      <th>SalaryUSD</th>\n",
       "      <th>UndergradMajor</th>\n",
       "      <th>YearsCoding</th>\n",
       "      <th>YearsCodingProf</th>\n",
       "    </tr>\n",
       "  </thead>\n",
       "  <tbody>\n",
       "    <tr>\n",
       "      <th>0</th>\n",
       "      <td>25 - 34 years old</td>\n",
       "      <td>Kenya</td>\n",
       "      <td>NaN</td>\n",
       "      <td>Full-stack developer</td>\n",
       "      <td>Employed part-time</td>\n",
       "      <td>Male</td>\n",
       "      <td>Yes</td>\n",
       "      <td>Extremely satisfied</td>\n",
       "      <td>I’m not actively looking, but I am open to new...</td>\n",
       "      <td>JavaScript;Python;HTML;CSS</td>\n",
       "      <td>JavaScript;Python;HTML;CSS</td>\n",
       "      <td>Linux-based</td>\n",
       "      <td>Black or of African descent</td>\n",
       "      <td>Monthly</td>\n",
       "      <td>NaN</td>\n",
       "      <td>Mathematics or statistics</td>\n",
       "      <td>3-5 years</td>\n",
       "      <td>3-5 years</td>\n",
       "    </tr>\n",
       "    <tr>\n",
       "      <th>1</th>\n",
       "      <td>35 - 44 years old</td>\n",
       "      <td>United Kingdom</td>\n",
       "      <td>British pounds sterling (£)</td>\n",
       "      <td>Database administrator;DevOps specialist;Full-...</td>\n",
       "      <td>Employed full-time</td>\n",
       "      <td>Male</td>\n",
       "      <td>Yes</td>\n",
       "      <td>Moderately dissatisfied</td>\n",
       "      <td>I am actively looking for a job</td>\n",
       "      <td>Go;Python</td>\n",
       "      <td>JavaScript;Python;Bash/Shell</td>\n",
       "      <td>Linux-based</td>\n",
       "      <td>White or of European descent</td>\n",
       "      <td>Yearly</td>\n",
       "      <td>70841.0</td>\n",
       "      <td>A natural science (ex. biology, chemistry, phy...</td>\n",
       "      <td>30 or more years</td>\n",
       "      <td>18-20 years</td>\n",
       "    </tr>\n",
       "  </tbody>\n",
       "</table>\n",
       "</div>"
      ],
      "text/plain": [
       "                 Age         Country                     Currency  \\\n",
       "0  25 - 34 years old           Kenya                          NaN   \n",
       "1  35 - 44 years old  United Kingdom  British pounds sterling (£)   \n",
       "\n",
       "                                             DevType          Employment  \\\n",
       "0                               Full-stack developer  Employed part-time   \n",
       "1  Database administrator;DevOps specialist;Full-...  Employed full-time   \n",
       "\n",
       "  Gender Hobby          JobSatisfaction  \\\n",
       "0   Male   Yes      Extremely satisfied   \n",
       "1   Male   Yes  Moderately dissatisfied   \n",
       "\n",
       "                                     JobSearchStatus  \\\n",
       "0  I’m not actively looking, but I am open to new...   \n",
       "1                    I am actively looking for a job   \n",
       "\n",
       "       LanguageDesireNextYear            LanguageWorkedWith OperatingSystem  \\\n",
       "0  JavaScript;Python;HTML;CSS    JavaScript;Python;HTML;CSS     Linux-based   \n",
       "1                   Go;Python  JavaScript;Python;Bash/Shell     Linux-based   \n",
       "\n",
       "                  RaceEthnicity SalaryType  SalaryUSD  \\\n",
       "0   Black or of African descent    Monthly        NaN   \n",
       "1  White or of European descent     Yearly    70841.0   \n",
       "\n",
       "                                      UndergradMajor       YearsCoding  \\\n",
       "0                          Mathematics or statistics         3-5 years   \n",
       "1  A natural science (ex. biology, chemistry, phy...  30 or more years   \n",
       "\n",
       "  YearsCodingProf  \n",
       "0       3-5 years  \n",
       "1     18-20 years  "
      ]
     },
     "execution_count": 9,
     "metadata": {},
     "output_type": "execute_result"
    }
   ],
   "source": [
    "df.sort_index(axis=1).head(2)"
   ]
  },
  {
   "cell_type": "code",
   "execution_count": 10,
   "metadata": {},
   "outputs": [
    {
     "data": {
      "text/plain": [
       "(98855, 18)"
      ]
     },
     "execution_count": 10,
     "metadata": {},
     "output_type": "execute_result"
    }
   ],
   "source": [
    "#21 col has been selected rfom 129, compared the shape\n",
    "df.shape"
   ]
  },
  {
   "cell_type": "code",
   "execution_count": 11,
   "metadata": {},
   "outputs": [
    {
     "name": "stdout",
     "output_type": "stream",
     "text": [
      "Age                       34281\n",
      "SalaryUSD                 51153\n",
      "Country                     412\n",
      "Currency                  36847\n",
      "DevType                    6757\n",
      "Employment                 3534\n",
      "RaceEthnicity             41382\n",
      "Gender                    34386\n",
      "SalaryType                47785\n",
      "Hobby                         0\n",
      "JobSatisfaction           29579\n",
      "JobSearchStatus           19367\n",
      "OperatingSystem           22676\n",
      "UndergradMajor            19819\n",
      "YearsCoding                5020\n",
      "YearsCodingProf           20952\n",
      "LanguageDesireNextYear    25611\n",
      "LanguageWorkedWith        20521\n",
      "dtype: int64\n"
     ]
    }
   ],
   "source": [
    "print(df.isnull().sum()) #Finding Null Values"
   ]
  },
  {
   "cell_type": "code",
   "execution_count": 12,
   "metadata": {},
   "outputs": [
    {
     "data": {
      "text/plain": [
       "Age                        object\n",
       "SalaryUSD                 float64\n",
       "Country                    object\n",
       "Currency                   object\n",
       "DevType                    object\n",
       "Employment                 object\n",
       "RaceEthnicity              object\n",
       "Gender                     object\n",
       "SalaryType                 object\n",
       "Hobby                      object\n",
       "JobSatisfaction            object\n",
       "JobSearchStatus            object\n",
       "OperatingSystem            object\n",
       "UndergradMajor             object\n",
       "YearsCoding                object\n",
       "YearsCodingProf            object\n",
       "LanguageDesireNextYear     object\n",
       "LanguageWorkedWith         object\n",
       "dtype: object"
      ]
     },
     "execution_count": 12,
     "metadata": {},
     "output_type": "execute_result"
    }
   ],
   "source": [
    "df.dtypes #data_types"
   ]
  },
  {
   "cell_type": "markdown",
   "metadata": {},
   "source": [
    "## Data Validation - Total Cells vs Missing %"
   ]
  },
  {
   "cell_type": "code",
   "execution_count": 13,
   "metadata": {},
   "outputs": [
    {
     "name": "stdout",
     "output_type": "stream",
     "text": [
      "Total :  1779390\n",
      "Total missing :  420082\n",
      "Missing Percentage:  23.608202811075707 %\n"
     ]
    }
   ],
   "source": [
    "#Find % of missing data\n",
    "missing_count = df.isnull().sum() #number of missing\n",
    "total_cells = np.product(df.shape) # number of cells (cols x rows)\n",
    "total_missing = missing_count.sum()\n",
    "missing_percent = (total_missing*100)/total_cells\n",
    "\n",
    "print('Total : ', total_cells)\n",
    "print('Total missing : ', total_missing)\n",
    "print('Missing Percentage: ', missing_percent, '%')"
   ]
  },
  {
   "cell_type": "markdown",
   "metadata": {},
   "source": [
    "## Gender Filtering          \n",
    "#### Data Cleaning Starts"
   ]
  },
  {
   "cell_type": "code",
   "execution_count": 14,
   "metadata": {},
   "outputs": [
    {
     "data": {
      "text/plain": [
       "Gender\n",
       "Female                                                                        4025\n",
       "Female;Male                                                                     98\n",
       "Female;Male;Non-binary, genderqueer, or gender non-conforming                    3\n",
       "Female;Male;Transgender                                                         14\n",
       "Female;Male;Transgender;Non-binary, genderqueer, or gender non-conforming       50\n",
       "Female;Non-binary, genderqueer, or gender non-conforming                        50\n",
       "Female;Transgender                                                             145\n",
       "Female;Transgender;Non-binary, genderqueer, or gender non-conforming            24\n",
       "Male                                                                         59458\n",
       "Male;Non-binary, genderqueer, or gender non-conforming                         128\n",
       "Male;Transgender                                                                29\n",
       "Male;Transgender;Non-binary, genderqueer, or gender non-conforming               5\n",
       "Non-binary, genderqueer, or gender non-conforming                              284\n",
       "Transgender                                                                    105\n",
       "Transgender;Non-binary, genderqueer, or gender non-conforming                   51\n",
       "Name: Gender, dtype: int64"
      ]
     },
     "execution_count": 14,
     "metadata": {},
     "output_type": "execute_result"
    }
   ],
   "source": [
    "#Gender: null = 13312 (21.6%)\n",
    "df['Gender'].unique()\n",
    "#count number of each gender\n",
    "df.groupby('Gender')['Gender'].count()"
   ]
  },
  {
   "cell_type": "code",
   "execution_count": 15,
   "metadata": {},
   "outputs": [],
   "source": [
    "#replace\n",
    "df['Gender'] = df['Gender'].fillna('Non-binary, genderqueer, or gender non-conforming')\n",
    "df['Gender'].replace('Female;Male;Non-binary, genderqueer, or gender non-conforming', 'Female', inplace =True)\n",
    "df['Gender'].replace('Female;Male;Transgender;Non-binary, genderqueer, or gender non-conforming', 'Female', inplace =True)\n",
    "df['Gender'].replace('Female;Non-binary, genderqueer, or gender non-conforming', 'Female', inplace =True)\n",
    "df['Gender'].replace('Female;Transgender;Non-binary, genderqueer, or gender non-conforming', 'Female', inplace =True)\n",
    "df['Gender'].replace('Male;Non-binary, genderqueer, or gender non-conforming', 'Male', inplace =True)\n",
    "df['Gender'].replace('Male;Transgender;Non-binary, genderqueer, or gender non-conforming', 'Male', inplace =True)\n",
    "df['Gender'].replace('Transgender;Non-binary, genderqueer, or gender non-conforming', 'Non-conforming', inplace =True) ##not sure\n",
    "df['Gender'].replace('Female;Male', 'Female', inplace =True)\n",
    "df['Gender'].replace('Female;Male;Transgender', 'Female', inplace =True)\n",
    "df['Gender'].replace('Female;Transgender', 'Female', inplace =True)\n",
    "df['Gender'].replace('Male;Transgender', 'Female', inplace =True) \n",
    "df['Gender'].replace('Non-binary, genderqueer, or gender non-conforming', 'Non-conforming', inplace =True) #\n",
    "df['Gender'].replace('Transgender', 'Male', inplace =True) "
   ]
  },
  {
   "cell_type": "code",
   "execution_count": 16,
   "metadata": {
    "scrolled": true
   },
   "outputs": [
    {
     "data": {
      "text/plain": [
       "Gender\n",
       "Female             4438\n",
       "Male              59696\n",
       "Non-conforming    34721\n",
       "Name: Gender, dtype: int64"
      ]
     },
     "execution_count": 16,
     "metadata": {},
     "output_type": "execute_result"
    }
   ],
   "source": [
    "df.groupby('Gender')['Gender'].count()"
   ]
  },
  {
   "cell_type": "code",
   "execution_count": 17,
   "metadata": {},
   "outputs": [
    {
     "data": {
      "text/plain": [
       "(98855, 18)"
      ]
     },
     "execution_count": 17,
     "metadata": {},
     "output_type": "execute_result"
    }
   ],
   "source": [
    "df.shape"
   ]
  },
  {
   "cell_type": "code",
   "execution_count": 18,
   "metadata": {},
   "outputs": [
    {
     "data": {
      "text/plain": [
       "0"
      ]
     },
     "execution_count": 18,
     "metadata": {},
     "output_type": "execute_result"
    }
   ],
   "source": [
    "df.isnull().sum()['Gender']"
   ]
  },
  {
   "cell_type": "markdown",
   "metadata": {},
   "source": [
    "## Country"
   ]
  },
  {
   "cell_type": "code",
   "execution_count": 19,
   "metadata": {},
   "outputs": [
    {
     "data": {
      "text/plain": [
       "Country\n",
       "Afghanistan                              64\n",
       "Albania                                 109\n",
       "Algeria                                 130\n",
       "Andorra                                  15\n",
       "Angola                                   11\n",
       "                                       ... \n",
       "Venezuela, Bolivarian Republic of...    123\n",
       "Viet Nam                                331\n",
       "Yemen                                    13\n",
       "Zambia                                    9\n",
       "Zimbabwe                                 39\n",
       "Name: Country, Length: 183, dtype: int64"
      ]
     },
     "execution_count": 19,
     "metadata": {},
     "output_type": "execute_result"
    }
   ],
   "source": [
    "df.groupby('Country')['Country'].count()"
   ]
  },
  {
   "cell_type": "code",
   "execution_count": 20,
   "metadata": {},
   "outputs": [
    {
     "data": {
      "text/plain": [
       "412"
      ]
     },
     "execution_count": 20,
     "metadata": {},
     "output_type": "execute_result"
    }
   ],
   "source": [
    "df['Country'].isnull().sum()"
   ]
  },
  {
   "cell_type": "code",
   "execution_count": 21,
   "metadata": {},
   "outputs": [],
   "source": [
    "df['Country'].fillna(method='ffill', inplace=True)"
   ]
  },
  {
   "cell_type": "code",
   "execution_count": 22,
   "metadata": {},
   "outputs": [
    {
     "data": {
      "text/plain": [
       "0"
      ]
     },
     "execution_count": 22,
     "metadata": {},
     "output_type": "execute_result"
    }
   ],
   "source": [
    "df['Country'].isnull().sum()"
   ]
  },
  {
   "cell_type": "markdown",
   "metadata": {},
   "source": [
    "## Hobby"
   ]
  },
  {
   "cell_type": "code",
   "execution_count": 23,
   "metadata": {},
   "outputs": [
    {
     "data": {
      "text/plain": [
       "0"
      ]
     },
     "execution_count": 23,
     "metadata": {},
     "output_type": "execute_result"
    }
   ],
   "source": [
    "df['Hobby'].isnull().sum()"
   ]
  },
  {
   "cell_type": "code",
   "execution_count": 24,
   "metadata": {},
   "outputs": [
    {
     "data": {
      "text/plain": [
       "Hobby\n",
       "No     18958\n",
       "Yes    79897\n",
       "Name: Hobby, dtype: int64"
      ]
     },
     "execution_count": 24,
     "metadata": {},
     "output_type": "execute_result"
    }
   ],
   "source": [
    "df.groupby('Hobby')['Hobby'].count()"
   ]
  },
  {
   "cell_type": "markdown",
   "metadata": {},
   "source": [
    "## undergrad"
   ]
  },
  {
   "cell_type": "code",
   "execution_count": 25,
   "metadata": {},
   "outputs": [
    {
     "data": {
      "text/plain": [
       "19819"
      ]
     },
     "execution_count": 25,
     "metadata": {},
     "output_type": "execute_result"
    }
   ],
   "source": [
    "df['UndergradMajor'].isnull().sum()"
   ]
  },
  {
   "cell_type": "code",
   "execution_count": 26,
   "metadata": {},
   "outputs": [
    {
     "data": {
      "text/plain": [
       "Computer science, computer engineering, or software engineering          50336\n",
       "Another engineering discipline (ex. civil, electrical, mechanical)        6945\n",
       "Information systems, information technology, or system administration     6507\n",
       "A natural science (ex. biology, chemistry, physics)                       3050\n",
       "Mathematics or statistics                                                 2818\n",
       "Web development or web design                                             2418\n",
       "A business discipline (ex. accounting, finance, marketing)                1921\n",
       "A humanities discipline (ex. literature, history, philosophy)             1590\n",
       "A social science (ex. anthropology, psychology, political science)        1377\n",
       "Fine arts or performing arts (ex. graphic design, music, studio art)      1135\n",
       "I never declared a major                                                   693\n",
       "A health science (ex. nursing, pharmacy, radiology)                        246\n",
       "Name: UndergradMajor, dtype: int64"
      ]
     },
     "execution_count": 26,
     "metadata": {},
     "output_type": "execute_result"
    }
   ],
   "source": [
    "df['UndergradMajor'].value_counts()"
   ]
  },
  {
   "cell_type": "code",
   "execution_count": 27,
   "metadata": {},
   "outputs": [],
   "source": [
    "def refactor_major(df):\n",
    "    conditions_major = [(df['UndergradMajor'] == 'Computer science, computer engineering, or software engineering'), \n",
    "                        (df['UndergradMajor'] == 'Another engineering discipline (ex. civil, electrical, mechanical)'),\n",
    "                        (df['UndergradMajor'] == 'Information systems, information technology, or system administration'), \n",
    "                        (df['UndergradMajor'] == 'Mathematics or statistics'),\n",
    "                        (df['UndergradMajor'] == 'A natural science (ex. biology, chemistry, physics)') \n",
    "                        |(df['UndergradMajor'] == 'A health science (ex. nursing, pharmacy, radiology)'), \n",
    "                        (df['UndergradMajor'] == 'Web development or web design'), \n",
    "                        (df['UndergradMajor'] == 'A business discipline (ex. accounting, finance, marketing)'), \n",
    "                        (df['UndergradMajor'] == 'A humanities discipline (ex. literature, history, philosophy)')\n",
    "                        | (df['UndergradMajor'] == 'A social science (ex. anthropology, psychology, political science)')\n",
    "                        | (df['UndergradMajor'] == 'Fine arts or performing arts (ex. graphic design, music, studio art)'),\n",
    "                        (df['UndergradMajor'] == 'I never declared a major') ]\n",
    "    \n",
    "    choices_major = ['Computer Science', 'Engineering', 'Info Systems', 'Math/Stat', 'Other Science',\n",
    "                     'Web Design/Dev', 'Business', 'Arts and Science', 'No major']\n",
    "    df['UndergradMajor'] = np.select(conditions_major, choices_major, default = np.NaN)\n",
    "    return df\n",
    "\n",
    "df = refactor_major(df)\n",
    "df['UndergradMajor'].replace('nan', 'No major', inplace=True)"
   ]
  },
  {
   "cell_type": "code",
   "execution_count": 28,
   "metadata": {},
   "outputs": [
    {
     "data": {
      "text/plain": [
       "Computer Science    50336\n",
       "No major            20512\n",
       "Engineering          6945\n",
       "Info Systems         6507\n",
       "Arts and Science     4102\n",
       "Other Science        3296\n",
       "Math/Stat            2818\n",
       "Web Design/Dev       2418\n",
       "Business             1921\n",
       "Name: UndergradMajor, dtype: int64"
      ]
     },
     "execution_count": 28,
     "metadata": {},
     "output_type": "execute_result"
    }
   ],
   "source": [
    "df['UndergradMajor'].value_counts()"
   ]
  },
  {
   "cell_type": "code",
   "execution_count": 29,
   "metadata": {},
   "outputs": [
    {
     "data": {
      "text/plain": [
       "0"
      ]
     },
     "execution_count": 29,
     "metadata": {},
     "output_type": "execute_result"
    }
   ],
   "source": [
    "df['UndergradMajor'].isnull().sum()"
   ]
  },
  {
   "cell_type": "code",
   "execution_count": 30,
   "metadata": {},
   "outputs": [],
   "source": [
    "df.dropna(subset=['UndergradMajor'], inplace=True)"
   ]
  },
  {
   "cell_type": "code",
   "execution_count": 31,
   "metadata": {},
   "outputs": [
    {
     "data": {
      "text/plain": [
       "0"
      ]
     },
     "execution_count": 31,
     "metadata": {},
     "output_type": "execute_result"
    }
   ],
   "source": [
    "df['UndergradMajor'].isnull().sum()"
   ]
  },
  {
   "cell_type": "markdown",
   "metadata": {},
   "source": [
    "## Job Status"
   ]
  },
  {
   "cell_type": "code",
   "execution_count": 32,
   "metadata": {},
   "outputs": [
    {
     "data": {
      "text/plain": [
       "I’m not actively looking, but I am open to new opportunities    47556\n",
       "I am not interested in new job opportunities                    19296\n",
       "I am actively looking for a job                                 12636\n",
       "Name: JobSearchStatus, dtype: int64"
      ]
     },
     "execution_count": 32,
     "metadata": {},
     "output_type": "execute_result"
    }
   ],
   "source": [
    "df['JobSearchStatus'].value_counts()"
   ]
  },
  {
   "cell_type": "code",
   "execution_count": 33,
   "metadata": {},
   "outputs": [],
   "source": [
    "df.dropna(subset=['JobSearchStatus'], inplace=True)"
   ]
  },
  {
   "cell_type": "code",
   "execution_count": 34,
   "metadata": {},
   "outputs": [],
   "source": [
    "# refactoring JobStatus\n",
    "# changing the jobstatus to seeking and non seeking\n",
    "def refactor_job(df):\n",
    "    '''function to change JobStatus category to Seeking and Non Seeking'''\n",
    "    \n",
    "    conditions_job = [(df['JobSearchStatus'] == 'I am actively looking for a job'),\n",
    "                    (df['JobSearchStatus'] == 'I am not interested in new job opportunities')\n",
    "                    | (df['JobSearchStatus'] == 'I’m not actively looking, but I am open to new opportunities')]\n",
    "    \n",
    "    choices_job = ['Seeking', 'Not seeking']\n",
    "    \n",
    "    df['JobSearchStatus'] = np.select(conditions_job, choices_job, default=np.nan)\n",
    "                       \n",
    "    return df\n",
    "\n",
    "df = refactor_job(df)"
   ]
  },
  {
   "cell_type": "code",
   "execution_count": 35,
   "metadata": {},
   "outputs": [
    {
     "data": {
      "text/plain": [
       "Not seeking    66852\n",
       "Seeking        12636\n",
       "Name: JobSearchStatus, dtype: int64"
      ]
     },
     "execution_count": 35,
     "metadata": {},
     "output_type": "execute_result"
    }
   ],
   "source": [
    "df['JobSearchStatus'].value_counts()"
   ]
  },
  {
   "cell_type": "code",
   "execution_count": 36,
   "metadata": {},
   "outputs": [
    {
     "data": {
      "text/plain": [
       "0"
      ]
     },
     "execution_count": 36,
     "metadata": {},
     "output_type": "execute_result"
    }
   ],
   "source": [
    "df['JobSearchStatus'].isnull().sum()"
   ]
  },
  {
   "cell_type": "markdown",
   "metadata": {},
   "source": [
    "## Employment"
   ]
  },
  {
   "cell_type": "code",
   "execution_count": 37,
   "metadata": {},
   "outputs": [
    {
     "data": {
      "text/plain": [
       "Employed full-time                                      58551\n",
       "Independent contractor, freelancer, or self-employed     7797\n",
       "Not employed, but looking for work                       4604\n",
       "Employed part-time                                       4170\n",
       "Not employed, and not looking for work                   3210\n",
       "Retired                                                   138\n",
       "Name: Employment, dtype: int64"
      ]
     },
     "execution_count": 37,
     "metadata": {},
     "output_type": "execute_result"
    }
   ],
   "source": [
    "df['Employment'].value_counts()"
   ]
  },
  {
   "cell_type": "code",
   "execution_count": 38,
   "metadata": {},
   "outputs": [
    {
     "data": {
      "text/plain": [
       "1018"
      ]
     },
     "execution_count": 38,
     "metadata": {},
     "output_type": "execute_result"
    }
   ],
   "source": [
    "df['Employment'].isnull().sum()"
   ]
  },
  {
   "cell_type": "code",
   "execution_count": 39,
   "metadata": {},
   "outputs": [],
   "source": [
    "df['Employment'].fillna(method='ffill', inplace=True)"
   ]
  },
  {
   "cell_type": "code",
   "execution_count": 40,
   "metadata": {},
   "outputs": [],
   "source": [
    "#im not considering the retired person here\n",
    "#Refactoring the employment\n",
    "def refactor_emp(df):\n",
    "    \n",
    "    conditions_emp = [(df['Employment'] == 'Employed full-time'),\n",
    "                    (df['Employment'] == 'Independent contractor, freelancer, or self-employed'),\n",
    "                    (df['Employment'] == 'Not employed, but looking for work'),\n",
    "                    (df['Employment'] == 'Employed part-time')]\n",
    "    \n",
    "    choices_emp = ['Full-time', 'Self-employed', 'Not employed', 'Part-time']\n",
    "    \n",
    "    df['Employment'] = np.select(conditions_emp, choices_emp, default=np.nan)\n",
    "                       \n",
    "    return df\n",
    "\n",
    "df = refactor_emp(df)"
   ]
  },
  {
   "cell_type": "code",
   "execution_count": 41,
   "metadata": {},
   "outputs": [
    {
     "data": {
      "text/plain": [
       "Full-time        58565\n",
       "Self-employed     7825\n",
       "Not employed      5161\n",
       "Part-time         4179\n",
       "nan               3758\n",
       "Name: Employment, dtype: int64"
      ]
     },
     "execution_count": 41,
     "metadata": {},
     "output_type": "execute_result"
    }
   ],
   "source": [
    "df['Employment'].value_counts()"
   ]
  },
  {
   "cell_type": "code",
   "execution_count": 42,
   "metadata": {},
   "outputs": [
    {
     "data": {
      "text/plain": [
       "0"
      ]
     },
     "execution_count": 42,
     "metadata": {},
     "output_type": "execute_result"
    }
   ],
   "source": [
    "df['Employment'].isnull().sum()"
   ]
  },
  {
   "cell_type": "markdown",
   "metadata": {},
   "source": [
    "## JobSatisfaction"
   ]
  },
  {
   "cell_type": "code",
   "execution_count": 43,
   "metadata": {},
   "outputs": [
    {
     "data": {
      "text/plain": [
       "Moderately satisfied                  25908\n",
       "Extremely satisfied                   12395\n",
       "Slightly satisfied                     9973\n",
       "Slightly dissatisfied                  7037\n",
       "Moderately dissatisfied                6286\n",
       "Neither satisfied nor dissatisfied     4935\n",
       "Extremely dissatisfied                 2472\n",
       "Name: JobSatisfaction, dtype: int64"
      ]
     },
     "execution_count": 43,
     "metadata": {},
     "output_type": "execute_result"
    }
   ],
   "source": [
    "df['JobSatisfaction'].value_counts()"
   ]
  },
  {
   "cell_type": "code",
   "execution_count": 44,
   "metadata": {},
   "outputs": [
    {
     "data": {
      "text/plain": [
       "10482"
      ]
     },
     "execution_count": 44,
     "metadata": {},
     "output_type": "execute_result"
    }
   ],
   "source": [
    "df['JobSatisfaction'].isnull().sum()"
   ]
  },
  {
   "cell_type": "code",
   "execution_count": 45,
   "metadata": {},
   "outputs": [],
   "source": [
    "df['JobSatisfaction'].fillna(method='ffill', inplace=True)"
   ]
  },
  {
   "cell_type": "code",
   "execution_count": 46,
   "metadata": {},
   "outputs": [
    {
     "data": {
      "text/plain": [
       "0"
      ]
     },
     "execution_count": 46,
     "metadata": {},
     "output_type": "execute_result"
    }
   ],
   "source": [
    "df['JobSatisfaction'].isnull().sum()"
   ]
  },
  {
   "cell_type": "markdown",
   "metadata": {},
   "source": [
    "## Ethnicity"
   ]
  },
  {
   "cell_type": "code",
   "execution_count": 47,
   "metadata": {},
   "outputs": [
    {
     "data": {
      "text/plain": [
       "23578"
      ]
     },
     "execution_count": 47,
     "metadata": {},
     "output_type": "execute_result"
    }
   ],
   "source": [
    "df['RaceEthnicity'].isnull().sum()"
   ]
  },
  {
   "cell_type": "code",
   "execution_count": 48,
   "metadata": {},
   "outputs": [
    {
     "data": {
      "text/plain": [
       "RaceEthnicity\n",
       "Black or of African descent                                                                                                                                 1204\n",
       "Black or of African descent;East Asian                                                                                                                         7\n",
       "Black or of African descent;East Asian;Hispanic or Latino/Latina                                                                                               2\n",
       "Black or of African descent;East Asian;Hispanic or Latino/Latina;Middle Eastern;Native American, Pacific Islander, or Indigenous Australian                    1\n",
       "Black or of African descent;East Asian;Hispanic or Latino/Latina;Middle Eastern;Native American, Pacific Islander, or Indigenous Australian;South Asian        1\n",
       "                                                                                                                                                           ...  \n",
       "Native American, Pacific Islander, or Indigenous Australian;South Asian;White or of European descent                                                           2\n",
       "Native American, Pacific Islander, or Indigenous Australian;White or of European descent                                                                     160\n",
       "South Asian                                                                                                                                                 6112\n",
       "South Asian;White or of European descent                                                                                                                      88\n",
       "White or of European descent                                                                                                                               39320\n",
       "Name: RaceEthnicity, Length: 71, dtype: int64"
      ]
     },
     "execution_count": 48,
     "metadata": {},
     "output_type": "execute_result"
    }
   ],
   "source": [
    "#count number of each Ethnicity\n",
    "df.groupby('RaceEthnicity')['RaceEthnicity'].count()"
   ]
  },
  {
   "cell_type": "code",
   "execution_count": 49,
   "metadata": {},
   "outputs": [],
   "source": [
    "#combine Ethnicity by str.match(if each string starts with a match of a regular expression pattern)\n",
    "df.loc[df['RaceEthnicity'].str.match('Biracial') == True, 'RaceEthnicity'] = 'Biracial'\n",
    "df.loc[df['RaceEthnicity'].str.match('Black or of African descent') == True, 'RaceEthnicity'] = 'Black or African descent'\n",
    "df.loc[df['RaceEthnicity'].str.match('East Asian') == True, 'RaceEthnicity'] = 'East Asian'\n",
    "df.loc[df['RaceEthnicity'].str.match('Hispanic or Latino') == True, 'RaceEthnicity'] = 'Hispanic or Latino'\n",
    "df.loc[df['RaceEthnicity'].str.match('Indigenous') == True, 'RaceEthnicity'] = 'Indigenous'\n",
    "df.loc[df['RaceEthnicity'].str.match('Middle Eastern') == True, 'RaceEthnicity'] = 'Middle Eastern'\n",
    "df.loc[df['RaceEthnicity'].str.match('South') == True, 'RaceEthnicity'] = 'South Asian'\n",
    "df.loc[df['RaceEthnicity'].str.match('White or of European descent') == True, 'RaceEthnicity'] = 'White or European descent'\n",
    "df.loc[df['RaceEthnicity'].str.match('Multiracial') == True, 'RaceEthnicity'] = 'Multiracial'\n",
    "df.loc[df['RaceEthnicity'].str.match('Native American') == True, 'RaceEthnicity'] = 'Native American'"
   ]
  },
  {
   "cell_type": "code",
   "execution_count": 50,
   "metadata": {},
   "outputs": [
    {
     "data": {
      "text/plain": [
       "RaceEthnicity\n",
       "Black or African descent      1549\n",
       "East Asian                    2787\n",
       "Hispanic or Latino            3592\n",
       "Middle Eastern                2176\n",
       "Native American                286\n",
       "South Asian                   6200\n",
       "White or European descent    39320\n",
       "Name: RaceEthnicity, dtype: int64"
      ]
     },
     "execution_count": 50,
     "metadata": {},
     "output_type": "execute_result"
    }
   ],
   "source": [
    "df.groupby('RaceEthnicity')['RaceEthnicity'].count() #11 groups of Ethnicity after combining"
   ]
  },
  {
   "cell_type": "code",
   "execution_count": 51,
   "metadata": {},
   "outputs": [
    {
     "data": {
      "text/plain": [
       "23578"
      ]
     },
     "execution_count": 51,
     "metadata": {},
     "output_type": "execute_result"
    }
   ],
   "source": [
    "df['RaceEthnicity'].isnull().sum()"
   ]
  },
  {
   "cell_type": "code",
   "execution_count": 52,
   "metadata": {},
   "outputs": [],
   "source": [
    "df['RaceEthnicity']=df.groupby(['Country'])['RaceEthnicity'].bfill().ffill()"
   ]
  },
  {
   "cell_type": "code",
   "execution_count": 53,
   "metadata": {},
   "outputs": [
    {
     "data": {
      "text/plain": [
       "0"
      ]
     },
     "execution_count": 53,
     "metadata": {},
     "output_type": "execute_result"
    }
   ],
   "source": [
    "df['RaceEthnicity'].isnull().sum()"
   ]
  },
  {
   "cell_type": "markdown",
   "metadata": {},
   "source": [
    "## Developer Roles"
   ]
  },
  {
   "cell_type": "code",
   "execution_count": 54,
   "metadata": {},
   "outputs": [
    {
     "data": {
      "text/plain": [
       "728"
      ]
     },
     "execution_count": 54,
     "metadata": {},
     "output_type": "execute_result"
    }
   ],
   "source": [
    "df['DevType'].isnull().sum()"
   ]
  },
  {
   "cell_type": "code",
   "execution_count": 55,
   "metadata": {},
   "outputs": [],
   "source": [
    "df['DevType'].fillna(method='ffill', inplace=True)"
   ]
  },
  {
   "cell_type": "code",
   "execution_count": 56,
   "metadata": {},
   "outputs": [
    {
     "data": {
      "text/plain": [
       "DevType\n",
       "Back-end developer                                                                                                                                                                                           5372\n",
       "Back-end developer;C-suite executive (CEO, CTO, etc.)                                                                                                                                                          59\n",
       "Back-end developer;C-suite executive (CEO, CTO, etc.);Data or business analyst                                                                                                                                  5\n",
       "Back-end developer;C-suite executive (CEO, CTO, etc.);Data or business analyst;Data scientist or machine learning specialist                                                                                    1\n",
       "Back-end developer;C-suite executive (CEO, CTO, etc.);Data or business analyst;Data scientist or machine learning specialist;Database administrator;Designer;Desktop or enterprise applications developer       1\n",
       "                                                                                                                                                                                                             ... \n",
       "QA or test developer;Student;System administrator                                                                                                                                                               5\n",
       "QA or test developer;System administrator                                                                                                                                                                      10\n",
       "Student                                                                                                                                                                                                      2523\n",
       "Student;System administrator                                                                                                                                                                                   63\n",
       "System administrator                                                                                                                                                                                          247\n",
       "Name: DevType, Length: 8820, dtype: int64"
      ]
     },
     "execution_count": 56,
     "metadata": {},
     "output_type": "execute_result"
    }
   ],
   "source": [
    "df.groupby('DevType')['DevType'].count()"
   ]
  },
  {
   "cell_type": "code",
   "execution_count": 57,
   "metadata": {},
   "outputs": [],
   "source": [
    "#combine Ethnicity by str.match(if each string starts with a match of a regular expression pattern)\n",
    "df.loc[df['DevType'].str.match('Back-end developer') == True, 'DevType'] = 'Developer'\n",
    "df.loc[df['DevType'].str.match('Student') == True, 'DevType'] = 'Student'\n",
    "df.loc[df['DevType'].str.match('QA or test developer') == True, 'DevType'] = 'Non developer'\n",
    "df.loc[df['DevType'].str.match('Product manager') == True, 'DevType'] = 'Manager'\n",
    "df.loc[df['DevType'].str.match('Mobile developer') == True, 'DevType'] = 'Developer'\n",
    "df.loc[df['DevType'].str.match('Marketing or sales professional') == True, 'DevType'] = 'Non developer'\n",
    "\n",
    "df.loc[df['DevType'].str.match('System administrator') == True, 'DevType'] = 'Developer'\n",
    "df.loc[df['DevType'].str.match('Game or graphics developer') == True, 'DevType'] = 'Developer'\n",
    "df.loc[df['DevType'].str.match('Full-stack developer') == True, 'DevType'] = 'Developer'\n",
    "df.loc[df['DevType'].str.match('Front-end developer') == True, 'DevType'] = 'Developer'\n",
    "df.loc[df['DevType'].str.match('Engineering manager') == True, 'DevType'] = 'Manager'\n",
    "df.loc[df['DevType'].str.match('Embedded applications or devices developer') == True, 'DevType'] = 'Developer'\n",
    "df.loc[df['DevType'].str.match('Educator or academic researcher') == True, 'DevType'] = 'Student'\n",
    "df.loc[df['DevType'].str.match('DevOps specialist') == True, 'DevType'] = 'Developer'\n",
    "df.loc[df['DevType'].str.match('Desktop or enterprise applications developer') == True, 'DevType'] = 'Developer'\n",
    "\n",
    "df.loc[df['DevType'].str.match('Designer') == True, 'DevType'] = 'Non developer'\n",
    "df.loc[df['DevType'].str.match('Database administrator') == True, 'DevType'] = 'Developer'\n",
    "df.loc[df['DevType'].str.match('Data scientist or machine learning specialist') == True, 'DevType'] = 'Developer'\n",
    "df.loc[df['DevType'].str.match('Data or business analyst') == True, 'DevType'] = 'Developer'\n",
    "df.loc[df['DevType'].str.match('C-suite executive') == True, 'DevType'] = 'Developer'\n"
   ]
  },
  {
   "cell_type": "code",
   "execution_count": 58,
   "metadata": {},
   "outputs": [
    {
     "data": {
      "text/plain": [
       "DevType\n",
       "Developer        73032\n",
       "Manager            665\n",
       "Non developer     2791\n",
       "Student           3000\n",
       "Name: DevType, dtype: int64"
      ]
     },
     "execution_count": 58,
     "metadata": {},
     "output_type": "execute_result"
    }
   ],
   "source": [
    "df.groupby('DevType')['DevType'].count() #11 groups of Ethnicity after combining"
   ]
  },
  {
   "cell_type": "code",
   "execution_count": 59,
   "metadata": {},
   "outputs": [],
   "source": [
    "#df['Salary'].value_counts()"
   ]
  },
  {
   "cell_type": "markdown",
   "metadata": {},
   "source": [
    "## Language to worked with"
   ]
  },
  {
   "cell_type": "code",
   "execution_count": 60,
   "metadata": {},
   "outputs": [
    {
     "data": {
      "text/plain": [
       "C#;JavaScript;SQL;HTML;CSS     1235\n",
       "JavaScript;PHP;SQL;HTML;CSS    1095\n",
       "Java                            855\n",
       "Name: LanguageWorkedWith, dtype: int64"
      ]
     },
     "execution_count": 60,
     "metadata": {},
     "output_type": "execute_result"
    }
   ],
   "source": [
    "df['LanguageWorkedWith'].value_counts().nlargest(3)"
   ]
  },
  {
   "cell_type": "code",
   "execution_count": 61,
   "metadata": {},
   "outputs": [
    {
     "data": {
      "text/plain": [
       "9985"
      ]
     },
     "execution_count": 61,
     "metadata": {},
     "output_type": "execute_result"
    }
   ],
   "source": [
    "df['LanguageWorkedWith'].isnull().sum()"
   ]
  },
  {
   "cell_type": "code",
   "execution_count": 62,
   "metadata": {},
   "outputs": [],
   "source": [
    "df['LanguageWorkedWith'].fillna(method='ffill', inplace=True)"
   ]
  },
  {
   "cell_type": "code",
   "execution_count": 63,
   "metadata": {},
   "outputs": [
    {
     "data": {
      "text/plain": [
       "0"
      ]
     },
     "execution_count": 63,
     "metadata": {},
     "output_type": "execute_result"
    }
   ],
   "source": [
    "df['LanguageWorkedWith'].isnull().sum()"
   ]
  },
  {
   "cell_type": "code",
   "execution_count": 64,
   "metadata": {},
   "outputs": [
    {
     "data": {
      "text/plain": [
       "C#;JavaScript;SQL;HTML;CSS     1383\n",
       "JavaScript;PHP;SQL;HTML;CSS    1226\n",
       "Java                            989\n",
       "Name: LanguageWorkedWith, dtype: int64"
      ]
     },
     "execution_count": 64,
     "metadata": {},
     "output_type": "execute_result"
    }
   ],
   "source": [
    "df['LanguageWorkedWith'].value_counts().nlargest(3)"
   ]
  },
  {
   "cell_type": "markdown",
   "metadata": {},
   "source": [
    "## LanguageDesireNextYear"
   ]
  },
  {
   "cell_type": "code",
   "execution_count": 65,
   "metadata": {},
   "outputs": [
    {
     "data": {
      "text/plain": [
       "Python                                   718\n",
       "C#;JavaScript;SQL;TypeScript;HTML;CSS    557\n",
       "C#                                       522\n",
       "Name: LanguageDesireNextYear, dtype: int64"
      ]
     },
     "execution_count": 65,
     "metadata": {},
     "output_type": "execute_result"
    }
   ],
   "source": [
    "df['LanguageDesireNextYear'].value_counts().nlargest(3)"
   ]
  },
  {
   "cell_type": "code",
   "execution_count": 66,
   "metadata": {},
   "outputs": [
    {
     "data": {
      "text/plain": [
       "14147"
      ]
     },
     "execution_count": 66,
     "metadata": {},
     "output_type": "execute_result"
    }
   ],
   "source": [
    "df['LanguageDesireNextYear'].isnull().sum()"
   ]
  },
  {
   "cell_type": "code",
   "execution_count": 67,
   "metadata": {},
   "outputs": [],
   "source": [
    "df['LanguageDesireNextYear'].fillna(method='ffill', inplace=True)"
   ]
  },
  {
   "cell_type": "code",
   "execution_count": 68,
   "metadata": {},
   "outputs": [
    {
     "data": {
      "text/plain": [
       "0"
      ]
     },
     "execution_count": 68,
     "metadata": {},
     "output_type": "execute_result"
    }
   ],
   "source": [
    "df['LanguageDesireNextYear'].isnull().sum()"
   ]
  },
  {
   "cell_type": "code",
   "execution_count": 69,
   "metadata": {},
   "outputs": [
    {
     "data": {
      "text/plain": [
       "Python                                   878\n",
       "C#;JavaScript;SQL;TypeScript;HTML;CSS    690\n",
       "C#                                       629\n",
       "Name: LanguageDesireNextYear, dtype: int64"
      ]
     },
     "execution_count": 69,
     "metadata": {},
     "output_type": "execute_result"
    }
   ],
   "source": [
    "df['LanguageDesireNextYear'].value_counts().nlargest(3)"
   ]
  },
  {
   "cell_type": "markdown",
   "metadata": {},
   "source": [
    "## Years of coding (Exp)"
   ]
  },
  {
   "cell_type": "code",
   "execution_count": 70,
   "metadata": {},
   "outputs": [
    {
     "data": {
      "text/plain": [
       "0-2 years           22612\n",
       "3-5 years           20883\n",
       "6-8 years           11177\n",
       "9-11 years           7456\n",
       "12-14 years          4220\n",
       "15-17 years          2987\n",
       "18-20 years          2810\n",
       "21-23 years          1352\n",
       "30 or more years     1289\n",
       "24-26 years           853\n",
       "Name: YearsCodingProf, dtype: int64"
      ]
     },
     "execution_count": 70,
     "metadata": {},
     "output_type": "execute_result"
    }
   ],
   "source": [
    "df['YearsCodingProf'].value_counts().nlargest(10)"
   ]
  },
  {
   "cell_type": "code",
   "execution_count": 71,
   "metadata": {},
   "outputs": [
    {
     "data": {
      "text/plain": [
       "3349"
      ]
     },
     "execution_count": 71,
     "metadata": {},
     "output_type": "execute_result"
    }
   ],
   "source": [
    "df['YearsCodingProf'].isnull().sum()"
   ]
  },
  {
   "cell_type": "code",
   "execution_count": 72,
   "metadata": {},
   "outputs": [],
   "source": [
    "df['YearsCodingProf'].fillna(method='ffill', inplace=True)"
   ]
  },
  {
   "cell_type": "code",
   "execution_count": 73,
   "metadata": {},
   "outputs": [
    {
     "data": {
      "text/plain": [
       "0"
      ]
     },
     "execution_count": 73,
     "metadata": {},
     "output_type": "execute_result"
    }
   ],
   "source": [
    "df['YearsCodingProf'].isnull().sum()"
   ]
  },
  {
   "cell_type": "code",
   "execution_count": 74,
   "metadata": {},
   "outputs": [
    {
     "data": {
      "text/plain": [
       "3-5 years           23773\n",
       "0-2 years           22781\n",
       "6-8 years           11274\n",
       "9-11 years           7527\n",
       "12-14 years          4267\n",
       "15-17 years          3007\n",
       "18-20 years          2841\n",
       "21-23 years          1365\n",
       "30 or more years     1294\n",
       "24-26 years           856\n",
       "Name: YearsCodingProf, dtype: int64"
      ]
     },
     "execution_count": 74,
     "metadata": {},
     "output_type": "execute_result"
    }
   ],
   "source": [
    "df['YearsCodingProf'].value_counts().nlargest(10)"
   ]
  },
  {
   "cell_type": "markdown",
   "metadata": {},
   "source": [
    "## Years of coding (Non Exp)"
   ]
  },
  {
   "cell_type": "code",
   "execution_count": 75,
   "metadata": {},
   "outputs": [
    {
     "data": {
      "text/plain": [
       "3-5 years           19100\n",
       "6-8 years           16537\n",
       "9-11 years          10578\n",
       "0-2 years            8022\n",
       "12-14 years          7069\n",
       "15-17 years          5459\n",
       "18-20 years          4472\n",
       "30 or more years     3136\n",
       "21-23 years          2377\n",
       "24-26 years          1671\n",
       "Name: YearsCoding, dtype: int64"
      ]
     },
     "execution_count": 75,
     "metadata": {},
     "output_type": "execute_result"
    }
   ],
   "source": [
    "df['YearsCoding'].value_counts().nlargest(10)"
   ]
  },
  {
   "cell_type": "code",
   "execution_count": 76,
   "metadata": {},
   "outputs": [
    {
     "data": {
      "text/plain": [
       "105"
      ]
     },
     "execution_count": 76,
     "metadata": {},
     "output_type": "execute_result"
    }
   ],
   "source": [
    "df['YearsCoding'].isnull().sum()"
   ]
  },
  {
   "cell_type": "code",
   "execution_count": 77,
   "metadata": {},
   "outputs": [],
   "source": [
    "df['YearsCoding'].fillna(method='ffill', inplace=True)"
   ]
  },
  {
   "cell_type": "code",
   "execution_count": 78,
   "metadata": {},
   "outputs": [
    {
     "data": {
      "text/plain": [
       "0"
      ]
     },
     "execution_count": 78,
     "metadata": {},
     "output_type": "execute_result"
    }
   ],
   "source": [
    "df['YearsCoding'].isnull().sum()"
   ]
  },
  {
   "cell_type": "code",
   "execution_count": 79,
   "metadata": {},
   "outputs": [
    {
     "data": {
      "text/plain": [
       "3-5 years           19135\n",
       "6-8 years           16554\n",
       "9-11 years          10585\n",
       "0-2 years            8043\n",
       "12-14 years          7077\n",
       "15-17 years          5462\n",
       "18-20 years          4476\n",
       "30 or more years     3144\n",
       "21-23 years          2378\n",
       "24-26 years          1671\n",
       "Name: YearsCoding, dtype: int64"
      ]
     },
     "execution_count": 79,
     "metadata": {},
     "output_type": "execute_result"
    }
   ],
   "source": [
    "df['YearsCoding'].value_counts().nlargest(10)"
   ]
  },
  {
   "cell_type": "markdown",
   "metadata": {},
   "source": [
    "## Operating System"
   ]
  },
  {
   "cell_type": "code",
   "execution_count": 80,
   "metadata": {},
   "outputs": [
    {
     "data": {
      "text/plain": [
       "Windows        34268\n",
       "MacOS          18638\n",
       "Linux-based    16069\n",
       "BSD/Unix         139\n",
       "Name: OperatingSystem, dtype: int64"
      ]
     },
     "execution_count": 80,
     "metadata": {},
     "output_type": "execute_result"
    }
   ],
   "source": [
    "df['OperatingSystem'].value_counts().nlargest(10)"
   ]
  },
  {
   "cell_type": "code",
   "execution_count": 81,
   "metadata": {},
   "outputs": [
    {
     "data": {
      "text/plain": [
       "10374"
      ]
     },
     "execution_count": 81,
     "metadata": {},
     "output_type": "execute_result"
    }
   ],
   "source": [
    "df['OperatingSystem'].isnull().sum()"
   ]
  },
  {
   "cell_type": "code",
   "execution_count": 82,
   "metadata": {},
   "outputs": [],
   "source": [
    "df['OperatingSystem'].fillna(method='ffill', inplace=True)"
   ]
  },
  {
   "cell_type": "code",
   "execution_count": 83,
   "metadata": {},
   "outputs": [
    {
     "data": {
      "text/plain": [
       "0"
      ]
     },
     "execution_count": 83,
     "metadata": {},
     "output_type": "execute_result"
    }
   ],
   "source": [
    "df['OperatingSystem'].isnull().sum()"
   ]
  },
  {
   "cell_type": "code",
   "execution_count": 84,
   "metadata": {},
   "outputs": [
    {
     "data": {
      "text/plain": [
       "Windows        39475\n",
       "MacOS          21433\n",
       "Linux-based    18406\n",
       "BSD/Unix         174\n",
       "Name: OperatingSystem, dtype: int64"
      ]
     },
     "execution_count": 84,
     "metadata": {},
     "output_type": "execute_result"
    }
   ],
   "source": [
    "df['OperatingSystem'].value_counts().nlargest(10)"
   ]
  },
  {
   "cell_type": "markdown",
   "metadata": {},
   "source": [
    "## Salary Type"
   ]
  },
  {
   "cell_type": "code",
   "execution_count": 85,
   "metadata": {},
   "outputs": [
    {
     "data": {
      "text/plain": [
       "Monthly    26201\n",
       "Yearly     22541\n",
       "Weekly      2248\n",
       "Name: SalaryType, dtype: int64"
      ]
     },
     "execution_count": 85,
     "metadata": {},
     "output_type": "execute_result"
    }
   ],
   "source": [
    "df['SalaryType'].value_counts().nlargest(10)"
   ]
  },
  {
   "cell_type": "code",
   "execution_count": 86,
   "metadata": {},
   "outputs": [
    {
     "data": {
      "text/plain": [
       "28498"
      ]
     },
     "execution_count": 86,
     "metadata": {},
     "output_type": "execute_result"
    }
   ],
   "source": [
    "df['SalaryType'].isnull().sum()"
   ]
  },
  {
   "cell_type": "code",
   "execution_count": 87,
   "metadata": {},
   "outputs": [],
   "source": [
    "df['SalaryType'].fillna(method='ffill', inplace=True)"
   ]
  },
  {
   "cell_type": "code",
   "execution_count": 88,
   "metadata": {},
   "outputs": [
    {
     "data": {
      "text/plain": [
       "0"
      ]
     },
     "execution_count": 88,
     "metadata": {},
     "output_type": "execute_result"
    }
   ],
   "source": [
    "df['SalaryType'].isnull().sum()"
   ]
  },
  {
   "cell_type": "code",
   "execution_count": 89,
   "metadata": {},
   "outputs": [
    {
     "data": {
      "text/plain": [
       "Monthly    40953\n",
       "Yearly     34333\n",
       "Weekly      4202\n",
       "Name: SalaryType, dtype: int64"
      ]
     },
     "execution_count": 89,
     "metadata": {},
     "output_type": "execute_result"
    }
   ],
   "source": [
    "df['SalaryType'].value_counts().nlargest(10)"
   ]
  },
  {
   "cell_type": "markdown",
   "metadata": {},
   "source": [
    "## Currency"
   ]
  },
  {
   "cell_type": "code",
   "execution_count": 90,
   "metadata": {},
   "outputs": [
    {
     "data": {
      "text/plain": [
       "U.S. dollars ($)               20599\n",
       "Euros (€)                      15201\n",
       "Indian rupees (₹)               7908\n",
       "British pounds sterling (£)     4856\n",
       "Canadian dollars (C$)           2535\n",
       "Russian rubles (₽)              1768\n",
       "Brazilian reais (R$)            1663\n",
       "Australian dollars (A$)         1571\n",
       "Polish złoty (zł)               1434\n",
       "Swedish kroner (SEK)             864\n",
       "Name: Currency, dtype: int64"
      ]
     },
     "execution_count": 90,
     "metadata": {},
     "output_type": "execute_result"
    }
   ],
   "source": [
    "df['Currency'].value_counts().nlargest(10)"
   ]
  },
  {
   "cell_type": "code",
   "execution_count": 91,
   "metadata": {},
   "outputs": [
    {
     "data": {
      "text/plain": [
       "17483"
      ]
     },
     "execution_count": 91,
     "metadata": {},
     "output_type": "execute_result"
    }
   ],
   "source": [
    "df['Currency'].isnull().sum()"
   ]
  },
  {
   "cell_type": "code",
   "execution_count": 92,
   "metadata": {},
   "outputs": [],
   "source": [
    "df['Currency'].fillna(method='ffill', inplace=True)"
   ]
  },
  {
   "cell_type": "code",
   "execution_count": 93,
   "metadata": {},
   "outputs": [
    {
     "data": {
      "text/plain": [
       "1"
      ]
     },
     "execution_count": 93,
     "metadata": {},
     "output_type": "execute_result"
    }
   ],
   "source": [
    "df['Currency'].isnull().sum()"
   ]
  },
  {
   "cell_type": "code",
   "execution_count": 94,
   "metadata": {},
   "outputs": [],
   "source": [
    "df.dropna(subset=['Currency'], inplace = True)"
   ]
  },
  {
   "cell_type": "code",
   "execution_count": 95,
   "metadata": {},
   "outputs": [
    {
     "data": {
      "text/plain": [
       "U.S. dollars ($)               26356\n",
       "Euros (€)                      19465\n",
       "Indian rupees (₹)              10152\n",
       "British pounds sterling (£)     6194\n",
       "Canadian dollars (C$)           3289\n",
       "Russian rubles (₽)              2340\n",
       "Brazilian reais (R$)            2122\n",
       "Australian dollars (A$)         1970\n",
       "Polish złoty (zł)               1856\n",
       "Swedish kroner (SEK)            1101\n",
       "Name: Currency, dtype: int64"
      ]
     },
     "execution_count": 95,
     "metadata": {},
     "output_type": "execute_result"
    }
   ],
   "source": [
    "df['Currency'].value_counts().nlargest(10)"
   ]
  },
  {
   "cell_type": "markdown",
   "metadata": {},
   "source": [
    "## Salary"
   ]
  },
  {
   "cell_type": "code",
   "execution_count": 96,
   "metadata": {},
   "outputs": [
    {
     "data": {
      "text/plain": [
       "0.0          842\n",
       "120000.0     524\n",
       "100000.0     497\n",
       "80000.0      396\n",
       "1000000.0    382\n",
       "110000.0     371\n",
       "90000.0      364\n",
       "150000.0     357\n",
       "60000.0      351\n",
       "75000.0      337\n",
       "Name: SalaryUSD, dtype: int64"
      ]
     },
     "execution_count": 96,
     "metadata": {},
     "output_type": "execute_result"
    }
   ],
   "source": [
    "df['SalaryUSD'].value_counts().nlargest(10)"
   ]
  },
  {
   "cell_type": "code",
   "execution_count": 97,
   "metadata": {},
   "outputs": [
    {
     "data": {
      "text/plain": [
       "31786"
      ]
     },
     "execution_count": 97,
     "metadata": {},
     "output_type": "execute_result"
    }
   ],
   "source": [
    "df['SalaryUSD'].isnull().sum() "
   ]
  },
  {
   "cell_type": "code",
   "execution_count": 98,
   "metadata": {},
   "outputs": [
    {
     "data": {
      "text/plain": [
       "DevType        Country      \n",
       "Student        Saudi Arabia     1500000.0\n",
       "Developer      Andorra           525089.5\n",
       "Manager        Hungary           516000.0\n",
       "               Netherlands       507175.0\n",
       "Non developer  Algeria           360000.0\n",
       "               Cyprus            293736.0\n",
       "Developer      Liechtenstein     284028.0\n",
       "Student        Finland           272212.0\n",
       "Manager        Denmark           262920.6\n",
       "Student        Israel            256522.4\n",
       "Name: SalaryUSD, dtype: float64"
      ]
     },
     "execution_count": 98,
     "metadata": {},
     "output_type": "execute_result"
    }
   ],
   "source": [
    "mean_salary = df.groupby(['DevType','Country'])['SalaryUSD'].mean() \n",
    "mean_salary.nlargest(10)"
   ]
  },
  {
   "cell_type": "code",
   "execution_count": 99,
   "metadata": {},
   "outputs": [],
   "source": [
    "means = df.groupby(['YearsCodingProf','DevType', 'Country'])['SalaryUSD'].transform('mean')\n",
    "df['SalaryUSD'] = df['SalaryUSD'].fillna(means)"
   ]
  },
  {
   "cell_type": "code",
   "execution_count": 100,
   "metadata": {},
   "outputs": [
    {
     "data": {
      "text/plain": [
       "YearsCodingProf  DevType        Country                             \n",
       "9-11 years       Student        Saudi Arabia                            1500000.0\n",
       "12-14 years      Non developer  Norway                                  1000000.0\n",
       "                 Student        Switzerland                             1000000.0\n",
       "15-17 years      Non developer  Australia                               1000000.0\n",
       "                                New Zealand                             1000000.0\n",
       "21-23 years      Developer      Japan                                   1000000.0\n",
       "                                Venezuela, Bolivarian Republic of...    1000000.0\n",
       "                 Non developer  Sweden                                  1000000.0\n",
       "                 Student        Finland                                 1000000.0\n",
       "24-26 years      Manager        Canada                                  1000000.0\n",
       "Name: SalaryUSD, dtype: float64"
      ]
     },
     "execution_count": 100,
     "metadata": {},
     "output_type": "execute_result"
    }
   ],
   "source": [
    "mean_salary = df.groupby(['YearsCodingProf','DevType','Country'])['SalaryUSD'].mean()\n",
    "mean_salary.nlargest(10)"
   ]
  },
  {
   "cell_type": "code",
   "execution_count": 115,
   "metadata": {},
   "outputs": [],
   "source": [
    "df.dropna(subset=['SalaryUSD'], inplace = True)"
   ]
  },
  {
   "cell_type": "markdown",
   "metadata": {},
   "source": [
    "## Age"
   ]
  },
  {
   "cell_type": "code",
   "execution_count": 117,
   "metadata": {},
   "outputs": [
    {
     "data": {
      "text/plain": [
       "25 - 34 years old     30969\n",
       "18 - 24 years old     14847\n",
       "35 - 44 years old     10980\n",
       "45 - 54 years old      3072\n",
       "Under 18 years old     1549\n",
       "55 - 64 years old       865\n",
       "65 years or older       144\n",
       "Name: Age, dtype: int64"
      ]
     },
     "execution_count": 117,
     "metadata": {},
     "output_type": "execute_result"
    }
   ],
   "source": [
    "df['Age'].value_counts().nlargest(10)"
   ]
  },
  {
   "cell_type": "code",
   "execution_count": 118,
   "metadata": {},
   "outputs": [
    {
     "data": {
      "text/plain": [
       "16374"
      ]
     },
     "execution_count": 118,
     "metadata": {},
     "output_type": "execute_result"
    }
   ],
   "source": [
    "df['Age'].isnull().sum()"
   ]
  },
  {
   "cell_type": "code",
   "execution_count": 119,
   "metadata": {},
   "outputs": [],
   "source": [
    "df['Age'].fillna(method='ffill', inplace=True)"
   ]
  },
  {
   "cell_type": "code",
   "execution_count": 120,
   "metadata": {},
   "outputs": [
    {
     "data": {
      "text/plain": [
       "0"
      ]
     },
     "execution_count": 120,
     "metadata": {},
     "output_type": "execute_result"
    }
   ],
   "source": [
    "df['Age'].isnull().sum()"
   ]
  },
  {
   "cell_type": "code",
   "execution_count": 121,
   "metadata": {},
   "outputs": [
    {
     "data": {
      "text/plain": [
       "25 - 34 years old     38797\n",
       "18 - 24 years old     19074\n",
       "35 - 44 years old     13665\n",
       "45 - 54 years old      3821\n",
       "Under 18 years old     2165\n",
       "55 - 64 years old      1093\n",
       "65 years or older       185\n",
       "Name: Age, dtype: int64"
      ]
     },
     "execution_count": 121,
     "metadata": {},
     "output_type": "execute_result"
    }
   ],
   "source": [
    "df['Age'].value_counts().nlargest(10)"
   ]
  },
  {
   "cell_type": "code",
   "execution_count": 122,
   "metadata": {},
   "outputs": [
    {
     "name": "stdout",
     "output_type": "stream",
     "text": [
      "Age                       0\n",
      "SalaryUSD                 0\n",
      "Country                   0\n",
      "Currency                  0\n",
      "DevType                   0\n",
      "Employment                0\n",
      "RaceEthnicity             0\n",
      "Gender                    0\n",
      "SalaryType                0\n",
      "Hobby                     0\n",
      "JobSatisfaction           0\n",
      "JobSearchStatus           0\n",
      "OperatingSystem           0\n",
      "UndergradMajor            0\n",
      "YearsCoding               0\n",
      "YearsCodingProf           0\n",
      "LanguageDesireNextYear    0\n",
      "LanguageWorkedWith        0\n",
      "dtype: int64\n"
     ]
    }
   ],
   "source": [
    "print(df.isnull().sum())"
   ]
  },
  {
   "cell_type": "markdown",
   "metadata": {},
   "source": [
    "## Cleaned Dataset : 2018_Survey"
   ]
  },
  {
   "cell_type": "code",
   "execution_count": 123,
   "metadata": {},
   "outputs": [
    {
     "data": {
      "text/plain": [
       "(78800, 18)"
      ]
     },
     "execution_count": 123,
     "metadata": {},
     "output_type": "execute_result"
    }
   ],
   "source": [
    "cleaned_2018 = df[df.notnull()]\n",
    "cleaned_2018.shape"
   ]
  },
  {
   "cell_type": "code",
   "execution_count": 124,
   "metadata": {},
   "outputs": [
    {
     "data": {
      "text/html": [
       "<div>\n",
       "<style scoped>\n",
       "    .dataframe tbody tr th:only-of-type {\n",
       "        vertical-align: middle;\n",
       "    }\n",
       "\n",
       "    .dataframe tbody tr th {\n",
       "        vertical-align: top;\n",
       "    }\n",
       "\n",
       "    .dataframe thead th {\n",
       "        text-align: right;\n",
       "    }\n",
       "</style>\n",
       "<table border=\"1\" class=\"dataframe\">\n",
       "  <thead>\n",
       "    <tr style=\"text-align: right;\">\n",
       "      <th></th>\n",
       "      <th>Age</th>\n",
       "      <th>SalaryUSD</th>\n",
       "      <th>Country</th>\n",
       "      <th>Currency</th>\n",
       "      <th>DevType</th>\n",
       "      <th>Employment</th>\n",
       "      <th>RaceEthnicity</th>\n",
       "      <th>Gender</th>\n",
       "      <th>SalaryType</th>\n",
       "      <th>Hobby</th>\n",
       "      <th>JobSatisfaction</th>\n",
       "      <th>JobSearchStatus</th>\n",
       "      <th>OperatingSystem</th>\n",
       "      <th>UndergradMajor</th>\n",
       "      <th>YearsCoding</th>\n",
       "      <th>YearsCodingProf</th>\n",
       "      <th>LanguageDesireNextYear</th>\n",
       "      <th>LanguageWorkedWith</th>\n",
       "    </tr>\n",
       "  </thead>\n",
       "  <tbody>\n",
       "    <tr>\n",
       "      <th>1</th>\n",
       "      <td>35 - 44 years old</td>\n",
       "      <td>70841.000000</td>\n",
       "      <td>United Kingdom</td>\n",
       "      <td>British pounds sterling (£)</td>\n",
       "      <td>Developer</td>\n",
       "      <td>Full-time</td>\n",
       "      <td>White or European descent</td>\n",
       "      <td>Male</td>\n",
       "      <td>Yearly</td>\n",
       "      <td>Yes</td>\n",
       "      <td>Moderately dissatisfied</td>\n",
       "      <td>Seeking</td>\n",
       "      <td>Linux-based</td>\n",
       "      <td>Other Science</td>\n",
       "      <td>30 or more years</td>\n",
       "      <td>18-20 years</td>\n",
       "      <td>Go;Python</td>\n",
       "      <td>JavaScript;Python;Bash/Shell</td>\n",
       "    </tr>\n",
       "    <tr>\n",
       "      <th>2</th>\n",
       "      <td>35 - 44 years old</td>\n",
       "      <td>153030.333333</td>\n",
       "      <td>United States</td>\n",
       "      <td>British pounds sterling (£)</td>\n",
       "      <td>Manager</td>\n",
       "      <td>Full-time</td>\n",
       "      <td>White or European descent</td>\n",
       "      <td>Non-conforming</td>\n",
       "      <td>Yearly</td>\n",
       "      <td>Yes</td>\n",
       "      <td>Moderately satisfied</td>\n",
       "      <td>Not seeking</td>\n",
       "      <td>Linux-based</td>\n",
       "      <td>Computer Science</td>\n",
       "      <td>24-26 years</td>\n",
       "      <td>6-8 years</td>\n",
       "      <td>Go;Python</td>\n",
       "      <td>JavaScript;Python;Bash/Shell</td>\n",
       "    </tr>\n",
       "    <tr>\n",
       "      <th>3</th>\n",
       "      <td>35 - 44 years old</td>\n",
       "      <td>165809.207657</td>\n",
       "      <td>United States</td>\n",
       "      <td>U.S. dollars ($)</td>\n",
       "      <td>Developer</td>\n",
       "      <td>Full-time</td>\n",
       "      <td>White or European descent</td>\n",
       "      <td>Male</td>\n",
       "      <td>Yearly</td>\n",
       "      <td>No</td>\n",
       "      <td>Neither satisfied nor dissatisfied</td>\n",
       "      <td>Not seeking</td>\n",
       "      <td>Windows</td>\n",
       "      <td>Computer Science</td>\n",
       "      <td>18-20 years</td>\n",
       "      <td>12-14 years</td>\n",
       "      <td>C#;JavaScript;SQL;TypeScript;HTML;CSS;Bash/Shell</td>\n",
       "      <td>C#;JavaScript;SQL;TypeScript;HTML;CSS;Bash/Shell</td>\n",
       "    </tr>\n",
       "    <tr>\n",
       "      <th>4</th>\n",
       "      <td>18 - 24 years old</td>\n",
       "      <td>21426.000000</td>\n",
       "      <td>South Africa</td>\n",
       "      <td>South African rands (R)</td>\n",
       "      <td>Developer</td>\n",
       "      <td>Full-time</td>\n",
       "      <td>White or European descent</td>\n",
       "      <td>Male</td>\n",
       "      <td>Yearly</td>\n",
       "      <td>Yes</td>\n",
       "      <td>Slightly satisfied</td>\n",
       "      <td>Not seeking</td>\n",
       "      <td>Windows</td>\n",
       "      <td>Computer Science</td>\n",
       "      <td>6-8 years</td>\n",
       "      <td>0-2 years</td>\n",
       "      <td>Assembly;C;C++;Matlab;SQL;Bash/Shell</td>\n",
       "      <td>C;C++;Java;Matlab;R;SQL;Bash/Shell</td>\n",
       "    </tr>\n",
       "    <tr>\n",
       "      <th>5</th>\n",
       "      <td>18 - 24 years old</td>\n",
       "      <td>41671.000000</td>\n",
       "      <td>United Kingdom</td>\n",
       "      <td>British pounds sterling (£)</td>\n",
       "      <td>Developer</td>\n",
       "      <td>Full-time</td>\n",
       "      <td>White or European descent</td>\n",
       "      <td>Male</td>\n",
       "      <td>Yearly</td>\n",
       "      <td>Yes</td>\n",
       "      <td>Moderately satisfied</td>\n",
       "      <td>Seeking</td>\n",
       "      <td>Linux-based</td>\n",
       "      <td>Computer Science</td>\n",
       "      <td>6-8 years</td>\n",
       "      <td>3-5 years</td>\n",
       "      <td>C#;Go;Java;JavaScript;Python;SQL;TypeScript;HT...</td>\n",
       "      <td>Java;JavaScript;Python;TypeScript;HTML;CSS</td>\n",
       "    </tr>\n",
       "    <tr>\n",
       "      <th>6</th>\n",
       "      <td>18 - 24 years old</td>\n",
       "      <td>120000.000000</td>\n",
       "      <td>United States</td>\n",
       "      <td>U.S. dollars ($)</td>\n",
       "      <td>Developer</td>\n",
       "      <td>Full-time</td>\n",
       "      <td>White or European descent</td>\n",
       "      <td>Male</td>\n",
       "      <td>Yearly</td>\n",
       "      <td>Yes</td>\n",
       "      <td>Slightly satisfied</td>\n",
       "      <td>Not seeking</td>\n",
       "      <td>MacOS</td>\n",
       "      <td>Computer Science</td>\n",
       "      <td>9-11 years</td>\n",
       "      <td>0-2 years</td>\n",
       "      <td>C;Go;JavaScript;Python;HTML;CSS</td>\n",
       "      <td>JavaScript;HTML;CSS</td>\n",
       "    </tr>\n",
       "    <tr>\n",
       "      <th>7</th>\n",
       "      <td>25 - 34 years old</td>\n",
       "      <td>93336.000000</td>\n",
       "      <td>Nigeria</td>\n",
       "      <td>U.S. dollars ($)</td>\n",
       "      <td>Non developer</td>\n",
       "      <td>Full-time</td>\n",
       "      <td>Black or African descent</td>\n",
       "      <td>Female</td>\n",
       "      <td>Yearly</td>\n",
       "      <td>Yes</td>\n",
       "      <td>Slightly satisfied</td>\n",
       "      <td>Not seeking</td>\n",
       "      <td>Windows</td>\n",
       "      <td>Computer Science</td>\n",
       "      <td>0-2 years</td>\n",
       "      <td>3-5 years</td>\n",
       "      <td>Matlab;SQL;Kotlin;Bash/Shell</td>\n",
       "      <td>JavaScript;TypeScript;HTML;CSS</td>\n",
       "    </tr>\n",
       "    <tr>\n",
       "      <th>8</th>\n",
       "      <td>35 - 44 years old</td>\n",
       "      <td>250000.000000</td>\n",
       "      <td>United States</td>\n",
       "      <td>U.S. dollars ($)</td>\n",
       "      <td>Developer</td>\n",
       "      <td>Full-time</td>\n",
       "      <td>White or European descent</td>\n",
       "      <td>Male</td>\n",
       "      <td>Yearly</td>\n",
       "      <td>Yes</td>\n",
       "      <td>Moderately satisfied</td>\n",
       "      <td>Not seeking</td>\n",
       "      <td>MacOS</td>\n",
       "      <td>Arts and Science</td>\n",
       "      <td>30 or more years</td>\n",
       "      <td>21-23 years</td>\n",
       "      <td>Erlang;Go;Python;Rust;SQL</td>\n",
       "      <td>Assembly;CoffeeScript;Erlang;Go;JavaScript;Lua...</td>\n",
       "    </tr>\n",
       "    <tr>\n",
       "      <th>13</th>\n",
       "      <td>35 - 44 years old</td>\n",
       "      <td>26023.003365</td>\n",
       "      <td>India</td>\n",
       "      <td>U.S. dollars ($)</td>\n",
       "      <td>Developer</td>\n",
       "      <td>Full-time</td>\n",
       "      <td>South Asian</td>\n",
       "      <td>Non-conforming</td>\n",
       "      <td>Yearly</td>\n",
       "      <td>No</td>\n",
       "      <td>Extremely satisfied</td>\n",
       "      <td>Not seeking</td>\n",
       "      <td>Linux-based</td>\n",
       "      <td>Engineering</td>\n",
       "      <td>3-5 years</td>\n",
       "      <td>3-5 years</td>\n",
       "      <td>Java;Python</td>\n",
       "      <td>Java</td>\n",
       "    </tr>\n",
       "    <tr>\n",
       "      <th>14</th>\n",
       "      <td>18 - 24 years old</td>\n",
       "      <td>0.000000</td>\n",
       "      <td>Netherlands</td>\n",
       "      <td>Euros (€)</td>\n",
       "      <td>Developer</td>\n",
       "      <td>Full-time</td>\n",
       "      <td>White or European descent</td>\n",
       "      <td>Male</td>\n",
       "      <td>Monthly</td>\n",
       "      <td>No</td>\n",
       "      <td>Neither satisfied nor dissatisfied</td>\n",
       "      <td>Not seeking</td>\n",
       "      <td>Windows</td>\n",
       "      <td>No major</td>\n",
       "      <td>0-2 years</td>\n",
       "      <td>0-2 years</td>\n",
       "      <td>Java;Python</td>\n",
       "      <td>Java;JavaScript;PHP;VB.NET;HTML;CSS</td>\n",
       "    </tr>\n",
       "  </tbody>\n",
       "</table>\n",
       "</div>"
      ],
      "text/plain": [
       "                  Age      SalaryUSD         Country  \\\n",
       "1   35 - 44 years old   70841.000000  United Kingdom   \n",
       "2   35 - 44 years old  153030.333333   United States   \n",
       "3   35 - 44 years old  165809.207657   United States   \n",
       "4   18 - 24 years old   21426.000000    South Africa   \n",
       "5   18 - 24 years old   41671.000000  United Kingdom   \n",
       "6   18 - 24 years old  120000.000000   United States   \n",
       "7   25 - 34 years old   93336.000000         Nigeria   \n",
       "8   35 - 44 years old  250000.000000   United States   \n",
       "13  35 - 44 years old   26023.003365           India   \n",
       "14  18 - 24 years old       0.000000     Netherlands   \n",
       "\n",
       "                       Currency        DevType Employment  \\\n",
       "1   British pounds sterling (£)      Developer  Full-time   \n",
       "2   British pounds sterling (£)        Manager  Full-time   \n",
       "3              U.S. dollars ($)      Developer  Full-time   \n",
       "4       South African rands (R)      Developer  Full-time   \n",
       "5   British pounds sterling (£)      Developer  Full-time   \n",
       "6              U.S. dollars ($)      Developer  Full-time   \n",
       "7              U.S. dollars ($)  Non developer  Full-time   \n",
       "8              U.S. dollars ($)      Developer  Full-time   \n",
       "13             U.S. dollars ($)      Developer  Full-time   \n",
       "14                    Euros (€)      Developer  Full-time   \n",
       "\n",
       "                RaceEthnicity          Gender SalaryType Hobby  \\\n",
       "1   White or European descent            Male     Yearly   Yes   \n",
       "2   White or European descent  Non-conforming     Yearly   Yes   \n",
       "3   White or European descent            Male     Yearly    No   \n",
       "4   White or European descent            Male     Yearly   Yes   \n",
       "5   White or European descent            Male     Yearly   Yes   \n",
       "6   White or European descent            Male     Yearly   Yes   \n",
       "7    Black or African descent          Female     Yearly   Yes   \n",
       "8   White or European descent            Male     Yearly   Yes   \n",
       "13                South Asian  Non-conforming     Yearly    No   \n",
       "14  White or European descent            Male    Monthly    No   \n",
       "\n",
       "                       JobSatisfaction JobSearchStatus OperatingSystem  \\\n",
       "1              Moderately dissatisfied         Seeking     Linux-based   \n",
       "2                 Moderately satisfied     Not seeking     Linux-based   \n",
       "3   Neither satisfied nor dissatisfied     Not seeking         Windows   \n",
       "4                   Slightly satisfied     Not seeking         Windows   \n",
       "5                 Moderately satisfied         Seeking     Linux-based   \n",
       "6                   Slightly satisfied     Not seeking           MacOS   \n",
       "7                   Slightly satisfied     Not seeking         Windows   \n",
       "8                 Moderately satisfied     Not seeking           MacOS   \n",
       "13                 Extremely satisfied     Not seeking     Linux-based   \n",
       "14  Neither satisfied nor dissatisfied     Not seeking         Windows   \n",
       "\n",
       "      UndergradMajor       YearsCoding YearsCodingProf  \\\n",
       "1      Other Science  30 or more years     18-20 years   \n",
       "2   Computer Science       24-26 years       6-8 years   \n",
       "3   Computer Science       18-20 years     12-14 years   \n",
       "4   Computer Science         6-8 years       0-2 years   \n",
       "5   Computer Science         6-8 years       3-5 years   \n",
       "6   Computer Science        9-11 years       0-2 years   \n",
       "7   Computer Science         0-2 years       3-5 years   \n",
       "8   Arts and Science  30 or more years     21-23 years   \n",
       "13       Engineering         3-5 years       3-5 years   \n",
       "14          No major         0-2 years       0-2 years   \n",
       "\n",
       "                               LanguageDesireNextYear  \\\n",
       "1                                           Go;Python   \n",
       "2                                           Go;Python   \n",
       "3    C#;JavaScript;SQL;TypeScript;HTML;CSS;Bash/Shell   \n",
       "4                Assembly;C;C++;Matlab;SQL;Bash/Shell   \n",
       "5   C#;Go;Java;JavaScript;Python;SQL;TypeScript;HT...   \n",
       "6                     C;Go;JavaScript;Python;HTML;CSS   \n",
       "7                        Matlab;SQL;Kotlin;Bash/Shell   \n",
       "8                           Erlang;Go;Python;Rust;SQL   \n",
       "13                                        Java;Python   \n",
       "14                                        Java;Python   \n",
       "\n",
       "                                   LanguageWorkedWith  \n",
       "1                        JavaScript;Python;Bash/Shell  \n",
       "2                        JavaScript;Python;Bash/Shell  \n",
       "3    C#;JavaScript;SQL;TypeScript;HTML;CSS;Bash/Shell  \n",
       "4                  C;C++;Java;Matlab;R;SQL;Bash/Shell  \n",
       "5          Java;JavaScript;Python;TypeScript;HTML;CSS  \n",
       "6                                 JavaScript;HTML;CSS  \n",
       "7                      JavaScript;TypeScript;HTML;CSS  \n",
       "8   Assembly;CoffeeScript;Erlang;Go;JavaScript;Lua...  \n",
       "13                                               Java  \n",
       "14                Java;JavaScript;PHP;VB.NET;HTML;CSS  "
      ]
     },
     "execution_count": 124,
     "metadata": {},
     "output_type": "execute_result"
    }
   ],
   "source": [
    "cleaned_2018.head(10)"
   ]
  },
  {
   "cell_type": "markdown",
   "metadata": {},
   "source": [
    "## After Cleaning Data"
   ]
  },
  {
   "cell_type": "code",
   "execution_count": 125,
   "metadata": {},
   "outputs": [
    {
     "name": "stdout",
     "output_type": "stream",
     "text": [
      "Total :  1418400\n",
      "Total missing :  0\n",
      "Missing Percentage:  0.0 %\n"
     ]
    }
   ],
   "source": [
    "#Find % of missing data\n",
    "missing_count = df.isnull().sum() #number of missing\n",
    "total_cells = np.product(df.shape) # number of cells (cols x rows)\n",
    "total_missing = missing_count.sum()\n",
    "missing_percent = (total_missing*100)/total_cells\n",
    "\n",
    "print('Total : ', total_cells)\n",
    "print('Total missing : ', total_missing)\n",
    "print('Missing Percentage: ', missing_percent, '%')"
   ]
  }
 ],
 "metadata": {
  "kernelspec": {
   "display_name": "Python 3",
   "language": "python",
   "name": "python3"
  },
  "language_info": {
   "codemirror_mode": {
    "name": "ipython",
    "version": 3
   },
   "file_extension": ".py",
   "mimetype": "text/x-python",
   "name": "python",
   "nbconvert_exporter": "python",
   "pygments_lexer": "ipython3",
   "version": "3.8.5"
  }
 },
 "nbformat": 4,
 "nbformat_minor": 4
}
