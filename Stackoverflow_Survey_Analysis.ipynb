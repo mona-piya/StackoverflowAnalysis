{
 "cells": [
  {
   "cell_type": "markdown",
   "metadata": {},
   "source": [
    "## Stackoverflow_Survey_Analysis_2018"
   ]
  },
  {
   "cell_type": "code",
   "execution_count": 1,
   "metadata": {},
   "outputs": [],
   "source": [
    "import numpy as np\n",
    "import pandas as pd\n",
    "import matplotlib.pyplot as plt\n",
    "%matplotlib inline\n",
    "import seaborn as sns\n",
    "import warnings; warnings.simplefilter('ignore')"
   ]
  },
  {
   "cell_type": "code",
   "execution_count": 2,
   "metadata": {},
   "outputs": [
    {
     "data": {
      "text/html": [
       "<div>\n",
       "<style scoped>\n",
       "    .dataframe tbody tr th:only-of-type {\n",
       "        vertical-align: middle;\n",
       "    }\n",
       "\n",
       "    .dataframe tbody tr th {\n",
       "        vertical-align: top;\n",
       "    }\n",
       "\n",
       "    .dataframe thead th {\n",
       "        text-align: right;\n",
       "    }\n",
       "</style>\n",
       "<table border=\"1\" class=\"dataframe\">\n",
       "  <thead>\n",
       "    <tr style=\"text-align: right;\">\n",
       "      <th></th>\n",
       "      <th>Respondent</th>\n",
       "      <th>Hobby</th>\n",
       "      <th>OpenSource</th>\n",
       "      <th>Country</th>\n",
       "      <th>Student</th>\n",
       "      <th>Employment</th>\n",
       "      <th>FormalEducation</th>\n",
       "      <th>UndergradMajor</th>\n",
       "      <th>CompanySize</th>\n",
       "      <th>DevType</th>\n",
       "      <th>...</th>\n",
       "      <th>Exercise</th>\n",
       "      <th>Gender</th>\n",
       "      <th>SexualOrientation</th>\n",
       "      <th>EducationParents</th>\n",
       "      <th>RaceEthnicity</th>\n",
       "      <th>Age</th>\n",
       "      <th>Dependents</th>\n",
       "      <th>MilitaryUS</th>\n",
       "      <th>SurveyTooLong</th>\n",
       "      <th>SurveyEasy</th>\n",
       "    </tr>\n",
       "  </thead>\n",
       "  <tbody>\n",
       "    <tr>\n",
       "      <th>0</th>\n",
       "      <td>1</td>\n",
       "      <td>Yes</td>\n",
       "      <td>No</td>\n",
       "      <td>Kenya</td>\n",
       "      <td>No</td>\n",
       "      <td>Employed part-time</td>\n",
       "      <td>Bachelor’s degree (BA, BS, B.Eng., etc.)</td>\n",
       "      <td>Mathematics or statistics</td>\n",
       "      <td>20 to 99 employees</td>\n",
       "      <td>Full-stack developer</td>\n",
       "      <td>...</td>\n",
       "      <td>3 - 4 times per week</td>\n",
       "      <td>Male</td>\n",
       "      <td>Straight or heterosexual</td>\n",
       "      <td>Bachelor’s degree (BA, BS, B.Eng., etc.)</td>\n",
       "      <td>Black or of African descent</td>\n",
       "      <td>25 - 34 years old</td>\n",
       "      <td>Yes</td>\n",
       "      <td>NaN</td>\n",
       "      <td>The survey was an appropriate length</td>\n",
       "      <td>Very easy</td>\n",
       "    </tr>\n",
       "    <tr>\n",
       "      <th>1</th>\n",
       "      <td>3</td>\n",
       "      <td>Yes</td>\n",
       "      <td>Yes</td>\n",
       "      <td>United Kingdom</td>\n",
       "      <td>No</td>\n",
       "      <td>Employed full-time</td>\n",
       "      <td>Bachelor’s degree (BA, BS, B.Eng., etc.)</td>\n",
       "      <td>A natural science (ex. biology, chemistry, phy...</td>\n",
       "      <td>10,000 or more employees</td>\n",
       "      <td>Database administrator;DevOps specialist;Full-...</td>\n",
       "      <td>...</td>\n",
       "      <td>Daily or almost every day</td>\n",
       "      <td>Male</td>\n",
       "      <td>Straight or heterosexual</td>\n",
       "      <td>Bachelor’s degree (BA, BS, B.Eng., etc.)</td>\n",
       "      <td>White or of European descent</td>\n",
       "      <td>35 - 44 years old</td>\n",
       "      <td>Yes</td>\n",
       "      <td>NaN</td>\n",
       "      <td>The survey was an appropriate length</td>\n",
       "      <td>Somewhat easy</td>\n",
       "    </tr>\n",
       "  </tbody>\n",
       "</table>\n",
       "<p>2 rows × 129 columns</p>\n",
       "</div>"
      ],
      "text/plain": [
       "   Respondent Hobby OpenSource         Country Student          Employment  \\\n",
       "0           1   Yes         No           Kenya      No  Employed part-time   \n",
       "1           3   Yes        Yes  United Kingdom      No  Employed full-time   \n",
       "\n",
       "                            FormalEducation  \\\n",
       "0  Bachelor’s degree (BA, BS, B.Eng., etc.)   \n",
       "1  Bachelor’s degree (BA, BS, B.Eng., etc.)   \n",
       "\n",
       "                                      UndergradMajor  \\\n",
       "0                          Mathematics or statistics   \n",
       "1  A natural science (ex. biology, chemistry, phy...   \n",
       "\n",
       "                CompanySize  \\\n",
       "0        20 to 99 employees   \n",
       "1  10,000 or more employees   \n",
       "\n",
       "                                             DevType  ...  \\\n",
       "0                               Full-stack developer  ...   \n",
       "1  Database administrator;DevOps specialist;Full-...  ...   \n",
       "\n",
       "                    Exercise Gender         SexualOrientation  \\\n",
       "0       3 - 4 times per week   Male  Straight or heterosexual   \n",
       "1  Daily or almost every day   Male  Straight or heterosexual   \n",
       "\n",
       "                           EducationParents                 RaceEthnicity  \\\n",
       "0  Bachelor’s degree (BA, BS, B.Eng., etc.)   Black or of African descent   \n",
       "1  Bachelor’s degree (BA, BS, B.Eng., etc.)  White or of European descent   \n",
       "\n",
       "                 Age Dependents  MilitaryUS  \\\n",
       "0  25 - 34 years old        Yes         NaN   \n",
       "1  35 - 44 years old        Yes         NaN   \n",
       "\n",
       "                          SurveyTooLong     SurveyEasy  \n",
       "0  The survey was an appropriate length      Very easy  \n",
       "1  The survey was an appropriate length  Somewhat easy  \n",
       "\n",
       "[2 rows x 129 columns]"
      ]
     },
     "execution_count": 2,
     "metadata": {},
     "output_type": "execute_result"
    }
   ],
   "source": [
    "df2018 = pd.read_csv(r'C:\\Users\\sanja\\Stack_Data\\survey_results_public_2018.csv')\n",
    "df2018.head(2)"
   ]
  },
  {
   "cell_type": "code",
   "execution_count": 3,
   "metadata": {},
   "outputs": [
    {
     "data": {
      "text/plain": [
       "(98855, 129)"
      ]
     },
     "execution_count": 3,
     "metadata": {},
     "output_type": "execute_result"
    }
   ],
   "source": [
    "df2018.shape"
   ]
  },
  {
   "cell_type": "code",
   "execution_count": 4,
   "metadata": {},
   "outputs": [],
   "source": [
    "#print(df2018.columns.tolist()      !--> Listing coloumsn in table"
   ]
  },
  {
   "cell_type": "code",
   "execution_count": 5,
   "metadata": {},
   "outputs": [],
   "source": [
    "drop_cols = ['Respondent', 'OpenSource', 'Student', 'FormalEducation', 'CompanySize', 'CareerSatisfaction', 'HopeFiveYears', 'LastNewJob', 'AssessJob1', 'AssessJob2', 'AssessJob3', 'AssessJob4', 'AssessJob5', 'AssessJob6', 'AssessJob7', 'AssessJob8', 'AssessJob9', 'AssessJob10', 'AssessBenefits1', 'AssessBenefits2', 'AssessBenefits3', 'AssessBenefits4', 'AssessBenefits5', 'AssessBenefits6', 'AssessBenefits7', 'AssessBenefits8', 'AssessBenefits9', 'AssessBenefits10', 'AssessBenefits11', 'JobContactPriorities1', 'JobContactPriorities2', 'JobContactPriorities3', 'JobContactPriorities4', 'JobContactPriorities5', 'JobEmailPriorities1', 'JobEmailPriorities2', 'JobEmailPriorities3', 'JobEmailPriorities4', 'JobEmailPriorities5', 'JobEmailPriorities6', 'JobEmailPriorities7', 'UpdateCV', 'CommunicationTools', 'TimeFullyProductive', 'EducationTypes', 'SelfTaughtTypes', 'TimeAfterBootcamp', 'HackathonReasons', 'AgreeDisagree1', 'AgreeDisagree2', 'AgreeDisagree3', 'DatabaseWorkedWith', 'DatabaseDesireNextYear', 'PlatformDesireNextYear', 'FrameworkWorkedWith', 'FrameworkDesireNextYear', 'IDE', 'NumberMonitors', 'Methodology', 'VersionControl', 'CheckInCode', 'AdBlocker', 'AdBlockerDisable', 'AdBlockerReasons', 'AdsAgreeDisagree1', 'AdsAgreeDisagree2', 'AdsAgreeDisagree3', 'AdsActions', 'AdsPriorities1', 'AdsPriorities2', 'AdsPriorities3', 'AdsPriorities4', 'AdsPriorities5', 'AdsPriorities6', 'AdsPriorities7', 'AIDangerous', 'AIInteresting', 'AIResponsible', 'AIFuture', 'EthicsChoice', 'EthicsReport', 'EthicsResponsible', 'EthicalImplications', 'StackOverflowRecommend', 'StackOverflowVisit', 'StackOverflowHasAccount', 'StackOverflowParticipate', 'StackOverflowJobs', 'StackOverflowDevStory', 'StackOverflowJobsRecommend', 'StackOverflowConsiderMember', 'HypotheticalTools1', 'HypotheticalTools2', 'HypotheticalTools3', 'HypotheticalTools4', 'HypotheticalTools5', 'WakeTime', 'HoursComputer', 'HoursOutside', 'SkipMeals', 'ErgonomicDevices', 'Exercise', 'SexualOrientation', 'EducationParents', 'Dependents', 'MilitaryUS', 'SurveyTooLong', 'SurveyEasy']\n",
    "df2018.drop(drop_cols, axis=1, inplace=True)"
   ]
  },
  {
   "cell_type": "code",
   "execution_count": 6,
   "metadata": {},
   "outputs": [
    {
     "data": {
      "text/plain": [
       "(98855, 21)"
      ]
     },
     "execution_count": 6,
     "metadata": {},
     "output_type": "execute_result"
    }
   ],
   "source": [
    "df2018.shape"
   ]
  },
  {
   "cell_type": "markdown",
   "metadata": {},
   "source": [
    "### Data Filtering\n"
   ]
  },
  {
   "cell_type": "code",
   "execution_count": 7,
   "metadata": {},
   "outputs": [
    {
     "data": {
      "text/html": [
       "<div>\n",
       "<style scoped>\n",
       "    .dataframe tbody tr th:only-of-type {\n",
       "        vertical-align: middle;\n",
       "    }\n",
       "\n",
       "    .dataframe tbody tr th {\n",
       "        vertical-align: top;\n",
       "    }\n",
       "\n",
       "    .dataframe thead th {\n",
       "        text-align: right;\n",
       "    }\n",
       "</style>\n",
       "<table border=\"1\" class=\"dataframe\">\n",
       "  <thead>\n",
       "    <tr style=\"text-align: right;\">\n",
       "      <th></th>\n",
       "      <th>Age</th>\n",
       "      <th>Salary</th>\n",
       "      <th>ConvertedSalary</th>\n",
       "      <th>Country</th>\n",
       "      <th>Currency</th>\n",
       "      <th>CurrencySymbol</th>\n",
       "      <th>DevType</th>\n",
       "      <th>Employment</th>\n",
       "      <th>RaceEthnicity</th>\n",
       "      <th>Gender</th>\n",
       "      <th>...</th>\n",
       "      <th>Hobby</th>\n",
       "      <th>JobSatisfaction</th>\n",
       "      <th>JobSearchStatus</th>\n",
       "      <th>OperatingSystem</th>\n",
       "      <th>PlatformWorkedWith</th>\n",
       "      <th>UndergradMajor</th>\n",
       "      <th>YearsCoding</th>\n",
       "      <th>YearsCodingProf</th>\n",
       "      <th>LanguageDesireNextYear</th>\n",
       "      <th>LanguageWorkedWith</th>\n",
       "    </tr>\n",
       "  </thead>\n",
       "  <tbody>\n",
       "    <tr>\n",
       "      <th>0</th>\n",
       "      <td>25 - 34 years old</td>\n",
       "      <td>NaN</td>\n",
       "      <td>NaN</td>\n",
       "      <td>Kenya</td>\n",
       "      <td>NaN</td>\n",
       "      <td>KES</td>\n",
       "      <td>Full-stack developer</td>\n",
       "      <td>Employed part-time</td>\n",
       "      <td>Black or of African descent</td>\n",
       "      <td>Male</td>\n",
       "      <td>...</td>\n",
       "      <td>Yes</td>\n",
       "      <td>Extremely satisfied</td>\n",
       "      <td>I’m not actively looking, but I am open to new...</td>\n",
       "      <td>Linux-based</td>\n",
       "      <td>AWS;Azure;Linux;Firebase</td>\n",
       "      <td>Mathematics or statistics</td>\n",
       "      <td>3-5 years</td>\n",
       "      <td>3-5 years</td>\n",
       "      <td>JavaScript;Python;HTML;CSS</td>\n",
       "      <td>JavaScript;Python;HTML;CSS</td>\n",
       "    </tr>\n",
       "    <tr>\n",
       "      <th>1</th>\n",
       "      <td>35 - 44 years old</td>\n",
       "      <td>51000</td>\n",
       "      <td>70841.0</td>\n",
       "      <td>United Kingdom</td>\n",
       "      <td>British pounds sterling (£)</td>\n",
       "      <td>GBP</td>\n",
       "      <td>Database administrator;DevOps specialist;Full-...</td>\n",
       "      <td>Employed full-time</td>\n",
       "      <td>White or of European descent</td>\n",
       "      <td>Male</td>\n",
       "      <td>...</td>\n",
       "      <td>Yes</td>\n",
       "      <td>Moderately dissatisfied</td>\n",
       "      <td>I am actively looking for a job</td>\n",
       "      <td>Linux-based</td>\n",
       "      <td>Linux</td>\n",
       "      <td>A natural science (ex. biology, chemistry, phy...</td>\n",
       "      <td>30 or more years</td>\n",
       "      <td>18-20 years</td>\n",
       "      <td>Go;Python</td>\n",
       "      <td>JavaScript;Python;Bash/Shell</td>\n",
       "    </tr>\n",
       "    <tr>\n",
       "      <th>2</th>\n",
       "      <td>NaN</td>\n",
       "      <td>NaN</td>\n",
       "      <td>NaN</td>\n",
       "      <td>United States</td>\n",
       "      <td>NaN</td>\n",
       "      <td>NaN</td>\n",
       "      <td>Engineering manager;Full-stack developer</td>\n",
       "      <td>Employed full-time</td>\n",
       "      <td>NaN</td>\n",
       "      <td>NaN</td>\n",
       "      <td>...</td>\n",
       "      <td>Yes</td>\n",
       "      <td>Moderately satisfied</td>\n",
       "      <td>I’m not actively looking, but I am open to new...</td>\n",
       "      <td>NaN</td>\n",
       "      <td>NaN</td>\n",
       "      <td>Computer science, computer engineering, or sof...</td>\n",
       "      <td>24-26 years</td>\n",
       "      <td>6-8 years</td>\n",
       "      <td>NaN</td>\n",
       "      <td>NaN</td>\n",
       "    </tr>\n",
       "    <tr>\n",
       "      <th>3</th>\n",
       "      <td>35 - 44 years old</td>\n",
       "      <td>NaN</td>\n",
       "      <td>NaN</td>\n",
       "      <td>United States</td>\n",
       "      <td>U.S. dollars ($)</td>\n",
       "      <td>NaN</td>\n",
       "      <td>Full-stack developer</td>\n",
       "      <td>Employed full-time</td>\n",
       "      <td>White or of European descent</td>\n",
       "      <td>Male</td>\n",
       "      <td>...</td>\n",
       "      <td>No</td>\n",
       "      <td>Neither satisfied nor dissatisfied</td>\n",
       "      <td>I’m not actively looking, but I am open to new...</td>\n",
       "      <td>Windows</td>\n",
       "      <td>Azure</td>\n",
       "      <td>Computer science, computer engineering, or sof...</td>\n",
       "      <td>18-20 years</td>\n",
       "      <td>12-14 years</td>\n",
       "      <td>C#;JavaScript;SQL;TypeScript;HTML;CSS;Bash/Shell</td>\n",
       "      <td>C#;JavaScript;SQL;TypeScript;HTML;CSS;Bash/Shell</td>\n",
       "    </tr>\n",
       "    <tr>\n",
       "      <th>4</th>\n",
       "      <td>18 - 24 years old</td>\n",
       "      <td>260000</td>\n",
       "      <td>21426.0</td>\n",
       "      <td>South Africa</td>\n",
       "      <td>South African rands (R)</td>\n",
       "      <td>ZAR</td>\n",
       "      <td>Data or business analyst;Desktop or enterprise...</td>\n",
       "      <td>Employed full-time</td>\n",
       "      <td>White or of European descent</td>\n",
       "      <td>Male</td>\n",
       "      <td>...</td>\n",
       "      <td>Yes</td>\n",
       "      <td>Slightly satisfied</td>\n",
       "      <td>I’m not actively looking, but I am open to new...</td>\n",
       "      <td>Windows</td>\n",
       "      <td>Arduino;Windows Desktop or Server</td>\n",
       "      <td>Computer science, computer engineering, or sof...</td>\n",
       "      <td>6-8 years</td>\n",
       "      <td>0-2 years</td>\n",
       "      <td>Assembly;C;C++;Matlab;SQL;Bash/Shell</td>\n",
       "      <td>C;C++;Java;Matlab;R;SQL;Bash/Shell</td>\n",
       "    </tr>\n",
       "  </tbody>\n",
       "</table>\n",
       "<p>5 rows × 21 columns</p>\n",
       "</div>"
      ],
      "text/plain": [
       "                 Age  Salary  ConvertedSalary         Country  \\\n",
       "0  25 - 34 years old     NaN              NaN           Kenya   \n",
       "1  35 - 44 years old   51000          70841.0  United Kingdom   \n",
       "2                NaN     NaN              NaN   United States   \n",
       "3  35 - 44 years old     NaN              NaN   United States   \n",
       "4  18 - 24 years old  260000          21426.0    South Africa   \n",
       "\n",
       "                      Currency CurrencySymbol  \\\n",
       "0                          NaN            KES   \n",
       "1  British pounds sterling (£)            GBP   \n",
       "2                          NaN            NaN   \n",
       "3             U.S. dollars ($)            NaN   \n",
       "4      South African rands (R)            ZAR   \n",
       "\n",
       "                                             DevType          Employment  \\\n",
       "0                               Full-stack developer  Employed part-time   \n",
       "1  Database administrator;DevOps specialist;Full-...  Employed full-time   \n",
       "2           Engineering manager;Full-stack developer  Employed full-time   \n",
       "3                               Full-stack developer  Employed full-time   \n",
       "4  Data or business analyst;Desktop or enterprise...  Employed full-time   \n",
       "\n",
       "                  RaceEthnicity Gender  ... Hobby  \\\n",
       "0   Black or of African descent   Male  ...   Yes   \n",
       "1  White or of European descent   Male  ...   Yes   \n",
       "2                           NaN    NaN  ...   Yes   \n",
       "3  White or of European descent   Male  ...    No   \n",
       "4  White or of European descent   Male  ...   Yes   \n",
       "\n",
       "                      JobSatisfaction  \\\n",
       "0                 Extremely satisfied   \n",
       "1             Moderately dissatisfied   \n",
       "2                Moderately satisfied   \n",
       "3  Neither satisfied nor dissatisfied   \n",
       "4                  Slightly satisfied   \n",
       "\n",
       "                                     JobSearchStatus OperatingSystem  \\\n",
       "0  I’m not actively looking, but I am open to new...     Linux-based   \n",
       "1                    I am actively looking for a job     Linux-based   \n",
       "2  I’m not actively looking, but I am open to new...             NaN   \n",
       "3  I’m not actively looking, but I am open to new...         Windows   \n",
       "4  I’m not actively looking, but I am open to new...         Windows   \n",
       "\n",
       "                  PlatformWorkedWith  \\\n",
       "0           AWS;Azure;Linux;Firebase   \n",
       "1                              Linux   \n",
       "2                                NaN   \n",
       "3                              Azure   \n",
       "4  Arduino;Windows Desktop or Server   \n",
       "\n",
       "                                      UndergradMajor       YearsCoding  \\\n",
       "0                          Mathematics or statistics         3-5 years   \n",
       "1  A natural science (ex. biology, chemistry, phy...  30 or more years   \n",
       "2  Computer science, computer engineering, or sof...       24-26 years   \n",
       "3  Computer science, computer engineering, or sof...       18-20 years   \n",
       "4  Computer science, computer engineering, or sof...         6-8 years   \n",
       "\n",
       "  YearsCodingProf                            LanguageDesireNextYear  \\\n",
       "0       3-5 years                        JavaScript;Python;HTML;CSS   \n",
       "1     18-20 years                                         Go;Python   \n",
       "2       6-8 years                                               NaN   \n",
       "3     12-14 years  C#;JavaScript;SQL;TypeScript;HTML;CSS;Bash/Shell   \n",
       "4       0-2 years              Assembly;C;C++;Matlab;SQL;Bash/Shell   \n",
       "\n",
       "                                 LanguageWorkedWith  \n",
       "0                        JavaScript;Python;HTML;CSS  \n",
       "1                      JavaScript;Python;Bash/Shell  \n",
       "2                                               NaN  \n",
       "3  C#;JavaScript;SQL;TypeScript;HTML;CSS;Bash/Shell  \n",
       "4                C;C++;Java;Matlab;R;SQL;Bash/Shell  \n",
       "\n",
       "[5 rows x 21 columns]"
      ]
     },
     "execution_count": 7,
     "metadata": {},
     "output_type": "execute_result"
    }
   ],
   "source": [
    "col=['Age','Salary','ConvertedSalary','Country','Currency','CurrencySymbol','DevType','Employment','RaceEthnicity','Gender','SalaryType','Hobby','JobSatisfaction','JobSearchStatus','OperatingSystem','PlatformWorkedWith','UndergradMajor','YearsCoding','YearsCodingProf','LanguageDesireNextYear','LanguageWorkedWith',]\n",
    "df=df2018[col]\n",
    "df.head(5)"
   ]
  },
  {
   "cell_type": "code",
   "execution_count": 8,
   "metadata": {},
   "outputs": [
    {
     "data": {
      "text/plain": [
       "(98855, 21)"
      ]
     },
     "execution_count": 8,
     "metadata": {},
     "output_type": "execute_result"
    }
   ],
   "source": [
    "#34 col has been selected, compared the shape\n",
    "df.shape"
   ]
  },
  {
   "cell_type": "code",
   "execution_count": 9,
   "metadata": {},
   "outputs": [
    {
     "name": "stdout",
     "output_type": "stream",
     "text": [
      "Age                       34281\n",
      "Salary                    48277\n",
      "ConvertedSalary           51153\n",
      "Country                     412\n",
      "Currency                  36847\n",
      "CurrencySymbol            40205\n",
      "DevType                    6757\n",
      "Employment                 3534\n",
      "RaceEthnicity             41382\n",
      "Gender                    34386\n",
      "SalaryType                47785\n",
      "Hobby                         0\n",
      "JobSatisfaction           29579\n",
      "JobSearchStatus           19367\n",
      "OperatingSystem           22676\n",
      "PlatformWorkedWith        32856\n",
      "UndergradMajor            19819\n",
      "YearsCoding                5020\n",
      "YearsCodingProf           20952\n",
      "LanguageDesireNextYear    25611\n",
      "LanguageWorkedWith        20521\n",
      "dtype: int64\n"
     ]
    }
   ],
   "source": [
    "print(df.isnull().sum())"
   ]
  },
  {
   "cell_type": "markdown",
   "metadata": {},
   "source": [
    "## Data Validation"
   ]
  },
  {
   "cell_type": "code",
   "execution_count": 10,
   "metadata": {},
   "outputs": [
    {
     "name": "stdout",
     "output_type": "stream",
     "text": [
      "Total :  2075955\n",
      "Total missing :  541420\n",
      "Missing Percentage:  26.080526793692542 %\n"
     ]
    }
   ],
   "source": [
    "#Find % of missing data\n",
    "missing_count = df.isnull().sum() #number of missing\n",
    "total_cells = np.product(df.shape) # number of cells (cols x rows)\n",
    "total_missing = missing_count.sum()\n",
    "missing_percent = (total_missing*100)/total_cells\n",
    "\n",
    "print('Total : ', total_cells)\n",
    "print('Total missing : ', total_missing)\n",
    "print('Missing Percentage: ', missing_percent, '%')"
   ]
  },
  {
   "cell_type": "markdown",
   "metadata": {},
   "source": [
    "## Gender Filtering"
   ]
  },
  {
   "cell_type": "code",
   "execution_count": 11,
   "metadata": {},
   "outputs": [
    {
     "data": {
      "text/plain": [
       "Gender\n",
       "Female                                                                        4025\n",
       "Female;Male                                                                     98\n",
       "Female;Male;Non-binary, genderqueer, or gender non-conforming                    3\n",
       "Female;Male;Transgender                                                         14\n",
       "Female;Male;Transgender;Non-binary, genderqueer, or gender non-conforming       50\n",
       "Female;Non-binary, genderqueer, or gender non-conforming                        50\n",
       "Female;Transgender                                                             145\n",
       "Female;Transgender;Non-binary, genderqueer, or gender non-conforming            24\n",
       "Male                                                                         59458\n",
       "Male;Non-binary, genderqueer, or gender non-conforming                         128\n",
       "Male;Transgender                                                                29\n",
       "Male;Transgender;Non-binary, genderqueer, or gender non-conforming               5\n",
       "Non-binary, genderqueer, or gender non-conforming                              284\n",
       "Transgender                                                                    105\n",
       "Transgender;Non-binary, genderqueer, or gender non-conforming                   51\n",
       "Name: Gender, dtype: int64"
      ]
     },
     "execution_count": 11,
     "metadata": {},
     "output_type": "execute_result"
    }
   ],
   "source": [
    "#Gender: null = 13312 (21.6%)\n",
    "df['Gender'].unique()\n",
    "#count number of each gender\n",
    "df.groupby('Gender')['Gender'].count()"
   ]
  },
  {
   "cell_type": "code",
   "execution_count": 12,
   "metadata": {},
   "outputs": [],
   "source": [
    "#replace\n",
    "df['Gender'] = df['Gender'].fillna('Non-binary, genderqueer, or gender non-conforming')\n",
    "df['Gender'].replace('Female;Male;Non-binary, genderqueer, or gender non-conforming', 'Female', inplace =True)\n",
    "df['Gender'].replace('Female;Male;Transgender;Non-binary, genderqueer, or gender non-conforming', 'Female', inplace =True)\n",
    "df['Gender'].replace('Female;Non-binary, genderqueer, or gender non-conforming', 'Female', inplace =True)\n",
    "df['Gender'].replace('Female;Transgender;Non-binary, genderqueer, or gender non-conforming', 'Female', inplace =True)\n",
    "df['Gender'].replace('Male;Non-binary, genderqueer, or gender non-conforming', 'Male', inplace =True)\n",
    "df['Gender'].replace('Male;Transgender;Non-binary, genderqueer, or gender non-conforming', 'Male', inplace =True)\n",
    "df['Gender'].replace('Transgender;Non-binary, genderqueer, or gender non-conforming', 'Non-conforming and Transgender', inplace =True) ##not sure\n",
    "df['Gender'].replace('Female;Male', 'Female', inplace =True)\n",
    "df['Gender'].replace('Female;Male;Transgender', 'Female', inplace =True)\n",
    "df['Gender'].replace('Female;Transgender', 'Female', inplace =True)\n",
    "df['Gender'].replace('Male;Transgender', 'Female', inplace =True) \n",
    "df['Gender'].replace('Non-binary, genderqueer, or gender non-conforming', 'Non-conforming and Transgender', inplace =True) #\n",
    "df['Gender'].replace('Transgender', 'Male', inplace =True) "
   ]
  },
  {
   "cell_type": "code",
   "execution_count": 13,
   "metadata": {
    "scrolled": true
   },
   "outputs": [
    {
     "data": {
      "text/plain": [
       "Gender\n",
       "Female                             4438\n",
       "Male                              59696\n",
       "Non-conforming and Transgender    34721\n",
       "Name: Gender, dtype: int64"
      ]
     },
     "execution_count": 13,
     "metadata": {},
     "output_type": "execute_result"
    }
   ],
   "source": [
    "df.groupby('Gender')['Gender'].count()"
   ]
  },
  {
   "cell_type": "code",
   "execution_count": 14,
   "metadata": {},
   "outputs": [
    {
     "data": {
      "text/plain": [
       "(98855, 21)"
      ]
     },
     "execution_count": 14,
     "metadata": {},
     "output_type": "execute_result"
    }
   ],
   "source": [
    "df.shape"
   ]
  },
  {
   "cell_type": "markdown",
   "metadata": {},
   "source": [
    "## Age and Gender Analysis"
   ]
  },
  {
   "cell_type": "code",
   "execution_count": 15,
   "metadata": {},
   "outputs": [
    {
     "data": {
      "text/plain": [
       "array(['25 - 34 years old', '35 - 44 years old', nan, '18 - 24 years old',\n",
       "       '45 - 54 years old', '55 - 64 years old', 'Under 18 years old',\n",
       "       '65 years or older'], dtype=object)"
      ]
     },
     "execution_count": 15,
     "metadata": {},
     "output_type": "execute_result"
    }
   ],
   "source": [
    "df['Age'].unique()"
   ]
  },
  {
   "cell_type": "code",
   "execution_count": 16,
   "metadata": {},
   "outputs": [],
   "source": [
    "#sns.scatterplot(x='Gender', y='Age', data=df) #I can arrange a random variable here, but need input from the user.\n",
    "#df = df[(df['Age'] >= 'Under 18 years old') & (df['Age'] <= '65 years or older')]"
   ]
  },
  {
   "cell_type": "code",
   "execution_count": 17,
   "metadata": {},
   "outputs": [],
   "source": [
    "#df.info()   #  My age,Gender is object here"
   ]
  },
  {
   "cell_type": "code",
   "execution_count": 18,
   "metadata": {},
   "outputs": [
    {
     "name": "stdout",
     "output_type": "stream",
     "text": [
      "Age                       34281\n",
      "Salary                    48277\n",
      "ConvertedSalary           51153\n",
      "Country                     412\n",
      "Currency                  36847\n",
      "CurrencySymbol            40205\n",
      "DevType                    6757\n",
      "Employment                 3534\n",
      "RaceEthnicity             41382\n",
      "Gender                        0\n",
      "SalaryType                47785\n",
      "Hobby                         0\n",
      "JobSatisfaction           29579\n",
      "JobSearchStatus           19367\n",
      "OperatingSystem           22676\n",
      "PlatformWorkedWith        32856\n",
      "UndergradMajor            19819\n",
      "YearsCoding                5020\n",
      "YearsCodingProf           20952\n",
      "LanguageDesireNextYear    25611\n",
      "LanguageWorkedWith        20521\n",
      "dtype: int64\n"
     ]
    }
   ],
   "source": [
    "print(df.isnull().sum())"
   ]
  },
  {
   "cell_type": "code",
   "execution_count": 19,
   "metadata": {},
   "outputs": [
    {
     "data": {
      "text/plain": [
       "Country\n",
       "Afghanistan                              64\n",
       "Albania                                 109\n",
       "Algeria                                 130\n",
       "Andorra                                  15\n",
       "Angola                                   11\n",
       "                                       ... \n",
       "Venezuela, Bolivarian Republic of...    123\n",
       "Viet Nam                                331\n",
       "Yemen                                    13\n",
       "Zambia                                    9\n",
       "Zimbabwe                                 39\n",
       "Name: Country, Length: 183, dtype: int64"
      ]
     },
     "execution_count": 19,
     "metadata": {},
     "output_type": "execute_result"
    }
   ],
   "source": [
    "df.groupby('Country')['Country'].count()"
   ]
  },
  {
   "cell_type": "code",
   "execution_count": 20,
   "metadata": {},
   "outputs": [],
   "source": [
    "df.dropna(subset=['Country'], inplace = True)"
   ]
  },
  {
   "cell_type": "code",
   "execution_count": 21,
   "metadata": {},
   "outputs": [],
   "source": [
    "df.groupby('Salary')['Salary'].count()\n",
    "df.dropna(subset=['Salary'], inplace = True)"
   ]
  },
  {
   "cell_type": "code",
   "execution_count": null,
   "metadata": {},
   "outputs": [],
   "source": [
    "df.groupby('Salary')['Salary'].count()"
   ]
  },
  {
   "cell_type": "code",
   "execution_count": 22,
   "metadata": {},
   "outputs": [
    {
     "name": "stdout",
     "output_type": "stream",
     "text": [
      "Age                       3112\n",
      "Salary                       0\n",
      "ConvertedSalary           2876\n",
      "Country                      0\n",
      "Currency                  5428\n",
      "CurrencySymbol             475\n",
      "DevType                    360\n",
      "Employment                 182\n",
      "RaceEthnicity             7033\n",
      "Gender                       0\n",
      "SalaryType                8356\n",
      "Hobby                        0\n",
      "JobSatisfaction           3064\n",
      "JobSearchStatus              1\n",
      "OperatingSystem           1640\n",
      "PlatformWorkedWith        7797\n",
      "UndergradMajor            5911\n",
      "YearsCoding                 20\n",
      "YearsCodingProf            960\n",
      "LanguageDesireNextYear    4039\n",
      "LanguageWorkedWith        1342\n",
      "dtype: int64\n"
     ]
    }
   ],
   "source": [
    "print(df.isnull().sum())"
   ]
  },
  {
   "cell_type": "code",
   "execution_count": 23,
   "metadata": {},
   "outputs": [
    {
     "data": {
      "text/plain": [
       "(50578, 21)"
      ]
     },
     "execution_count": 23,
     "metadata": {},
     "output_type": "execute_result"
    }
   ],
   "source": [
    "df.shape"
   ]
  },
  {
   "cell_type": "code",
   "execution_count": 24,
   "metadata": {},
   "outputs": [
    {
     "name": "stdout",
     "output_type": "stream",
     "text": [
      "Total :  1062138\n",
      "Total missing :  52596\n",
      "Missing Percentage:  4.951898905791903 %\n"
     ]
    }
   ],
   "source": [
    "#Find % of missing data\n",
    "missing_count = df.isnull().sum() #number of missing\n",
    "total_cells = np.product(df.shape) # number of cells (cols x rows)\n",
    "total_missing = missing_count.sum()\n",
    "missing_percent = (total_missing*100)/total_cells\n",
    "\n",
    "print('Total : ', total_cells)\n",
    "print('Total missing : ', total_missing)\n",
    "print('Missing Percentage: ', missing_percent, '%')"
   ]
  }
 ],
 "metadata": {
  "kernelspec": {
   "display_name": "Python 3",
   "language": "python",
   "name": "python3"
  },
  "language_info": {
   "codemirror_mode": {
    "name": "ipython",
    "version": 3
   },
   "file_extension": ".py",
   "mimetype": "text/x-python",
   "name": "python",
   "nbconvert_exporter": "python",
   "pygments_lexer": "ipython3",
   "version": "3.8.5"
  }
 },
 "nbformat": 4,
 "nbformat_minor": 4
}
