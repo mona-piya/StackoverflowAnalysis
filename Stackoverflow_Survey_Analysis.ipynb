{
 "cells": [
  {
   "cell_type": "markdown",
   "metadata": {},
   "source": [
    "## Stackoverflow_Survey_Analysis_2018"
   ]
  },
  {
   "cell_type": "code",
   "execution_count": 1,
   "metadata": {},
   "outputs": [],
   "source": [
    "import numpy as np\n",
    "import pandas as pd\n",
    "import matplotlib.pyplot as plt\n",
    "%matplotlib inline\n",
    "import seaborn as sns\n",
    "import warnings; \n",
    "warnings.simplefilter('ignore')"
   ]
  },
  {
   "cell_type": "markdown",
   "metadata": {},
   "source": [
    "## Exlporing 2018 Dataset"
   ]
  },
  {
   "cell_type": "code",
   "execution_count": 2,
   "metadata": {},
   "outputs": [
    {
     "data": {
      "text/html": [
       "<div>\n",
       "<style scoped>\n",
       "    .dataframe tbody tr th:only-of-type {\n",
       "        vertical-align: middle;\n",
       "    }\n",
       "\n",
       "    .dataframe tbody tr th {\n",
       "        vertical-align: top;\n",
       "    }\n",
       "\n",
       "    .dataframe thead th {\n",
       "        text-align: right;\n",
       "    }\n",
       "</style>\n",
       "<table border=\"1\" class=\"dataframe\">\n",
       "  <thead>\n",
       "    <tr style=\"text-align: right;\">\n",
       "      <th></th>\n",
       "      <th>Respondent</th>\n",
       "      <th>Hobby</th>\n",
       "      <th>OpenSource</th>\n",
       "      <th>Country</th>\n",
       "      <th>Student</th>\n",
       "      <th>Employment</th>\n",
       "      <th>FormalEducation</th>\n",
       "      <th>UndergradMajor</th>\n",
       "      <th>CompanySize</th>\n",
       "      <th>DevType</th>\n",
       "      <th>...</th>\n",
       "      <th>Exercise</th>\n",
       "      <th>Gender</th>\n",
       "      <th>SexualOrientation</th>\n",
       "      <th>EducationParents</th>\n",
       "      <th>RaceEthnicity</th>\n",
       "      <th>Age</th>\n",
       "      <th>Dependents</th>\n",
       "      <th>MilitaryUS</th>\n",
       "      <th>SurveyTooLong</th>\n",
       "      <th>SurveyEasy</th>\n",
       "    </tr>\n",
       "  </thead>\n",
       "  <tbody>\n",
       "    <tr>\n",
       "      <th>0</th>\n",
       "      <td>1</td>\n",
       "      <td>Yes</td>\n",
       "      <td>No</td>\n",
       "      <td>Kenya</td>\n",
       "      <td>No</td>\n",
       "      <td>Employed part-time</td>\n",
       "      <td>Bachelor’s degree (BA, BS, B.Eng., etc.)</td>\n",
       "      <td>Mathematics or statistics</td>\n",
       "      <td>20 to 99 employees</td>\n",
       "      <td>Full-stack developer</td>\n",
       "      <td>...</td>\n",
       "      <td>3 - 4 times per week</td>\n",
       "      <td>Male</td>\n",
       "      <td>Straight or heterosexual</td>\n",
       "      <td>Bachelor’s degree (BA, BS, B.Eng., etc.)</td>\n",
       "      <td>Black or of African descent</td>\n",
       "      <td>25 - 34 years old</td>\n",
       "      <td>Yes</td>\n",
       "      <td>NaN</td>\n",
       "      <td>The survey was an appropriate length</td>\n",
       "      <td>Very easy</td>\n",
       "    </tr>\n",
       "    <tr>\n",
       "      <th>1</th>\n",
       "      <td>3</td>\n",
       "      <td>Yes</td>\n",
       "      <td>Yes</td>\n",
       "      <td>United Kingdom</td>\n",
       "      <td>No</td>\n",
       "      <td>Employed full-time</td>\n",
       "      <td>Bachelor’s degree (BA, BS, B.Eng., etc.)</td>\n",
       "      <td>A natural science (ex. biology, chemistry, phy...</td>\n",
       "      <td>10,000 or more employees</td>\n",
       "      <td>Database administrator;DevOps specialist;Full-...</td>\n",
       "      <td>...</td>\n",
       "      <td>Daily or almost every day</td>\n",
       "      <td>Male</td>\n",
       "      <td>Straight or heterosexual</td>\n",
       "      <td>Bachelor’s degree (BA, BS, B.Eng., etc.)</td>\n",
       "      <td>White or of European descent</td>\n",
       "      <td>35 - 44 years old</td>\n",
       "      <td>Yes</td>\n",
       "      <td>NaN</td>\n",
       "      <td>The survey was an appropriate length</td>\n",
       "      <td>Somewhat easy</td>\n",
       "    </tr>\n",
       "  </tbody>\n",
       "</table>\n",
       "<p>2 rows × 129 columns</p>\n",
       "</div>"
      ],
      "text/plain": [
       "   Respondent Hobby OpenSource         Country Student          Employment  \\\n",
       "0           1   Yes         No           Kenya      No  Employed part-time   \n",
       "1           3   Yes        Yes  United Kingdom      No  Employed full-time   \n",
       "\n",
       "                            FormalEducation  \\\n",
       "0  Bachelor’s degree (BA, BS, B.Eng., etc.)   \n",
       "1  Bachelor’s degree (BA, BS, B.Eng., etc.)   \n",
       "\n",
       "                                      UndergradMajor  \\\n",
       "0                          Mathematics or statistics   \n",
       "1  A natural science (ex. biology, chemistry, phy...   \n",
       "\n",
       "                CompanySize  \\\n",
       "0        20 to 99 employees   \n",
       "1  10,000 or more employees   \n",
       "\n",
       "                                             DevType  ...  \\\n",
       "0                               Full-stack developer  ...   \n",
       "1  Database administrator;DevOps specialist;Full-...  ...   \n",
       "\n",
       "                    Exercise Gender         SexualOrientation  \\\n",
       "0       3 - 4 times per week   Male  Straight or heterosexual   \n",
       "1  Daily or almost every day   Male  Straight or heterosexual   \n",
       "\n",
       "                           EducationParents                 RaceEthnicity  \\\n",
       "0  Bachelor’s degree (BA, BS, B.Eng., etc.)   Black or of African descent   \n",
       "1  Bachelor’s degree (BA, BS, B.Eng., etc.)  White or of European descent   \n",
       "\n",
       "                 Age Dependents  MilitaryUS  \\\n",
       "0  25 - 34 years old        Yes         NaN   \n",
       "1  35 - 44 years old        Yes         NaN   \n",
       "\n",
       "                          SurveyTooLong     SurveyEasy  \n",
       "0  The survey was an appropriate length      Very easy  \n",
       "1  The survey was an appropriate length  Somewhat easy  \n",
       "\n",
       "[2 rows x 129 columns]"
      ]
     },
     "execution_count": 2,
     "metadata": {},
     "output_type": "execute_result"
    }
   ],
   "source": [
    "df2018 = pd.read_csv(r'C:\\Users\\sanja\\Stack_Data\\survey_results_public_2018.csv')\n",
    "df2018.head(2)"
   ]
  },
  {
   "cell_type": "code",
   "execution_count": 3,
   "metadata": {},
   "outputs": [
    {
     "data": {
      "text/plain": [
       "(98855, 129)"
      ]
     },
     "execution_count": 3,
     "metadata": {},
     "output_type": "execute_result"
    }
   ],
   "source": [
    "df2018.shape"
   ]
  },
  {
   "cell_type": "code",
   "execution_count": 4,
   "metadata": {},
   "outputs": [],
   "source": [
    "#print(df2018.columns.tolist()      !--> Listing coloumsn in table"
   ]
  },
  {
   "cell_type": "code",
   "execution_count": 5,
   "metadata": {},
   "outputs": [],
   "source": [
    "#dropping the columns\n",
    "#drop_cols = ['Respondent', 'OpenSource', 'Student', 'FormalEducation', 'CompanySize', 'CareerSatisfaction', 'HopeFiveYears', 'LastNewJob', 'AssessJob1', 'AssessJob2', 'AssessJob3', 'AssessJob4', 'AssessJob5', 'AssessJob6', 'AssessJob7', 'AssessJob8', 'AssessJob9', 'AssessJob10', 'AssessBenefits1', 'AssessBenefits2', 'AssessBenefits3', 'AssessBenefits4', 'AssessBenefits5', 'AssessBenefits6', 'AssessBenefits7', 'AssessBenefits8', 'AssessBenefits9', 'AssessBenefits10', 'AssessBenefits11', 'JobContactPriorities1', 'JobContactPriorities2', 'JobContactPriorities3', 'JobContactPriorities4', 'JobContactPriorities5', 'JobEmailPriorities1', 'JobEmailPriorities2', 'JobEmailPriorities3', 'JobEmailPriorities4', 'JobEmailPriorities5', 'JobEmailPriorities6', 'JobEmailPriorities7', 'UpdateCV', 'CommunicationTools', 'TimeFullyProductive', 'EducationTypes', 'SelfTaughtTypes', 'TimeAfterBootcamp', 'HackathonReasons', 'AgreeDisagree1', 'AgreeDisagree2', 'AgreeDisagree3', 'DatabaseWorkedWith', 'DatabaseDesireNextYear', 'PlatformDesireNextYear', 'FrameworkWorkedWith', 'FrameworkDesireNextYear', 'IDE', 'NumberMonitors', 'Methodology', 'VersionControl', 'CheckInCode', 'AdBlocker', 'AdBlockerDisable', 'AdBlockerReasons', 'AdsAgreeDisagree1', 'AdsAgreeDisagree2', 'AdsAgreeDisagree3', 'AdsActions', 'AdsPriorities1', 'AdsPriorities2', 'AdsPriorities3', 'AdsPriorities4', 'AdsPriorities5', 'AdsPriorities6', 'AdsPriorities7', 'AIDangerous', 'AIInteresting', 'AIResponsible', 'AIFuture', 'EthicsChoice', 'EthicsReport', 'EthicsResponsible', 'EthicalImplications', 'StackOverflowRecommend', 'StackOverflowVisit', 'StackOverflowHasAccount', 'StackOverflowParticipate', 'StackOverflowJobs', 'StackOverflowDevStory', 'StackOverflowJobsRecommend', 'StackOverflowConsiderMember', 'HypotheticalTools1', 'HypotheticalTools2', 'HypotheticalTools3', 'HypotheticalTools4', 'HypotheticalTools5', 'WakeTime', 'HoursComputer', 'HoursOutside', 'SkipMeals', 'ErgonomicDevices', 'Exercise', 'SexualOrientation', 'EducationParents', 'Dependents', 'MilitaryUS', 'SurveyTooLong', 'SurveyEasy']\n",
    "#df2018.drop(drop_cols, axis=1, inplace=True)"
   ]
  },
  {
   "cell_type": "code",
   "execution_count": 6,
   "metadata": {},
   "outputs": [],
   "source": [
    "#df2018.shape #checking rows and col after dropping the table"
   ]
  },
  {
   "cell_type": "markdown",
   "metadata": {},
   "source": [
    "### Data Filtering - Sorting & Renaming\n"
   ]
  },
  {
   "cell_type": "code",
   "execution_count": 7,
   "metadata": {},
   "outputs": [],
   "source": [
    "col=['Age','ConvertedSalary','Country','Currency','DevType','Employment','RaceEthnicity','Gender','SalaryType','Hobby','JobSatisfaction','JobSearchStatus','OperatingSystem','UndergradMajor','YearsCoding','YearsCodingProf','LanguageDesireNextYear','LanguageWorkedWith','FormalEducation']\n",
    "df=df2018[col]"
   ]
  },
  {
   "cell_type": "code",
   "execution_count": 8,
   "metadata": {},
   "outputs": [],
   "source": [
    "#renaming the colo\n",
    "# 'ConvertedSalary': 'SalaryUSD'\n",
    "df.rename(columns={'ConvertedSalary': 'SalaryUSD' }, inplace =True)"
   ]
  },
  {
   "cell_type": "code",
   "execution_count": 9,
   "metadata": {},
   "outputs": [
    {
     "data": {
      "text/html": [
       "<div>\n",
       "<style scoped>\n",
       "    .dataframe tbody tr th:only-of-type {\n",
       "        vertical-align: middle;\n",
       "    }\n",
       "\n",
       "    .dataframe tbody tr th {\n",
       "        vertical-align: top;\n",
       "    }\n",
       "\n",
       "    .dataframe thead th {\n",
       "        text-align: right;\n",
       "    }\n",
       "</style>\n",
       "<table border=\"1\" class=\"dataframe\">\n",
       "  <thead>\n",
       "    <tr style=\"text-align: right;\">\n",
       "      <th></th>\n",
       "      <th>Age</th>\n",
       "      <th>Country</th>\n",
       "      <th>Currency</th>\n",
       "      <th>DevType</th>\n",
       "      <th>Employment</th>\n",
       "      <th>FormalEducation</th>\n",
       "      <th>Gender</th>\n",
       "      <th>Hobby</th>\n",
       "      <th>JobSatisfaction</th>\n",
       "      <th>JobSearchStatus</th>\n",
       "      <th>LanguageDesireNextYear</th>\n",
       "      <th>LanguageWorkedWith</th>\n",
       "      <th>OperatingSystem</th>\n",
       "      <th>RaceEthnicity</th>\n",
       "      <th>SalaryType</th>\n",
       "      <th>SalaryUSD</th>\n",
       "      <th>UndergradMajor</th>\n",
       "      <th>YearsCoding</th>\n",
       "      <th>YearsCodingProf</th>\n",
       "    </tr>\n",
       "  </thead>\n",
       "  <tbody>\n",
       "    <tr>\n",
       "      <th>0</th>\n",
       "      <td>25 - 34 years old</td>\n",
       "      <td>Kenya</td>\n",
       "      <td>NaN</td>\n",
       "      <td>Full-stack developer</td>\n",
       "      <td>Employed part-time</td>\n",
       "      <td>Bachelor’s degree (BA, BS, B.Eng., etc.)</td>\n",
       "      <td>Male</td>\n",
       "      <td>Yes</td>\n",
       "      <td>Extremely satisfied</td>\n",
       "      <td>I’m not actively looking, but I am open to new...</td>\n",
       "      <td>JavaScript;Python;HTML;CSS</td>\n",
       "      <td>JavaScript;Python;HTML;CSS</td>\n",
       "      <td>Linux-based</td>\n",
       "      <td>Black or of African descent</td>\n",
       "      <td>Monthly</td>\n",
       "      <td>NaN</td>\n",
       "      <td>Mathematics or statistics</td>\n",
       "      <td>3-5 years</td>\n",
       "      <td>3-5 years</td>\n",
       "    </tr>\n",
       "    <tr>\n",
       "      <th>1</th>\n",
       "      <td>35 - 44 years old</td>\n",
       "      <td>United Kingdom</td>\n",
       "      <td>British pounds sterling (£)</td>\n",
       "      <td>Database administrator;DevOps specialist;Full-...</td>\n",
       "      <td>Employed full-time</td>\n",
       "      <td>Bachelor’s degree (BA, BS, B.Eng., etc.)</td>\n",
       "      <td>Male</td>\n",
       "      <td>Yes</td>\n",
       "      <td>Moderately dissatisfied</td>\n",
       "      <td>I am actively looking for a job</td>\n",
       "      <td>Go;Python</td>\n",
       "      <td>JavaScript;Python;Bash/Shell</td>\n",
       "      <td>Linux-based</td>\n",
       "      <td>White or of European descent</td>\n",
       "      <td>Yearly</td>\n",
       "      <td>70841.0</td>\n",
       "      <td>A natural science (ex. biology, chemistry, phy...</td>\n",
       "      <td>30 or more years</td>\n",
       "      <td>18-20 years</td>\n",
       "    </tr>\n",
       "  </tbody>\n",
       "</table>\n",
       "</div>"
      ],
      "text/plain": [
       "                 Age         Country                     Currency  \\\n",
       "0  25 - 34 years old           Kenya                          NaN   \n",
       "1  35 - 44 years old  United Kingdom  British pounds sterling (£)   \n",
       "\n",
       "                                             DevType          Employment  \\\n",
       "0                               Full-stack developer  Employed part-time   \n",
       "1  Database administrator;DevOps specialist;Full-...  Employed full-time   \n",
       "\n",
       "                            FormalEducation Gender Hobby  \\\n",
       "0  Bachelor’s degree (BA, BS, B.Eng., etc.)   Male   Yes   \n",
       "1  Bachelor’s degree (BA, BS, B.Eng., etc.)   Male   Yes   \n",
       "\n",
       "           JobSatisfaction                                    JobSearchStatus  \\\n",
       "0      Extremely satisfied  I’m not actively looking, but I am open to new...   \n",
       "1  Moderately dissatisfied                    I am actively looking for a job   \n",
       "\n",
       "       LanguageDesireNextYear            LanguageWorkedWith OperatingSystem  \\\n",
       "0  JavaScript;Python;HTML;CSS    JavaScript;Python;HTML;CSS     Linux-based   \n",
       "1                   Go;Python  JavaScript;Python;Bash/Shell     Linux-based   \n",
       "\n",
       "                  RaceEthnicity SalaryType  SalaryUSD  \\\n",
       "0   Black or of African descent    Monthly        NaN   \n",
       "1  White or of European descent     Yearly    70841.0   \n",
       "\n",
       "                                      UndergradMajor       YearsCoding  \\\n",
       "0                          Mathematics or statistics         3-5 years   \n",
       "1  A natural science (ex. biology, chemistry, phy...  30 or more years   \n",
       "\n",
       "  YearsCodingProf  \n",
       "0       3-5 years  \n",
       "1     18-20 years  "
      ]
     },
     "execution_count": 9,
     "metadata": {},
     "output_type": "execute_result"
    }
   ],
   "source": [
    "df.sort_index(axis=1).head(2)"
   ]
  },
  {
   "cell_type": "code",
   "execution_count": 10,
   "metadata": {},
   "outputs": [
    {
     "data": {
      "text/plain": [
       "(98855, 19)"
      ]
     },
     "execution_count": 10,
     "metadata": {},
     "output_type": "execute_result"
    }
   ],
   "source": [
    "#21 col has been selected rfom 129, compared the shape\n",
    "df.shape"
   ]
  },
  {
   "cell_type": "code",
   "execution_count": 11,
   "metadata": {},
   "outputs": [
    {
     "name": "stdout",
     "output_type": "stream",
     "text": [
      "Age                       34281\n",
      "SalaryUSD                 51153\n",
      "Country                     412\n",
      "Currency                  36847\n",
      "DevType                    6757\n",
      "Employment                 3534\n",
      "RaceEthnicity             41382\n",
      "Gender                    34386\n",
      "SalaryType                47785\n",
      "Hobby                         0\n",
      "JobSatisfaction           29579\n",
      "JobSearchStatus           19367\n",
      "OperatingSystem           22676\n",
      "UndergradMajor            19819\n",
      "YearsCoding                5020\n",
      "YearsCodingProf           20952\n",
      "LanguageDesireNextYear    25611\n",
      "LanguageWorkedWith        20521\n",
      "FormalEducation            4152\n",
      "dtype: int64\n"
     ]
    }
   ],
   "source": [
    "print(df.isnull().sum()) #Finding Null Values"
   ]
  },
  {
   "cell_type": "code",
   "execution_count": 12,
   "metadata": {},
   "outputs": [
    {
     "data": {
      "text/plain": [
       "Age                        object\n",
       "SalaryUSD                 float64\n",
       "Country                    object\n",
       "Currency                   object\n",
       "DevType                    object\n",
       "Employment                 object\n",
       "RaceEthnicity              object\n",
       "Gender                     object\n",
       "SalaryType                 object\n",
       "Hobby                      object\n",
       "JobSatisfaction            object\n",
       "JobSearchStatus            object\n",
       "OperatingSystem            object\n",
       "UndergradMajor             object\n",
       "YearsCoding                object\n",
       "YearsCodingProf            object\n",
       "LanguageDesireNextYear     object\n",
       "LanguageWorkedWith         object\n",
       "FormalEducation            object\n",
       "dtype: object"
      ]
     },
     "execution_count": 12,
     "metadata": {},
     "output_type": "execute_result"
    }
   ],
   "source": [
    "df.dtypes #data_types"
   ]
  },
  {
   "cell_type": "markdown",
   "metadata": {},
   "source": [
    "## Data Validation - Total Cells vs Missing %"
   ]
  },
  {
   "cell_type": "code",
   "execution_count": 13,
   "metadata": {},
   "outputs": [
    {
     "name": "stdout",
     "output_type": "stream",
     "text": [
      "Total :  1878245\n",
      "Total missing :  424234\n",
      "Missing Percentage:  22.58672324430519 %\n"
     ]
    }
   ],
   "source": [
    "#Find % of missing data\n",
    "missing_count = df.isnull().sum() #number of missing\n",
    "total_cells = np.product(df.shape) # number of cells (cols x rows)\n",
    "total_missing = missing_count.sum()\n",
    "missing_percent = (total_missing*100)/total_cells\n",
    "\n",
    "print('Total : ', total_cells)\n",
    "print('Total missing : ', total_missing)\n",
    "print('Missing Percentage: ', missing_percent, '%')"
   ]
  },
  {
   "cell_type": "markdown",
   "metadata": {},
   "source": [
    "## Gender Filtering          \n",
    "#### Data Cleaning Starts"
   ]
  },
  {
   "cell_type": "code",
   "execution_count": 14,
   "metadata": {},
   "outputs": [
    {
     "data": {
      "text/plain": [
       "Gender\n",
       "Female                                                                        4025\n",
       "Female;Male                                                                     98\n",
       "Female;Male;Non-binary, genderqueer, or gender non-conforming                    3\n",
       "Female;Male;Transgender                                                         14\n",
       "Female;Male;Transgender;Non-binary, genderqueer, or gender non-conforming       50\n",
       "Female;Non-binary, genderqueer, or gender non-conforming                        50\n",
       "Female;Transgender                                                             145\n",
       "Female;Transgender;Non-binary, genderqueer, or gender non-conforming            24\n",
       "Male                                                                         59458\n",
       "Male;Non-binary, genderqueer, or gender non-conforming                         128\n",
       "Male;Transgender                                                                29\n",
       "Male;Transgender;Non-binary, genderqueer, or gender non-conforming               5\n",
       "Non-binary, genderqueer, or gender non-conforming                              284\n",
       "Transgender                                                                    105\n",
       "Transgender;Non-binary, genderqueer, or gender non-conforming                   51\n",
       "Name: Gender, dtype: int64"
      ]
     },
     "execution_count": 14,
     "metadata": {},
     "output_type": "execute_result"
    }
   ],
   "source": [
    "#Gender: null = 13312 (21.6%)\n",
    "df['Gender'].unique()\n",
    "#count number of each gender\n",
    "df.groupby('Gender')['Gender'].count()"
   ]
  },
  {
   "cell_type": "code",
   "execution_count": 15,
   "metadata": {},
   "outputs": [],
   "source": [
    "#replace\n",
    "df['Gender'] = df['Gender'].fillna('Non-binary, genderqueer, or gender non-conforming')\n",
    "df['Gender'].replace('Female;Male;Non-binary, genderqueer, or gender non-conforming', 'Female', inplace =True)\n",
    "df['Gender'].replace('Female;Male;Transgender;Non-binary, genderqueer, or gender non-conforming', 'Female', inplace =True)\n",
    "df['Gender'].replace('Female;Non-binary, genderqueer, or gender non-conforming', 'Female', inplace =True)\n",
    "df['Gender'].replace('Female;Transgender;Non-binary, genderqueer, or gender non-conforming', 'Female', inplace =True)\n",
    "df['Gender'].replace('Male;Non-binary, genderqueer, or gender non-conforming', 'Male', inplace =True)\n",
    "df['Gender'].replace('Male;Transgender;Non-binary, genderqueer, or gender non-conforming', 'Male', inplace =True)\n",
    "df['Gender'].replace('Transgender;Non-binary, genderqueer, or gender non-conforming', 'Non-conforming', inplace =True) ##not sure\n",
    "df['Gender'].replace('Female;Male', 'Female', inplace =True)\n",
    "df['Gender'].replace('Female;Male;Transgender', 'Female', inplace =True)\n",
    "df['Gender'].replace('Female;Transgender', 'Female', inplace =True)\n",
    "df['Gender'].replace('Male;Transgender', 'Female', inplace =True) \n",
    "df['Gender'].replace('Non-binary, genderqueer, or gender non-conforming', 'Non-conforming', inplace =True) #\n",
    "df['Gender'].replace('Transgender', 'Male', inplace =True) "
   ]
  },
  {
   "cell_type": "code",
   "execution_count": 16,
   "metadata": {
    "scrolled": true
   },
   "outputs": [
    {
     "data": {
      "text/plain": [
       "Gender\n",
       "Female             4438\n",
       "Male              59696\n",
       "Non-conforming    34721\n",
       "Name: Gender, dtype: int64"
      ]
     },
     "execution_count": 16,
     "metadata": {},
     "output_type": "execute_result"
    }
   ],
   "source": [
    "df.groupby('Gender')['Gender'].count()"
   ]
  },
  {
   "cell_type": "code",
   "execution_count": 17,
   "metadata": {},
   "outputs": [
    {
     "data": {
      "text/plain": [
       "(98855, 19)"
      ]
     },
     "execution_count": 17,
     "metadata": {},
     "output_type": "execute_result"
    }
   ],
   "source": [
    "df.shape"
   ]
  },
  {
   "cell_type": "code",
   "execution_count": 18,
   "metadata": {},
   "outputs": [
    {
     "data": {
      "text/plain": [
       "0"
      ]
     },
     "execution_count": 18,
     "metadata": {},
     "output_type": "execute_result"
    }
   ],
   "source": [
    "df.isnull().sum()['Gender']"
   ]
  },
  {
   "cell_type": "markdown",
   "metadata": {},
   "source": [
    "## Country"
   ]
  },
  {
   "cell_type": "code",
   "execution_count": 19,
   "metadata": {},
   "outputs": [
    {
     "data": {
      "text/plain": [
       "Country\n",
       "Afghanistan                              64\n",
       "Albania                                 109\n",
       "Algeria                                 130\n",
       "Andorra                                  15\n",
       "Angola                                   11\n",
       "                                       ... \n",
       "Venezuela, Bolivarian Republic of...    123\n",
       "Viet Nam                                331\n",
       "Yemen                                    13\n",
       "Zambia                                    9\n",
       "Zimbabwe                                 39\n",
       "Name: Country, Length: 183, dtype: int64"
      ]
     },
     "execution_count": 19,
     "metadata": {},
     "output_type": "execute_result"
    }
   ],
   "source": [
    "df.groupby('Country')['Country'].count()"
   ]
  },
  {
   "cell_type": "code",
   "execution_count": 20,
   "metadata": {},
   "outputs": [
    {
     "data": {
      "text/plain": [
       "412"
      ]
     },
     "execution_count": 20,
     "metadata": {},
     "output_type": "execute_result"
    }
   ],
   "source": [
    "df['Country'].isnull().sum()"
   ]
  },
  {
   "cell_type": "code",
   "execution_count": 21,
   "metadata": {},
   "outputs": [],
   "source": [
    "df['Country'].fillna(method='ffill', inplace=True)"
   ]
  },
  {
   "cell_type": "code",
   "execution_count": 22,
   "metadata": {},
   "outputs": [
    {
     "data": {
      "text/plain": [
       "0"
      ]
     },
     "execution_count": 22,
     "metadata": {},
     "output_type": "execute_result"
    }
   ],
   "source": [
    "df['Country'].isnull().sum()"
   ]
  },
  {
   "cell_type": "markdown",
   "metadata": {},
   "source": [
    "## Hobby"
   ]
  },
  {
   "cell_type": "code",
   "execution_count": 23,
   "metadata": {},
   "outputs": [
    {
     "data": {
      "text/plain": [
       "0"
      ]
     },
     "execution_count": 23,
     "metadata": {},
     "output_type": "execute_result"
    }
   ],
   "source": [
    "df['Hobby'].isnull().sum()"
   ]
  },
  {
   "cell_type": "code",
   "execution_count": 24,
   "metadata": {},
   "outputs": [
    {
     "data": {
      "text/plain": [
       "Hobby\n",
       "No     18958\n",
       "Yes    79897\n",
       "Name: Hobby, dtype: int64"
      ]
     },
     "execution_count": 24,
     "metadata": {},
     "output_type": "execute_result"
    }
   ],
   "source": [
    "df.groupby('Hobby')['Hobby'].count()"
   ]
  },
  {
   "cell_type": "markdown",
   "metadata": {},
   "source": [
    "## undergrad"
   ]
  },
  {
   "cell_type": "code",
   "execution_count": 25,
   "metadata": {},
   "outputs": [
    {
     "data": {
      "text/plain": [
       "19819"
      ]
     },
     "execution_count": 25,
     "metadata": {},
     "output_type": "execute_result"
    }
   ],
   "source": [
    "df['UndergradMajor'].isnull().sum()"
   ]
  },
  {
   "cell_type": "code",
   "execution_count": 26,
   "metadata": {},
   "outputs": [
    {
     "data": {
      "text/plain": [
       "Computer science, computer engineering, or software engineering          50336\n",
       "Another engineering discipline (ex. civil, electrical, mechanical)        6945\n",
       "Information systems, information technology, or system administration     6507\n",
       "A natural science (ex. biology, chemistry, physics)                       3050\n",
       "Mathematics or statistics                                                 2818\n",
       "Web development or web design                                             2418\n",
       "A business discipline (ex. accounting, finance, marketing)                1921\n",
       "A humanities discipline (ex. literature, history, philosophy)             1590\n",
       "A social science (ex. anthropology, psychology, political science)        1377\n",
       "Fine arts or performing arts (ex. graphic design, music, studio art)      1135\n",
       "I never declared a major                                                   693\n",
       "A health science (ex. nursing, pharmacy, radiology)                        246\n",
       "Name: UndergradMajor, dtype: int64"
      ]
     },
     "execution_count": 26,
     "metadata": {},
     "output_type": "execute_result"
    }
   ],
   "source": [
    "df['UndergradMajor'].value_counts()"
   ]
  },
  {
   "cell_type": "code",
   "execution_count": 27,
   "metadata": {},
   "outputs": [],
   "source": [
    "def refactor_major(df):\n",
    "    conditions_major = [(df['UndergradMajor'] == 'Computer science, computer engineering, or software engineering'), \n",
    "                        (df['UndergradMajor'] == 'Another engineering discipline (ex. civil, electrical, mechanical)'),\n",
    "                        (df['UndergradMajor'] == 'Information systems, information technology, or system administration'), \n",
    "                        (df['UndergradMajor'] == 'Mathematics or statistics'),\n",
    "                        (df['UndergradMajor'] == 'A natural science (ex. biology, chemistry, physics)') \n",
    "                        |(df['UndergradMajor'] == 'A health science (ex. nursing, pharmacy, radiology)'), \n",
    "                        (df['UndergradMajor'] == 'Web development or web design'), \n",
    "                        (df['UndergradMajor'] == 'A business discipline (ex. accounting, finance, marketing)'), \n",
    "                        (df['UndergradMajor'] == 'A humanities discipline (ex. literature, history, philosophy)')\n",
    "                        | (df['UndergradMajor'] == 'A social science (ex. anthropology, psychology, political science)')\n",
    "                        | (df['UndergradMajor'] == 'Fine arts or performing arts (ex. graphic design, music, studio art)'),\n",
    "                        (df['UndergradMajor'] == 'I never declared a major') ]\n",
    "    \n",
    "    choices_major = ['Computer Science', 'Engineering', 'Info Systems', 'Math/Stat', 'Other Science',\n",
    "                     'Web Design/Dev', 'Business', 'Arts and Science', 'No major']\n",
    "    df['UndergradMajor'] = np.select(conditions_major, choices_major, default = np.NaN)\n",
    "    return df\n",
    "\n",
    "df = refactor_major(df)\n",
    "df['UndergradMajor'].replace('nan', 'No major', inplace=True)"
   ]
  },
  {
   "cell_type": "code",
   "execution_count": 28,
   "metadata": {},
   "outputs": [
    {
     "data": {
      "text/plain": [
       "Computer Science    50336\n",
       "No major            20512\n",
       "Engineering          6945\n",
       "Info Systems         6507\n",
       "Arts and Science     4102\n",
       "Other Science        3296\n",
       "Math/Stat            2818\n",
       "Web Design/Dev       2418\n",
       "Business             1921\n",
       "Name: UndergradMajor, dtype: int64"
      ]
     },
     "execution_count": 28,
     "metadata": {},
     "output_type": "execute_result"
    }
   ],
   "source": [
    "df['UndergradMajor'].value_counts()"
   ]
  },
  {
   "cell_type": "code",
   "execution_count": 29,
   "metadata": {},
   "outputs": [
    {
     "data": {
      "text/plain": [
       "0"
      ]
     },
     "execution_count": 29,
     "metadata": {},
     "output_type": "execute_result"
    }
   ],
   "source": [
    "df['UndergradMajor'].isnull().sum()"
   ]
  },
  {
   "cell_type": "code",
   "execution_count": 30,
   "metadata": {},
   "outputs": [],
   "source": [
    "df.dropna(subset=['UndergradMajor'], inplace=True)"
   ]
  },
  {
   "cell_type": "code",
   "execution_count": 31,
   "metadata": {},
   "outputs": [
    {
     "data": {
      "text/plain": [
       "0"
      ]
     },
     "execution_count": 31,
     "metadata": {},
     "output_type": "execute_result"
    }
   ],
   "source": [
    "df['UndergradMajor'].isnull().sum()"
   ]
  },
  {
   "cell_type": "markdown",
   "metadata": {},
   "source": [
    "## Job Status"
   ]
  },
  {
   "cell_type": "code",
   "execution_count": 32,
   "metadata": {},
   "outputs": [
    {
     "data": {
      "text/plain": [
       "I’m not actively looking, but I am open to new opportunities    47556\n",
       "I am not interested in new job opportunities                    19296\n",
       "I am actively looking for a job                                 12636\n",
       "Name: JobSearchStatus, dtype: int64"
      ]
     },
     "execution_count": 32,
     "metadata": {},
     "output_type": "execute_result"
    }
   ],
   "source": [
    "df['JobSearchStatus'].value_counts()"
   ]
  },
  {
   "cell_type": "code",
   "execution_count": 33,
   "metadata": {},
   "outputs": [],
   "source": [
    "df.dropna(subset=['JobSearchStatus'], inplace=True)"
   ]
  },
  {
   "cell_type": "code",
   "execution_count": 34,
   "metadata": {},
   "outputs": [],
   "source": [
    "# refactoring JobStatus\n",
    "# changing the jobstatus to seeking and non seeking\n",
    "def refactor_job(df):\n",
    "    '''function to change JobStatus category to Seeking and Non Seeking'''\n",
    "    \n",
    "    conditions_job = [(df['JobSearchStatus'] == 'I am actively looking for a job'),\n",
    "                    (df['JobSearchStatus'] == 'I am not interested in new job opportunities')\n",
    "                    | (df['JobSearchStatus'] == 'I’m not actively looking, but I am open to new opportunities')]\n",
    "    \n",
    "    choices_job = ['Seeking', 'Not seeking']\n",
    "    \n",
    "    df['JobSearchStatus'] = np.select(conditions_job, choices_job, default=np.nan)\n",
    "                       \n",
    "    return df\n",
    "\n",
    "df = refactor_job(df)"
   ]
  },
  {
   "cell_type": "code",
   "execution_count": 35,
   "metadata": {},
   "outputs": [
    {
     "data": {
      "text/plain": [
       "Not seeking    66852\n",
       "Seeking        12636\n",
       "Name: JobSearchStatus, dtype: int64"
      ]
     },
     "execution_count": 35,
     "metadata": {},
     "output_type": "execute_result"
    }
   ],
   "source": [
    "df['JobSearchStatus'].value_counts()"
   ]
  },
  {
   "cell_type": "code",
   "execution_count": 36,
   "metadata": {},
   "outputs": [
    {
     "data": {
      "text/plain": [
       "0"
      ]
     },
     "execution_count": 36,
     "metadata": {},
     "output_type": "execute_result"
    }
   ],
   "source": [
    "df['JobSearchStatus'].isnull().sum()"
   ]
  },
  {
   "cell_type": "markdown",
   "metadata": {},
   "source": [
    "## Employment"
   ]
  },
  {
   "cell_type": "code",
   "execution_count": 37,
   "metadata": {},
   "outputs": [
    {
     "data": {
      "text/plain": [
       "Employed full-time                                      58551\n",
       "Independent contractor, freelancer, or self-employed     7797\n",
       "Not employed, but looking for work                       4604\n",
       "Employed part-time                                       4170\n",
       "Not employed, and not looking for work                   3210\n",
       "Retired                                                   138\n",
       "Name: Employment, dtype: int64"
      ]
     },
     "execution_count": 37,
     "metadata": {},
     "output_type": "execute_result"
    }
   ],
   "source": [
    "df['Employment'].value_counts()"
   ]
  },
  {
   "cell_type": "code",
   "execution_count": 38,
   "metadata": {},
   "outputs": [
    {
     "data": {
      "text/plain": [
       "1018"
      ]
     },
     "execution_count": 38,
     "metadata": {},
     "output_type": "execute_result"
    }
   ],
   "source": [
    "df['Employment'].isnull().sum()"
   ]
  },
  {
   "cell_type": "code",
   "execution_count": 39,
   "metadata": {},
   "outputs": [],
   "source": [
    "df['Employment'].fillna(method='ffill', inplace=True)"
   ]
  },
  {
   "cell_type": "code",
   "execution_count": 40,
   "metadata": {},
   "outputs": [],
   "source": [
    "#im not considering the retired person here\n",
    "#Refactoring the employment\n",
    "def refactor_emp(df):\n",
    "    \n",
    "    conditions_emp = [(df['Employment'] == 'Employed full-time'),\n",
    "                    (df['Employment'] == 'Independent contractor, freelancer, or self-employed'),\n",
    "                    (df['Employment'] == 'Not employed, but looking for work'),\n",
    "                    (df['Employment'] == 'Employed part-time')]\n",
    "    \n",
    "    choices_emp = ['Full-time', 'Self-employed', 'Not employed', 'Part-time']\n",
    "    \n",
    "    df['Employment'] = np.select(conditions_emp, choices_emp, default=np.nan)\n",
    "                       \n",
    "    return df\n",
    "\n",
    "df = refactor_emp(df)"
   ]
  },
  {
   "cell_type": "code",
   "execution_count": 41,
   "metadata": {},
   "outputs": [
    {
     "data": {
      "text/plain": [
       "Full-time        58565\n",
       "Self-employed     7825\n",
       "Not employed      5161\n",
       "Part-time         4179\n",
       "nan               3758\n",
       "Name: Employment, dtype: int64"
      ]
     },
     "execution_count": 41,
     "metadata": {},
     "output_type": "execute_result"
    }
   ],
   "source": [
    "df['Employment'].value_counts()"
   ]
  },
  {
   "cell_type": "code",
   "execution_count": 42,
   "metadata": {},
   "outputs": [
    {
     "data": {
      "text/plain": [
       "0"
      ]
     },
     "execution_count": 42,
     "metadata": {},
     "output_type": "execute_result"
    }
   ],
   "source": [
    "df['Employment'].isnull().sum()"
   ]
  },
  {
   "cell_type": "markdown",
   "metadata": {},
   "source": [
    "## JobSatisfaction"
   ]
  },
  {
   "cell_type": "code",
   "execution_count": 43,
   "metadata": {},
   "outputs": [
    {
     "data": {
      "text/plain": [
       "Moderately satisfied                  25908\n",
       "Extremely satisfied                   12395\n",
       "Slightly satisfied                     9973\n",
       "Slightly dissatisfied                  7037\n",
       "Moderately dissatisfied                6286\n",
       "Neither satisfied nor dissatisfied     4935\n",
       "Extremely dissatisfied                 2472\n",
       "Name: JobSatisfaction, dtype: int64"
      ]
     },
     "execution_count": 43,
     "metadata": {},
     "output_type": "execute_result"
    }
   ],
   "source": [
    "df['JobSatisfaction'].value_counts()"
   ]
  },
  {
   "cell_type": "code",
   "execution_count": 44,
   "metadata": {},
   "outputs": [
    {
     "data": {
      "text/plain": [
       "10482"
      ]
     },
     "execution_count": 44,
     "metadata": {},
     "output_type": "execute_result"
    }
   ],
   "source": [
    "df['JobSatisfaction'].isnull().sum()"
   ]
  },
  {
   "cell_type": "code",
   "execution_count": 45,
   "metadata": {},
   "outputs": [],
   "source": [
    "df['JobSatisfaction'].fillna(method='ffill', inplace=True)"
   ]
  },
  {
   "cell_type": "code",
   "execution_count": 46,
   "metadata": {},
   "outputs": [
    {
     "data": {
      "text/plain": [
       "0"
      ]
     },
     "execution_count": 46,
     "metadata": {},
     "output_type": "execute_result"
    }
   ],
   "source": [
    "df['JobSatisfaction'].isnull().sum()"
   ]
  },
  {
   "cell_type": "markdown",
   "metadata": {},
   "source": [
    "## Ethnicity"
   ]
  },
  {
   "cell_type": "code",
   "execution_count": 47,
   "metadata": {},
   "outputs": [
    {
     "data": {
      "text/plain": [
       "23578"
      ]
     },
     "execution_count": 47,
     "metadata": {},
     "output_type": "execute_result"
    }
   ],
   "source": [
    "df['RaceEthnicity'].isnull().sum()"
   ]
  },
  {
   "cell_type": "code",
   "execution_count": 48,
   "metadata": {},
   "outputs": [
    {
     "data": {
      "text/plain": [
       "RaceEthnicity\n",
       "Black or of African descent                                                                                                                                 1204\n",
       "Black or of African descent;East Asian                                                                                                                         7\n",
       "Black or of African descent;East Asian;Hispanic or Latino/Latina                                                                                               2\n",
       "Black or of African descent;East Asian;Hispanic or Latino/Latina;Middle Eastern;Native American, Pacific Islander, or Indigenous Australian                    1\n",
       "Black or of African descent;East Asian;Hispanic or Latino/Latina;Middle Eastern;Native American, Pacific Islander, or Indigenous Australian;South Asian        1\n",
       "                                                                                                                                                           ...  \n",
       "Native American, Pacific Islander, or Indigenous Australian;South Asian;White or of European descent                                                           2\n",
       "Native American, Pacific Islander, or Indigenous Australian;White or of European descent                                                                     160\n",
       "South Asian                                                                                                                                                 6112\n",
       "South Asian;White or of European descent                                                                                                                      88\n",
       "White or of European descent                                                                                                                               39320\n",
       "Name: RaceEthnicity, Length: 71, dtype: int64"
      ]
     },
     "execution_count": 48,
     "metadata": {},
     "output_type": "execute_result"
    }
   ],
   "source": [
    "#count number of each Ethnicity\n",
    "df.groupby('RaceEthnicity')['RaceEthnicity'].count()"
   ]
  },
  {
   "cell_type": "code",
   "execution_count": 49,
   "metadata": {},
   "outputs": [],
   "source": [
    "#combine Ethnicity by str.match(if each string starts with a match of a regular expression pattern)\n",
    "df.loc[df['RaceEthnicity'].str.match('Biracial') == True, 'RaceEthnicity'] = 'Biracial'\n",
    "df.loc[df['RaceEthnicity'].str.match('Black or of African descent') == True, 'RaceEthnicity'] = 'Black or African descent'\n",
    "df.loc[df['RaceEthnicity'].str.match('East Asian') == True, 'RaceEthnicity'] = 'East Asian'\n",
    "df.loc[df['RaceEthnicity'].str.match('Hispanic or Latino') == True, 'RaceEthnicity'] = 'Hispanic or Latino'\n",
    "df.loc[df['RaceEthnicity'].str.match('Indigenous') == True, 'RaceEthnicity'] = 'Indigenous'\n",
    "df.loc[df['RaceEthnicity'].str.match('Middle Eastern') == True, 'RaceEthnicity'] = 'Middle Eastern'\n",
    "df.loc[df['RaceEthnicity'].str.match('South') == True, 'RaceEthnicity'] = 'South Asian'\n",
    "df.loc[df['RaceEthnicity'].str.match('White or of European descent') == True, 'RaceEthnicity'] = 'White or European descent'\n",
    "df.loc[df['RaceEthnicity'].str.match('Multiracial') == True, 'RaceEthnicity'] = 'Multiracial'\n",
    "df.loc[df['RaceEthnicity'].str.match('Native American') == True, 'RaceEthnicity'] = 'Native American'"
   ]
  },
  {
   "cell_type": "code",
   "execution_count": 50,
   "metadata": {},
   "outputs": [
    {
     "data": {
      "text/plain": [
       "RaceEthnicity\n",
       "Black or African descent      1549\n",
       "East Asian                    2787\n",
       "Hispanic or Latino            3592\n",
       "Middle Eastern                2176\n",
       "Native American                286\n",
       "South Asian                   6200\n",
       "White or European descent    39320\n",
       "Name: RaceEthnicity, dtype: int64"
      ]
     },
     "execution_count": 50,
     "metadata": {},
     "output_type": "execute_result"
    }
   ],
   "source": [
    "df.groupby('RaceEthnicity')['RaceEthnicity'].count() #11 groups of Ethnicity after combining"
   ]
  },
  {
   "cell_type": "code",
   "execution_count": 51,
   "metadata": {},
   "outputs": [
    {
     "data": {
      "text/plain": [
       "23578"
      ]
     },
     "execution_count": 51,
     "metadata": {},
     "output_type": "execute_result"
    }
   ],
   "source": [
    "df['RaceEthnicity'].isnull().sum()"
   ]
  },
  {
   "cell_type": "code",
   "execution_count": 52,
   "metadata": {},
   "outputs": [],
   "source": [
    "df['RaceEthnicity']=df.groupby(['Country'])['RaceEthnicity'].bfill().ffill()"
   ]
  },
  {
   "cell_type": "code",
   "execution_count": 53,
   "metadata": {},
   "outputs": [
    {
     "data": {
      "text/plain": [
       "0"
      ]
     },
     "execution_count": 53,
     "metadata": {},
     "output_type": "execute_result"
    }
   ],
   "source": [
    "df['RaceEthnicity'].isnull().sum()"
   ]
  },
  {
   "cell_type": "markdown",
   "metadata": {},
   "source": [
    "## Developer Roles"
   ]
  },
  {
   "cell_type": "code",
   "execution_count": 54,
   "metadata": {},
   "outputs": [
    {
     "data": {
      "text/plain": [
       "728"
      ]
     },
     "execution_count": 54,
     "metadata": {},
     "output_type": "execute_result"
    }
   ],
   "source": [
    "df['DevType'].isnull().sum()"
   ]
  },
  {
   "cell_type": "code",
   "execution_count": 55,
   "metadata": {},
   "outputs": [],
   "source": [
    "df['DevType'].fillna(method='ffill', inplace=True)"
   ]
  },
  {
   "cell_type": "code",
   "execution_count": 56,
   "metadata": {},
   "outputs": [
    {
     "data": {
      "text/plain": [
       "DevType\n",
       "Back-end developer                                                                                                                                                                                           5372\n",
       "Back-end developer;C-suite executive (CEO, CTO, etc.)                                                                                                                                                          59\n",
       "Back-end developer;C-suite executive (CEO, CTO, etc.);Data or business analyst                                                                                                                                  5\n",
       "Back-end developer;C-suite executive (CEO, CTO, etc.);Data or business analyst;Data scientist or machine learning specialist                                                                                    1\n",
       "Back-end developer;C-suite executive (CEO, CTO, etc.);Data or business analyst;Data scientist or machine learning specialist;Database administrator;Designer;Desktop or enterprise applications developer       1\n",
       "                                                                                                                                                                                                             ... \n",
       "QA or test developer;Student;System administrator                                                                                                                                                               5\n",
       "QA or test developer;System administrator                                                                                                                                                                      10\n",
       "Student                                                                                                                                                                                                      2523\n",
       "Student;System administrator                                                                                                                                                                                   63\n",
       "System administrator                                                                                                                                                                                          247\n",
       "Name: DevType, Length: 8820, dtype: int64"
      ]
     },
     "execution_count": 56,
     "metadata": {},
     "output_type": "execute_result"
    }
   ],
   "source": [
    "df.groupby('DevType')['DevType'].count()"
   ]
  },
  {
   "cell_type": "code",
   "execution_count": 57,
   "metadata": {},
   "outputs": [],
   "source": [
    "#combine Ethnicity by str.match(if each string starts with a match of a regular expression pattern)\n",
    "df.loc[df['DevType'].str.match('Back-end developer') == True, 'DevType'] = 'Developer'\n",
    "df.loc[df['DevType'].str.match('Student') == True, 'DevType'] = 'Student'\n",
    "df.loc[df['DevType'].str.match('QA or test developer') == True, 'DevType'] = 'Non developer'\n",
    "df.loc[df['DevType'].str.match('Product manager') == True, 'DevType'] = 'Manager'\n",
    "df.loc[df['DevType'].str.match('Mobile developer') == True, 'DevType'] = 'Developer'\n",
    "df.loc[df['DevType'].str.match('Marketing or sales professional') == True, 'DevType'] = 'Non developer'\n",
    "\n",
    "df.loc[df['DevType'].str.match('System administrator') == True, 'DevType'] = 'Developer'\n",
    "df.loc[df['DevType'].str.match('Game or graphics developer') == True, 'DevType'] = 'Developer'\n",
    "df.loc[df['DevType'].str.match('Full-stack developer') == True, 'DevType'] = 'Developer'\n",
    "df.loc[df['DevType'].str.match('Front-end developer') == True, 'DevType'] = 'Developer'\n",
    "df.loc[df['DevType'].str.match('Engineering manager') == True, 'DevType'] = 'Manager'\n",
    "df.loc[df['DevType'].str.match('Embedded applications or devices developer') == True, 'DevType'] = 'Developer'\n",
    "df.loc[df['DevType'].str.match('Educator or academic researcher') == True, 'DevType'] = 'Student'\n",
    "df.loc[df['DevType'].str.match('DevOps specialist') == True, 'DevType'] = 'Developer'\n",
    "df.loc[df['DevType'].str.match('Desktop or enterprise applications developer') == True, 'DevType'] = 'Developer'\n",
    "\n",
    "df.loc[df['DevType'].str.match('Designer') == True, 'DevType'] = 'Non developer'\n",
    "df.loc[df['DevType'].str.match('Database administrator') == True, 'DevType'] = 'Developer'\n",
    "df.loc[df['DevType'].str.match('Data scientist or machine learning specialist') == True, 'DevType'] = 'Developer'\n",
    "df.loc[df['DevType'].str.match('Data or business analyst') == True, 'DevType'] = 'Developer'\n",
    "df.loc[df['DevType'].str.match('C-suite executive') == True, 'DevType'] = 'Developer'\n"
   ]
  },
  {
   "cell_type": "code",
   "execution_count": 58,
   "metadata": {},
   "outputs": [
    {
     "data": {
      "text/plain": [
       "DevType\n",
       "Developer        73032\n",
       "Manager            665\n",
       "Non developer     2791\n",
       "Student           3000\n",
       "Name: DevType, dtype: int64"
      ]
     },
     "execution_count": 58,
     "metadata": {},
     "output_type": "execute_result"
    }
   ],
   "source": [
    "df.groupby('DevType')['DevType'].count() #11 groups of Ethnicity after combining"
   ]
  },
  {
   "cell_type": "code",
   "execution_count": 59,
   "metadata": {},
   "outputs": [],
   "source": [
    "#df['Salary'].value_counts()"
   ]
  },
  {
   "cell_type": "markdown",
   "metadata": {},
   "source": [
    "## Language to worked with"
   ]
  },
  {
   "cell_type": "code",
   "execution_count": 60,
   "metadata": {},
   "outputs": [
    {
     "data": {
      "text/plain": [
       "C#;JavaScript;SQL;HTML;CSS     1235\n",
       "JavaScript;PHP;SQL;HTML;CSS    1095\n",
       "Java                            855\n",
       "Name: LanguageWorkedWith, dtype: int64"
      ]
     },
     "execution_count": 60,
     "metadata": {},
     "output_type": "execute_result"
    }
   ],
   "source": [
    "df['LanguageWorkedWith'].value_counts().nlargest(3)"
   ]
  },
  {
   "cell_type": "code",
   "execution_count": 61,
   "metadata": {},
   "outputs": [
    {
     "data": {
      "text/plain": [
       "9985"
      ]
     },
     "execution_count": 61,
     "metadata": {},
     "output_type": "execute_result"
    }
   ],
   "source": [
    "df['LanguageWorkedWith'].isnull().sum()"
   ]
  },
  {
   "cell_type": "code",
   "execution_count": 62,
   "metadata": {},
   "outputs": [],
   "source": [
    "df['LanguageWorkedWith'].fillna(method='ffill', inplace=True)"
   ]
  },
  {
   "cell_type": "code",
   "execution_count": 63,
   "metadata": {},
   "outputs": [
    {
     "data": {
      "text/plain": [
       "0"
      ]
     },
     "execution_count": 63,
     "metadata": {},
     "output_type": "execute_result"
    }
   ],
   "source": [
    "df['LanguageWorkedWith'].isnull().sum()"
   ]
  },
  {
   "cell_type": "code",
   "execution_count": 64,
   "metadata": {},
   "outputs": [
    {
     "data": {
      "text/plain": [
       "C#;JavaScript;SQL;HTML;CSS     1383\n",
       "JavaScript;PHP;SQL;HTML;CSS    1226\n",
       "Java                            989\n",
       "Name: LanguageWorkedWith, dtype: int64"
      ]
     },
     "execution_count": 64,
     "metadata": {},
     "output_type": "execute_result"
    }
   ],
   "source": [
    "df['LanguageWorkedWith'].value_counts().nlargest(3)"
   ]
  },
  {
   "cell_type": "markdown",
   "metadata": {},
   "source": [
    "## LanguageDesireNextYear"
   ]
  },
  {
   "cell_type": "code",
   "execution_count": 65,
   "metadata": {},
   "outputs": [
    {
     "data": {
      "text/plain": [
       "Python                                   718\n",
       "C#;JavaScript;SQL;TypeScript;HTML;CSS    557\n",
       "C#                                       522\n",
       "Name: LanguageDesireNextYear, dtype: int64"
      ]
     },
     "execution_count": 65,
     "metadata": {},
     "output_type": "execute_result"
    }
   ],
   "source": [
    "df['LanguageDesireNextYear'].value_counts().nlargest(3)"
   ]
  },
  {
   "cell_type": "code",
   "execution_count": 66,
   "metadata": {},
   "outputs": [
    {
     "data": {
      "text/plain": [
       "14147"
      ]
     },
     "execution_count": 66,
     "metadata": {},
     "output_type": "execute_result"
    }
   ],
   "source": [
    "df['LanguageDesireNextYear'].isnull().sum()"
   ]
  },
  {
   "cell_type": "code",
   "execution_count": 67,
   "metadata": {},
   "outputs": [],
   "source": [
    "df['LanguageDesireNextYear'].fillna(method='ffill', inplace=True)"
   ]
  },
  {
   "cell_type": "code",
   "execution_count": 68,
   "metadata": {},
   "outputs": [
    {
     "data": {
      "text/plain": [
       "0"
      ]
     },
     "execution_count": 68,
     "metadata": {},
     "output_type": "execute_result"
    }
   ],
   "source": [
    "df['LanguageDesireNextYear'].isnull().sum()"
   ]
  },
  {
   "cell_type": "code",
   "execution_count": 69,
   "metadata": {},
   "outputs": [
    {
     "data": {
      "text/plain": [
       "Python                                   878\n",
       "C#;JavaScript;SQL;TypeScript;HTML;CSS    690\n",
       "C#                                       629\n",
       "Name: LanguageDesireNextYear, dtype: int64"
      ]
     },
     "execution_count": 69,
     "metadata": {},
     "output_type": "execute_result"
    }
   ],
   "source": [
    "df['LanguageDesireNextYear'].value_counts().nlargest(3)"
   ]
  },
  {
   "cell_type": "markdown",
   "metadata": {},
   "source": [
    "## Years of coding (Exp)"
   ]
  },
  {
   "cell_type": "code",
   "execution_count": 70,
   "metadata": {},
   "outputs": [
    {
     "data": {
      "text/plain": [
       "0-2 years           22612\n",
       "3-5 years           20883\n",
       "6-8 years           11177\n",
       "9-11 years           7456\n",
       "12-14 years          4220\n",
       "15-17 years          2987\n",
       "18-20 years          2810\n",
       "21-23 years          1352\n",
       "30 or more years     1289\n",
       "24-26 years           853\n",
       "Name: YearsCodingProf, dtype: int64"
      ]
     },
     "execution_count": 70,
     "metadata": {},
     "output_type": "execute_result"
    }
   ],
   "source": [
    "df['YearsCodingProf'].value_counts().nlargest(10)"
   ]
  },
  {
   "cell_type": "code",
   "execution_count": 71,
   "metadata": {},
   "outputs": [
    {
     "data": {
      "text/plain": [
       "3349"
      ]
     },
     "execution_count": 71,
     "metadata": {},
     "output_type": "execute_result"
    }
   ],
   "source": [
    "df['YearsCodingProf'].isnull().sum()"
   ]
  },
  {
   "cell_type": "code",
   "execution_count": 72,
   "metadata": {},
   "outputs": [],
   "source": [
    "df['YearsCodingProf'].fillna(method='ffill', inplace=True)"
   ]
  },
  {
   "cell_type": "code",
   "execution_count": 73,
   "metadata": {},
   "outputs": [
    {
     "data": {
      "text/plain": [
       "0"
      ]
     },
     "execution_count": 73,
     "metadata": {},
     "output_type": "execute_result"
    }
   ],
   "source": [
    "df['YearsCodingProf'].isnull().sum()"
   ]
  },
  {
   "cell_type": "code",
   "execution_count": 74,
   "metadata": {},
   "outputs": [
    {
     "data": {
      "text/plain": [
       "3-5 years           23773\n",
       "0-2 years           22781\n",
       "6-8 years           11274\n",
       "9-11 years           7527\n",
       "12-14 years          4267\n",
       "15-17 years          3007\n",
       "18-20 years          2841\n",
       "21-23 years          1365\n",
       "30 or more years     1294\n",
       "24-26 years           856\n",
       "Name: YearsCodingProf, dtype: int64"
      ]
     },
     "execution_count": 74,
     "metadata": {},
     "output_type": "execute_result"
    }
   ],
   "source": [
    "df['YearsCodingProf'].value_counts().nlargest(10)"
   ]
  },
  {
   "cell_type": "markdown",
   "metadata": {},
   "source": [
    "## Years of coding (Non Exp)"
   ]
  },
  {
   "cell_type": "code",
   "execution_count": 75,
   "metadata": {},
   "outputs": [
    {
     "data": {
      "text/plain": [
       "3-5 years           19100\n",
       "6-8 years           16537\n",
       "9-11 years          10578\n",
       "0-2 years            8022\n",
       "12-14 years          7069\n",
       "15-17 years          5459\n",
       "18-20 years          4472\n",
       "30 or more years     3136\n",
       "21-23 years          2377\n",
       "24-26 years          1671\n",
       "Name: YearsCoding, dtype: int64"
      ]
     },
     "execution_count": 75,
     "metadata": {},
     "output_type": "execute_result"
    }
   ],
   "source": [
    "df['YearsCoding'].value_counts().nlargest(10)"
   ]
  },
  {
   "cell_type": "code",
   "execution_count": 76,
   "metadata": {},
   "outputs": [
    {
     "data": {
      "text/plain": [
       "105"
      ]
     },
     "execution_count": 76,
     "metadata": {},
     "output_type": "execute_result"
    }
   ],
   "source": [
    "df['YearsCoding'].isnull().sum()"
   ]
  },
  {
   "cell_type": "code",
   "execution_count": 77,
   "metadata": {},
   "outputs": [],
   "source": [
    "df['YearsCoding'].fillna(method='ffill', inplace=True)"
   ]
  },
  {
   "cell_type": "code",
   "execution_count": 78,
   "metadata": {},
   "outputs": [
    {
     "data": {
      "text/plain": [
       "0"
      ]
     },
     "execution_count": 78,
     "metadata": {},
     "output_type": "execute_result"
    }
   ],
   "source": [
    "df['YearsCoding'].isnull().sum()"
   ]
  },
  {
   "cell_type": "code",
   "execution_count": 79,
   "metadata": {},
   "outputs": [
    {
     "data": {
      "text/plain": [
       "3-5 years           19135\n",
       "6-8 years           16554\n",
       "9-11 years          10585\n",
       "0-2 years            8043\n",
       "12-14 years          7077\n",
       "15-17 years          5462\n",
       "18-20 years          4476\n",
       "30 or more years     3144\n",
       "21-23 years          2378\n",
       "24-26 years          1671\n",
       "Name: YearsCoding, dtype: int64"
      ]
     },
     "execution_count": 79,
     "metadata": {},
     "output_type": "execute_result"
    }
   ],
   "source": [
    "df['YearsCoding'].value_counts().nlargest(10)"
   ]
  },
  {
   "cell_type": "markdown",
   "metadata": {},
   "source": [
    "## Operating System"
   ]
  },
  {
   "cell_type": "code",
   "execution_count": 80,
   "metadata": {},
   "outputs": [
    {
     "data": {
      "text/plain": [
       "Windows        34268\n",
       "MacOS          18638\n",
       "Linux-based    16069\n",
       "BSD/Unix         139\n",
       "Name: OperatingSystem, dtype: int64"
      ]
     },
     "execution_count": 80,
     "metadata": {},
     "output_type": "execute_result"
    }
   ],
   "source": [
    "df['OperatingSystem'].value_counts().nlargest(10)"
   ]
  },
  {
   "cell_type": "code",
   "execution_count": 81,
   "metadata": {},
   "outputs": [
    {
     "data": {
      "text/plain": [
       "10374"
      ]
     },
     "execution_count": 81,
     "metadata": {},
     "output_type": "execute_result"
    }
   ],
   "source": [
    "df['OperatingSystem'].isnull().sum()"
   ]
  },
  {
   "cell_type": "code",
   "execution_count": 82,
   "metadata": {},
   "outputs": [],
   "source": [
    "df['OperatingSystem'].fillna(method='ffill', inplace=True)"
   ]
  },
  {
   "cell_type": "code",
   "execution_count": 83,
   "metadata": {},
   "outputs": [
    {
     "data": {
      "text/plain": [
       "0"
      ]
     },
     "execution_count": 83,
     "metadata": {},
     "output_type": "execute_result"
    }
   ],
   "source": [
    "df['OperatingSystem'].isnull().sum()"
   ]
  },
  {
   "cell_type": "code",
   "execution_count": 84,
   "metadata": {},
   "outputs": [
    {
     "data": {
      "text/plain": [
       "Windows        39475\n",
       "MacOS          21433\n",
       "Linux-based    18406\n",
       "BSD/Unix         174\n",
       "Name: OperatingSystem, dtype: int64"
      ]
     },
     "execution_count": 84,
     "metadata": {},
     "output_type": "execute_result"
    }
   ],
   "source": [
    "df['OperatingSystem'].value_counts().nlargest(10)"
   ]
  },
  {
   "cell_type": "markdown",
   "metadata": {},
   "source": [
    "## Salary Type"
   ]
  },
  {
   "cell_type": "code",
   "execution_count": 85,
   "metadata": {},
   "outputs": [
    {
     "data": {
      "text/plain": [
       "Monthly    26201\n",
       "Yearly     22541\n",
       "Weekly      2248\n",
       "Name: SalaryType, dtype: int64"
      ]
     },
     "execution_count": 85,
     "metadata": {},
     "output_type": "execute_result"
    }
   ],
   "source": [
    "df['SalaryType'].value_counts().nlargest(10)"
   ]
  },
  {
   "cell_type": "code",
   "execution_count": 86,
   "metadata": {},
   "outputs": [
    {
     "data": {
      "text/plain": [
       "28498"
      ]
     },
     "execution_count": 86,
     "metadata": {},
     "output_type": "execute_result"
    }
   ],
   "source": [
    "df['SalaryType'].isnull().sum()"
   ]
  },
  {
   "cell_type": "code",
   "execution_count": 87,
   "metadata": {},
   "outputs": [],
   "source": [
    "df['SalaryType'].fillna(method='ffill', inplace=True)"
   ]
  },
  {
   "cell_type": "code",
   "execution_count": 88,
   "metadata": {},
   "outputs": [
    {
     "data": {
      "text/plain": [
       "0"
      ]
     },
     "execution_count": 88,
     "metadata": {},
     "output_type": "execute_result"
    }
   ],
   "source": [
    "df['SalaryType'].isnull().sum()"
   ]
  },
  {
   "cell_type": "code",
   "execution_count": 89,
   "metadata": {},
   "outputs": [
    {
     "data": {
      "text/plain": [
       "Monthly    40953\n",
       "Yearly     34333\n",
       "Weekly      4202\n",
       "Name: SalaryType, dtype: int64"
      ]
     },
     "execution_count": 89,
     "metadata": {},
     "output_type": "execute_result"
    }
   ],
   "source": [
    "df['SalaryType'].value_counts().nlargest(10)"
   ]
  },
  {
   "cell_type": "markdown",
   "metadata": {},
   "source": [
    "## Currency"
   ]
  },
  {
   "cell_type": "code",
   "execution_count": 90,
   "metadata": {},
   "outputs": [
    {
     "data": {
      "text/plain": [
       "U.S. dollars ($)               20599\n",
       "Euros (€)                      15201\n",
       "Indian rupees (₹)               7908\n",
       "British pounds sterling (£)     4856\n",
       "Canadian dollars (C$)           2535\n",
       "Russian rubles (₽)              1768\n",
       "Brazilian reais (R$)            1663\n",
       "Australian dollars (A$)         1571\n",
       "Polish złoty (zł)               1434\n",
       "Swedish kroner (SEK)             864\n",
       "Name: Currency, dtype: int64"
      ]
     },
     "execution_count": 90,
     "metadata": {},
     "output_type": "execute_result"
    }
   ],
   "source": [
    "df['Currency'].value_counts().nlargest(10)"
   ]
  },
  {
   "cell_type": "code",
   "execution_count": 91,
   "metadata": {},
   "outputs": [
    {
     "data": {
      "text/plain": [
       "17483"
      ]
     },
     "execution_count": 91,
     "metadata": {},
     "output_type": "execute_result"
    }
   ],
   "source": [
    "df['Currency'].isnull().sum()"
   ]
  },
  {
   "cell_type": "code",
   "execution_count": 92,
   "metadata": {},
   "outputs": [],
   "source": [
    "df['Currency'].fillna(method='ffill', inplace=True)"
   ]
  },
  {
   "cell_type": "code",
   "execution_count": 93,
   "metadata": {},
   "outputs": [
    {
     "data": {
      "text/plain": [
       "1"
      ]
     },
     "execution_count": 93,
     "metadata": {},
     "output_type": "execute_result"
    }
   ],
   "source": [
    "df['Currency'].isnull().sum()"
   ]
  },
  {
   "cell_type": "code",
   "execution_count": 94,
   "metadata": {},
   "outputs": [],
   "source": [
    "df.dropna(subset=['Currency'], inplace = True)"
   ]
  },
  {
   "cell_type": "code",
   "execution_count": 95,
   "metadata": {},
   "outputs": [
    {
     "data": {
      "text/plain": [
       "U.S. dollars ($)               26356\n",
       "Euros (€)                      19465\n",
       "Indian rupees (₹)              10152\n",
       "British pounds sterling (£)     6194\n",
       "Canadian dollars (C$)           3289\n",
       "Russian rubles (₽)              2340\n",
       "Brazilian reais (R$)            2122\n",
       "Australian dollars (A$)         1970\n",
       "Polish złoty (zł)               1856\n",
       "Swedish kroner (SEK)            1101\n",
       "Name: Currency, dtype: int64"
      ]
     },
     "execution_count": 95,
     "metadata": {},
     "output_type": "execute_result"
    }
   ],
   "source": [
    "df['Currency'].value_counts().nlargest(10)"
   ]
  },
  {
   "cell_type": "markdown",
   "metadata": {},
   "source": [
    "## Salary"
   ]
  },
  {
   "cell_type": "code",
   "execution_count": 96,
   "metadata": {},
   "outputs": [
    {
     "data": {
      "text/plain": [
       "0.0          842\n",
       "120000.0     524\n",
       "100000.0     497\n",
       "80000.0      396\n",
       "1000000.0    382\n",
       "110000.0     371\n",
       "90000.0      364\n",
       "150000.0     357\n",
       "60000.0      351\n",
       "75000.0      337\n",
       "Name: SalaryUSD, dtype: int64"
      ]
     },
     "execution_count": 96,
     "metadata": {},
     "output_type": "execute_result"
    }
   ],
   "source": [
    "df['SalaryUSD'].value_counts().nlargest(10)"
   ]
  },
  {
   "cell_type": "code",
   "execution_count": 97,
   "metadata": {},
   "outputs": [
    {
     "data": {
      "text/plain": [
       "31786"
      ]
     },
     "execution_count": 97,
     "metadata": {},
     "output_type": "execute_result"
    }
   ],
   "source": [
    "df['SalaryUSD'].isnull().sum() "
   ]
  },
  {
   "cell_type": "code",
   "execution_count": 98,
   "metadata": {},
   "outputs": [
    {
     "data": {
      "text/plain": [
       "DevType        Country      \n",
       "Student        Saudi Arabia     1500000.0\n",
       "Developer      Andorra           525089.5\n",
       "Manager        Hungary           516000.0\n",
       "               Netherlands       507175.0\n",
       "Non developer  Algeria           360000.0\n",
       "               Cyprus            293736.0\n",
       "Developer      Liechtenstein     284028.0\n",
       "Student        Finland           272212.0\n",
       "Manager        Denmark           262920.6\n",
       "Student        Israel            256522.4\n",
       "Name: SalaryUSD, dtype: float64"
      ]
     },
     "execution_count": 98,
     "metadata": {},
     "output_type": "execute_result"
    }
   ],
   "source": [
    "mean_salary = df.groupby(['DevType','Country'])['SalaryUSD'].mean() \n",
    "mean_salary.nlargest(10)"
   ]
  },
  {
   "cell_type": "code",
   "execution_count": 99,
   "metadata": {},
   "outputs": [],
   "source": [
    "means = df.groupby(['YearsCodingProf','DevType', 'Country'])['SalaryUSD'].transform('mean')\n",
    "df['SalaryUSD'] = df['SalaryUSD'].fillna(means)"
   ]
  },
  {
   "cell_type": "code",
   "execution_count": 100,
   "metadata": {},
   "outputs": [
    {
     "data": {
      "text/plain": [
       "YearsCodingProf  DevType        Country                             \n",
       "9-11 years       Student        Saudi Arabia                            1500000.0\n",
       "12-14 years      Non developer  Norway                                  1000000.0\n",
       "                 Student        Switzerland                             1000000.0\n",
       "15-17 years      Non developer  Australia                               1000000.0\n",
       "                                New Zealand                             1000000.0\n",
       "21-23 years      Developer      Japan                                   1000000.0\n",
       "                                Venezuela, Bolivarian Republic of...    1000000.0\n",
       "                 Non developer  Sweden                                  1000000.0\n",
       "                 Student        Finland                                 1000000.0\n",
       "24-26 years      Manager        Canada                                  1000000.0\n",
       "Name: SalaryUSD, dtype: float64"
      ]
     },
     "execution_count": 100,
     "metadata": {},
     "output_type": "execute_result"
    }
   ],
   "source": [
    "mean_salary = df.groupby(['YearsCodingProf','DevType','Country'])['SalaryUSD'].mean()\n",
    "mean_salary.nlargest(10)"
   ]
  },
  {
   "cell_type": "code",
   "execution_count": 101,
   "metadata": {},
   "outputs": [],
   "source": [
    "df.dropna(subset=['SalaryUSD'], inplace = True)"
   ]
  },
  {
   "cell_type": "markdown",
   "metadata": {},
   "source": [
    "## Age"
   ]
  },
  {
   "cell_type": "code",
   "execution_count": 102,
   "metadata": {},
   "outputs": [
    {
     "data": {
      "text/plain": [
       "25 - 34 years old     30969\n",
       "18 - 24 years old     14847\n",
       "35 - 44 years old     10980\n",
       "45 - 54 years old      3072\n",
       "Under 18 years old     1549\n",
       "55 - 64 years old       865\n",
       "65 years or older       144\n",
       "Name: Age, dtype: int64"
      ]
     },
     "execution_count": 102,
     "metadata": {},
     "output_type": "execute_result"
    }
   ],
   "source": [
    "df['Age'].value_counts().nlargest(10)"
   ]
  },
  {
   "cell_type": "code",
   "execution_count": 103,
   "metadata": {},
   "outputs": [
    {
     "data": {
      "text/plain": [
       "16374"
      ]
     },
     "execution_count": 103,
     "metadata": {},
     "output_type": "execute_result"
    }
   ],
   "source": [
    "df['Age'].isnull().sum()"
   ]
  },
  {
   "cell_type": "code",
   "execution_count": 104,
   "metadata": {},
   "outputs": [],
   "source": [
    "df['Age'].fillna(method='ffill', inplace=True)"
   ]
  },
  {
   "cell_type": "code",
   "execution_count": 105,
   "metadata": {},
   "outputs": [
    {
     "data": {
      "text/plain": [
       "0"
      ]
     },
     "execution_count": 105,
     "metadata": {},
     "output_type": "execute_result"
    }
   ],
   "source": [
    "df['Age'].isnull().sum()"
   ]
  },
  {
   "cell_type": "code",
   "execution_count": 106,
   "metadata": {},
   "outputs": [
    {
     "data": {
      "text/plain": [
       "25 - 34 years old     38797\n",
       "18 - 24 years old     19074\n",
       "35 - 44 years old     13665\n",
       "45 - 54 years old      3821\n",
       "Under 18 years old     2165\n",
       "55 - 64 years old      1093\n",
       "65 years or older       185\n",
       "Name: Age, dtype: int64"
      ]
     },
     "execution_count": 106,
     "metadata": {},
     "output_type": "execute_result"
    }
   ],
   "source": [
    "df['Age'].value_counts().nlargest(10)"
   ]
  },
  {
   "cell_type": "code",
   "execution_count": 107,
   "metadata": {},
   "outputs": [
    {
     "name": "stdout",
     "output_type": "stream",
     "text": [
      "Age                          0\n",
      "SalaryUSD                    0\n",
      "Country                      0\n",
      "Currency                     0\n",
      "DevType                      0\n",
      "Employment                   0\n",
      "RaceEthnicity                0\n",
      "Gender                       0\n",
      "SalaryType                   0\n",
      "Hobby                        0\n",
      "JobSatisfaction              0\n",
      "JobSearchStatus              0\n",
      "OperatingSystem              0\n",
      "UndergradMajor               0\n",
      "YearsCoding                  0\n",
      "YearsCodingProf              0\n",
      "LanguageDesireNextYear       0\n",
      "LanguageWorkedWith           0\n",
      "FormalEducation           1549\n",
      "dtype: int64\n"
     ]
    }
   ],
   "source": [
    "print(df.isnull().sum())"
   ]
  },
  {
   "cell_type": "code",
   "execution_count": 108,
   "metadata": {},
   "outputs": [
    {
     "data": {
      "text/plain": [
       "1549"
      ]
     },
     "execution_count": 108,
     "metadata": {},
     "output_type": "execute_result"
    }
   ],
   "source": [
    "df['FormalEducation'].isnull().sum()"
   ]
  },
  {
   "cell_type": "code",
   "execution_count": 109,
   "metadata": {},
   "outputs": [
    {
     "data": {
      "text/plain": [
       "Bachelor’s degree (BA, BS, B.Eng., etc.)                                              36010\n",
       "Master’s degree (MA, MS, M.Eng., MBA, etc.)                                           17529\n",
       "Some college/university study without earning a degree                                 9737\n",
       "Secondary school (e.g. American high school, German Realschule or Gymnasium, etc.)     7088\n",
       "Associate degree                                                                       2407\n",
       "Other doctoral degree (Ph.D, Ed.D., etc.)                                              1754\n",
       "Primary/elementary school                                                              1217\n",
       "Professional degree (JD, MD, etc.)                                                     1073\n",
       "I never completed any formal education                                                  436\n",
       "Name: FormalEducation, dtype: int64"
      ]
     },
     "execution_count": 109,
     "metadata": {},
     "output_type": "execute_result"
    }
   ],
   "source": [
    "#Mona2018\n",
    "df['FormalEducation'].value_counts()"
   ]
  },
  {
   "cell_type": "code",
   "execution_count": 110,
   "metadata": {},
   "outputs": [
    {
     "data": {
      "text/plain": [
       "Bachelors       37559\n",
       "No Degree       18478\n",
       "Masters         17529\n",
       "Associate        2407\n",
       "Doctorate        1754\n",
       "Professional     1073\n",
       "Name: EdLevel, dtype: int64"
      ]
     },
     "execution_count": 110,
     "metadata": {},
     "output_type": "execute_result"
    }
   ],
   "source": [
    "#Mona2018\n",
    "#Changing column's name\n",
    "df.rename(columns={'FormalEducation':'EdLevel'}, inplace =True)\n",
    "#Refactoring EdLevel\n",
    "def refactor_ed(df):\n",
    "    '''function to change Education level category to Bachelors, Masters, Professional, Associate, Doctorate, No Degree'''\n",
    "    conditions_ed = [(df['EdLevel'] == 'Associate degree'),\n",
    "                    (df['EdLevel'] == 'Bachelor’s degree (BA, BS, B.Eng., etc.)'),\n",
    "                    (df['EdLevel'] == 'Master’s degree (MA, MS, M.Eng., MBA, etc.)'),\n",
    "                    (df['EdLevel'] == 'Professional degree (JD, MD, etc.)'),   \n",
    "                    (df['EdLevel'] == 'Other doctoral degree (Ph.D, Ed.D., etc.)'),\n",
    "                    (df['EdLevel'] == 'Some college/university study without earning a degree') \n",
    "                    | (df['EdLevel'] == 'Secondary school (e.g. American high school, German Realschule or Gymnasium, etc.)') \n",
    "                    | (df['EdLevel'] == 'Primary/elementary school')\n",
    "                    | (df['EdLevel'] == 'I never completed any formal education')]\n",
    "    \n",
    "    choices_ed = ['Associate', 'Bachelors', 'Masters', 'Professional',  'Doctorate', 'No Degree']\n",
    "    df['EdLevel'] = np.select(conditions_ed, choices_ed, default = np.NaN)\n",
    "    return df\n",
    "\n",
    "# applying function to subsets\n",
    "df = refactor_ed(df)\n",
    "#Assigining the surveyors who havent mentioned their education level to Bachelor’s degree\n",
    "df['EdLevel'].replace('nan', 'Bachelors', inplace=True)\n",
    "\n",
    "df['EdLevel'].value_counts()"
   ]
  },
  {
   "cell_type": "markdown",
   "metadata": {},
   "source": [
    "## Cleaned Dataset : 2018_Survey"
   ]
  },
  {
   "cell_type": "code",
   "execution_count": 111,
   "metadata": {},
   "outputs": [
    {
     "data": {
      "text/plain": [
       "(78800, 19)"
      ]
     },
     "execution_count": 111,
     "metadata": {},
     "output_type": "execute_result"
    }
   ],
   "source": [
    "cleaned_2018 = df[df.notnull()]\n",
    "cleaned_2018.shape"
   ]
  },
  {
   "cell_type": "code",
   "execution_count": 112,
   "metadata": {},
   "outputs": [
    {
     "data": {
      "text/html": [
       "<div>\n",
       "<style scoped>\n",
       "    .dataframe tbody tr th:only-of-type {\n",
       "        vertical-align: middle;\n",
       "    }\n",
       "\n",
       "    .dataframe tbody tr th {\n",
       "        vertical-align: top;\n",
       "    }\n",
       "\n",
       "    .dataframe thead th {\n",
       "        text-align: right;\n",
       "    }\n",
       "</style>\n",
       "<table border=\"1\" class=\"dataframe\">\n",
       "  <thead>\n",
       "    <tr style=\"text-align: right;\">\n",
       "      <th></th>\n",
       "      <th>Age</th>\n",
       "      <th>SalaryUSD</th>\n",
       "      <th>Country</th>\n",
       "      <th>Currency</th>\n",
       "      <th>DevType</th>\n",
       "      <th>Employment</th>\n",
       "      <th>RaceEthnicity</th>\n",
       "      <th>Gender</th>\n",
       "      <th>SalaryType</th>\n",
       "      <th>Hobby</th>\n",
       "      <th>JobSatisfaction</th>\n",
       "      <th>JobSearchStatus</th>\n",
       "      <th>OperatingSystem</th>\n",
       "      <th>UndergradMajor</th>\n",
       "      <th>YearsCoding</th>\n",
       "      <th>YearsCodingProf</th>\n",
       "      <th>LanguageDesireNextYear</th>\n",
       "      <th>LanguageWorkedWith</th>\n",
       "      <th>EdLevel</th>\n",
       "    </tr>\n",
       "  </thead>\n",
       "  <tbody>\n",
       "    <tr>\n",
       "      <th>1</th>\n",
       "      <td>35 - 44 years old</td>\n",
       "      <td>70841.000000</td>\n",
       "      <td>United Kingdom</td>\n",
       "      <td>British pounds sterling (£)</td>\n",
       "      <td>Developer</td>\n",
       "      <td>Full-time</td>\n",
       "      <td>White or European descent</td>\n",
       "      <td>Male</td>\n",
       "      <td>Yearly</td>\n",
       "      <td>Yes</td>\n",
       "      <td>Moderately dissatisfied</td>\n",
       "      <td>Seeking</td>\n",
       "      <td>Linux-based</td>\n",
       "      <td>Other Science</td>\n",
       "      <td>30 or more years</td>\n",
       "      <td>18-20 years</td>\n",
       "      <td>Go;Python</td>\n",
       "      <td>JavaScript;Python;Bash/Shell</td>\n",
       "      <td>Bachelors</td>\n",
       "    </tr>\n",
       "    <tr>\n",
       "      <th>2</th>\n",
       "      <td>35 - 44 years old</td>\n",
       "      <td>153030.333333</td>\n",
       "      <td>United States</td>\n",
       "      <td>British pounds sterling (£)</td>\n",
       "      <td>Manager</td>\n",
       "      <td>Full-time</td>\n",
       "      <td>White or European descent</td>\n",
       "      <td>Non-conforming</td>\n",
       "      <td>Yearly</td>\n",
       "      <td>Yes</td>\n",
       "      <td>Moderately satisfied</td>\n",
       "      <td>Not seeking</td>\n",
       "      <td>Linux-based</td>\n",
       "      <td>Computer Science</td>\n",
       "      <td>24-26 years</td>\n",
       "      <td>6-8 years</td>\n",
       "      <td>Go;Python</td>\n",
       "      <td>JavaScript;Python;Bash/Shell</td>\n",
       "      <td>Associate</td>\n",
       "    </tr>\n",
       "    <tr>\n",
       "      <th>3</th>\n",
       "      <td>35 - 44 years old</td>\n",
       "      <td>165809.207657</td>\n",
       "      <td>United States</td>\n",
       "      <td>U.S. dollars ($)</td>\n",
       "      <td>Developer</td>\n",
       "      <td>Full-time</td>\n",
       "      <td>White or European descent</td>\n",
       "      <td>Male</td>\n",
       "      <td>Yearly</td>\n",
       "      <td>No</td>\n",
       "      <td>Neither satisfied nor dissatisfied</td>\n",
       "      <td>Not seeking</td>\n",
       "      <td>Windows</td>\n",
       "      <td>Computer Science</td>\n",
       "      <td>18-20 years</td>\n",
       "      <td>12-14 years</td>\n",
       "      <td>C#;JavaScript;SQL;TypeScript;HTML;CSS;Bash/Shell</td>\n",
       "      <td>C#;JavaScript;SQL;TypeScript;HTML;CSS;Bash/Shell</td>\n",
       "      <td>Bachelors</td>\n",
       "    </tr>\n",
       "    <tr>\n",
       "      <th>4</th>\n",
       "      <td>18 - 24 years old</td>\n",
       "      <td>21426.000000</td>\n",
       "      <td>South Africa</td>\n",
       "      <td>South African rands (R)</td>\n",
       "      <td>Developer</td>\n",
       "      <td>Full-time</td>\n",
       "      <td>White or European descent</td>\n",
       "      <td>Male</td>\n",
       "      <td>Yearly</td>\n",
       "      <td>Yes</td>\n",
       "      <td>Slightly satisfied</td>\n",
       "      <td>Not seeking</td>\n",
       "      <td>Windows</td>\n",
       "      <td>Computer Science</td>\n",
       "      <td>6-8 years</td>\n",
       "      <td>0-2 years</td>\n",
       "      <td>Assembly;C;C++;Matlab;SQL;Bash/Shell</td>\n",
       "      <td>C;C++;Java;Matlab;R;SQL;Bash/Shell</td>\n",
       "      <td>No Degree</td>\n",
       "    </tr>\n",
       "    <tr>\n",
       "      <th>5</th>\n",
       "      <td>18 - 24 years old</td>\n",
       "      <td>41671.000000</td>\n",
       "      <td>United Kingdom</td>\n",
       "      <td>British pounds sterling (£)</td>\n",
       "      <td>Developer</td>\n",
       "      <td>Full-time</td>\n",
       "      <td>White or European descent</td>\n",
       "      <td>Male</td>\n",
       "      <td>Yearly</td>\n",
       "      <td>Yes</td>\n",
       "      <td>Moderately satisfied</td>\n",
       "      <td>Seeking</td>\n",
       "      <td>Linux-based</td>\n",
       "      <td>Computer Science</td>\n",
       "      <td>6-8 years</td>\n",
       "      <td>3-5 years</td>\n",
       "      <td>C#;Go;Java;JavaScript;Python;SQL;TypeScript;HT...</td>\n",
       "      <td>Java;JavaScript;Python;TypeScript;HTML;CSS</td>\n",
       "      <td>Bachelors</td>\n",
       "    </tr>\n",
       "    <tr>\n",
       "      <th>6</th>\n",
       "      <td>18 - 24 years old</td>\n",
       "      <td>120000.000000</td>\n",
       "      <td>United States</td>\n",
       "      <td>U.S. dollars ($)</td>\n",
       "      <td>Developer</td>\n",
       "      <td>Full-time</td>\n",
       "      <td>White or European descent</td>\n",
       "      <td>Male</td>\n",
       "      <td>Yearly</td>\n",
       "      <td>Yes</td>\n",
       "      <td>Slightly satisfied</td>\n",
       "      <td>Not seeking</td>\n",
       "      <td>MacOS</td>\n",
       "      <td>Computer Science</td>\n",
       "      <td>9-11 years</td>\n",
       "      <td>0-2 years</td>\n",
       "      <td>C;Go;JavaScript;Python;HTML;CSS</td>\n",
       "      <td>JavaScript;HTML;CSS</td>\n",
       "      <td>No Degree</td>\n",
       "    </tr>\n",
       "    <tr>\n",
       "      <th>7</th>\n",
       "      <td>25 - 34 years old</td>\n",
       "      <td>93336.000000</td>\n",
       "      <td>Nigeria</td>\n",
       "      <td>U.S. dollars ($)</td>\n",
       "      <td>Non developer</td>\n",
       "      <td>Full-time</td>\n",
       "      <td>Black or African descent</td>\n",
       "      <td>Female</td>\n",
       "      <td>Yearly</td>\n",
       "      <td>Yes</td>\n",
       "      <td>Slightly satisfied</td>\n",
       "      <td>Not seeking</td>\n",
       "      <td>Windows</td>\n",
       "      <td>Computer Science</td>\n",
       "      <td>0-2 years</td>\n",
       "      <td>3-5 years</td>\n",
       "      <td>Matlab;SQL;Kotlin;Bash/Shell</td>\n",
       "      <td>JavaScript;TypeScript;HTML;CSS</td>\n",
       "      <td>Bachelors</td>\n",
       "    </tr>\n",
       "    <tr>\n",
       "      <th>8</th>\n",
       "      <td>35 - 44 years old</td>\n",
       "      <td>250000.000000</td>\n",
       "      <td>United States</td>\n",
       "      <td>U.S. dollars ($)</td>\n",
       "      <td>Developer</td>\n",
       "      <td>Full-time</td>\n",
       "      <td>White or European descent</td>\n",
       "      <td>Male</td>\n",
       "      <td>Yearly</td>\n",
       "      <td>Yes</td>\n",
       "      <td>Moderately satisfied</td>\n",
       "      <td>Not seeking</td>\n",
       "      <td>MacOS</td>\n",
       "      <td>Arts and Science</td>\n",
       "      <td>30 or more years</td>\n",
       "      <td>21-23 years</td>\n",
       "      <td>Erlang;Go;Python;Rust;SQL</td>\n",
       "      <td>Assembly;CoffeeScript;Erlang;Go;JavaScript;Lua...</td>\n",
       "      <td>No Degree</td>\n",
       "    </tr>\n",
       "    <tr>\n",
       "      <th>13</th>\n",
       "      <td>35 - 44 years old</td>\n",
       "      <td>26023.003365</td>\n",
       "      <td>India</td>\n",
       "      <td>U.S. dollars ($)</td>\n",
       "      <td>Developer</td>\n",
       "      <td>Full-time</td>\n",
       "      <td>South Asian</td>\n",
       "      <td>Non-conforming</td>\n",
       "      <td>Yearly</td>\n",
       "      <td>No</td>\n",
       "      <td>Extremely satisfied</td>\n",
       "      <td>Not seeking</td>\n",
       "      <td>Linux-based</td>\n",
       "      <td>Engineering</td>\n",
       "      <td>3-5 years</td>\n",
       "      <td>3-5 years</td>\n",
       "      <td>Java;Python</td>\n",
       "      <td>Java</td>\n",
       "      <td>Bachelors</td>\n",
       "    </tr>\n",
       "    <tr>\n",
       "      <th>14</th>\n",
       "      <td>18 - 24 years old</td>\n",
       "      <td>0.000000</td>\n",
       "      <td>Netherlands</td>\n",
       "      <td>Euros (€)</td>\n",
       "      <td>Developer</td>\n",
       "      <td>Full-time</td>\n",
       "      <td>White or European descent</td>\n",
       "      <td>Male</td>\n",
       "      <td>Monthly</td>\n",
       "      <td>No</td>\n",
       "      <td>Neither satisfied nor dissatisfied</td>\n",
       "      <td>Not seeking</td>\n",
       "      <td>Windows</td>\n",
       "      <td>No major</td>\n",
       "      <td>0-2 years</td>\n",
       "      <td>0-2 years</td>\n",
       "      <td>Java;Python</td>\n",
       "      <td>Java;JavaScript;PHP;VB.NET;HTML;CSS</td>\n",
       "      <td>No Degree</td>\n",
       "    </tr>\n",
       "  </tbody>\n",
       "</table>\n",
       "</div>"
      ],
      "text/plain": [
       "                  Age      SalaryUSD         Country  \\\n",
       "1   35 - 44 years old   70841.000000  United Kingdom   \n",
       "2   35 - 44 years old  153030.333333   United States   \n",
       "3   35 - 44 years old  165809.207657   United States   \n",
       "4   18 - 24 years old   21426.000000    South Africa   \n",
       "5   18 - 24 years old   41671.000000  United Kingdom   \n",
       "6   18 - 24 years old  120000.000000   United States   \n",
       "7   25 - 34 years old   93336.000000         Nigeria   \n",
       "8   35 - 44 years old  250000.000000   United States   \n",
       "13  35 - 44 years old   26023.003365           India   \n",
       "14  18 - 24 years old       0.000000     Netherlands   \n",
       "\n",
       "                       Currency        DevType Employment  \\\n",
       "1   British pounds sterling (£)      Developer  Full-time   \n",
       "2   British pounds sterling (£)        Manager  Full-time   \n",
       "3              U.S. dollars ($)      Developer  Full-time   \n",
       "4       South African rands (R)      Developer  Full-time   \n",
       "5   British pounds sterling (£)      Developer  Full-time   \n",
       "6              U.S. dollars ($)      Developer  Full-time   \n",
       "7              U.S. dollars ($)  Non developer  Full-time   \n",
       "8              U.S. dollars ($)      Developer  Full-time   \n",
       "13             U.S. dollars ($)      Developer  Full-time   \n",
       "14                    Euros (€)      Developer  Full-time   \n",
       "\n",
       "                RaceEthnicity          Gender SalaryType Hobby  \\\n",
       "1   White or European descent            Male     Yearly   Yes   \n",
       "2   White or European descent  Non-conforming     Yearly   Yes   \n",
       "3   White or European descent            Male     Yearly    No   \n",
       "4   White or European descent            Male     Yearly   Yes   \n",
       "5   White or European descent            Male     Yearly   Yes   \n",
       "6   White or European descent            Male     Yearly   Yes   \n",
       "7    Black or African descent          Female     Yearly   Yes   \n",
       "8   White or European descent            Male     Yearly   Yes   \n",
       "13                South Asian  Non-conforming     Yearly    No   \n",
       "14  White or European descent            Male    Monthly    No   \n",
       "\n",
       "                       JobSatisfaction JobSearchStatus OperatingSystem  \\\n",
       "1              Moderately dissatisfied         Seeking     Linux-based   \n",
       "2                 Moderately satisfied     Not seeking     Linux-based   \n",
       "3   Neither satisfied nor dissatisfied     Not seeking         Windows   \n",
       "4                   Slightly satisfied     Not seeking         Windows   \n",
       "5                 Moderately satisfied         Seeking     Linux-based   \n",
       "6                   Slightly satisfied     Not seeking           MacOS   \n",
       "7                   Slightly satisfied     Not seeking         Windows   \n",
       "8                 Moderately satisfied     Not seeking           MacOS   \n",
       "13                 Extremely satisfied     Not seeking     Linux-based   \n",
       "14  Neither satisfied nor dissatisfied     Not seeking         Windows   \n",
       "\n",
       "      UndergradMajor       YearsCoding YearsCodingProf  \\\n",
       "1      Other Science  30 or more years     18-20 years   \n",
       "2   Computer Science       24-26 years       6-8 years   \n",
       "3   Computer Science       18-20 years     12-14 years   \n",
       "4   Computer Science         6-8 years       0-2 years   \n",
       "5   Computer Science         6-8 years       3-5 years   \n",
       "6   Computer Science        9-11 years       0-2 years   \n",
       "7   Computer Science         0-2 years       3-5 years   \n",
       "8   Arts and Science  30 or more years     21-23 years   \n",
       "13       Engineering         3-5 years       3-5 years   \n",
       "14          No major         0-2 years       0-2 years   \n",
       "\n",
       "                               LanguageDesireNextYear  \\\n",
       "1                                           Go;Python   \n",
       "2                                           Go;Python   \n",
       "3    C#;JavaScript;SQL;TypeScript;HTML;CSS;Bash/Shell   \n",
       "4                Assembly;C;C++;Matlab;SQL;Bash/Shell   \n",
       "5   C#;Go;Java;JavaScript;Python;SQL;TypeScript;HT...   \n",
       "6                     C;Go;JavaScript;Python;HTML;CSS   \n",
       "7                        Matlab;SQL;Kotlin;Bash/Shell   \n",
       "8                           Erlang;Go;Python;Rust;SQL   \n",
       "13                                        Java;Python   \n",
       "14                                        Java;Python   \n",
       "\n",
       "                                   LanguageWorkedWith    EdLevel  \n",
       "1                        JavaScript;Python;Bash/Shell  Bachelors  \n",
       "2                        JavaScript;Python;Bash/Shell  Associate  \n",
       "3    C#;JavaScript;SQL;TypeScript;HTML;CSS;Bash/Shell  Bachelors  \n",
       "4                  C;C++;Java;Matlab;R;SQL;Bash/Shell  No Degree  \n",
       "5          Java;JavaScript;Python;TypeScript;HTML;CSS  Bachelors  \n",
       "6                                 JavaScript;HTML;CSS  No Degree  \n",
       "7                      JavaScript;TypeScript;HTML;CSS  Bachelors  \n",
       "8   Assembly;CoffeeScript;Erlang;Go;JavaScript;Lua...  No Degree  \n",
       "13                                               Java  Bachelors  \n",
       "14                Java;JavaScript;PHP;VB.NET;HTML;CSS  No Degree  "
      ]
     },
     "execution_count": 112,
     "metadata": {},
     "output_type": "execute_result"
    }
   ],
   "source": [
    "cleaned_2018.head(10)"
   ]
  },
  {
   "cell_type": "markdown",
   "metadata": {},
   "source": [
    "## After Cleaning Data"
   ]
  },
  {
   "cell_type": "code",
   "execution_count": 113,
   "metadata": {},
   "outputs": [
    {
     "name": "stdout",
     "output_type": "stream",
     "text": [
      "Total :  1497200\n",
      "Total missing :  0\n",
      "Missing Percentage:  0.0 %\n"
     ]
    }
   ],
   "source": [
    "#Find % of missing data\n",
    "missing_count = df.isnull().sum() #number of missing\n",
    "total_cells = np.product(df.shape) # number of cells (cols x rows)\n",
    "total_missing = missing_count.sum()\n",
    "missing_percent = (total_missing*100)/total_cells\n",
    "\n",
    "print('Total : ', total_cells)\n",
    "print('Total missing : ', total_missing)\n",
    "print('Missing Percentage: ', missing_percent, '%')"
   ]
  },
  {
   "cell_type": "code",
   "execution_count": null,
   "metadata": {},
   "outputs": [],
   "source": []
  },
  {
   "cell_type": "markdown",
   "metadata": {},
   "source": [
    "## Stackoverflow 2019 Dataset"
   ]
  },
  {
   "cell_type": "code",
   "execution_count": 114,
   "metadata": {},
   "outputs": [],
   "source": [
    "na_vals = ['NA', 'Missing']\n",
    "survey_main_df = pd.read_csv(r'C:\\Users\\sanja\\Stack_Data\\survey_results_public_2019.csv', na_values=na_vals)\n",
    "schema_df = pd.read_csv(r'C:\\Users\\sanja\\Stack_Data\\survey_results_public_2019.csv')"
   ]
  },
  {
   "cell_type": "markdown",
   "metadata": {},
   "source": [
    "## Data Cleaning"
   ]
  },
  {
   "cell_type": "code",
   "execution_count": 115,
   "metadata": {},
   "outputs": [],
   "source": [
    "#Selecting only the required columns for analysis\n",
    "survey_df_2019 = survey_main_df[['Age', 'CareerSat', 'ConvertedComp', 'Country', 'Dependents', 'EdLevel', 'Employment', 'Ethnicity', 'Gender', 'Hobbyist', 'ImpSyn', 'JobSat', 'JobSeek', 'LanguageDesireNextYear', 'LanguageWorkedWith', 'MainBranch',\n",
    " 'UndergradMajor', 'YearsCodePro', 'DevType']]"
   ]
  },
  {
   "cell_type": "code",
   "execution_count": 116,
   "metadata": {},
   "outputs": [],
   "source": [
    "\n",
    "#changing the name of columns for easier understanding\n",
    "# 'MainBranch': 'Profession'\n",
    "# 'ConvertedComp': 'SalaryUSD'\n",
    "# 'CareerSat': 'JobSatisfaction'\n",
    "# 'ImpSyn' : 'CompetenceLevel'\n",
    "# 'JobSat' : 'CurrentJobSatis'\n",
    "# 'JobSeek' : 'JobStatus'\n",
    "\n",
    "\n",
    "survey_df_2019.rename(columns={'MainBranch': 'Profession', 'ConvertedComp': 'SalaryUSD',  'CareerSat': 'JobSatisfaction', 'ImpSyn' : 'CompetenceLevel', 'JobSat' : 'CurrentJobSatis', 'JobSeek' : 'JobStatus' }, inplace =True)"
   ]
  },
  {
   "cell_type": "code",
   "execution_count": 117,
   "metadata": {},
   "outputs": [
    {
     "data": {
      "text/html": [
       "<div>\n",
       "<style scoped>\n",
       "    .dataframe tbody tr th:only-of-type {\n",
       "        vertical-align: middle;\n",
       "    }\n",
       "\n",
       "    .dataframe tbody tr th {\n",
       "        vertical-align: top;\n",
       "    }\n",
       "\n",
       "    .dataframe thead th {\n",
       "        text-align: right;\n",
       "    }\n",
       "</style>\n",
       "<table border=\"1\" class=\"dataframe\">\n",
       "  <thead>\n",
       "    <tr style=\"text-align: right;\">\n",
       "      <th></th>\n",
       "      <th>Age</th>\n",
       "      <th>CompetenceLevel</th>\n",
       "      <th>Country</th>\n",
       "      <th>CurrentJobSatis</th>\n",
       "      <th>Dependents</th>\n",
       "      <th>DevType</th>\n",
       "      <th>EdLevel</th>\n",
       "      <th>Employment</th>\n",
       "      <th>Ethnicity</th>\n",
       "      <th>Gender</th>\n",
       "      <th>Hobbyist</th>\n",
       "      <th>JobSatisfaction</th>\n",
       "      <th>JobStatus</th>\n",
       "      <th>LanguageDesireNextYear</th>\n",
       "      <th>LanguageWorkedWith</th>\n",
       "      <th>Profession</th>\n",
       "      <th>SalaryUSD</th>\n",
       "      <th>UndergradMajor</th>\n",
       "      <th>YearsCodePro</th>\n",
       "    </tr>\n",
       "  </thead>\n",
       "  <tbody>\n",
       "    <tr>\n",
       "      <th>0</th>\n",
       "      <td>14.0</td>\n",
       "      <td>NaN</td>\n",
       "      <td>United Kingdom</td>\n",
       "      <td>NaN</td>\n",
       "      <td>No</td>\n",
       "      <td>NaN</td>\n",
       "      <td>Primary/elementary school</td>\n",
       "      <td>Not employed, and not looking for work</td>\n",
       "      <td>NaN</td>\n",
       "      <td>Man</td>\n",
       "      <td>Yes</td>\n",
       "      <td>NaN</td>\n",
       "      <td>NaN</td>\n",
       "      <td>C;C++;C#;Go;HTML/CSS;Java;JavaScript;Python;SQL</td>\n",
       "      <td>HTML/CSS;Java;JavaScript;Python</td>\n",
       "      <td>I am a student who is learning to code</td>\n",
       "      <td>NaN</td>\n",
       "      <td>NaN</td>\n",
       "      <td>NaN</td>\n",
       "    </tr>\n",
       "    <tr>\n",
       "      <th>1</th>\n",
       "      <td>19.0</td>\n",
       "      <td>NaN</td>\n",
       "      <td>Bosnia and Herzegovina</td>\n",
       "      <td>NaN</td>\n",
       "      <td>No</td>\n",
       "      <td>Developer, desktop or enterprise applications;...</td>\n",
       "      <td>Secondary school (e.g. American high school, G...</td>\n",
       "      <td>Not employed, but looking for work</td>\n",
       "      <td>NaN</td>\n",
       "      <td>Man</td>\n",
       "      <td>No</td>\n",
       "      <td>NaN</td>\n",
       "      <td>I am actively looking for a job</td>\n",
       "      <td>C++;HTML/CSS;JavaScript;SQL</td>\n",
       "      <td>C++;HTML/CSS;Python</td>\n",
       "      <td>I am a student who is learning to code</td>\n",
       "      <td>NaN</td>\n",
       "      <td>NaN</td>\n",
       "      <td>NaN</td>\n",
       "    </tr>\n",
       "    <tr>\n",
       "      <th>2</th>\n",
       "      <td>28.0</td>\n",
       "      <td>Average</td>\n",
       "      <td>Thailand</td>\n",
       "      <td>Slightly satisfied</td>\n",
       "      <td>Yes</td>\n",
       "      <td>Designer;Developer, back-end;Developer, front-...</td>\n",
       "      <td>Bachelor’s degree (BA, BS, B.Eng., etc.)</td>\n",
       "      <td>Employed full-time</td>\n",
       "      <td>NaN</td>\n",
       "      <td>Man</td>\n",
       "      <td>Yes</td>\n",
       "      <td>Slightly satisfied</td>\n",
       "      <td>I’m not actively looking, but I am open to new...</td>\n",
       "      <td>Elixir;HTML/CSS</td>\n",
       "      <td>HTML/CSS</td>\n",
       "      <td>I am not primarily a developer, but I write co...</td>\n",
       "      <td>8820.0</td>\n",
       "      <td>Web development or web design</td>\n",
       "      <td>1</td>\n",
       "    </tr>\n",
       "  </tbody>\n",
       "</table>\n",
       "</div>"
      ],
      "text/plain": [
       "    Age CompetenceLevel                 Country     CurrentJobSatis  \\\n",
       "0  14.0             NaN          United Kingdom                 NaN   \n",
       "1  19.0             NaN  Bosnia and Herzegovina                 NaN   \n",
       "2  28.0         Average                Thailand  Slightly satisfied   \n",
       "\n",
       "  Dependents                                            DevType  \\\n",
       "0         No                                                NaN   \n",
       "1         No  Developer, desktop or enterprise applications;...   \n",
       "2        Yes  Designer;Developer, back-end;Developer, front-...   \n",
       "\n",
       "                                             EdLevel  \\\n",
       "0                          Primary/elementary school   \n",
       "1  Secondary school (e.g. American high school, G...   \n",
       "2           Bachelor’s degree (BA, BS, B.Eng., etc.)   \n",
       "\n",
       "                               Employment Ethnicity Gender Hobbyist  \\\n",
       "0  Not employed, and not looking for work       NaN    Man      Yes   \n",
       "1      Not employed, but looking for work       NaN    Man       No   \n",
       "2                      Employed full-time       NaN    Man      Yes   \n",
       "\n",
       "      JobSatisfaction                                          JobStatus  \\\n",
       "0                 NaN                                                NaN   \n",
       "1                 NaN                    I am actively looking for a job   \n",
       "2  Slightly satisfied  I’m not actively looking, but I am open to new...   \n",
       "\n",
       "                            LanguageDesireNextYear  \\\n",
       "0  C;C++;C#;Go;HTML/CSS;Java;JavaScript;Python;SQL   \n",
       "1                      C++;HTML/CSS;JavaScript;SQL   \n",
       "2                                  Elixir;HTML/CSS   \n",
       "\n",
       "                LanguageWorkedWith  \\\n",
       "0  HTML/CSS;Java;JavaScript;Python   \n",
       "1              C++;HTML/CSS;Python   \n",
       "2                         HTML/CSS   \n",
       "\n",
       "                                          Profession  SalaryUSD  \\\n",
       "0             I am a student who is learning to code        NaN   \n",
       "1             I am a student who is learning to code        NaN   \n",
       "2  I am not primarily a developer, but I write co...     8820.0   \n",
       "\n",
       "                  UndergradMajor YearsCodePro  \n",
       "0                            NaN          NaN  \n",
       "1                            NaN          NaN  \n",
       "2  Web development or web design            1  "
      ]
     },
     "execution_count": 117,
     "metadata": {},
     "output_type": "execute_result"
    }
   ],
   "source": [
    "#sorting the columns alphabetically\n",
    "survey_df_2019.sort_index(axis=1).head(3)"
   ]
  },
  {
   "cell_type": "code",
   "execution_count": 118,
   "metadata": {},
   "outputs": [
    {
     "data": {
      "text/plain": [
       "Age                       float64\n",
       "JobSatisfaction            object\n",
       "SalaryUSD                 float64\n",
       "Country                    object\n",
       "Dependents                 object\n",
       "EdLevel                    object\n",
       "Employment                 object\n",
       "Ethnicity                  object\n",
       "Gender                     object\n",
       "Hobbyist                   object\n",
       "CompetenceLevel            object\n",
       "CurrentJobSatis            object\n",
       "JobStatus                  object\n",
       "LanguageDesireNextYear     object\n",
       "LanguageWorkedWith         object\n",
       "Profession                 object\n",
       "UndergradMajor             object\n",
       "YearsCodePro               object\n",
       "DevType                    object\n",
       "dtype: object"
      ]
     },
     "execution_count": 118,
     "metadata": {},
     "output_type": "execute_result"
    }
   ],
   "source": [
    "#datatype of survey data\n",
    "survey_df_2019.dtypes"
   ]
  },
  {
   "cell_type": "markdown",
   "metadata": {},
   "source": [
    "## Cleaning and Refactoring column values"
   ]
  },
  {
   "cell_type": "markdown",
   "metadata": {},
   "source": [
    "### Gender"
   ]
  },
  {
   "cell_type": "code",
   "execution_count": 119,
   "metadata": {},
   "outputs": [
    {
     "data": {
      "text/plain": [
       "Man                                                            77919\n",
       "Woman                                                           6344\n",
       "Non-binary, genderqueer, or gender non-conforming                597\n",
       "Man;Non-binary, genderqueer, or gender non-conforming            181\n",
       "Woman;Non-binary, genderqueer, or gender non-conforming          163\n",
       "Woman;Man                                                        132\n",
       "Woman;Man;Non-binary, genderqueer, or gender non-conforming       70\n",
       "Name: Gender, dtype: int64"
      ]
     },
     "execution_count": 119,
     "metadata": {},
     "output_type": "execute_result"
    }
   ],
   "source": [
    "survey_df_2019['Gender'].value_counts()"
   ]
  },
  {
   "cell_type": "code",
   "execution_count": 120,
   "metadata": {},
   "outputs": [],
   "source": [
    "#lets refactor Gender values to Male, female and Non binary\n",
    "#For the purpose of our data analysis we are considering three gender category. This not to defame any gender.\n",
    "#refactoring Gender\n",
    "\n",
    "def refactor_gender(df):\n",
    "    '''function to change gender category to Male, Female, Non binary'''\n",
    "    conditions = [(df['Gender'] == 'Man') | (df['Gender'] == 'Man;Non-binary, genderqueer, or gender non-conforming'),\n",
    "                  (df['Gender'] == 'Woman') | (df['Gender'] == 'Woman;Non-binary, genderqueer, or gender non-conforming'),\n",
    "                  (df['Gender'] == 'Non-binary, genderqueer, or gender non-conforming') \n",
    "                  | (df['Gender'] == 'Woman;Man') \n",
    "                  | (df['Gender'] == 'Woman;Man;Non-binary, genderqueer, or gender non-conforming')]\n",
    "\n",
    "    values = ['Man', 'Woman', 'Non-binary']\n",
    "\n",
    "    df['Gender'] = np.select(conditions, values, default = np.NaN)\n",
    "    \n",
    "    return df\n",
    "            \n",
    "survey_df_2019 = refactor_gender(survey_df_2019)\n",
    "survey_df_2019['Gender'].replace('nan', 'Non-binary', inplace =True)"
   ]
  },
  {
   "cell_type": "code",
   "execution_count": 121,
   "metadata": {},
   "outputs": [],
   "source": [
    "survey_df_2019['Gender'] = survey_df_2019['Gender'].fillna('Non-binary')"
   ]
  },
  {
   "cell_type": "code",
   "execution_count": 122,
   "metadata": {},
   "outputs": [
    {
     "data": {
      "text/plain": [
       "0"
      ]
     },
     "execution_count": 122,
     "metadata": {},
     "output_type": "execute_result"
    }
   ],
   "source": [
    "#Assigining the surveyors who havent mentioned their gender to Non-Binary category\n",
    "survey_df_2019.isnull().sum()['Gender']"
   ]
  },
  {
   "cell_type": "code",
   "execution_count": 123,
   "metadata": {},
   "outputs": [
    {
     "data": {
      "text/plain": [
       "Gender\n",
       "Man           78100\n",
       "Non-binary     4276\n",
       "Woman          6507\n",
       "Name: Gender, dtype: int64"
      ]
     },
     "execution_count": 123,
     "metadata": {},
     "output_type": "execute_result"
    }
   ],
   "source": [
    "survey_df_2019.groupby('Gender')['Gender'].count()"
   ]
  },
  {
   "cell_type": "markdown",
   "metadata": {},
   "source": [
    "## Age"
   ]
  },
  {
   "cell_type": "code",
   "execution_count": 124,
   "metadata": {},
   "outputs": [
    {
     "data": {
      "image/png": "[encoded data removed]",
      "text/plain": [
       "<Figure size 432x288 with 1 Axes>"
      ]
     },
     "metadata": {
      "needs_background": "light"
     },
     "output_type": "display_data"
    }
   ],
   "source": [
    "sns.boxplot(x='Age', y= 'Gender', data=survey_df_2019)\n",
    "plt.title(\"Before cleaning Age's outliers from genders\")\n",
    "plt.show()"
   ]
  },
  {
   "cell_type": "code",
   "execution_count": 125,
   "metadata": {},
   "outputs": [],
   "source": [
    "#We are considering developes of age 15 to 60\n",
    "filt = (survey_df_2019['Age'] >= 15) & (survey_df_2019['Age'] <= 60)\n",
    "survey_df_2019 = survey_df_2019[filt]"
   ]
  },
  {
   "cell_type": "code",
   "execution_count": 126,
   "metadata": {},
   "outputs": [
    {
     "data": {
      "image/png": "[encoded data removed]",
      "text/plain": [
       "<Figure size 432x288 with 1 Axes>"
      ]
     },
     "metadata": {
      "needs_background": "light"
     },
     "output_type": "display_data"
    }
   ],
   "source": [
    "sns.boxplot(x='Age', y= 'Gender', data=survey_df_2019)\n",
    "plt.title(\"After cleaning Age's outliers from genders\")\n",
    "plt.show()"
   ]
  },
  {
   "cell_type": "code",
   "execution_count": 127,
   "metadata": {},
   "outputs": [
    {
     "data": {
      "text/plain": [
       "0"
      ]
     },
     "execution_count": 127,
     "metadata": {},
     "output_type": "execute_result"
    }
   ],
   "source": [
    "survey_df_2019['Age'].isnull().sum()"
   ]
  },
  {
   "cell_type": "markdown",
   "metadata": {},
   "source": [
    "## Profession column (Mainbranch)"
   ]
  },
  {
   "cell_type": "code",
   "execution_count": 128,
   "metadata": {},
   "outputs": [
    {
     "data": {
      "text/plain": [
       "I am a developer by profession                                                   59247\n",
       "I am a student who is learning to code                                            8382\n",
       "I am not primarily a developer, but I write code sometimes as part of my work     6531\n",
       "I code primarily as a hobby                                                       2370\n",
       "I used to be a developer by profession, but no longer am                          1210\n",
       "Name: Profession, dtype: int64"
      ]
     },
     "execution_count": 128,
     "metadata": {},
     "output_type": "execute_result"
    }
   ],
   "source": [
    "survey_df_2019['Profession'].value_counts()"
   ]
  },
  {
   "cell_type": "code",
   "execution_count": 129,
   "metadata": {},
   "outputs": [
    {
     "data": {
      "text/plain": [
       "255"
      ]
     },
     "execution_count": 129,
     "metadata": {},
     "output_type": "execute_result"
    }
   ],
   "source": [
    "survey_df_2019['Profession'].isnull().sum()"
   ]
  },
  {
   "cell_type": "code",
   "execution_count": 130,
   "metadata": {},
   "outputs": [],
   "source": [
    "survey_df_2019['Profession'].fillna(method='ffill', inplace=True)"
   ]
  },
  {
   "cell_type": "code",
   "execution_count": 131,
   "metadata": {},
   "outputs": [
    {
     "data": {
      "text/plain": [
       "I am a developer by profession                                                   59502\n",
       "I am a student who is learning to code                                            8382\n",
       "I am not primarily a developer, but I write code sometimes as part of my work     6531\n",
       "I code primarily as a hobby                                                       2370\n",
       "I used to be a developer by profession, but no longer am                          1210\n",
       "Name: Profession, dtype: int64"
      ]
     },
     "execution_count": 131,
     "metadata": {},
     "output_type": "execute_result"
    }
   ],
   "source": [
    "survey_df_2019['Profession'].value_counts()"
   ]
  },
  {
   "cell_type": "code",
   "execution_count": 132,
   "metadata": {},
   "outputs": [],
   "source": [
    "\n",
    "#Lets refactor column values of Profession column\n",
    "#refactoring profession column\n",
    "\n",
    "def refactor_prof(df):\n",
    "    '''function to change Profession category to Developer, Student, Non-Developer, Novoice, Ex-Developer'''\n",
    "    conditions_prof = [(df['Profession'] == 'I am a developer by profession'),\n",
    "                       (df['Profession'] == 'I am a student who is learning to code'),\n",
    "                       (df['Profession'] == 'I am not primarily a developer, but I write code sometimes as part of my work'),\n",
    "                       (df['Profession'] == 'I code primarily as a hobby'),\n",
    "                       (df['Profession'] == 'I used to be a developer by profession, but no longer am')]\n",
    "    \n",
    "    choices_prof = ['Developer', 'Student', 'Non developer', 'Novoice', 'Ex-Developer']\n",
    "    \n",
    "    df['Profession'] = np.select(conditions_prof, choices_prof, default=np.nan)\n",
    "                       \n",
    "    return df\n",
    "\n",
    "survey_df_2019 = refactor_prof(survey_df_2019)"
   ]
  },
  {
   "cell_type": "code",
   "execution_count": 133,
   "metadata": {},
   "outputs": [
    {
     "data": {
      "text/plain": [
       "Developer        59502\n",
       "Student           8382\n",
       "Non developer     6531\n",
       "Novoice           2370\n",
       "Ex-Developer      1210\n",
       "Name: Profession, dtype: int64"
      ]
     },
     "execution_count": 133,
     "metadata": {},
     "output_type": "execute_result"
    }
   ],
   "source": [
    "survey_df_2019['Profession'].value_counts()"
   ]
  },
  {
   "cell_type": "markdown",
   "metadata": {},
   "source": [
    "## EdLevel"
   ]
  },
  {
   "cell_type": "code",
   "execution_count": 134,
   "metadata": {},
   "outputs": [
    {
     "data": {
      "text/plain": [
       "Bachelor’s degree (BA, BS, B.Eng., etc.)                                              34926\n",
       "Master’s degree (MA, MS, M.Eng., MBA, etc.)                                           17305\n",
       "Some college/university study without earning a degree                                 9571\n",
       "Secondary school (e.g. American high school, German Realschule or Gymnasium, etc.)     7638\n",
       "Associate degree                                                                       2585\n",
       "Other doctoral degree (Ph.D, Ed.D., etc.)                                              2032\n",
       "Professional degree (JD, MD, etc.)                                                     1037\n",
       "Primary/elementary school                                                               981\n",
       "I never completed any formal education                                                  352\n",
       "Name: EdLevel, dtype: int64"
      ]
     },
     "execution_count": 134,
     "metadata": {},
     "output_type": "execute_result"
    }
   ],
   "source": [
    "survey_df_2019['EdLevel'].value_counts()"
   ]
  },
  {
   "cell_type": "code",
   "execution_count": 135,
   "metadata": {},
   "outputs": [
    {
     "data": {
      "text/plain": [
       "1568"
      ]
     },
     "execution_count": 135,
     "metadata": {},
     "output_type": "execute_result"
    }
   ],
   "source": [
    "survey_df_2019['EdLevel'].isnull().sum()"
   ]
  },
  {
   "cell_type": "code",
   "execution_count": 136,
   "metadata": {},
   "outputs": [],
   "source": [
    "#  Refactoring EdLevel\n",
    "def refactor_ed(df):\n",
    "    '''function to change Education level category to Bachelors, Masters, Professional, Associate, Doctorate, No Degree'''\n",
    "    conditions_ed = [(df['EdLevel'] == 'Bachelor’s degree (BA, BS, B.Eng., etc.)'),\n",
    "                     (df['EdLevel'] == 'Master’s degree (MA, MS, M.Eng., MBA, etc.)'),\n",
    "                     (df['EdLevel'] == 'Professional degree (JD, MD, etc.)'),   \n",
    "                     (df['EdLevel'] == 'Associate degree'),\n",
    "                     (df['EdLevel'] == 'Other doctoral degree (Ph.D, Ed.D., etc.)'),\n",
    "                     (df['EdLevel'] == 'Some college/university study without earning a degree') \n",
    "                     | (df['EdLevel'] == 'Secondary school (e.g. American high school, German Realschule or Gymnasium, etc.)') \n",
    "                     | (df['EdLevel'] == 'Primary/elementary school')\n",
    "                     | (df['EdLevel'] == 'I never completed any formal education')]\n",
    "\n",
    "    choices_ed = ['Bachelors', 'Masters', 'Professional', 'Associate', 'Doctorate', 'No Degree']\n",
    "\n",
    "    df['EdLevel'] = np.select(conditions_ed, choices_ed, default = np.NaN)\n",
    "    \n",
    "    return df\n",
    "\n",
    "# applying function to subsets\n",
    "survey_df_2019 = refactor_ed(survey_df_2019)\n",
    "survey_df_2019['EdLevel'].replace('nan', 'Bachelors', inplace=True)"
   ]
  },
  {
   "cell_type": "code",
   "execution_count": 137,
   "metadata": {},
   "outputs": [
    {
     "data": {
      "text/plain": [
       "Bachelors       36494\n",
       "No Degree       18542\n",
       "Masters         17305\n",
       "Associate        2585\n",
       "Doctorate        2032\n",
       "Professional     1037\n",
       "Name: EdLevel, dtype: int64"
      ]
     },
     "execution_count": 137,
     "metadata": {},
     "output_type": "execute_result"
    }
   ],
   "source": [
    "survey_df_2019['EdLevel'].value_counts()"
   ]
  },
  {
   "cell_type": "code",
   "execution_count": 138,
   "metadata": {},
   "outputs": [
    {
     "data": {
      "text/plain": [
       "0"
      ]
     },
     "execution_count": 138,
     "metadata": {},
     "output_type": "execute_result"
    }
   ],
   "source": [
    "survey_df_2019.isnull().sum()['EdLevel']"
   ]
  },
  {
   "cell_type": "markdown",
   "metadata": {},
   "source": [
    "## Undergrad major"
   ]
  },
  {
   "cell_type": "code",
   "execution_count": 139,
   "metadata": {},
   "outputs": [
    {
     "data": {
      "text/plain": [
       "Computer science, computer engineering, or software engineering          42211\n",
       "Another engineering discipline (ex. civil, electrical, mechanical)        5472\n",
       "Information systems, information technology, or system administration     4646\n",
       "Web development or web design                                             2975\n",
       "A natural science (ex. biology, chemistry, physics)                       2866\n",
       "Mathematics or statistics                                                 2557\n",
       "A business discipline (ex. accounting, finance, marketing)                1633\n",
       "A humanities discipline (ex. literature, history, philosophy)             1408\n",
       "A social science (ex. anthropology, psychology, political science)        1246\n",
       "Fine arts or performing arts (ex. graphic design, music, studio art)      1124\n",
       "Name: UndergradMajor, dtype: int64"
      ]
     },
     "execution_count": 139,
     "metadata": {},
     "output_type": "execute_result"
    }
   ],
   "source": [
    "survey_df_2019['UndergradMajor'].value_counts().nlargest(10)"
   ]
  },
  {
   "cell_type": "code",
   "execution_count": 140,
   "metadata": {},
   "outputs": [
    {
     "data": {
      "text/plain": [
       "10787"
      ]
     },
     "execution_count": 140,
     "metadata": {},
     "output_type": "execute_result"
    }
   ],
   "source": [
    "survey_df_2019['UndergradMajor'].isnull().sum()"
   ]
  },
  {
   "cell_type": "code",
   "execution_count": 141,
   "metadata": {},
   "outputs": [],
   "source": [
    "survey_df_2019['UndergradMajor'].fillna(method='ffill', inplace=True)"
   ]
  },
  {
   "cell_type": "code",
   "execution_count": 142,
   "metadata": {},
   "outputs": [
    {
     "data": {
      "text/plain": [
       "Computer science, computer engineering, or software engineering          49010\n",
       "Another engineering discipline (ex. civil, electrical, mechanical)        6368\n",
       "Information systems, information technology, or system administration     5392\n",
       "Web development or web design                                             3424\n",
       "A natural science (ex. biology, chemistry, physics)                       3285\n",
       "Mathematics or statistics                                                 2984\n",
       "A business discipline (ex. accounting, finance, marketing)                1908\n",
       "A humanities discipline (ex. literature, history, philosophy)             1627\n",
       "A social science (ex. anthropology, psychology, political science)        1431\n",
       "Fine arts or performing arts (ex. graphic design, music, studio art)      1327\n",
       "I never declared a major                                                   922\n",
       "A health science (ex. nursing, pharmacy, radiology)                        316\n",
       "Name: UndergradMajor, dtype: int64"
      ]
     },
     "execution_count": 142,
     "metadata": {},
     "output_type": "execute_result"
    }
   ],
   "source": [
    "survey_df_2019['UndergradMajor'].value_counts().nlargest(15)"
   ]
  },
  {
   "cell_type": "code",
   "execution_count": 143,
   "metadata": {},
   "outputs": [
    {
     "data": {
      "text/plain": [
       "1"
      ]
     },
     "execution_count": 143,
     "metadata": {},
     "output_type": "execute_result"
    }
   ],
   "source": [
    "survey_df_2019['UndergradMajor'].isnull().sum()"
   ]
  },
  {
   "cell_type": "code",
   "execution_count": 144,
   "metadata": {},
   "outputs": [],
   "source": [
    "survey_df_2019.dropna(subset=['UndergradMajor'], inplace=True)"
   ]
  },
  {
   "cell_type": "code",
   "execution_count": 145,
   "metadata": {},
   "outputs": [
    {
     "data": {
      "text/plain": [
       "0"
      ]
     },
     "execution_count": 145,
     "metadata": {},
     "output_type": "execute_result"
    }
   ],
   "source": [
    "survey_df_2019['UndergradMajor'].isnull().sum()"
   ]
  },
  {
   "cell_type": "code",
   "execution_count": 146,
   "metadata": {},
   "outputs": [],
   "source": [
    "\n",
    "# Refactoring UndergradMajor\n",
    "def refactor_major(df):\n",
    "    '''function to change undergrad major category to Computer Science, Engineering, Info Systems, Math/Stat, \n",
    "        Other Science, Web Design/Dev, Business, Arts and Science'''\n",
    "    \n",
    "    \n",
    "    conditions_major = [(df['UndergradMajor'] == 'Computer science, computer engineering, or software engineering'),\n",
    "                        (df['UndergradMajor'] == 'Another engineering discipline (ex. civil, electrical, mechanical)'),\n",
    "                        (df['UndergradMajor'] == 'Information systems, information technology, or system administration'),\n",
    "                        (df['UndergradMajor'] == 'Mathematics or statistics'),\n",
    "                        (df['UndergradMajor'] == 'I never declared a major'),\n",
    "                        (df['UndergradMajor'] == 'A natural science (ex. biology, chemistry, physics)')\n",
    "                        |(df['UndergradMajor'] == 'A health science (ex. nursing, pharmacy, radiology)'),\n",
    "                        (df['UndergradMajor'] == 'Web development or web design'),\n",
    "                        (df['UndergradMajor'] == 'A business discipline (ex. accounting, finance, marketing)'),\n",
    "                        (df['UndergradMajor'] == 'A humanities discipline (ex. literature, history, philosophy)')\n",
    "                        | (df['UndergradMajor'] == 'A social science (ex. anthropology, psychology, political science)')\n",
    "                        | (df['UndergradMajor'] == 'Fine arts or performing arts (ex. graphic design, music, studio art)')]\n",
    "\n",
    "    choices_major = ['Computer Science', 'Engineering', 'Info Systems', 'Math/Stat', 'No Major', 'Other Science',\n",
    "                     'Web Design/Dev', 'Business', 'Arts and Science']\n",
    "\n",
    "    df['UndergradMajor'] = np.select(conditions_major, choices_major, default = np.NaN)\n",
    "    \n",
    "    return df\n",
    "\n",
    "# applying function to subsets\n",
    "survey_df_2019 = refactor_major(survey_df_2019)"
   ]
  },
  {
   "cell_type": "code",
   "execution_count": 147,
   "metadata": {},
   "outputs": [
    {
     "data": {
      "text/plain": [
       "Computer Science    49010\n",
       "Engineering          6368\n",
       "Info Systems         5392\n",
       "Arts and Science     4385\n",
       "Other Science        3601\n",
       "Web Design/Dev       3424\n",
       "Math/Stat            2984\n",
       "Business             1908\n",
       "No Major              922\n",
       "Name: UndergradMajor, dtype: int64"
      ]
     },
     "execution_count": 147,
     "metadata": {},
     "output_type": "execute_result"
    }
   ],
   "source": [
    "survey_df_2019['UndergradMajor'].value_counts()"
   ]
  },
  {
   "cell_type": "markdown",
   "metadata": {},
   "source": [
    "## Job Status"
   ]
  },
  {
   "cell_type": "code",
   "execution_count": 148,
   "metadata": {},
   "outputs": [
    {
     "data": {
      "text/plain": [
       "I’m not actively looking, but I am open to new opportunities    42258\n",
       "I am not interested in new job opportunities                    19161\n",
       "I am actively looking for a job                                 10491\n",
       "Name: JobStatus, dtype: int64"
      ]
     },
     "execution_count": 148,
     "metadata": {},
     "output_type": "execute_result"
    }
   ],
   "source": [
    "survey_df_2019['JobStatus'].value_counts()"
   ]
  },
  {
   "cell_type": "code",
   "execution_count": 149,
   "metadata": {},
   "outputs": [
    {
     "data": {
      "text/plain": [
       "6084"
      ]
     },
     "execution_count": 149,
     "metadata": {},
     "output_type": "execute_result"
    }
   ],
   "source": [
    "survey_df_2019['JobStatus'].isnull().sum()"
   ]
  },
  {
   "cell_type": "code",
   "execution_count": 150,
   "metadata": {},
   "outputs": [],
   "source": [
    "survey_df_2019['JobStatus'].fillna(method='ffill', inplace=True)"
   ]
  },
  {
   "cell_type": "code",
   "execution_count": 151,
   "metadata": {},
   "outputs": [
    {
     "data": {
      "text/plain": [
       "0"
      ]
     },
     "execution_count": 151,
     "metadata": {},
     "output_type": "execute_result"
    }
   ],
   "source": [
    "survey_df_2019['JobStatus'].isnull().sum()"
   ]
  },
  {
   "cell_type": "code",
   "execution_count": 152,
   "metadata": {},
   "outputs": [
    {
     "data": {
      "text/plain": [
       "I’m not actively looking, but I am open to new opportunities    45917\n",
       "I am not interested in new job opportunities                    20712\n",
       "I am actively looking for a job                                 11365\n",
       "Name: JobStatus, dtype: int64"
      ]
     },
     "execution_count": 152,
     "metadata": {},
     "output_type": "execute_result"
    }
   ],
   "source": [
    "survey_df_2019['JobStatus'].value_counts()"
   ]
  },
  {
   "cell_type": "code",
   "execution_count": 153,
   "metadata": {},
   "outputs": [],
   "source": [
    "survey_df_2019.dropna(subset=['JobStatus'], inplace=True)"
   ]
  },
  {
   "cell_type": "code",
   "execution_count": 154,
   "metadata": {},
   "outputs": [],
   "source": [
    "\n",
    "# refactoring JobStatus\n",
    "# changing the jobstatus to seeking and non seeking\n",
    "def refactor_job(df):\n",
    "    '''function to change JobStatus category to Seeking and Non Seeking'''\n",
    "    \n",
    "    conditions_job = [(df['JobStatus'] == 'I am actively looking for a job'),\n",
    "                    (df['JobStatus'] == 'I am not interested in new job opportunities')\n",
    "                    | (df['JobStatus'] == 'I’m not actively looking, but I am open to new opportunities')]\n",
    "    \n",
    "    choices_job = ['Seeking', 'Not seeking']\n",
    "    \n",
    "    df['JobStatus'] = np.select(conditions_job, choices_job, default=np.nan)\n",
    "                       \n",
    "    return df\n",
    "\n",
    "survey_df_2019 = refactor_job(survey_df_2019)"
   ]
  },
  {
   "cell_type": "code",
   "execution_count": 155,
   "metadata": {},
   "outputs": [
    {
     "data": {
      "text/plain": [
       "Not seeking    66629\n",
       "Seeking        11365\n",
       "Name: JobStatus, dtype: int64"
      ]
     },
     "execution_count": 155,
     "metadata": {},
     "output_type": "execute_result"
    }
   ],
   "source": [
    "survey_df_2019['JobStatus'].value_counts()"
   ]
  },
  {
   "cell_type": "markdown",
   "metadata": {},
   "source": [
    "## JobSatisfaction"
   ]
  },
  {
   "cell_type": "code",
   "execution_count": 156,
   "metadata": {},
   "outputs": [
    {
     "data": {
      "text/plain": [
       "Very satisfied                        26584\n",
       "Slightly satisfied                    22739\n",
       "Slightly dissatisfied                  6843\n",
       "Neither satisfied nor dissatisfied     6158\n",
       "Very dissatisfied                      3203\n",
       "Name: JobSatisfaction, dtype: int64"
      ]
     },
     "execution_count": 156,
     "metadata": {},
     "output_type": "execute_result"
    }
   ],
   "source": [
    "survey_df_2019['JobSatisfaction'].value_counts()"
   ]
  },
  {
   "cell_type": "code",
   "execution_count": 157,
   "metadata": {},
   "outputs": [
    {
     "data": {
      "text/plain": [
       "12467"
      ]
     },
     "execution_count": 157,
     "metadata": {},
     "output_type": "execute_result"
    }
   ],
   "source": [
    "survey_df_2019['JobSatisfaction'].isnull().sum()"
   ]
  },
  {
   "cell_type": "code",
   "execution_count": 158,
   "metadata": {},
   "outputs": [],
   "source": [
    "survey_df_2019['JobSatisfaction'].fillna(method='ffill', inplace=True)"
   ]
  },
  {
   "cell_type": "code",
   "execution_count": 159,
   "metadata": {},
   "outputs": [
    {
     "data": {
      "text/plain": [
       "0"
      ]
     },
     "execution_count": 159,
     "metadata": {},
     "output_type": "execute_result"
    }
   ],
   "source": [
    "survey_df_2019['JobSatisfaction'].isnull().sum()"
   ]
  },
  {
   "cell_type": "code",
   "execution_count": 160,
   "metadata": {},
   "outputs": [
    {
     "data": {
      "text/plain": [
       "Very satisfied                        31507\n",
       "Slightly satisfied                    26970\n",
       "Slightly dissatisfied                  8343\n",
       "Neither satisfied nor dissatisfied     7313\n",
       "Very dissatisfied                      3861\n",
       "Name: JobSatisfaction, dtype: int64"
      ]
     },
     "execution_count": 160,
     "metadata": {},
     "output_type": "execute_result"
    }
   ],
   "source": [
    "survey_df_2019['JobSatisfaction'].value_counts()"
   ]
  },
  {
   "cell_type": "markdown",
   "metadata": {},
   "source": [
    "## Employment"
   ]
  },
  {
   "cell_type": "code",
   "execution_count": 161,
   "metadata": {},
   "outputs": [
    {
     "data": {
      "text/plain": [
       "Employed full-time                                      58069\n",
       "Independent contractor, freelancer, or self-employed     7305\n",
       "Not employed, but looking for work                       4703\n",
       "Employed part-time                                       3958\n",
       "Not employed, and not looking for work                   2914\n",
       "Retired                                                    76\n",
       "Name: Employment, dtype: int64"
      ]
     },
     "execution_count": 161,
     "metadata": {},
     "output_type": "execute_result"
    }
   ],
   "source": [
    "survey_df_2019['Employment'].value_counts()"
   ]
  },
  {
   "cell_type": "code",
   "execution_count": 162,
   "metadata": {},
   "outputs": [
    {
     "data": {
      "text/plain": [
       "969"
      ]
     },
     "execution_count": 162,
     "metadata": {},
     "output_type": "execute_result"
    }
   ],
   "source": [
    "survey_df_2019['Employment'].isnull().sum()"
   ]
  },
  {
   "cell_type": "code",
   "execution_count": 163,
   "metadata": {},
   "outputs": [],
   "source": [
    "survey_df_2019['Employment'].fillna(method='ffill', inplace=True)"
   ]
  },
  {
   "cell_type": "code",
   "execution_count": 164,
   "metadata": {},
   "outputs": [
    {
     "data": {
      "text/plain": [
       "0"
      ]
     },
     "execution_count": 164,
     "metadata": {},
     "output_type": "execute_result"
    }
   ],
   "source": [
    "survey_df_2019['Employment'].isnull().sum()"
   ]
  },
  {
   "cell_type": "code",
   "execution_count": 165,
   "metadata": {},
   "outputs": [
    {
     "data": {
      "text/plain": [
       "Employed full-time                                      58771\n",
       "Independent contractor, freelancer, or self-employed     7397\n",
       "Not employed, but looking for work                       4770\n",
       "Employed part-time                                       4017\n",
       "Not employed, and not looking for work                   2960\n",
       "Retired                                                    79\n",
       "Name: Employment, dtype: int64"
      ]
     },
     "execution_count": 165,
     "metadata": {},
     "output_type": "execute_result"
    }
   ],
   "source": [
    "survey_df_2019['Employment'].value_counts()"
   ]
  },
  {
   "cell_type": "code",
   "execution_count": 166,
   "metadata": {},
   "outputs": [],
   "source": [
    "#Refactoring the employment\n",
    "def refactor_emp(df):\n",
    "    '''function to change Employment category to Full-time, Self-employed, Not employed, Part-time '''\n",
    "    conditions_emp = [(df['Employment'] == 'Employed full-time'),\n",
    "                    (df['Employment'] == 'Independent contractor, freelancer, or self-employed'),\n",
    "                    (df['Employment'] == 'Not employed, but looking for work')\n",
    "                    | (df['Employment'] == 'Not employed, and not looking for work')\n",
    "                    | (df['Employment'] == 'Retired'),\n",
    "                    (df['Employment'] == 'Employed part-time')]\n",
    "    \n",
    "    choices_emp = ['Full-time', 'Self-employed', 'Not employed', 'Part-time']\n",
    "    \n",
    "    df['Employment'] = np.select(conditions_emp, choices_emp, default=np.nan)\n",
    "                       \n",
    "    return df\n",
    "\n",
    "\n",
    "survey_df_2019 = refactor_emp(survey_df_2019)"
   ]
  },
  {
   "cell_type": "code",
   "execution_count": 167,
   "metadata": {},
   "outputs": [
    {
     "data": {
      "text/plain": [
       "Full-time        58771\n",
       "Not employed      7809\n",
       "Self-employed     7397\n",
       "Part-time         4017\n",
       "Name: Employment, dtype: int64"
      ]
     },
     "execution_count": 167,
     "metadata": {},
     "output_type": "execute_result"
    }
   ],
   "source": [
    "survey_df_2019['Employment'].value_counts()"
   ]
  },
  {
   "cell_type": "markdown",
   "metadata": {},
   "source": [
    "## Ethnicity"
   ]
  },
  {
   "cell_type": "code",
   "execution_count": 168,
   "metadata": {},
   "outputs": [],
   "source": [
    "ethnicity_list = survey_df_2019['Ethnicity'].unique().tolist()"
   ]
  },
  {
   "cell_type": "code",
   "execution_count": 169,
   "metadata": {},
   "outputs": [
    {
     "data": {
      "text/plain": [
       "[nan,\n",
       " 'White or of European descent',\n",
       " 'White or of European descent;Multiracial',\n",
       " 'East Asian',\n",
       " 'Black or of African descent;East Asian;Hispanic or Latino/Latina;Middle Eastern;Native American, Pacific Islander, or Indigenous Australian;South Asian;White or of European descent;Biracial;Multiracial',\n",
       " 'Black or of African descent',\n",
       " 'Hispanic or Latino/Latina;Multiracial',\n",
       " 'Hispanic or Latino/Latina',\n",
       " 'Middle Eastern',\n",
       " 'South Asian',\n",
       " 'Multiracial',\n",
       " 'East Asian;South Asian',\n",
       " 'Biracial',\n",
       " 'Native American, Pacific Islander, or Indigenous Australian;White or of European descent',\n",
       " 'Black or of African descent;White or of European descent;Biracial',\n",
       " 'Middle Eastern;White or of European descent',\n",
       " 'Native American, Pacific Islander, or Indigenous Australian',\n",
       " 'Black or of African descent;White or of European descent',\n",
       " 'White or of European descent;Biracial;Multiracial',\n",
       " 'Hispanic or Latino/Latina;White or of European descent',\n",
       " 'East Asian;White or of European descent;Biracial',\n",
       " 'Black or of African descent;Hispanic or Latino/Latina;Native American, Pacific Islander, or Indigenous Australian;White or of European descent;Multiracial',\n",
       " 'East Asian;White or of European descent',\n",
       " 'Hispanic or Latino/Latina;White or of European descent;Biracial',\n",
       " 'East Asian;Native American, Pacific Islander, or Indigenous Australian;White or of European descent;Multiracial',\n",
       " 'Hispanic or Latino/Latina;White or of European descent;Multiracial',\n",
       " 'South Asian;White or of European descent;Multiracial',\n",
       " 'South Asian;Biracial',\n",
       " 'Middle Eastern;South Asian',\n",
       " 'East Asian;South Asian;Multiracial',\n",
       " 'White or of European descent;Biracial',\n",
       " 'East Asian;Biracial;Multiracial',\n",
       " 'Black or of African descent;Hispanic or Latino/Latina',\n",
       " 'East Asian;Hispanic or Latino/Latina;White or of European descent',\n",
       " 'East Asian;White or of European descent;Multiracial',\n",
       " 'South Asian;White or of European descent;Biracial',\n",
       " 'East Asian;South Asian;White or of European descent;Multiracial',\n",
       " 'Native American, Pacific Islander, or Indigenous Australian;White or of European descent;Multiracial',\n",
       " 'South Asian;White or of European descent;Biracial;Multiracial',\n",
       " 'Black or of African descent;White or of European descent;Multiracial',\n",
       " 'Black or of African descent;Hispanic or Latino/Latina;White or of European descent',\n",
       " 'Hispanic or Latino/Latina;Middle Eastern;White or of European descent',\n",
       " 'Hispanic or Latino/Latina;Biracial',\n",
       " 'Hispanic or Latino/Latina;South Asian;Multiracial',\n",
       " 'Black or of African descent;East Asian;South Asian;White or of European descent;Biracial;Multiracial',\n",
       " 'Black or of African descent;Hispanic or Latino/Latina;Native American, Pacific Islander, or Indigenous Australian;Multiracial',\n",
       " 'East Asian;Middle Eastern',\n",
       " 'Native American, Pacific Islander, or Indigenous Australian;White or of European descent;Biracial',\n",
       " 'Black or of African descent;Multiracial',\n",
       " 'Middle Eastern;White or of European descent;Biracial',\n",
       " 'East Asian;Middle Eastern;South Asian',\n",
       " 'East Asian;Biracial',\n",
       " 'Middle Eastern;White or of European descent;Multiracial',\n",
       " 'Black or of African descent;Biracial',\n",
       " 'Black or of African descent;Hispanic or Latino/Latina;White or of European descent;Multiracial',\n",
       " 'Middle Eastern;Multiracial',\n",
       " 'Black or of African descent;Middle Eastern',\n",
       " 'Hispanic or Latino/Latina;Native American, Pacific Islander, or Indigenous Australian;White or of European descent',\n",
       " 'Black or of African descent;South Asian;Multiracial',\n",
       " 'East Asian;Hispanic or Latino/Latina',\n",
       " 'South Asian;Multiracial',\n",
       " 'East Asian;South Asian;White or of European descent;Biracial;Multiracial',\n",
       " 'Black or of African descent;Hispanic or Latino/Latina;Multiracial',\n",
       " 'South Asian;White or of European descent',\n",
       " 'Black or of African descent;East Asian',\n",
       " 'Black or of African descent;Middle Eastern;Multiracial',\n",
       " 'Native American, Pacific Islander, or Indigenous Australian;South Asian;White or of European descent;Biracial',\n",
       " 'Native American, Pacific Islander, or Indigenous Australian;South Asian;White or of European descent',\n",
       " 'Native American, Pacific Islander, or Indigenous Australian;South Asian',\n",
       " 'Black or of African descent;South Asian;White or of European descent;Multiracial',\n",
       " 'East Asian;White or of European descent;Biracial;Multiracial',\n",
       " 'Middle Eastern;Native American, Pacific Islander, or Indigenous Australian;White or of European descent;Multiracial',\n",
       " 'Hispanic or Latino/Latina;Middle Eastern;Native American, Pacific Islander, or Indigenous Australian;White or of European descent',\n",
       " 'Middle Eastern;Biracial',\n",
       " 'East Asian;Multiracial',\n",
       " 'Black or of African descent;East Asian;Hispanic or Latino/Latina',\n",
       " 'Black or of African descent;East Asian;Hispanic or Latino/Latina;Middle Eastern;Native American, Pacific Islander, or Indigenous Australian;South Asian;White or of European descent;Biracial',\n",
       " 'Hispanic or Latino/Latina;Biracial;Multiracial',\n",
       " 'Black or of African descent;South Asian',\n",
       " 'Black or of African descent;East Asian;White or of European descent;Multiracial',\n",
       " 'Hispanic or Latino/Latina;White or of European descent;Biracial;Multiracial',\n",
       " 'Hispanic or Latino/Latina;Native American, Pacific Islander, or Indigenous Australian;White or of European descent;Multiracial',\n",
       " 'Black or of African descent;White or of European descent;Biracial;Multiracial',\n",
       " 'East Asian;Hispanic or Latino/Latina;South Asian',\n",
       " 'East Asian;Middle Eastern;White or of European descent;Biracial',\n",
       " 'Black or of African descent;Native American, Pacific Islander, or Indigenous Australian;White or of European descent;Multiracial',\n",
       " 'Hispanic or Latino/Latina;Native American, Pacific Islander, or Indigenous Australian',\n",
       " 'Black or of African descent;Native American, Pacific Islander, or Indigenous Australian',\n",
       " 'Black or of African descent;East Asian;Hispanic or Latino/Latina;Biracial',\n",
       " 'East Asian;Native American, Pacific Islander, or Indigenous Australian',\n",
       " 'Black or of African descent;Hispanic or Latino/Latina;Biracial',\n",
       " 'East Asian;Native American, Pacific Islander, or Indigenous Australian;South Asian',\n",
       " 'Middle Eastern;South Asian;Multiracial',\n",
       " 'Black or of African descent;Middle Eastern;White or of European descent',\n",
       " 'Black or of African descent;Biracial;Multiracial',\n",
       " 'Hispanic or Latino/Latina;Native American, Pacific Islander, or Indigenous Australian;White or of European descent;Biracial;Multiracial',\n",
       " 'Hispanic or Latino/Latina;Middle Eastern',\n",
       " 'Black or of African descent;Middle Eastern;Biracial',\n",
       " 'Black or of African descent;Native American, Pacific Islander, or Indigenous Australian;Biracial',\n",
       " 'Native American, Pacific Islander, or Indigenous Australian;White or of European descent;Biracial;Multiracial',\n",
       " 'Black or of African descent;Hispanic or Latino/Latina;Middle Eastern;Multiracial',\n",
       " 'Hispanic or Latino/Latina;Native American, Pacific Islander, or Indigenous Australian;Multiracial',\n",
       " 'East Asian;Middle Eastern;South Asian;White or of European descent',\n",
       " 'East Asian;Middle Eastern;White or of European descent;Multiracial',\n",
       " 'Black or of African descent;Hispanic or Latino/Latina;Native American, Pacific Islander, or Indigenous Australian;White or of European descent',\n",
       " 'Biracial;Multiracial',\n",
       " 'Hispanic or Latino/Latina;Middle Eastern;Native American, Pacific Islander, or Indigenous Australian;South Asian;White or of European descent',\n",
       " 'Hispanic or Latino/Latina;Middle Eastern;White or of European descent;Multiracial',\n",
       " 'Hispanic or Latino/Latina;Middle Eastern;Biracial',\n",
       " 'East Asian;Middle Eastern;White or of European descent',\n",
       " 'East Asian;Middle Eastern;Native American, Pacific Islander, or Indigenous Australian;South Asian;White or of European descent',\n",
       " 'Black or of African descent;East Asian;Native American, Pacific Islander, or Indigenous Australian;White or of European descent',\n",
       " 'East Asian;Hispanic or Latino/Latina;Middle Eastern;White or of European descent',\n",
       " 'Black or of African descent;East Asian;Hispanic or Latino/Latina;Native American, Pacific Islander, or Indigenous Australian;White or of European descent;Multiracial',\n",
       " 'Black or of African descent;South Asian;White or of European descent',\n",
       " 'Hispanic or Latino/Latina;Native American, Pacific Islander, or Indigenous Australian;South Asian;Biracial',\n",
       " 'Black or of African descent;East Asian;Hispanic or Latino/Latina;Middle Eastern;Native American, Pacific Islander, or Indigenous Australian;South Asian;White or of European descent',\n",
       " 'East Asian;South Asian;Biracial',\n",
       " 'East Asian;Native American, Pacific Islander, or Indigenous Australian;White or of European descent',\n",
       " 'East Asian;Hispanic or Latino/Latina;White or of European descent;Multiracial',\n",
       " 'East Asian;Middle Eastern;Native American, Pacific Islander, or Indigenous Australian',\n",
       " 'Hispanic or Latino/Latina;South Asian;White or of European descent',\n",
       " 'Middle Eastern;Native American, Pacific Islander, or Indigenous Australian;White or of European descent',\n",
       " 'Black or of African descent;East Asian;Biracial',\n",
       " 'East Asian;Hispanic or Latino/Latina;Biracial',\n",
       " 'East Asian;South Asian;White or of European descent',\n",
       " 'Black or of African descent;Hispanic or Latino/Latina;Middle Eastern;Biracial',\n",
       " 'Hispanic or Latino/Latina;Middle Eastern;Native American, Pacific Islander, or Indigenous Australian;White or of European descent;Multiracial',\n",
       " 'East Asian;Hispanic or Latino/Latina;Biracial;Multiracial',\n",
       " 'Hispanic or Latino/Latina;South Asian',\n",
       " 'East Asian;South Asian;Biracial;Multiracial',\n",
       " 'East Asian;Native American, Pacific Islander, or Indigenous Australian;Multiracial',\n",
       " 'Native American, Pacific Islander, or Indigenous Australian;Biracial;Multiracial',\n",
       " 'Black or of African descent;Hispanic or Latino/Latina;White or of European descent;Biracial;Multiracial',\n",
       " 'Hispanic or Latino/Latina;South Asian;White or of European descent;Multiracial',\n",
       " 'Hispanic or Latino/Latina;South Asian;Biracial',\n",
       " 'East Asian;Middle Eastern;Multiracial',\n",
       " 'Black or of African descent;East Asian;Native American, Pacific Islander, or Indigenous Australian;South Asian;White or of European descent;Multiracial',\n",
       " 'Black or of African descent;Middle Eastern;Native American, Pacific Islander, or Indigenous Australian;White or of European descent;Multiracial',\n",
       " 'Middle Eastern;South Asian;White or of European descent',\n",
       " 'Middle Eastern;White or of European descent;Biracial;Multiracial',\n",
       " 'Black or of African descent;East Asian;Native American, Pacific Islander, or Indigenous Australian;White or of European descent;Multiracial',\n",
       " 'East Asian;Hispanic or Latino/Latina;Middle Eastern',\n",
       " 'Black or of African descent;East Asian;Hispanic or Latino/Latina;White or of European descent;Multiracial',\n",
       " 'Native American, Pacific Islander, or Indigenous Australian;Multiracial',\n",
       " 'East Asian;Native American, Pacific Islander, or Indigenous Australian;South Asian;White or of European descent',\n",
       " 'East Asian;Middle Eastern;South Asian;Multiracial',\n",
       " 'Black or of African descent;East Asian;Hispanic or Latino/Latina;Middle Eastern;Native American, Pacific Islander, or Indigenous Australian;South Asian;Biracial;Multiracial',\n",
       " 'Black or of African descent;East Asian;Hispanic or Latino/Latina;Middle Eastern;South Asian;White or of European descent;Biracial;Multiracial',\n",
       " 'East Asian;Hispanic or Latino/Latina;Multiracial',\n",
       " 'Black or of African descent;East Asian;Middle Eastern;White or of European descent;Biracial;Multiracial',\n",
       " 'Hispanic or Latino/Latina;Middle Eastern;White or of European descent;Biracial',\n",
       " 'Black or of African descent;Middle Eastern;South Asian',\n",
       " 'East Asian;Native American, Pacific Islander, or Indigenous Australian;Biracial;Multiracial',\n",
       " 'East Asian;Hispanic or Latino/Latina;Native American, Pacific Islander, or Indigenous Australian;White or of European descent',\n",
       " 'South Asian;Biracial;Multiracial',\n",
       " 'Black or of African descent;Hispanic or Latino/Latina;South Asian',\n",
       " 'Native American, Pacific Islander, or Indigenous Australian;South Asian;White or of European descent;Multiracial',\n",
       " 'East Asian;Hispanic or Latino/Latina;Middle Eastern;South Asian',\n",
       " 'Hispanic or Latino/Latina;Middle Eastern;Multiracial',\n",
       " 'Black or of African descent;East Asian;Multiracial',\n",
       " 'Black or of African descent;Native American, Pacific Islander, or Indigenous Australian;Multiracial',\n",
       " 'East Asian;Middle Eastern;South Asian;White or of European descent;Multiracial',\n",
       " 'Black or of African descent;East Asian;South Asian',\n",
       " 'Black or of African descent;Hispanic or Latino/Latina;Biracial;Multiracial',\n",
       " 'Hispanic or Latino/Latina;Native American, Pacific Islander, or Indigenous Australian;Biracial',\n",
       " 'East Asian;Native American, Pacific Islander, or Indigenous Australian;White or of European descent;Biracial;Multiracial',\n",
       " 'Black or of African descent;East Asian;Middle Eastern;Native American, Pacific Islander, or Indigenous Australian;White or of European descent;Multiracial',\n",
       " 'Hispanic or Latino/Latina;Native American, Pacific Islander, or Indigenous Australian;South Asian;White or of European descent',\n",
       " 'Black or of African descent;South Asian;Biracial',\n",
       " 'East Asian;Hispanic or Latino/Latina;Native American, Pacific Islander, or Indigenous Australian;South Asian',\n",
       " 'East Asian;South Asian;White or of European descent;Biracial',\n",
       " 'Black or of African descent;East Asian;Middle Eastern;South Asian;Multiracial']"
      ]
     },
     "execution_count": 169,
     "metadata": {},
     "output_type": "execute_result"
    }
   ],
   "source": [
    "#here, you can see that we have long list of values. lets refactor them\n",
    "ethnicity_list"
   ]
  },
  {
   "cell_type": "code",
   "execution_count": 170,
   "metadata": {},
   "outputs": [
    {
     "data": {
      "text/plain": [
       "173"
      ]
     },
     "execution_count": 170,
     "metadata": {},
     "output_type": "execute_result"
    }
   ],
   "source": [
    "len(ethnicity_list)"
   ]
  },
  {
   "cell_type": "code",
   "execution_count": 171,
   "metadata": {},
   "outputs": [],
   "source": [
    "#refactoring long list of values into categories.\n",
    "survey_df_2019.loc[survey_df_2019['Ethnicity'].str.match('Biracial', na=False), 'Ethnicity'] = 'Biracial'\n",
    "survey_df_2019.loc[survey_df_2019['Ethnicity'].str.match('Black or of African descent', na=False), 'Ethnicity'] = 'Black or of African descent'\n",
    "survey_df_2019.loc[survey_df_2019['Ethnicity'].str.match('East Asian', na=False), 'Ethnicity'] = 'East Asian'\n",
    "survey_df_2019.loc[survey_df_2019['Ethnicity'].str.match('Hispanic or Latino', na=False), 'Ethnicity'] = 'Hispanic or Latino'\n",
    "survey_df_2019.loc[survey_df_2019['Ethnicity'].str.match('Indigenous', na=False), 'Ethnicity'] = 'Indigenous'\n",
    "survey_df_2019.loc[survey_df_2019['Ethnicity'].str.match('Middle Eastern', na=False), 'Ethnicity'] = 'Middle Eastern'\n",
    "survey_df_2019.loc[survey_df_2019['Ethnicity'].str.match('South Asian', na=False), 'Ethnicity'] = 'South Asian'\n",
    "survey_df_2019.loc[survey_df_2019['Ethnicity'].str.match('White or of European descent', na=False), 'Ethnicity'] = 'White or of European descent'\n",
    "survey_df_2019.loc[survey_df_2019['Ethnicity'].str.match('Multiracial', na=False), 'Ethnicity'] = 'Multiracial'\n",
    "survey_df_2019.loc[survey_df_2019['Ethnicity'].str.match('Native American', na=False), 'Ethnicity'] = 'Native American'"
   ]
  },
  {
   "cell_type": "code",
   "execution_count": 172,
   "metadata": {},
   "outputs": [
    {
     "data": {
      "text/plain": [
       "7804"
      ]
     },
     "execution_count": 172,
     "metadata": {},
     "output_type": "execute_result"
    }
   ],
   "source": [
    "survey_df_2019['Ethnicity'].isnull().sum()"
   ]
  },
  {
   "cell_type": "code",
   "execution_count": 173,
   "metadata": {},
   "outputs": [
    {
     "data": {
      "text/plain": [
       "White or of European descent    47587\n",
       "South Asian                      7417\n",
       "Hispanic or Latino               4901\n",
       "East Asian                       3698\n",
       "Middle Eastern                   3057\n",
       "Black or of African descent      2360\n",
       "Multiracial                       572\n",
       "Native American                   322\n",
       "Biracial                          276\n",
       "Name: Ethnicity, dtype: int64"
      ]
     },
     "execution_count": 173,
     "metadata": {},
     "output_type": "execute_result"
    }
   ],
   "source": [
    "survey_df_2019['Ethnicity'].value_counts()"
   ]
  },
  {
   "cell_type": "code",
   "execution_count": 174,
   "metadata": {},
   "outputs": [],
   "source": [
    "survey_df_2019['Ethnicity']=survey_df_2019.groupby(['Country'])['Ethnicity'].bfill().ffill()"
   ]
  },
  {
   "cell_type": "code",
   "execution_count": 175,
   "metadata": {},
   "outputs": [
    {
     "data": {
      "text/plain": [
       "0"
      ]
     },
     "execution_count": 175,
     "metadata": {},
     "output_type": "execute_result"
    }
   ],
   "source": [
    "survey_df_2019['Ethnicity'].isnull().sum()"
   ]
  },
  {
   "cell_type": "code",
   "execution_count": 176,
   "metadata": {},
   "outputs": [
    {
     "data": {
      "text/plain": [
       "White or of European descent    50883\n",
       "South Asian                     10061\n",
       "Hispanic or Latino               5204\n",
       "East Asian                       4391\n",
       "Middle Eastern                   3596\n",
       "Black or of African descent      2570\n",
       "Multiracial                       632\n",
       "Native American                   355\n",
       "Biracial                          302\n",
       "Name: Ethnicity, dtype: int64"
      ]
     },
     "execution_count": 176,
     "metadata": {},
     "output_type": "execute_result"
    }
   ],
   "source": [
    "survey_df_2019['Ethnicity'].value_counts()"
   ]
  },
  {
   "cell_type": "markdown",
   "metadata": {},
   "source": [
    "## Dependents"
   ]
  },
  {
   "cell_type": "code",
   "execution_count": 177,
   "metadata": {},
   "outputs": [
    {
     "data": {
      "text/plain": [
       "No     46457\n",
       "Yes    28918\n",
       "Name: Dependents, dtype: int64"
      ]
     },
     "execution_count": 177,
     "metadata": {},
     "output_type": "execute_result"
    }
   ],
   "source": [
    "survey_df_2019[\"Dependents\"].value_counts()"
   ]
  },
  {
   "cell_type": "code",
   "execution_count": 178,
   "metadata": {},
   "outputs": [
    {
     "data": {
      "text/plain": [
       "2619"
      ]
     },
     "execution_count": 178,
     "metadata": {},
     "output_type": "execute_result"
    }
   ],
   "source": [
    "survey_df_2019[\"Dependents\"].isnull().sum()"
   ]
  },
  {
   "cell_type": "code",
   "execution_count": 179,
   "metadata": {},
   "outputs": [],
   "source": [
    "#Lets consider that people who didnt respond has no dependents for the purpose of analysis\n",
    "survey_df_2019[\"Dependents\"].fillna(method='ffill', inplace=True)"
   ]
  },
  {
   "cell_type": "code",
   "execution_count": 180,
   "metadata": {},
   "outputs": [
    {
     "data": {
      "text/plain": [
       "0"
      ]
     },
     "execution_count": 180,
     "metadata": {},
     "output_type": "execute_result"
    }
   ],
   "source": [
    "survey_df_2019[\"Dependents\"].isnull().sum()"
   ]
  },
  {
   "cell_type": "code",
   "execution_count": 181,
   "metadata": {},
   "outputs": [
    {
     "data": {
      "text/plain": [
       "No     48085\n",
       "Yes    29909\n",
       "Name: Dependents, dtype: int64"
      ]
     },
     "execution_count": 181,
     "metadata": {},
     "output_type": "execute_result"
    }
   ],
   "source": [
    "survey_df_2019[\"Dependents\"].value_counts()"
   ]
  },
  {
   "cell_type": "markdown",
   "metadata": {},
   "source": [
    "## DevType"
   ]
  },
  {
   "cell_type": "code",
   "execution_count": 182,
   "metadata": {},
   "outputs": [
    {
     "data": {
      "text/plain": [
       "5025"
      ]
     },
     "execution_count": 182,
     "metadata": {},
     "output_type": "execute_result"
    }
   ],
   "source": [
    "survey_df_2019['DevType'].isnull().sum()"
   ]
  },
  {
   "cell_type": "code",
   "execution_count": 183,
   "metadata": {},
   "outputs": [
    {
     "data": {
      "text/plain": [
       "Developer, full-stack                                                                                           7636\n",
       "Developer, back-end                                                                                             4387\n",
       "Developer, back-end;Developer, front-end;Developer, full-stack                                                  2216\n",
       "Developer, front-end                                                                                            1985\n",
       "Developer, mobile                                                                                               1934\n",
       "Developer, back-end;Developer, full-stack                                                                       1886\n",
       "Student                                                                                                         1289\n",
       "Developer, front-end;Developer, full-stack                                                                       940\n",
       "Developer, desktop or enterprise applications                                                                    900\n",
       "Developer, back-end;Developer, desktop or enterprise applications;Developer, front-end;Developer, full-stack     815\n",
       "Name: DevType, dtype: int64"
      ]
     },
     "execution_count": 183,
     "metadata": {},
     "output_type": "execute_result"
    }
   ],
   "source": [
    "survey_df_2019['DevType'].value_counts().nlargest(10)"
   ]
  },
  {
   "cell_type": "code",
   "execution_count": 184,
   "metadata": {},
   "outputs": [],
   "source": [
    "survey_df_2019['DevType'].fillna(method='ffill', inplace=True)"
   ]
  },
  {
   "cell_type": "code",
   "execution_count": 185,
   "metadata": {},
   "outputs": [
    {
     "data": {
      "text/plain": [
       "0"
      ]
     },
     "execution_count": 185,
     "metadata": {},
     "output_type": "execute_result"
    }
   ],
   "source": [
    "survey_df_2019['DevType'].isnull().sum()"
   ]
  },
  {
   "cell_type": "code",
   "execution_count": 186,
   "metadata": {},
   "outputs": [
    {
     "data": {
      "text/plain": [
       "Developer, full-stack                                             8147\n",
       "Developer, back-end                                               4680\n",
       "Developer, back-end;Developer, front-end;Developer, full-stack    2365\n",
       "Developer, front-end                                              2129\n",
       "Developer, mobile                                                 2086\n",
       "Name: DevType, dtype: int64"
      ]
     },
     "execution_count": 186,
     "metadata": {},
     "output_type": "execute_result"
    }
   ],
   "source": [
    "survey_df_2019['DevType'].value_counts().nlargest()"
   ]
  },
  {
   "cell_type": "markdown",
   "metadata": {},
   "source": [
    "## LanguageWorkedWith"
   ]
  },
  {
   "cell_type": "code",
   "execution_count": 187,
   "metadata": {},
   "outputs": [
    {
     "data": {
      "text/plain": [
       "656"
      ]
     },
     "execution_count": 187,
     "metadata": {},
     "output_type": "execute_result"
    }
   ],
   "source": [
    "survey_df_2019['LanguageWorkedWith'].isnull().sum()"
   ]
  },
  {
   "cell_type": "code",
   "execution_count": 188,
   "metadata": {},
   "outputs": [
    {
     "data": {
      "text/plain": [
       "HTML/CSS;JavaScript;PHP;SQL              1345\n",
       "C#;HTML/CSS;JavaScript;SQL               1282\n",
       "HTML/CSS;JavaScript                      1098\n",
       "C#;HTML/CSS;JavaScript;SQL;TypeScript     908\n",
       "HTML/CSS;JavaScript;PHP                   821\n",
       "Java                                      757\n",
       "HTML/CSS;JavaScript;TypeScript            644\n",
       "Python                                    634\n",
       "HTML/CSS;Java;JavaScript;SQL              596\n",
       "C#                                        484\n",
       "Name: LanguageWorkedWith, dtype: int64"
      ]
     },
     "execution_count": 188,
     "metadata": {},
     "output_type": "execute_result"
    }
   ],
   "source": [
    "survey_df_2019['LanguageWorkedWith'].value_counts().nlargest(10)"
   ]
  },
  {
   "cell_type": "code",
   "execution_count": 189,
   "metadata": {},
   "outputs": [],
   "source": [
    "survey_df_2019['LanguageWorkedWith'].fillna(method='ffill', inplace=True)"
   ]
  },
  {
   "cell_type": "code",
   "execution_count": 190,
   "metadata": {},
   "outputs": [
    {
     "data": {
      "text/plain": [
       "0"
      ]
     },
     "execution_count": 190,
     "metadata": {},
     "output_type": "execute_result"
    }
   ],
   "source": [
    "survey_df_2019['LanguageWorkedWith'].isnull().sum()"
   ]
  },
  {
   "cell_type": "code",
   "execution_count": 191,
   "metadata": {},
   "outputs": [
    {
     "data": {
      "text/plain": [
       "HTML/CSS;JavaScript;PHP;SQL              1366\n",
       "C#;HTML/CSS;JavaScript;SQL               1288\n",
       "HTML/CSS;JavaScript                      1108\n",
       "C#;HTML/CSS;JavaScript;SQL;TypeScript     914\n",
       "HTML/CSS;JavaScript;PHP                   831\n",
       "Java                                      765\n",
       "HTML/CSS;JavaScript;TypeScript            650\n",
       "Python                                    640\n",
       "HTML/CSS;Java;JavaScript;SQL              600\n",
       "C#                                        489\n",
       "Name: LanguageWorkedWith, dtype: int64"
      ]
     },
     "execution_count": 191,
     "metadata": {},
     "output_type": "execute_result"
    }
   ],
   "source": [
    "survey_df_2019['LanguageWorkedWith'].value_counts().nlargest(10)"
   ]
  },
  {
   "cell_type": "markdown",
   "metadata": {},
   "source": [
    "## CompetenceLevel"
   ]
  },
  {
   "cell_type": "code",
   "execution_count": 192,
   "metadata": {},
   "outputs": [
    {
     "data": {
      "text/plain": [
       "A little above average    29693\n",
       "Average                   15532\n",
       "Far above average         13840\n",
       "A little below average     4837\n",
       "Far below average          1322\n",
       "Name: CompetenceLevel, dtype: int64"
      ]
     },
     "execution_count": 192,
     "metadata": {},
     "output_type": "execute_result"
    }
   ],
   "source": [
    "survey_df_2019['CompetenceLevel'].value_counts()"
   ]
  },
  {
   "cell_type": "code",
   "execution_count": 193,
   "metadata": {},
   "outputs": [
    {
     "data": {
      "text/plain": [
       "12770"
      ]
     },
     "execution_count": 193,
     "metadata": {},
     "output_type": "execute_result"
    }
   ],
   "source": [
    "survey_df_2019['CompetenceLevel'].isnull().sum()"
   ]
  },
  {
   "cell_type": "code",
   "execution_count": 194,
   "metadata": {},
   "outputs": [],
   "source": [
    "#Assign the null values based on forward fill.\n",
    "survey_df_2019['CompetenceLevel'].fillna(method='ffill', inplace=True)"
   ]
  },
  {
   "cell_type": "code",
   "execution_count": 195,
   "metadata": {},
   "outputs": [
    {
     "data": {
      "text/plain": [
       "0"
      ]
     },
     "execution_count": 195,
     "metadata": {},
     "output_type": "execute_result"
    }
   ],
   "source": [
    "survey_df_2019['CompetenceLevel'].isnull().sum()"
   ]
  },
  {
   "cell_type": "code",
   "execution_count": 196,
   "metadata": {},
   "outputs": [
    {
     "data": {
      "text/plain": [
       "A little above average    35394\n",
       "Average                   18436\n",
       "Far above average         16821\n",
       "A little below average     5739\n",
       "Far below average          1604\n",
       "Name: CompetenceLevel, dtype: int64"
      ]
     },
     "execution_count": 196,
     "metadata": {},
     "output_type": "execute_result"
    }
   ],
   "source": [
    "survey_df_2019['CompetenceLevel'].value_counts()"
   ]
  },
  {
   "cell_type": "markdown",
   "metadata": {},
   "source": [
    "## CurrentJobSatis"
   ]
  },
  {
   "cell_type": "code",
   "execution_count": 197,
   "metadata": {},
   "outputs": [
    {
     "data": {
      "text/plain": [
       "Slightly satisfied                    22123\n",
       "Very satisfied                        20452\n",
       "Slightly dissatisfied                  9751\n",
       "Neither satisfied nor dissatisfied     7547\n",
       "Very dissatisfied                      4283\n",
       "Name: CurrentJobSatis, dtype: int64"
      ]
     },
     "execution_count": 197,
     "metadata": {},
     "output_type": "execute_result"
    }
   ],
   "source": [
    "survey_df_2019['CurrentJobSatis'].value_counts()"
   ]
  },
  {
   "cell_type": "code",
   "execution_count": 198,
   "metadata": {},
   "outputs": [
    {
     "data": {
      "text/plain": [
       "13838"
      ]
     },
     "execution_count": 198,
     "metadata": {},
     "output_type": "execute_result"
    }
   ],
   "source": [
    "survey_df_2019['CurrentJobSatis'].isnull().sum()"
   ]
  },
  {
   "cell_type": "code",
   "execution_count": 199,
   "metadata": {},
   "outputs": [],
   "source": [
    "#Assign the null values based on forward fill.\n",
    "survey_df_2019['CurrentJobSatis'].fillna(method='ffill', inplace=True)"
   ]
  },
  {
   "cell_type": "code",
   "execution_count": 200,
   "metadata": {},
   "outputs": [
    {
     "data": {
      "text/plain": [
       "0"
      ]
     },
     "execution_count": 200,
     "metadata": {},
     "output_type": "execute_result"
    }
   ],
   "source": [
    "survey_df_2019['CurrentJobSatis'].isnull().sum()"
   ]
  },
  {
   "cell_type": "code",
   "execution_count": 201,
   "metadata": {},
   "outputs": [
    {
     "data": {
      "text/plain": [
       "Slightly satisfied                    26780\n",
       "Very satisfied                        24873\n",
       "Slightly dissatisfied                 12043\n",
       "Neither satisfied nor dissatisfied     9111\n",
       "Very dissatisfied                      5187\n",
       "Name: CurrentJobSatis, dtype: int64"
      ]
     },
     "execution_count": 201,
     "metadata": {},
     "output_type": "execute_result"
    }
   ],
   "source": [
    "survey_df_2019['CurrentJobSatis'].value_counts()"
   ]
  },
  {
   "cell_type": "markdown",
   "metadata": {},
   "source": [
    "## LanguageDesireNextYear"
   ]
  },
  {
   "cell_type": "code",
   "execution_count": 202,
   "metadata": {},
   "outputs": [
    {
     "data": {
      "text/plain": [
       "Python                                   1003\n",
       "HTML/CSS;JavaScript                       624\n",
       "HTML/CSS;JavaScript;TypeScript            569\n",
       "C#                                        533\n",
       "C#;HTML/CSS;JavaScript;SQL                525\n",
       "C#;HTML/CSS;JavaScript;SQL;TypeScript     515\n",
       "HTML/CSS;JavaScript;PHP;SQL               472\n",
       "Java                                      457\n",
       "Go                                        373\n",
       "HTML/CSS;JavaScript;Python                354\n",
       "Swift                                     348\n",
       "Kotlin                                    335\n",
       "HTML/CSS;JavaScript;PHP                   326\n",
       "C++;Python                                324\n",
       "C#;SQL                                    309\n",
       "JavaScript                                307\n",
       "C++                                       306\n",
       "C#;HTML/CSS;JavaScript;TypeScript         297\n",
       "Java;Kotlin                               280\n",
       "JavaScript;Python                         275\n",
       "Name: LanguageDesireNextYear, dtype: int64"
      ]
     },
     "execution_count": 202,
     "metadata": {},
     "output_type": "execute_result"
    }
   ],
   "source": [
    "survey_df_2019['LanguageDesireNextYear'].value_counts().nlargest(20)"
   ]
  },
  {
   "cell_type": "code",
   "execution_count": 203,
   "metadata": {},
   "outputs": [
    {
     "data": {
      "text/plain": [
       "3424"
      ]
     },
     "execution_count": 203,
     "metadata": {},
     "output_type": "execute_result"
    }
   ],
   "source": [
    "survey_df_2019['LanguageDesireNextYear'].isnull().sum()"
   ]
  },
  {
   "cell_type": "code",
   "execution_count": 204,
   "metadata": {},
   "outputs": [],
   "source": [
    "#Assign the null values based on forward fill.\n",
    "survey_df_2019['LanguageDesireNextYear'].fillna(method='ffill', inplace=True)"
   ]
  },
  {
   "cell_type": "code",
   "execution_count": 205,
   "metadata": {},
   "outputs": [
    {
     "data": {
      "text/plain": [
       "0"
      ]
     },
     "execution_count": 205,
     "metadata": {},
     "output_type": "execute_result"
    }
   ],
   "source": [
    "survey_df_2019['LanguageDesireNextYear'].isnull().sum()"
   ]
  },
  {
   "cell_type": "code",
   "execution_count": 206,
   "metadata": {},
   "outputs": [
    {
     "data": {
      "text/plain": [
       "Python                                   1054\n",
       "HTML/CSS;JavaScript                       656\n",
       "HTML/CSS;JavaScript;TypeScript            597\n",
       "C#                                        557\n",
       "C#;HTML/CSS;JavaScript;SQL                553\n",
       "C#;HTML/CSS;JavaScript;SQL;TypeScript     533\n",
       "HTML/CSS;JavaScript;PHP;SQL               493\n",
       "Java                                      484\n",
       "Go                                        397\n",
       "HTML/CSS;JavaScript;Python                370\n",
       "Kotlin                                    360\n",
       "Swift                                     360\n",
       "HTML/CSS;JavaScript;PHP                   347\n",
       "C++;Python                                336\n",
       "C#;SQL                                    320\n",
       "C++                                       319\n",
       "JavaScript                                312\n",
       "C#;HTML/CSS;JavaScript;TypeScript         305\n",
       "Java;Kotlin                               298\n",
       "JavaScript;Python                         289\n",
       "Name: LanguageDesireNextYear, dtype: int64"
      ]
     },
     "execution_count": 206,
     "metadata": {},
     "output_type": "execute_result"
    }
   ],
   "source": [
    "survey_df_2019['LanguageDesireNextYear'].value_counts().nlargest(20)"
   ]
  },
  {
   "cell_type": "markdown",
   "metadata": {},
   "source": [
    "## YearsCodePro"
   ]
  },
  {
   "cell_type": "code",
   "execution_count": 207,
   "metadata": {},
   "outputs": [
    {
     "data": {
      "text/plain": [
       "<bound method IndexOpsMixin.value_counts of 2                       1\n",
       "3        Less than 1 year\n",
       "4                       9\n",
       "5                       3\n",
       "6                       4\n",
       "               ...       \n",
       "88870                 NaN\n",
       "88871                   5\n",
       "88872                   3\n",
       "88876                  15\n",
       "88882                   3\n",
       "Name: YearsCodePro, Length: 77994, dtype: object>"
      ]
     },
     "execution_count": 207,
     "metadata": {},
     "output_type": "execute_result"
    }
   ],
   "source": [
    "survey_df_2019['YearsCodePro'].value_counts"
   ]
  },
  {
   "cell_type": "code",
   "execution_count": 208,
   "metadata": {},
   "outputs": [],
   "source": [
    "#changing the dtype to float\n",
    "survey_df_2019['YearsCodePro'] = survey_df_2019['YearsCodePro'].apply(pd.to_numeric, errors='coerce')"
   ]
  },
  {
   "cell_type": "code",
   "execution_count": 209,
   "metadata": {},
   "outputs": [
    {
     "data": {
      "text/plain": [
       "2.0     7243\n",
       "3.0     7164\n",
       "5.0     5855\n",
       "4.0     5764\n",
       "6.0     4133\n",
       "1.0     3995\n",
       "10.0    3934\n",
       "7.0     3374\n",
       "8.0     3166\n",
       "12.0    2008\n",
       "Name: YearsCodePro, dtype: int64"
      ]
     },
     "execution_count": 209,
     "metadata": {},
     "output_type": "execute_result"
    }
   ],
   "source": [
    "survey_df_2019['YearsCodePro'].value_counts().head(10)"
   ]
  },
  {
   "cell_type": "code",
   "execution_count": 210,
   "metadata": {},
   "outputs": [
    {
     "data": {
      "text/plain": [
       "14639"
      ]
     },
     "execution_count": 210,
     "metadata": {},
     "output_type": "execute_result"
    }
   ],
   "source": [
    "survey_df_2019['YearsCodePro'].isnull().sum()"
   ]
  },
  {
   "cell_type": "code",
   "execution_count": 211,
   "metadata": {},
   "outputs": [],
   "source": [
    "survey_df_2019['YearsCodePro'].fillna(method='ffill', inplace=True)"
   ]
  },
  {
   "cell_type": "code",
   "execution_count": 212,
   "metadata": {},
   "outputs": [
    {
     "data": {
      "text/plain": [
       "0"
      ]
     },
     "execution_count": 212,
     "metadata": {},
     "output_type": "execute_result"
    }
   ],
   "source": [
    "survey_df_2019['YearsCodePro'].isnull().sum()"
   ]
  },
  {
   "cell_type": "code",
   "execution_count": 213,
   "metadata": {},
   "outputs": [],
   "source": [
    "survey_df_2019.dropna(subset=['YearsCodePro'], inplace=True)"
   ]
  },
  {
   "cell_type": "code",
   "execution_count": 214,
   "metadata": {},
   "outputs": [
    {
     "data": {
      "text/plain": [
       "0"
      ]
     },
     "execution_count": 214,
     "metadata": {},
     "output_type": "execute_result"
    }
   ],
   "source": [
    "survey_df_2019['YearsCodePro'].isnull().sum()"
   ]
  },
  {
   "cell_type": "code",
   "execution_count": 215,
   "metadata": {},
   "outputs": [
    {
     "data": {
      "text/plain": [
       "2.0     8853\n",
       "3.0     8843\n",
       "5.0     7186\n",
       "4.0     7124\n",
       "6.0     5103\n",
       "1.0     4925\n",
       "10.0    4830\n",
       "7.0     4146\n",
       "8.0     3910\n",
       "12.0    2487\n",
       "Name: YearsCodePro, dtype: int64"
      ]
     },
     "execution_count": 215,
     "metadata": {},
     "output_type": "execute_result"
    }
   ],
   "source": [
    "survey_df_2019['YearsCodePro'].value_counts().head(10)"
   ]
  },
  {
   "cell_type": "markdown",
   "metadata": {},
   "source": [
    "## Country"
   ]
  },
  {
   "cell_type": "code",
   "execution_count": 216,
   "metadata": {},
   "outputs": [
    {
     "data": {
      "text/plain": [
       "United States         18335\n",
       "India                  7276\n",
       "Germany                5316\n",
       "United Kingdom         5130\n",
       "Canada                 2976\n",
       "France                 2225\n",
       "Brazil                 1860\n",
       "Poland                 1773\n",
       "Netherlands            1687\n",
       "Australia              1657\n",
       "Russian Federation     1551\n",
       "Spain                  1477\n",
       "Italy                  1451\n",
       "Sweden                 1165\n",
       "Switzerland             884\n",
       "Name: Country, dtype: int64"
      ]
     },
     "execution_count": 216,
     "metadata": {},
     "output_type": "execute_result"
    }
   ],
   "source": [
    "survey_df_2019['Country'].value_counts().nlargest(15)"
   ]
  },
  {
   "cell_type": "code",
   "execution_count": 217,
   "metadata": {},
   "outputs": [
    {
     "data": {
      "text/plain": [
       "0"
      ]
     },
     "execution_count": 217,
     "metadata": {},
     "output_type": "execute_result"
    }
   ],
   "source": [
    "\n",
    "survey_df_2019['Country'].isnull().sum()"
   ]
  },
  {
   "cell_type": "code",
   "execution_count": 218,
   "metadata": {},
   "outputs": [],
   "source": [
    "survey_df_2019['Country'].fillna(method='ffill', inplace=True)"
   ]
  },
  {
   "cell_type": "code",
   "execution_count": 219,
   "metadata": {},
   "outputs": [
    {
     "data": {
      "text/plain": [
       "0"
      ]
     },
     "execution_count": 219,
     "metadata": {},
     "output_type": "execute_result"
    }
   ],
   "source": [
    "survey_df_2019['Country'].isnull().sum()"
   ]
  },
  {
   "cell_type": "code",
   "execution_count": 220,
   "metadata": {},
   "outputs": [
    {
     "data": {
      "text/plain": [
       "United States         18335\n",
       "India                  7276\n",
       "Germany                5316\n",
       "United Kingdom         5130\n",
       "Canada                 2976\n",
       "France                 2225\n",
       "Brazil                 1860\n",
       "Poland                 1773\n",
       "Netherlands            1687\n",
       "Australia              1657\n",
       "Russian Federation     1551\n",
       "Spain                  1477\n",
       "Italy                  1451\n",
       "Sweden                 1165\n",
       "Switzerland             884\n",
       "Name: Country, dtype: int64"
      ]
     },
     "execution_count": 220,
     "metadata": {},
     "output_type": "execute_result"
    }
   ],
   "source": [
    "survey_df_2019['Country'].value_counts().nlargest(15)"
   ]
  },
  {
   "cell_type": "markdown",
   "metadata": {},
   "source": [
    "## SalaryUSD"
   ]
  },
  {
   "cell_type": "code",
   "execution_count": 221,
   "metadata": {},
   "outputs": [
    {
     "data": {
      "text/plain": [
       "2000000.0    667\n",
       "1000000.0    529\n",
       "120000.0     475\n",
       "100000.0     450\n",
       "150000.0     399\n",
       "Name: SalaryUSD, dtype: int64"
      ]
     },
     "execution_count": 221,
     "metadata": {},
     "output_type": "execute_result"
    }
   ],
   "source": [
    "survey_df_2019['SalaryUSD'].value_counts().nlargest()"
   ]
  },
  {
   "cell_type": "code",
   "execution_count": 222,
   "metadata": {},
   "outputs": [
    {
     "data": {
      "text/plain": [
       "24805"
      ]
     },
     "execution_count": 222,
     "metadata": {},
     "output_type": "execute_result"
    }
   ],
   "source": [
    "survey_df_2019['SalaryUSD'].isnull().sum()"
   ]
  },
  {
   "cell_type": "code",
   "execution_count": 223,
   "metadata": {},
   "outputs": [],
   "source": [
    "survey_df_2019['SalaryUSD'] = survey_df_2019.groupby(['Age', 'EdLevel', 'Country'])['SalaryUSD'].transform(lambda grp: grp.fillna(np.mean(grp)))"
   ]
  },
  {
   "cell_type": "code",
   "execution_count": 224,
   "metadata": {},
   "outputs": [
    {
     "data": {
      "text/plain": [
       "3537"
      ]
     },
     "execution_count": 224,
     "metadata": {},
     "output_type": "execute_result"
    }
   ],
   "source": [
    "survey_df_2019['SalaryUSD'].isnull().sum()"
   ]
  },
  {
   "cell_type": "code",
   "execution_count": 225,
   "metadata": {},
   "outputs": [
    {
     "data": {
      "text/plain": [
       "2000000.0    669\n",
       "1000000.0    547\n",
       "150000.0     494\n",
       "120000.0     476\n",
       "100000.0     450\n",
       "Name: SalaryUSD, dtype: int64"
      ]
     },
     "execution_count": 225,
     "metadata": {},
     "output_type": "execute_result"
    }
   ],
   "source": [
    "\n",
    "survey_df_2019['SalaryUSD'].value_counts().nlargest()"
   ]
  },
  {
   "cell_type": "code",
   "execution_count": 226,
   "metadata": {},
   "outputs": [],
   "source": [
    "country_mean_salary = survey_df_2019.groupby('Country')['SalaryUSD'].mean()"
   ]
  },
  {
   "cell_type": "code",
   "execution_count": 227,
   "metadata": {},
   "outputs": [
    {
     "data": {
      "text/plain": [
       "Country\n",
       "Liechtenstein        811188.000000\n",
       "San Marino           301788.000000\n",
       "Ireland              247051.427005\n",
       "Swaziland            242607.500000\n",
       "United States        240269.159270\n",
       "Timor-Leste          229500.000000\n",
       "Qatar                203892.571429\n",
       "Republic of Korea    174593.739130\n",
       "Norway               173173.193026\n",
       "Andorra              171862.000000\n",
       "Name: SalaryUSD, dtype: float64"
      ]
     },
     "execution_count": 227,
     "metadata": {},
     "output_type": "execute_result"
    }
   ],
   "source": [
    "country_mean_salary.nlargest(10)"
   ]
  },
  {
   "cell_type": "code",
   "execution_count": 228,
   "metadata": {},
   "outputs": [],
   "source": [
    "survey_df_2019.dropna(subset=['SalaryUSD'], inplace=True)"
   ]
  },
  {
   "cell_type": "markdown",
   "metadata": {},
   "source": [
    "## Cleaned Data"
   ]
  },
  {
   "cell_type": "code",
   "execution_count": 229,
   "metadata": {},
   "outputs": [
    {
     "data": {
      "text/plain": [
       "Age                       0\n",
       "JobSatisfaction           0\n",
       "SalaryUSD                 0\n",
       "Country                   0\n",
       "Dependents                0\n",
       "EdLevel                   0\n",
       "Employment                0\n",
       "Ethnicity                 0\n",
       "Gender                    0\n",
       "Hobbyist                  0\n",
       "CompetenceLevel           0\n",
       "CurrentJobSatis           0\n",
       "JobStatus                 0\n",
       "LanguageDesireNextYear    0\n",
       "LanguageWorkedWith        0\n",
       "Profession                0\n",
       "UndergradMajor            0\n",
       "YearsCodePro              0\n",
       "DevType                   0\n",
       "dtype: int64"
      ]
     },
     "execution_count": 229,
     "metadata": {},
     "output_type": "execute_result"
    }
   ],
   "source": [
    "#handle all the null value\n",
    "survey_df_2019.isnull().sum()"
   ]
  },
  {
   "cell_type": "code",
   "execution_count": 230,
   "metadata": {},
   "outputs": [],
   "source": [
    "#resetting the index values\n",
    "survey_df_2019 = survey_df_2019.reset_index(drop=True)"
   ]
  },
  {
   "cell_type": "code",
   "execution_count": 231,
   "metadata": {},
   "outputs": [
    {
     "name": "stdout",
     "output_type": "stream",
     "text": [
      "Number of rows before cleaning the data is 88883\n",
      "Number of rows after cleaning the data is 74457\n"
     ]
    }
   ],
   "source": [
    "cleaned_df_2019 = survey_df_2019[survey_df_2019.notnull()]\n",
    "\n",
    "print(f\"Number of rows before cleaning the data is {survey_main_df.shape[0]}\")\n",
    "print(f\"Number of rows after cleaning the data is {cleaned_df_2019.shape[0]}\")"
   ]
  },
  {
   "cell_type": "code",
   "execution_count": 232,
   "metadata": {},
   "outputs": [],
   "source": [
    "cleaned_df_2019['Age']=cleaned_df_2019['Age'].astype(int)"
   ]
  },
  {
   "cell_type": "code",
   "execution_count": 233,
   "metadata": {},
   "outputs": [
    {
     "data": {
      "text/html": [
       "<div>\n",
       "<style scoped>\n",
       "    .dataframe tbody tr th:only-of-type {\n",
       "        vertical-align: middle;\n",
       "    }\n",
       "\n",
       "    .dataframe tbody tr th {\n",
       "        vertical-align: top;\n",
       "    }\n",
       "\n",
       "    .dataframe thead th {\n",
       "        text-align: right;\n",
       "    }\n",
       "</style>\n",
       "<table border=\"1\" class=\"dataframe\">\n",
       "  <thead>\n",
       "    <tr style=\"text-align: right;\">\n",
       "      <th></th>\n",
       "      <th>Age</th>\n",
       "      <th>JobSatisfaction</th>\n",
       "      <th>SalaryUSD</th>\n",
       "      <th>Country</th>\n",
       "      <th>Dependents</th>\n",
       "      <th>EdLevel</th>\n",
       "      <th>Employment</th>\n",
       "      <th>Ethnicity</th>\n",
       "      <th>Gender</th>\n",
       "      <th>Hobbyist</th>\n",
       "      <th>CompetenceLevel</th>\n",
       "      <th>CurrentJobSatis</th>\n",
       "      <th>JobStatus</th>\n",
       "      <th>LanguageDesireNextYear</th>\n",
       "      <th>LanguageWorkedWith</th>\n",
       "      <th>Profession</th>\n",
       "      <th>UndergradMajor</th>\n",
       "      <th>YearsCodePro</th>\n",
       "      <th>DevType</th>\n",
       "    </tr>\n",
       "  </thead>\n",
       "  <tbody>\n",
       "    <tr>\n",
       "      <th>0</th>\n",
       "      <td>28</td>\n",
       "      <td>Slightly satisfied</td>\n",
       "      <td>8820.0</td>\n",
       "      <td>Thailand</td>\n",
       "      <td>Yes</td>\n",
       "      <td>Bachelors</td>\n",
       "      <td>Full-time</td>\n",
       "      <td>East Asian</td>\n",
       "      <td>Man</td>\n",
       "      <td>Yes</td>\n",
       "      <td>Average</td>\n",
       "      <td>Slightly satisfied</td>\n",
       "      <td>Not seeking</td>\n",
       "      <td>Elixir;HTML/CSS</td>\n",
       "      <td>HTML/CSS</td>\n",
       "      <td>Non developer</td>\n",
       "      <td>Web Design/Dev</td>\n",
       "      <td>1.0</td>\n",
       "      <td>Designer;Developer, back-end;Developer, front-...</td>\n",
       "    </tr>\n",
       "    <tr>\n",
       "      <th>1</th>\n",
       "      <td>22</td>\n",
       "      <td>Very satisfied</td>\n",
       "      <td>61000.0</td>\n",
       "      <td>United States</td>\n",
       "      <td>No</td>\n",
       "      <td>Bachelors</td>\n",
       "      <td>Full-time</td>\n",
       "      <td>White or of European descent</td>\n",
       "      <td>Man</td>\n",
       "      <td>No</td>\n",
       "      <td>A little below average</td>\n",
       "      <td>Slightly satisfied</td>\n",
       "      <td>Not seeking</td>\n",
       "      <td>C;C#;JavaScript;SQL</td>\n",
       "      <td>C;C++;C#;Python;SQL</td>\n",
       "      <td>Developer</td>\n",
       "      <td>Computer Science</td>\n",
       "      <td>1.0</td>\n",
       "      <td>Developer, full-stack</td>\n",
       "    </tr>\n",
       "    <tr>\n",
       "      <th>2</th>\n",
       "      <td>30</td>\n",
       "      <td>Very dissatisfied</td>\n",
       "      <td>33184.8</td>\n",
       "      <td>Ukraine</td>\n",
       "      <td>No</td>\n",
       "      <td>Bachelors</td>\n",
       "      <td>Full-time</td>\n",
       "      <td>White or of European descent</td>\n",
       "      <td>Man</td>\n",
       "      <td>Yes</td>\n",
       "      <td>A little above average</td>\n",
       "      <td>Slightly dissatisfied</td>\n",
       "      <td>Not seeking</td>\n",
       "      <td>HTML/CSS;Java;JavaScript;SQL;WebAssembly</td>\n",
       "      <td>C++;HTML/CSS;Java;JavaScript;Python;SQL;VBA</td>\n",
       "      <td>Developer</td>\n",
       "      <td>Computer Science</td>\n",
       "      <td>9.0</td>\n",
       "      <td>Academic researcher;Developer, desktop or ente...</td>\n",
       "    </tr>\n",
       "    <tr>\n",
       "      <th>3</th>\n",
       "      <td>28</td>\n",
       "      <td>Very satisfied</td>\n",
       "      <td>366420.0</td>\n",
       "      <td>Canada</td>\n",
       "      <td>No</td>\n",
       "      <td>Bachelors</td>\n",
       "      <td>Full-time</td>\n",
       "      <td>East Asian</td>\n",
       "      <td>Man</td>\n",
       "      <td>Yes</td>\n",
       "      <td>A little above average</td>\n",
       "      <td>Slightly satisfied</td>\n",
       "      <td>Not seeking</td>\n",
       "      <td>Python;Scala;SQL</td>\n",
       "      <td>Java;R;SQL</td>\n",
       "      <td>Non developer</td>\n",
       "      <td>Math/Stat</td>\n",
       "      <td>3.0</td>\n",
       "      <td>Data or business analyst;Data scientist or mac...</td>\n",
       "    </tr>\n",
       "    <tr>\n",
       "      <th>4</th>\n",
       "      <td>42</td>\n",
       "      <td>Slightly satisfied</td>\n",
       "      <td>36000.0</td>\n",
       "      <td>Ukraine</td>\n",
       "      <td>Yes</td>\n",
       "      <td>Bachelors</td>\n",
       "      <td>Self-employed</td>\n",
       "      <td>White or of European descent</td>\n",
       "      <td>Man</td>\n",
       "      <td>No</td>\n",
       "      <td>Average</td>\n",
       "      <td>Neither satisfied nor dissatisfied</td>\n",
       "      <td>Not seeking</td>\n",
       "      <td>HTML/CSS;JavaScript</td>\n",
       "      <td>HTML/CSS;JavaScript</td>\n",
       "      <td>Developer</td>\n",
       "      <td>Engineering</td>\n",
       "      <td>4.0</td>\n",
       "      <td>Designer;Developer, front-end</td>\n",
       "    </tr>\n",
       "  </tbody>\n",
       "</table>\n",
       "</div>"
      ],
      "text/plain": [
       "   Age     JobSatisfaction  SalaryUSD        Country Dependents    EdLevel  \\\n",
       "0   28  Slightly satisfied     8820.0       Thailand        Yes  Bachelors   \n",
       "1   22      Very satisfied    61000.0  United States         No  Bachelors   \n",
       "2   30   Very dissatisfied    33184.8        Ukraine         No  Bachelors   \n",
       "3   28      Very satisfied   366420.0         Canada         No  Bachelors   \n",
       "4   42  Slightly satisfied    36000.0        Ukraine        Yes  Bachelors   \n",
       "\n",
       "      Employment                     Ethnicity Gender Hobbyist  \\\n",
       "0      Full-time                    East Asian    Man      Yes   \n",
       "1      Full-time  White or of European descent    Man       No   \n",
       "2      Full-time  White or of European descent    Man      Yes   \n",
       "3      Full-time                    East Asian    Man      Yes   \n",
       "4  Self-employed  White or of European descent    Man       No   \n",
       "\n",
       "          CompetenceLevel                     CurrentJobSatis    JobStatus  \\\n",
       "0                 Average                  Slightly satisfied  Not seeking   \n",
       "1  A little below average                  Slightly satisfied  Not seeking   \n",
       "2  A little above average               Slightly dissatisfied  Not seeking   \n",
       "3  A little above average                  Slightly satisfied  Not seeking   \n",
       "4                 Average  Neither satisfied nor dissatisfied  Not seeking   \n",
       "\n",
       "                     LanguageDesireNextYear  \\\n",
       "0                           Elixir;HTML/CSS   \n",
       "1                       C;C#;JavaScript;SQL   \n",
       "2  HTML/CSS;Java;JavaScript;SQL;WebAssembly   \n",
       "3                          Python;Scala;SQL   \n",
       "4                       HTML/CSS;JavaScript   \n",
       "\n",
       "                            LanguageWorkedWith     Profession  \\\n",
       "0                                     HTML/CSS  Non developer   \n",
       "1                          C;C++;C#;Python;SQL      Developer   \n",
       "2  C++;HTML/CSS;Java;JavaScript;Python;SQL;VBA      Developer   \n",
       "3                                   Java;R;SQL  Non developer   \n",
       "4                          HTML/CSS;JavaScript      Developer   \n",
       "\n",
       "     UndergradMajor  YearsCodePro  \\\n",
       "0    Web Design/Dev           1.0   \n",
       "1  Computer Science           1.0   \n",
       "2  Computer Science           9.0   \n",
       "3         Math/Stat           3.0   \n",
       "4       Engineering           4.0   \n",
       "\n",
       "                                             DevType  \n",
       "0  Designer;Developer, back-end;Developer, front-...  \n",
       "1                              Developer, full-stack  \n",
       "2  Academic researcher;Developer, desktop or ente...  \n",
       "3  Data or business analyst;Data scientist or mac...  \n",
       "4                      Designer;Developer, front-end  "
      ]
     },
     "execution_count": 233,
     "metadata": {},
     "output_type": "execute_result"
    }
   ],
   "source": [
    "\n",
    "cleaned_df_2019.head(5)"
   ]
  },
  {
   "cell_type": "code",
   "execution_count": null,
   "metadata": {},
   "outputs": [],
   "source": []
  },
  {
   "cell_type": "markdown",
   "metadata": {},
   "source": [
    "## Stackoverflow_Survey_Analysis 2020"
   ]
  },
  {
   "cell_type": "code",
   "execution_count": 234,
   "metadata": {},
   "outputs": [],
   "source": [
    "df = pd.read_csv(r'C:\\Users\\sanja\\Stack_Data\\survey_results_public_2020.csv')\n",
    "#df2020.head(10)"
   ]
  },
  {
   "cell_type": "code",
   "execution_count": 235,
   "metadata": {},
   "outputs": [],
   "source": [
    "#drop unnecessary columns (drop Sabiha's part)\n",
    "drop_cols = [  'Age1stCode', 'CompFreq', 'CompTotal', 'CurrencyDesc', 'CurrencySymbol', 'NEWJobHunt','NEWJobHuntResearch', 'NEWLearn', \n",
    "             'NEWOffTopic', 'NEWOnboardGood', 'NEWOtherComms', 'NEWOvertime', 'NEWPurchaseResearch', \n",
    "             'NEWPurpleLink', 'NEWSOSites', 'NEWStuck', 'OpSys', 'OrgSize', 'PlatformDesireNextYear', 'PlatformWorkedWith',\n",
    "             'PurchaseWhat', 'Respondent', 'SOAccount', 'SOComm', 'SOPartFreq', 'SOVisitFreq', 'Sexuality', 'SurveyEase', \n",
    "             'SurveyLength', 'Trans', 'WebframeDesireNextYear', 'WebframeWorkedWith', 'WelcomeChange', 'WorkWeekHrs', 'YearsCode']\n",
    "df.drop(drop_cols, axis=1, inplace=True)"
   ]
  },
  {
   "cell_type": "code",
   "execution_count": 236,
   "metadata": {},
   "outputs": [],
   "source": [
    "#Selecting only the required columns for analysis\n",
    "cols =['Age','Gender', 'ConvertedComp', 'Country', 'DevType', 'Hobbyist', 'EdLevel', 'Employment', \n",
    "       'Ethnicity', 'JobSat', 'JobSeek', 'LanguageDesireNextYear', 'LanguageWorkedWith', 'MainBranch',\n",
    "        'UndergradMajor', 'YearsCodePro']\n",
    "df2020 = df[cols]\n",
    "#df2020.head()\n",
    "#df2020.dtypes"
   ]
  },
  {
   "cell_type": "code",
   "execution_count": 237,
   "metadata": {},
   "outputs": [],
   "source": [
    "#changing the name of columns for easier understanding\n",
    "# 'MainBranch': 'Profession'\n",
    "# 'ConvertedComp': 'SalaryUSD'\n",
    "# 'JobSat' : 'CurrentJobSatis'\n",
    "# 'JobSeek' : 'JobStatus'\n",
    "\n",
    "df2020.rename(columns={'MainBranch': 'Profession', 'ConvertedComp': 'SalaryUSD', \n",
    "                                'JobSat' : 'CurrentJobSatis', 'JobSeek' : 'JobStatus' }, \n",
    "                      inplace =True)"
   ]
  },
  {
   "cell_type": "code",
   "execution_count": 238,
   "metadata": {},
   "outputs": [
    {
     "name": "stdout",
     "output_type": "stream",
     "text": [
      "Age                       19015\n",
      "Gender                    13904\n",
      "SalaryUSD                 29705\n",
      "Country                     389\n",
      "DevType                   15091\n",
      "Hobbyist                     45\n",
      "EdLevel                    7030\n",
      "Employment                  607\n",
      "Ethnicity                 18513\n",
      "CurrentJobSatis           19267\n",
      "JobStatus                 12734\n",
      "LanguageDesireNextYear    10348\n",
      "LanguageWorkedWith         7083\n",
      "Profession                  299\n",
      "UndergradMajor            13466\n",
      "YearsCodePro              18112\n",
      "dtype: int64\n"
     ]
    }
   ],
   "source": [
    "print(df2020.isnull().sum())"
   ]
  },
  {
   "cell_type": "code",
   "execution_count": 239,
   "metadata": {},
   "outputs": [
    {
     "name": "stdout",
     "output_type": "stream",
     "text": [
      "Total cell:  1031376\n",
      "Total missing values:  371516\n",
      "Missing:  36.02139278013062 %\n"
     ]
    }
   ],
   "source": [
    "#Finding % of missing data\n",
    "missing_count = df.isnull().sum() #number of missing\n",
    "total_cells = np.product(df2020.shape) # number of cells (cols x rows)\n",
    "total_missing = missing_count.sum()\n",
    "missing_percent = (total_missing*100)/total_cells\n",
    "\n",
    "print('Total cell: ', total_cells)\n",
    "print('Total missing values: ', total_missing)\n",
    "print('Missing: ', missing_percent, '%')"
   ]
  },
  {
   "cell_type": "markdown",
   "metadata": {},
   "source": [
    "## Gender"
   ]
  },
  {
   "cell_type": "code",
   "execution_count": 240,
   "metadata": {},
   "outputs": [
    {
     "data": {
      "text/plain": [
       "13904"
      ]
     },
     "execution_count": 240,
     "metadata": {},
     "output_type": "execute_result"
    }
   ],
   "source": [
    "df2020['Gender'].isnull().sum()"
   ]
  },
  {
   "cell_type": "code",
   "execution_count": 241,
   "metadata": {},
   "outputs": [
    {
     "data": {
      "text/plain": [
       "Gender\n",
       "Man                                                            46013\n",
       "Man;Non-binary, genderqueer, or gender non-conforming            121\n",
       "Non-binary, genderqueer, or gender non-conforming                385\n",
       "Woman                                                           3844\n",
       "Woman;Man                                                         76\n",
       "Woman;Man;Non-binary, genderqueer, or gender non-conforming       26\n",
       "Woman;Non-binary, genderqueer, or gender non-conforming           92\n",
       "Name: Gender, dtype: int64"
      ]
     },
     "execution_count": 241,
     "metadata": {},
     "output_type": "execute_result"
    }
   ],
   "source": [
    "#Counting number of each gender\n",
    "df2020.groupby('Gender')['Gender'].count()"
   ]
  },
  {
   "cell_type": "code",
   "execution_count": 242,
   "metadata": {},
   "outputs": [],
   "source": [
    "#Assigining the surveyors who havent mentioned their gender to Non-Binary category\n",
    "df2020['Gender'] = df['Gender'].fillna('Non-binary') \n",
    "\n",
    "#Grouping genders into 3 groups Man, Womanand Non-binary\n",
    "df2020['Gender'].replace('Man;Non-binary, genderqueer, or gender non-conforming', 'Man', inplace =True)\n",
    "df2020['Gender'].replace('Woman;Non-binary, genderqueer, or gender non-conforming', 'Woman', inplace =True)\n",
    "df2020['Gender'].replace('Woman;Man;Non-binary, genderqueer, or gender non-conforming', 'Non-binary', inplace =True)\n",
    "df2020['Gender'].replace('Woman;Man', 'Non-binary', inplace =True)\n",
    "df2020['Gender'].replace('Non-binary, genderqueer, or gender non-conforming', 'Non-binary', inplace =True)"
   ]
  },
  {
   "cell_type": "code",
   "execution_count": 243,
   "metadata": {},
   "outputs": [
    {
     "data": {
      "text/plain": [
       "Gender\n",
       "Man           46134\n",
       "Non-binary    14391\n",
       "Woman          3936\n",
       "Name: Gender, dtype: int64"
      ]
     },
     "execution_count": 243,
     "metadata": {},
     "output_type": "execute_result"
    }
   ],
   "source": [
    "#Counting number of each gender after\n",
    "df2020.groupby('Gender')['Gender'].count()"
   ]
  },
  {
   "cell_type": "code",
   "execution_count": 244,
   "metadata": {},
   "outputs": [
    {
     "name": "stdout",
     "output_type": "stream",
     "text": [
      "df shape after clean Gender:  (64461, 16)\n"
     ]
    }
   ],
   "source": [
    "\n",
    "print('df shape after clean Gender: ', df2020.shape)"
   ]
  },
  {
   "cell_type": "markdown",
   "metadata": {},
   "source": [
    "## Age"
   ]
  },
  {
   "cell_type": "code",
   "execution_count": 245,
   "metadata": {},
   "outputs": [
    {
     "data": {
      "text/plain": [
       "19015"
      ]
     },
     "execution_count": 245,
     "metadata": {},
     "output_type": "execute_result"
    }
   ],
   "source": [
    "df2020['Age'].isnull().sum()"
   ]
  },
  {
   "cell_type": "code",
   "execution_count": 246,
   "metadata": {},
   "outputs": [
    {
     "data": {
      "image/png": "[encoded data removed]",
      "text/plain": [
       "<Figure size 432x288 with 1 Axes>"
      ]
     },
     "metadata": {
      "needs_background": "light"
     },
     "output_type": "display_data"
    }
   ],
   "source": [
    "#Plottig boxplot to check outliers\n",
    "sns.boxplot(x='Age', y= 'Gender', data=df2020)\n",
    "plt.title(\"Before cleaning Age's outliers from genders\")\n",
    "plt.show()"
   ]
  },
  {
   "cell_type": "code",
   "execution_count": 247,
   "metadata": {},
   "outputs": [],
   "source": [
    "#Cleaning Age's outliers from each gender)\n",
    "df2020 = df2020[(df['Age'] >= 15) & (df2020['Age'] <= 60)]"
   ]
  },
  {
   "cell_type": "code",
   "execution_count": 248,
   "metadata": {},
   "outputs": [
    {
     "data": {
      "image/png": "[encoded data removed]",
      "text/plain": [
       "<Figure size 432x288 with 1 Axes>"
      ]
     },
     "metadata": {
      "needs_background": "light"
     },
     "output_type": "display_data"
    }
   ],
   "source": [
    "#Plottig boxplot to check outliers after cleaning some outliers\n",
    "sns.boxplot(x='Age', y= 'Gender', data=df2020)\n",
    "plt.title(\"After cleaning Age's outliers from genders\")\n",
    "plt.show()"
   ]
  },
  {
   "cell_type": "code",
   "execution_count": 249,
   "metadata": {},
   "outputs": [],
   "source": [
    "#fill Age's null values with mean of each gender\n",
    "means = df2020.groupby('Gender')['Age'].transform('mean')\n",
    "df2020['Age'] = df2020['Age'].fillna(means)\n",
    "\n",
    "#convert from float to int\n",
    "df2020['Age'] = df2020['Age'].apply(str).str[:2]\n",
    "df2020['Age'] = df2020['Age'].apply(int)"
   ]
  },
  {
   "cell_type": "code",
   "execution_count": 250,
   "metadata": {},
   "outputs": [
    {
     "name": "stdout",
     "output_type": "stream",
     "text": [
      "df shape after clean Age:  (44709, 16)\n"
     ]
    }
   ],
   "source": [
    "#df before 64461\n",
    "print('df shape after clean Age: ', df2020.shape) #no. of Ages' outliners = 64461-44709=19752 (30.6%)"
   ]
  },
  {
   "cell_type": "markdown",
   "metadata": {},
   "source": [
    "## EdLevel"
   ]
  },
  {
   "cell_type": "code",
   "execution_count": 251,
   "metadata": {},
   "outputs": [
    {
     "data": {
      "text/plain": [
       "933"
      ]
     },
     "execution_count": 251,
     "metadata": {},
     "output_type": "execute_result"
    }
   ],
   "source": [
    "df2020['EdLevel'].isnull().sum()"
   ]
  },
  {
   "cell_type": "code",
   "execution_count": 252,
   "metadata": {},
   "outputs": [
    {
     "data": {
      "text/plain": [
       "Bachelor’s degree (B.A., B.S., B.Eng., etc.)                                          20290\n",
       "Master’s degree (M.A., M.S., M.Eng., MBA, etc.)                                       10000\n",
       "Some college/university study without earning a degree                                 5699\n",
       "Secondary school (e.g. American high school, German Realschule or Gymnasium, etc.)     3676\n",
       "Associate degree (A.A., A.S., etc.)                                                    1455\n",
       "Other doctoral degree (Ph.D., Ed.D., etc.)                                             1256\n",
       "Primary/elementary school                                                               590\n",
       "Professional degree (JD, MD, etc.)                                                      578\n",
       "I never completed any formal education                                                  232\n",
       "Name: EdLevel, dtype: int64"
      ]
     },
     "execution_count": 252,
     "metadata": {},
     "output_type": "execute_result"
    }
   ],
   "source": [
    "df2020['EdLevel'].value_counts()"
   ]
  },
  {
   "cell_type": "code",
   "execution_count": 253,
   "metadata": {},
   "outputs": [],
   "source": [
    "#Refactoring EdLevel\n",
    "def refactor_ed(df):\n",
    "    '''function to change Education level category to Bachelors, Masters, Professional, Associate, Doctorate, No Degree'''\n",
    "    conditions_ed = [(df['EdLevel'] == 'Associate degree (A.A., A.S., etc.)'),\n",
    "                    (df['EdLevel'] == 'Bachelor’s degree (B.A., B.S., B.Eng., etc.)'),\n",
    "                    (df['EdLevel'] == 'Master’s degree (M.A., M.S., M.Eng., MBA, etc.)'),\n",
    "                    (df['EdLevel'] == 'Professional degree (JD, MD, etc.)'),   \n",
    "                    (df['EdLevel'] == 'Other doctoral degree (Ph.D., Ed.D., etc.)'),\n",
    "                    (df['EdLevel'] == 'Some college/university study without earning a degree') \n",
    "                    | (df['EdLevel'] == 'Secondary school (e.g. American high school, German Realschule or Gymnasium, etc.)') \n",
    "                    | (df['EdLevel'] == 'Primary/elementary school')\n",
    "                    | (df['EdLevel'] == 'I never completed any formal education')]\n",
    "    \n",
    "    choices_ed = ['Associate', 'Bachelors', 'Masters', 'Professional',  'Doctorate', 'No Degree']\n",
    "    df['EdLevel'] = np.select(conditions_ed, choices_ed, default = np.NaN)\n",
    "    return df\n",
    "\n",
    "# applying function to subsets\n",
    "df2020 = refactor_ed(df2020)\n",
    "#Assigining the surveyors who havent mentioned their education level to Bachelor’s degree\n",
    "df2020['EdLevel'].replace('nan', 'Bachelors', inplace=True)"
   ]
  },
  {
   "cell_type": "code",
   "execution_count": 254,
   "metadata": {},
   "outputs": [
    {
     "data": {
      "text/plain": [
       "Bachelors       21223\n",
       "No Degree       10197\n",
       "Masters         10000\n",
       "Associate        1455\n",
       "Doctorate        1256\n",
       "Professional      578\n",
       "Name: EdLevel, dtype: int64"
      ]
     },
     "execution_count": 254,
     "metadata": {},
     "output_type": "execute_result"
    }
   ],
   "source": [
    "df2020['EdLevel'].value_counts()"
   ]
  },
  {
   "cell_type": "markdown",
   "metadata": {},
   "source": [
    "## JobSat (CurrentJobSatis)"
   ]
  },
  {
   "cell_type": "code",
   "execution_count": 255,
   "metadata": {},
   "outputs": [
    {
     "data": {
      "text/plain": [
       "8690"
      ]
     },
     "execution_count": 255,
     "metadata": {},
     "output_type": "execute_result"
    }
   ],
   "source": [
    "df2020['CurrentJobSatis'].isnull().sum()"
   ]
  },
  {
   "cell_type": "code",
   "execution_count": 256,
   "metadata": {},
   "outputs": [
    {
     "data": {
      "text/plain": [
       "Very satisfied                        11751\n",
       "Slightly satisfied                    11198\n",
       "Slightly dissatisfied                  5790\n",
       "Neither satisfied nor dissatisfied     4373\n",
       "Very dissatisfied                      2907\n",
       "Name: CurrentJobSatis, dtype: int64"
      ]
     },
     "execution_count": 256,
     "metadata": {},
     "output_type": "execute_result"
    }
   ],
   "source": [
    "df2020['CurrentJobSatis'].value_counts()"
   ]
  },
  {
   "cell_type": "code",
   "execution_count": 257,
   "metadata": {},
   "outputs": [],
   "source": [
    "df2020['CurrentJobSatis'].fillna(method='ffill', inplace=True)"
   ]
  },
  {
   "cell_type": "code",
   "execution_count": 258,
   "metadata": {},
   "outputs": [
    {
     "data": {
      "text/plain": [
       "Very satisfied                        14628\n",
       "Slightly satisfied                    13834\n",
       "Slightly dissatisfied                  7192\n",
       "Neither satisfied nor dissatisfied     5446\n",
       "Very dissatisfied                      3609\n",
       "Name: CurrentJobSatis, dtype: int64"
      ]
     },
     "execution_count": 258,
     "metadata": {},
     "output_type": "execute_result"
    }
   ],
   "source": [
    "df2020['CurrentJobSatis'].value_counts()"
   ]
  },
  {
   "cell_type": "markdown",
   "metadata": {},
   "source": [
    "## JobSeek (JobStatus)"
   ]
  },
  {
   "cell_type": "code",
   "execution_count": 259,
   "metadata": {},
   "outputs": [
    {
     "data": {
      "text/plain": [
       "2153"
      ]
     },
     "execution_count": 259,
     "metadata": {},
     "output_type": "execute_result"
    }
   ],
   "source": [
    "df2020['JobStatus'].isnull().sum()"
   ]
  },
  {
   "cell_type": "code",
   "execution_count": 260,
   "metadata": {},
   "outputs": [
    {
     "data": {
      "text/plain": [
       "JobStatus\n",
       "I am actively looking for a job                                  6980\n",
       "I am not interested in new job opportunities                    10919\n",
       "I’m not actively looking, but I am open to new opportunities    24657\n",
       "Name: JobStatus, dtype: int64"
      ]
     },
     "execution_count": 260,
     "metadata": {},
     "output_type": "execute_result"
    }
   ],
   "source": [
    "df2020.groupby('JobStatus')['JobStatus'].count()"
   ]
  },
  {
   "cell_type": "code",
   "execution_count": 261,
   "metadata": {},
   "outputs": [],
   "source": [
    "df2020['JobStatus'].fillna(method='ffill', inplace=True)"
   ]
  },
  {
   "cell_type": "code",
   "execution_count": 262,
   "metadata": {},
   "outputs": [],
   "source": [
    "#Refactoring JobStatus\n",
    "#Changing the jobstatus to seeking and non seeking\n",
    "def refactor_job(df):\n",
    "    '''function to change JobStatus category to Seeking and Non Seeking'''\n",
    "    \n",
    "    conditions_job = [(df['JobStatus'] == 'I am actively looking for a job'),\n",
    "                    (df['JobStatus'] == 'I am not interested in new job opportunities')\n",
    "                    | (df['JobStatus'] == 'I’m not actively looking, but I am open to new opportunities')]\n",
    "    \n",
    "    choices_job = ['Seeking', 'Not seeking']\n",
    "    df['JobSeek'] = np.select(conditions_job, choices_job, default=np.nan)                      \n",
    "    return df\n",
    "\n",
    "df2020 = refactor_job(df2020)"
   ]
  },
  {
   "cell_type": "code",
   "execution_count": 263,
   "metadata": {},
   "outputs": [
    {
     "data": {
      "text/plain": [
       "JobSeek\n",
       "Not seeking    37369\n",
       "Seeking         7340\n",
       "Name: JobSeek, dtype: int64"
      ]
     },
     "execution_count": 263,
     "metadata": {},
     "output_type": "execute_result"
    }
   ],
   "source": [
    "df2020.groupby('JobSeek')['JobSeek'].count()"
   ]
  },
  {
   "cell_type": "code",
   "execution_count": 264,
   "metadata": {},
   "outputs": [
    {
     "data": {
      "text/plain": [
       "0"
      ]
     },
     "execution_count": 264,
     "metadata": {},
     "output_type": "execute_result"
    }
   ],
   "source": [
    "df2020['JobStatus'].isnull().sum()"
   ]
  },
  {
   "cell_type": "markdown",
   "metadata": {},
   "source": [
    "## DevType"
   ]
  },
  {
   "cell_type": "code",
   "execution_count": 265,
   "metadata": {},
   "outputs": [
    {
     "data": {
      "text/plain": [
       "5954"
      ]
     },
     "execution_count": 265,
     "metadata": {},
     "output_type": "execute_result"
    }
   ],
   "source": [
    "df2020['DevType'].isnull().sum()"
   ]
  },
  {
   "cell_type": "code",
   "execution_count": 266,
   "metadata": {},
   "outputs": [
    {
     "data": {
      "text/plain": [
       "Developer, full-stack                                                                                           3399\n",
       "Developer, back-end                                                                                             2374\n",
       "Developer, back-end;Developer, front-end;Developer, full-stack                                                  1838\n",
       "Developer, back-end;Developer, full-stack                                                                       1216\n",
       "Developer, front-end                                                                                            1071\n",
       "Developer, mobile                                                                                                953\n",
       "Developer, back-end;Developer, desktop or enterprise applications;Developer, front-end;Developer, full-stack     668\n",
       "Developer, front-end;Developer, full-stack                                                                       667\n",
       "Developer, back-end;Developer, desktop or enterprise applications                                                528\n",
       "Developer, back-end;Developer, front-end;Developer, full-stack;Developer, mobile                                 475\n",
       "Name: DevType, dtype: int64"
      ]
     },
     "execution_count": 266,
     "metadata": {},
     "output_type": "execute_result"
    }
   ],
   "source": [
    "df2020['DevType'].value_counts().nlargest(10)"
   ]
  },
  {
   "cell_type": "code",
   "execution_count": 267,
   "metadata": {},
   "outputs": [],
   "source": [
    "df2020['DevType'] = df2020['DevType'].bfill().ffill()"
   ]
  },
  {
   "cell_type": "code",
   "execution_count": 268,
   "metadata": {},
   "outputs": [
    {
     "data": {
      "text/plain": [
       "Developer, full-stack                                                                                           3940\n",
       "Developer, back-end                                                                                             2721\n",
       "Developer, back-end;Developer, front-end;Developer, full-stack                                                  2146\n",
       "Developer, back-end;Developer, full-stack                                                                       1411\n",
       "Developer, front-end                                                                                            1229\n",
       "Developer, mobile                                                                                               1074\n",
       "Developer, back-end;Developer, desktop or enterprise applications;Developer, front-end;Developer, full-stack     779\n",
       "Developer, front-end;Developer, full-stack                                                                       758\n",
       "Developer, back-end;Developer, desktop or enterprise applications                                                617\n",
       "Developer, back-end;Developer, front-end;Developer, full-stack;Developer, mobile                                 532\n",
       "Name: DevType, dtype: int64"
      ]
     },
     "execution_count": 268,
     "metadata": {},
     "output_type": "execute_result"
    }
   ],
   "source": [
    "df2020['DevType'].value_counts().nlargest(10)"
   ]
  },
  {
   "cell_type": "code",
   "execution_count": 269,
   "metadata": {},
   "outputs": [
    {
     "data": {
      "text/plain": [
       "(64461, 26)"
      ]
     },
     "execution_count": 269,
     "metadata": {},
     "output_type": "execute_result"
    }
   ],
   "source": [
    "df.shape"
   ]
  },
  {
   "cell_type": "code",
   "execution_count": 270,
   "metadata": {},
   "outputs": [
    {
     "data": {
      "text/plain": [
       "0"
      ]
     },
     "execution_count": 270,
     "metadata": {},
     "output_type": "execute_result"
    }
   ],
   "source": [
    "\n",
    "df2020['DevType'].isnull().sum()"
   ]
  },
  {
   "cell_type": "code",
   "execution_count": 271,
   "metadata": {},
   "outputs": [
    {
     "data": {
      "text/html": [
       "<div>\n",
       "<style scoped>\n",
       "    .dataframe tbody tr th:only-of-type {\n",
       "        vertical-align: middle;\n",
       "    }\n",
       "\n",
       "    .dataframe tbody tr th {\n",
       "        vertical-align: top;\n",
       "    }\n",
       "\n",
       "    .dataframe thead th {\n",
       "        text-align: right;\n",
       "    }\n",
       "</style>\n",
       "<table border=\"1\" class=\"dataframe\">\n",
       "  <thead>\n",
       "    <tr style=\"text-align: right;\">\n",
       "      <th></th>\n",
       "      <th>Age</th>\n",
       "      <th>Gender</th>\n",
       "      <th>SalaryUSD</th>\n",
       "      <th>Country</th>\n",
       "      <th>DevType</th>\n",
       "      <th>Hobbyist</th>\n",
       "      <th>EdLevel</th>\n",
       "      <th>Employment</th>\n",
       "      <th>Ethnicity</th>\n",
       "      <th>CurrentJobSatis</th>\n",
       "      <th>JobStatus</th>\n",
       "      <th>LanguageDesireNextYear</th>\n",
       "      <th>LanguageWorkedWith</th>\n",
       "      <th>Profession</th>\n",
       "      <th>UndergradMajor</th>\n",
       "      <th>YearsCodePro</th>\n",
       "      <th>JobSeek</th>\n",
       "    </tr>\n",
       "  </thead>\n",
       "  <tbody>\n",
       "  </tbody>\n",
       "</table>\n",
       "</div>"
      ],
      "text/plain": [
       "Empty DataFrame\n",
       "Columns: [Age, Gender, SalaryUSD, Country, DevType, Hobbyist, EdLevel, Employment, Ethnicity, CurrentJobSatis, JobStatus, LanguageDesireNextYear, LanguageWorkedWith, Profession, UndergradMajor, YearsCodePro, JobSeek]\n",
       "Index: []"
      ]
     },
     "execution_count": 271,
     "metadata": {},
     "output_type": "execute_result"
    }
   ],
   "source": [
    "df2020[df2020['DevType'].isnull()]"
   ]
  },
  {
   "cell_type": "markdown",
   "metadata": {},
   "source": [
    "## Ethnicity"
   ]
  },
  {
   "cell_type": "code",
   "execution_count": 272,
   "metadata": {},
   "outputs": [
    {
     "data": {
      "text/plain": [
       "4051"
      ]
     },
     "execution_count": 272,
     "metadata": {},
     "output_type": "execute_result"
    }
   ],
   "source": [
    "\n",
    "df2020['Ethnicity'].isnull().sum()"
   ]
  },
  {
   "cell_type": "code",
   "execution_count": 273,
   "metadata": {},
   "outputs": [
    {
     "data": {
      "text/plain": [
       "White or of European descent                           26552\n",
       "South Asian                                             3707\n",
       "Hispanic or Latino/a/x                                  2078\n",
       "Middle Eastern                                          1417\n",
       "Southeast Asian                                         1371\n",
       "East Asian                                              1342\n",
       "Black or of African descent                             1327\n",
       "Hispanic or Latino/a/x;White or of European descent      720\n",
       "Middle Eastern;White or of European descent              344\n",
       "Multiracial                                              245\n",
       "Name: Ethnicity, dtype: int64"
      ]
     },
     "execution_count": 273,
     "metadata": {},
     "output_type": "execute_result"
    }
   ],
   "source": [
    "#count number of each Ethnicity\n",
    "df2020.groupby('Ethnicity')['Ethnicity'].count()\n",
    "df2020['Ethnicity'].value_counts().nlargest(10)"
   ]
  },
  {
   "cell_type": "code",
   "execution_count": 274,
   "metadata": {},
   "outputs": [],
   "source": [
    "\n",
    "#combine Ethnicity by str.match(if each string starts with a match of a regular expression pattern)\n",
    "df2020.loc[df['Ethnicity'].str.match('Biracial') == True, 'Ethnicity'] = 'Biracial'\n",
    "df2020.loc[df['Ethnicity'].str.match('Black or of African descent') == True, 'Ethnicity'] = 'Black or of African descent'\n",
    "df2020.loc[df['Ethnicity'].str.match('East Asian') == True, 'Ethnicity'] = 'East Asian'\n",
    "df2020.loc[df['Ethnicity'].str.match('Hispanic or Latino') == True, 'Ethnicity'] = 'Hispanic or Latino'\n",
    "df2020.loc[df['Ethnicity'].str.match('Indigenous') == True, 'Ethnicity'] = 'Indigenous'\n",
    "df2020.loc[df['Ethnicity'].str.match('Middle Eastern') == True, 'Ethnicity'] = 'Middle Eastern'\n",
    "df2020.loc[df['Ethnicity'].str.match('South Asian') == True, 'Ethnicity'] = 'South Asian'\n",
    "df2020.loc[df['Ethnicity'].str.match('White or of European descent') == True, 'Ethnicity'] = 'White or of European descent'\n",
    "df2020.loc[df['Ethnicity'].str.match('Multiracial') == True, 'Ethnicity'] = 'Multiracial'"
   ]
  },
  {
   "cell_type": "code",
   "execution_count": 275,
   "metadata": {},
   "outputs": [
    {
     "data": {
      "text/plain": [
       "White or of European descent    26848\n",
       "South Asian                      3783\n",
       "Hispanic or Latino               3072\n",
       "Middle Eastern                   1840\n",
       "East Asian                       1661\n",
       "Black or of African descent      1633\n",
       "Southeast Asian                  1371\n",
       "Multiracial                       249\n",
       "Biracial                          138\n",
       "Indigenous                         63\n",
       "Name: Ethnicity, dtype: int64"
      ]
     },
     "execution_count": 275,
     "metadata": {},
     "output_type": "execute_result"
    }
   ],
   "source": [
    "\n",
    "df2020.groupby('Ethnicity')['Ethnicity'].count() #11 groups of Ethnicity after combining \n",
    "df2020['Ethnicity'].value_counts()"
   ]
  },
  {
   "cell_type": "code",
   "execution_count": 276,
   "metadata": {},
   "outputs": [],
   "source": [
    "\n",
    "df2020['Ethnicity']=df2020.groupby(['Country'])['Ethnicity'].bfill().ffill()"
   ]
  },
  {
   "cell_type": "code",
   "execution_count": 277,
   "metadata": {},
   "outputs": [
    {
     "data": {
      "text/plain": [
       "White or of European descent    28466\n",
       "South Asian                      5101\n",
       "Hispanic or Latino               3270\n",
       "Middle Eastern                   2104\n",
       "East Asian                       1907\n",
       "Black or of African descent      1762\n",
       "Southeast Asian                  1614\n",
       "Multiracial                       263\n",
       "Biracial                          151\n",
       "Indigenous                         71\n",
       "Name: Ethnicity, dtype: int64"
      ]
     },
     "execution_count": 277,
     "metadata": {},
     "output_type": "execute_result"
    }
   ],
   "source": [
    "#count number of each Ethnicity\n",
    "df2020.groupby('Ethnicity')['Ethnicity'].count()\n",
    "df2020['Ethnicity'].value_counts()"
   ]
  },
  {
   "cell_type": "code",
   "execution_count": 278,
   "metadata": {},
   "outputs": [
    {
     "data": {
      "text/plain": [
       "0"
      ]
     },
     "execution_count": 278,
     "metadata": {},
     "output_type": "execute_result"
    }
   ],
   "source": [
    "df2020['Ethnicity'].isnull().sum()"
   ]
  },
  {
   "cell_type": "code",
   "execution_count": 279,
   "metadata": {},
   "outputs": [
    {
     "name": "stdout",
     "output_type": "stream",
     "text": [
      "Age                           0\n",
      "Gender                        0\n",
      "SalaryUSD                 14358\n",
      "Country                       0\n",
      "DevType                       0\n",
      "Hobbyist                      0\n",
      "EdLevel                       0\n",
      "Employment                  118\n",
      "Ethnicity                     0\n",
      "CurrentJobSatis               0\n",
      "JobStatus                     0\n",
      "LanguageDesireNextYear     2394\n",
      "LanguageWorkedWith          396\n",
      "Profession                   77\n",
      "UndergradMajor             5522\n",
      "YearsCodePro               8212\n",
      "JobSeek                       0\n",
      "dtype: int64\n"
     ]
    }
   ],
   "source": [
    "\n",
    "print(df2020.isnull().sum())"
   ]
  },
  {
   "cell_type": "markdown",
   "metadata": {},
   "source": [
    "## LanguageDesireNextYear"
   ]
  },
  {
   "cell_type": "code",
   "execution_count": 280,
   "metadata": {},
   "outputs": [
    {
     "data": {
      "text/plain": [
       "2394"
      ]
     },
     "execution_count": 280,
     "metadata": {},
     "output_type": "execute_result"
    }
   ],
   "source": [
    "df2020['LanguageDesireNextYear'].isnull().sum()"
   ]
  },
  {
   "cell_type": "code",
   "execution_count": 281,
   "metadata": {},
   "outputs": [
    {
     "data": {
      "text/plain": [
       "Python                                   773\n",
       "Rust                                     417\n",
       "HTML/CSS;JavaScript;TypeScript           405\n",
       "C#                                       342\n",
       "C#;HTML/CSS;JavaScript;SQL;TypeScript    339\n",
       "HTML/CSS;JavaScript                      307\n",
       "Go                                       300\n",
       "HTML/CSS;JavaScript;PHP;SQL              229\n",
       "TypeScript                               227\n",
       "Java                                     224\n",
       "Name: LanguageDesireNextYear, dtype: int64"
      ]
     },
     "execution_count": 281,
     "metadata": {},
     "output_type": "execute_result"
    }
   ],
   "source": [
    "df2020['LanguageDesireNextYear'].value_counts().nlargest(10)"
   ]
  },
  {
   "cell_type": "code",
   "execution_count": 282,
   "metadata": {},
   "outputs": [],
   "source": [
    "#df2020['LanguageDesireNextYear'].fillna(method='ffill', inplace=True)\n",
    "df2020['LanguageDesireNextYear']=df2020['LanguageDesireNextYear'].bfill().ffill()"
   ]
  },
  {
   "cell_type": "code",
   "execution_count": 283,
   "metadata": {},
   "outputs": [
    {
     "data": {
      "text/plain": [
       "Python                                   802\n",
       "Rust                                     432\n",
       "HTML/CSS;JavaScript;TypeScript           425\n",
       "C#                                       377\n",
       "C#;HTML/CSS;JavaScript;SQL;TypeScript    372\n",
       "HTML/CSS;JavaScript                      323\n",
       "Go                                       310\n",
       "HTML/CSS;JavaScript;PHP;SQL              245\n",
       "Java                                     238\n",
       "JavaScript                               236\n",
       "Name: LanguageDesireNextYear, dtype: int64"
      ]
     },
     "execution_count": 283,
     "metadata": {},
     "output_type": "execute_result"
    }
   ],
   "source": [
    "df2020['LanguageDesireNextYear'].value_counts().nlargest(10)"
   ]
  },
  {
   "cell_type": "code",
   "execution_count": 284,
   "metadata": {},
   "outputs": [
    {
     "data": {
      "text/plain": [
       "0"
      ]
     },
     "execution_count": 284,
     "metadata": {},
     "output_type": "execute_result"
    }
   ],
   "source": [
    "df2020['LanguageDesireNextYear'].isnull().sum()"
   ]
  },
  {
   "cell_type": "markdown",
   "metadata": {},
   "source": [
    "## LanguageWorkedWith"
   ]
  },
  {
   "cell_type": "code",
   "execution_count": 285,
   "metadata": {},
   "outputs": [
    {
     "data": {
      "text/plain": [
       "396"
      ]
     },
     "execution_count": 285,
     "metadata": {},
     "output_type": "execute_result"
    }
   ],
   "source": [
    "df2020['LanguageWorkedWith'].isnull().sum()"
   ]
  },
  {
   "cell_type": "code",
   "execution_count": 286,
   "metadata": {},
   "outputs": [
    {
     "data": {
      "text/plain": [
       "HTML/CSS;JavaScript;PHP;SQL              819\n",
       "C#;HTML/CSS;JavaScript;SQL               669\n",
       "HTML/CSS;JavaScript                      655\n",
       "C#;HTML/CSS;JavaScript;SQL;TypeScript    624\n",
       "HTML/CSS;JavaScript;TypeScript           568\n",
       "Python                                   449\n",
       "Java                                     392\n",
       "HTML/CSS;JavaScript;PHP                  382\n",
       "HTML/CSS;Java;JavaScript;SQL             301\n",
       "C#                                       296\n",
       "Name: LanguageWorkedWith, dtype: int64"
      ]
     },
     "execution_count": 286,
     "metadata": {},
     "output_type": "execute_result"
    }
   ],
   "source": [
    "df2020['LanguageWorkedWith'].value_counts().nlargest(10)"
   ]
  },
  {
   "cell_type": "code",
   "execution_count": 287,
   "metadata": {},
   "outputs": [],
   "source": [
    "#df2020['LanguageWorkedWith'].fillna(method='ffill', inplace=True)\n",
    "df2020['LanguageWorkedWith']=df2020['LanguageWorkedWith'].bfill().ffill()"
   ]
  },
  {
   "cell_type": "code",
   "execution_count": 288,
   "metadata": {},
   "outputs": [
    {
     "data": {
      "text/plain": [
       "HTML/CSS;JavaScript;PHP;SQL              822\n",
       "C#;HTML/CSS;JavaScript;SQL               670\n",
       "HTML/CSS;JavaScript                      658\n",
       "C#;HTML/CSS;JavaScript;SQL;TypeScript    631\n",
       "HTML/CSS;JavaScript;TypeScript           572\n",
       "Python                                   450\n",
       "Java                                     394\n",
       "HTML/CSS;JavaScript;PHP                  385\n",
       "HTML/CSS;Java;JavaScript;SQL             306\n",
       "C#                                       298\n",
       "Name: LanguageWorkedWith, dtype: int64"
      ]
     },
     "execution_count": 288,
     "metadata": {},
     "output_type": "execute_result"
    }
   ],
   "source": [
    "df2020['LanguageWorkedWith'].value_counts().nlargest(10)"
   ]
  },
  {
   "cell_type": "code",
   "execution_count": 289,
   "metadata": {},
   "outputs": [
    {
     "data": {
      "text/plain": [
       "0"
      ]
     },
     "execution_count": 289,
     "metadata": {},
     "output_type": "execute_result"
    }
   ],
   "source": [
    "df2020['LanguageWorkedWith'].isnull().sum()"
   ]
  },
  {
   "cell_type": "markdown",
   "metadata": {},
   "source": [
    "## MainBranch (Profession)"
   ]
  },
  {
   "cell_type": "code",
   "execution_count": 290,
   "metadata": {},
   "outputs": [
    {
     "data": {
      "text/plain": [
       "77"
      ]
     },
     "execution_count": 290,
     "metadata": {},
     "output_type": "execute_result"
    }
   ],
   "source": [
    "df2020['Profession'].isnull().sum()"
   ]
  },
  {
   "cell_type": "code",
   "execution_count": 291,
   "metadata": {},
   "outputs": [
    {
     "data": {
      "text/plain": [
       "Profession\n",
       "I am a developer by profession                                                   34037\n",
       "I am a student who is learning to code                                            4900\n",
       "I am not primarily a developer, but I write code sometimes as part of my work     3718\n",
       "I code primarily as a hobby                                                       1301\n",
       "I used to be a developer by profession, but no longer am                           676\n",
       "Name: Profession, dtype: int64"
      ]
     },
     "execution_count": 291,
     "metadata": {},
     "output_type": "execute_result"
    }
   ],
   "source": [
    "df2020.groupby('Profession')['Profession'].count()"
   ]
  },
  {
   "cell_type": "code",
   "execution_count": 292,
   "metadata": {},
   "outputs": [],
   "source": [
    "df2020.dropna(subset=['Profession'], inplace = True)"
   ]
  },
  {
   "cell_type": "code",
   "execution_count": 293,
   "metadata": {},
   "outputs": [],
   "source": [
    "#Lets refactor column values of Profession column\n",
    "#refactoring profession column\n",
    "\n",
    "def refactor_prof(df):\n",
    "    '''function to change Profession category to Developer, Student, Non-Developer, Novoice, Ex-Developer'''\n",
    "    conditions_prof = [(df['Profession'] == 'I am a developer by profession'),\n",
    "                       (df['Profession'] == 'I am a student who is learning to code'),\n",
    "                       (df['Profession'] == 'I am not primarily a developer, but I write code sometimes as part of my work'),\n",
    "                       (df['Profession'] == 'I code primarily as a hobby'),\n",
    "                       (df['Profession'] == 'I used to be a developer by profession, but no longer am')]\n",
    "    \n",
    "    choices_prof = ['Developer', 'Student', 'Non developer', 'Novoice', 'Ex-Developer']\n",
    "    df['Profession'] = np.select(conditions_prof, choices_prof, default=np.nan)          \n",
    "    return df\n",
    "\n",
    "df2020 = refactor_prof(df2020)"
   ]
  },
  {
   "cell_type": "code",
   "execution_count": 294,
   "metadata": {},
   "outputs": [
    {
     "data": {
      "text/plain": [
       "Developer        34037\n",
       "Student           4900\n",
       "Non developer     3718\n",
       "Novoice           1301\n",
       "Ex-Developer       676\n",
       "Name: Profession, dtype: int64"
      ]
     },
     "execution_count": 294,
     "metadata": {},
     "output_type": "execute_result"
    }
   ],
   "source": [
    "df2020['Profession'].value_counts()"
   ]
  },
  {
   "cell_type": "code",
   "execution_count": 295,
   "metadata": {},
   "outputs": [
    {
     "data": {
      "text/plain": [
       "0"
      ]
     },
     "execution_count": 295,
     "metadata": {},
     "output_type": "execute_result"
    }
   ],
   "source": [
    "df2020['Profession'].isnull().sum()"
   ]
  },
  {
   "cell_type": "markdown",
   "metadata": {},
   "source": [
    "## UndergradMajor"
   ]
  },
  {
   "cell_type": "code",
   "execution_count": 296,
   "metadata": {},
   "outputs": [
    {
     "data": {
      "text/plain": [
       "5501"
      ]
     },
     "execution_count": 296,
     "metadata": {},
     "output_type": "execute_result"
    }
   ],
   "source": [
    "\n",
    "df2020['UndergradMajor'].isnull().sum()"
   ]
  },
  {
   "cell_type": "code",
   "execution_count": 297,
   "metadata": {},
   "outputs": [
    {
     "data": {
      "text/plain": [
       "UndergradMajor\n",
       "A business discipline (such as accounting, finance, marketing, etc.)               1033\n",
       "A health science (such as nursing, pharmacy, radiology, etc.)                       190\n",
       "A humanities discipline (such as literature, history, philosophy, etc.)             815\n",
       "A natural science (such as biology, chemistry, physics, etc.)                      1754\n",
       "A social science (such as anthropology, psychology, political science, etc.)        733\n",
       "Another engineering discipline (such as civil, electrical, mechanical, etc.)       3542\n",
       "Computer science, computer engineering, or software engineering                   24429\n",
       "Fine arts or performing arts (such as graphic design, music, studio art, etc.)      581\n",
       "I never declared a major                                                            331\n",
       "Information systems, information technology, or system administration              3074\n",
       "Mathematics or statistics                                                          1419\n",
       "Web development or web design                                                      1230\n",
       "Name: UndergradMajor, dtype: int64"
      ]
     },
     "execution_count": 297,
     "metadata": {},
     "output_type": "execute_result"
    }
   ],
   "source": [
    "df2020.groupby('UndergradMajor')['UndergradMajor'].count()"
   ]
  },
  {
   "cell_type": "code",
   "execution_count": 298,
   "metadata": {},
   "outputs": [],
   "source": [
    "def refactor_major(df):\n",
    "    conditions_major = [(df['UndergradMajor'] == 'Computer science, computer engineering, or software engineering'), \n",
    "                        (df['UndergradMajor'] == 'Another engineering discipline (such as civil, electrical, mechanical, etc.)'),\n",
    "                        (df['UndergradMajor'] == 'Information systems, information technology, or system administration'), \n",
    "                        (df['UndergradMajor'] == 'Mathematics or statistics'),\n",
    "                        (df['UndergradMajor'] == 'A natural science (such as biology, chemistry, physics, etc.)') \n",
    "                        |(df['UndergradMajor'] == 'A health science (such as nursing, pharmacy, radiology, etc.)'), \n",
    "                        (df['UndergradMajor'] == 'Web development or web design'), \n",
    "                        (df['UndergradMajor'] == 'A business discipline (such as accounting, finance, marketing, etc.)'), \n",
    "                        (df['UndergradMajor'] == 'A humanities discipline (such as literature, history, philosophy, etc.)')\n",
    "                        | (df['UndergradMajor'] == 'A social science (such as anthropology, psychology, political science, etc.)')\n",
    "                        | (df['UndergradMajor'] == 'Fine arts or performing arts (such as graphic design, music, studio art, etc.)'),\n",
    "                        (df['UndergradMajor'] == 'I never declared a major') ]\n",
    "    \n",
    "    choices_major = ['Computer Science', 'Engineering', 'Info Systems', 'Math/Stat', 'Other Science',\n",
    "                     'Web Design/Dev', 'Business', 'Arts and Science', 'No major']\n",
    "    df['UndergradMajor'] = np.select(conditions_major, choices_major, default = np.NaN)\n",
    "    return df\n",
    "\n",
    "df2020 = refactor_major(df2020)\n",
    "df2020['UndergradMajor'].replace('nan', 'No major', inplace=True)"
   ]
  },
  {
   "cell_type": "code",
   "execution_count": 299,
   "metadata": {},
   "outputs": [
    {
     "data": {
      "text/plain": [
       "UndergradMajor\n",
       "Arts and Science     2129\n",
       "Business             1033\n",
       "Computer Science    24429\n",
       "Engineering          3542\n",
       "Info Systems         3074\n",
       "Math/Stat            1419\n",
       "No major             5832\n",
       "Other Science        1944\n",
       "Web Design/Dev       1230\n",
       "Name: UndergradMajor, dtype: int64"
      ]
     },
     "execution_count": 299,
     "metadata": {},
     "output_type": "execute_result"
    }
   ],
   "source": [
    "df2020.groupby('UndergradMajor')['UndergradMajor'].count()"
   ]
  },
  {
   "cell_type": "code",
   "execution_count": 300,
   "metadata": {},
   "outputs": [
    {
     "data": {
      "text/plain": [
       "0"
      ]
     },
     "execution_count": 300,
     "metadata": {},
     "output_type": "execute_result"
    }
   ],
   "source": [
    "df2020['UndergradMajor'].isnull().sum()"
   ]
  },
  {
   "cell_type": "markdown",
   "metadata": {},
   "source": [
    "## Employment"
   ]
  },
  {
   "cell_type": "code",
   "execution_count": 301,
   "metadata": {},
   "outputs": [
    {
     "data": {
      "text/plain": [
       "111"
      ]
     },
     "execution_count": 301,
     "metadata": {},
     "output_type": "execute_result"
    }
   ],
   "source": [
    "df2020['Employment'].isnull().sum()"
   ]
  },
  {
   "cell_type": "code",
   "execution_count": 302,
   "metadata": {},
   "outputs": [
    {
     "data": {
      "text/plain": [
       "Employment\n",
       "Employed full-time                                      32474\n",
       "Employed part-time                                       1489\n",
       "Independent contractor, freelancer, or self-employed     3859\n",
       "Not employed, and not looking for work                    181\n",
       "Not employed, but looking for work                       1500\n",
       "Retired                                                    32\n",
       "Student                                                  4986\n",
       "Name: Employment, dtype: int64"
      ]
     },
     "execution_count": 302,
     "metadata": {},
     "output_type": "execute_result"
    }
   ],
   "source": [
    "\n",
    "df2020.groupby('Employment')['Employment'].count()"
   ]
  },
  {
   "cell_type": "code",
   "execution_count": 303,
   "metadata": {},
   "outputs": [],
   "source": [
    "df2020.dropna(subset=['Employment'], inplace = True)"
   ]
  },
  {
   "cell_type": "code",
   "execution_count": 304,
   "metadata": {},
   "outputs": [],
   "source": [
    "#Refactoring Employment\n",
    "df2020['Employment'].replace('Employed full-time', 'Full-time', inplace =True)\n",
    "df2020['Employment'].replace('Employed part-time', 'Part-time',inplace =True)\n",
    "df2020['Employment'].replace('Independent contractor, freelancer, or self-employed', 'Self-employed', inplace =True)\n",
    "df2020['Employment'].replace('Not employed, but looking for work', 'Not employed', inplace =True)"
   ]
  },
  {
   "cell_type": "code",
   "execution_count": 305,
   "metadata": {},
   "outputs": [
    {
     "data": {
      "text/plain": [
       "Employment\n",
       "Full-time                                 32474\n",
       "Not employed                               1500\n",
       "Not employed, and not looking for work      181\n",
       "Part-time                                  1489\n",
       "Retired                                      32\n",
       "Self-employed                              3859\n",
       "Student                                    4986\n",
       "Name: Employment, dtype: int64"
      ]
     },
     "execution_count": 305,
     "metadata": {},
     "output_type": "execute_result"
    }
   ],
   "source": [
    "df2020.groupby('Employment')['Employment'].count()"
   ]
  },
  {
   "cell_type": "code",
   "execution_count": 306,
   "metadata": {},
   "outputs": [
    {
     "data": {
      "text/plain": [
       "0"
      ]
     },
     "execution_count": 306,
     "metadata": {},
     "output_type": "execute_result"
    }
   ],
   "source": [
    "df2020['Employment'].isnull().sum()"
   ]
  },
  {
   "cell_type": "markdown",
   "metadata": {},
   "source": [
    "## Country"
   ]
  },
  {
   "cell_type": "code",
   "execution_count": 307,
   "metadata": {},
   "outputs": [
    {
     "data": {
      "text/plain": [
       "0"
      ]
     },
     "execution_count": 307,
     "metadata": {},
     "output_type": "execute_result"
    }
   ],
   "source": [
    "df2020['Country'].isnull().sum()"
   ]
  },
  {
   "cell_type": "code",
   "execution_count": 308,
   "metadata": {},
   "outputs": [
    {
     "data": {
      "text/plain": [
       "Country\n",
       "Afghanistan                              22\n",
       "Albania                                  29\n",
       "Algeria                                  47\n",
       "Andorra                                   3\n",
       "Angola                                    2\n",
       "                                       ... \n",
       "Venezuela, Bolivarian Republic of...     53\n",
       "Viet Nam                                159\n",
       "Yemen                                     2\n",
       "Zambia                                   10\n",
       "Zimbabwe                                 19\n",
       "Name: Country, Length: 170, dtype: int64"
      ]
     },
     "execution_count": 308,
     "metadata": {},
     "output_type": "execute_result"
    }
   ],
   "source": [
    "\n",
    "df2020.groupby('Country')['Country'].count()"
   ]
  },
  {
   "cell_type": "markdown",
   "metadata": {},
   "source": [
    "## YearsCodePro"
   ]
  },
  {
   "cell_type": "code",
   "execution_count": 309,
   "metadata": {},
   "outputs": [
    {
     "data": {
      "text/plain": [
       "8123"
      ]
     },
     "execution_count": 309,
     "metadata": {},
     "output_type": "execute_result"
    }
   ],
   "source": [
    "df2020['YearsCodePro'].isnull().sum()"
   ]
  },
  {
   "cell_type": "code",
   "execution_count": 310,
   "metadata": {},
   "outputs": [
    {
     "data": {
      "text/plain": [
       "Age                         int64\n",
       "Gender                     object\n",
       "SalaryUSD                 float64\n",
       "Country                    object\n",
       "DevType                    object\n",
       "Hobbyist                   object\n",
       "EdLevel                    object\n",
       "Employment                 object\n",
       "Ethnicity                  object\n",
       "CurrentJobSatis            object\n",
       "JobStatus                  object\n",
       "LanguageDesireNextYear     object\n",
       "LanguageWorkedWith         object\n",
       "Profession                 object\n",
       "UndergradMajor             object\n",
       "YearsCodePro               object\n",
       "JobSeek                    object\n",
       "dtype: object"
      ]
     },
     "execution_count": 310,
     "metadata": {},
     "output_type": "execute_result"
    }
   ],
   "source": [
    "df2020.dtypes"
   ]
  },
  {
   "cell_type": "code",
   "execution_count": 311,
   "metadata": {},
   "outputs": [],
   "source": [
    "#convert YearsCodePro data type from obj to int\n",
    "df2020[\"YearsCodePro\"]=pd.to_numeric(df2020[\"YearsCodePro\"],errors='coerce')\n",
    "\n",
    "#fill YearsCodePro's null values with mean\n",
    "means = df2020['YearsCodePro'].mean() #means 8.673142457693764\n",
    "df2020['YearsCodePro'] = df2020['YearsCodePro'].fillna(means)\n",
    "df2020['YearsCodePro'] = df2020['YearsCodePro'].round(2)"
   ]
  },
  {
   "cell_type": "code",
   "execution_count": 312,
   "metadata": {},
   "outputs": [
    {
     "data": {
      "text/plain": [
       "0"
      ]
     },
     "execution_count": 312,
     "metadata": {},
     "output_type": "execute_result"
    }
   ],
   "source": [
    "df2020['YearsCodePro'].isnull().sum()"
   ]
  },
  {
   "cell_type": "markdown",
   "metadata": {},
   "source": [
    "## Hobbyist"
   ]
  },
  {
   "cell_type": "code",
   "execution_count": 313,
   "metadata": {},
   "outputs": [
    {
     "data": {
      "text/plain": [
       "0"
      ]
     },
     "execution_count": 313,
     "metadata": {},
     "output_type": "execute_result"
    }
   ],
   "source": [
    "df2020['Hobbyist'].isnull().sum()"
   ]
  },
  {
   "cell_type": "code",
   "execution_count": 314,
   "metadata": {},
   "outputs": [
    {
     "data": {
      "text/plain": [
       "Hobbyist\n",
       "No      9583\n",
       "Yes    34938\n",
       "Name: Hobbyist, dtype: int64"
      ]
     },
     "execution_count": 314,
     "metadata": {},
     "output_type": "execute_result"
    }
   ],
   "source": [
    "df2020.groupby('Hobbyist')['Hobbyist'].count()"
   ]
  },
  {
   "cell_type": "code",
   "execution_count": 315,
   "metadata": {},
   "outputs": [
    {
     "name": "stdout",
     "output_type": "stream",
     "text": [
      "Age                           0\n",
      "Gender                        0\n",
      "SalaryUSD                 14202\n",
      "Country                       0\n",
      "DevType                       0\n",
      "Hobbyist                      0\n",
      "EdLevel                       0\n",
      "Employment                    0\n",
      "Ethnicity                     0\n",
      "CurrentJobSatis               0\n",
      "JobStatus                     0\n",
      "LanguageDesireNextYear        0\n",
      "LanguageWorkedWith            0\n",
      "Profession                    0\n",
      "UndergradMajor                0\n",
      "YearsCodePro                  0\n",
      "JobSeek                       0\n",
      "dtype: int64\n"
     ]
    }
   ],
   "source": [
    "print(df2020.isnull().sum())"
   ]
  },
  {
   "cell_type": "markdown",
   "metadata": {},
   "source": [
    "## ConvertedComp (SalaryUSD)"
   ]
  },
  {
   "cell_type": "code",
   "execution_count": 316,
   "metadata": {},
   "outputs": [
    {
     "data": {
      "text/plain": [
       "14202"
      ]
     },
     "execution_count": 316,
     "metadata": {},
     "output_type": "execute_result"
    }
   ],
   "source": [
    "df2020['SalaryUSD'].isnull().sum()"
   ]
  },
  {
   "cell_type": "code",
   "execution_count": 317,
   "metadata": {},
   "outputs": [
    {
     "data": {
      "text/plain": [
       "120000.0     284\n",
       "100000.0     254\n",
       "64859.0      224\n",
       "150000.0     221\n",
       "2000000.0    216\n",
       "Name: SalaryUSD, dtype: int64"
      ]
     },
     "execution_count": 317,
     "metadata": {},
     "output_type": "execute_result"
    }
   ],
   "source": [
    "df2020['SalaryUSD'].value_counts().nlargest()"
   ]
  },
  {
   "cell_type": "markdown",
   "metadata": {},
   "source": [
    "mean_salary = df2020.groupby(['Age','EdLevel','Country'])['SalaryUSD'].mean()\n",
    "mean_salary.nlargest(10)"
   ]
  },
  {
   "cell_type": "code",
   "execution_count": 318,
   "metadata": {},
   "outputs": [],
   "source": [
    "#df2020['SalaryUSD'] = df2020.groupby(['Age', 'EdLevel', 'Country'])['SalaryUSD'].transform(lambda grp: grp.fillna(np.mean(grp)))\n",
    "\n",
    "means = df2020.groupby(['Age', 'EdLevel', 'Country'])['SalaryUSD'].transform('mean')\n",
    "df2020['SalaryUSD'] = df2020['SalaryUSD'].fillna(means)"
   ]
  },
  {
   "cell_type": "code",
   "execution_count": 319,
   "metadata": {},
   "outputs": [
    {
     "data": {
      "text/plain": [
       "Age  EdLevel       Country      \n",
       "40   Professional  United States    2000000.0\n",
       "37   Masters       Nomadic          1320000.0\n",
       "41   Masters       Israel           1200000.0\n",
       "47   Professional  United States    1047500.0\n",
       "33   Doctorate     Italy            1018376.5\n",
       "15   Bachelors     Germany          1000000.0\n",
       "20   Associate     Australia        1000000.0\n",
       "25   Bachelors     Paraguay         1000000.0\n",
       "28   Doctorate     Singapore        1000000.0\n",
       "32   No Degree     Ireland          1000000.0\n",
       "Name: SalaryUSD, dtype: float64"
      ]
     },
     "execution_count": 319,
     "metadata": {},
     "output_type": "execute_result"
    }
   ],
   "source": [
    "\n",
    "mean_salary = df2020.groupby(['Age','EdLevel','Country'])['SalaryUSD'].mean()\n",
    "mean_salary.nlargest(10)"
   ]
  },
  {
   "cell_type": "code",
   "execution_count": 320,
   "metadata": {},
   "outputs": [
    {
     "data": {
      "text/plain": [
       "120000.0     286\n",
       "100000.0     255\n",
       "64859.0      239\n",
       "150000.0     227\n",
       "1000000.0    219\n",
       "Name: SalaryUSD, dtype: int64"
      ]
     },
     "execution_count": 320,
     "metadata": {},
     "output_type": "execute_result"
    }
   ],
   "source": [
    "\n",
    "df2020['SalaryUSD'].value_counts().nlargest()"
   ]
  },
  {
   "cell_type": "code",
   "execution_count": 321,
   "metadata": {},
   "outputs": [
    {
     "data": {
      "text/plain": [
       "2952"
      ]
     },
     "execution_count": 321,
     "metadata": {},
     "output_type": "execute_result"
    }
   ],
   "source": [
    "\n",
    "df2020['SalaryUSD'].isnull().sum() #2952 out of 64461 -> 4.6%"
   ]
  },
  {
   "cell_type": "code",
   "execution_count": 322,
   "metadata": {},
   "outputs": [],
   "source": [
    "df2020.dropna(subset=['SalaryUSD'], inplace = True)"
   ]
  },
  {
   "cell_type": "code",
   "execution_count": 323,
   "metadata": {},
   "outputs": [
    {
     "data": {
      "text/plain": [
       "0"
      ]
     },
     "execution_count": 323,
     "metadata": {},
     "output_type": "execute_result"
    }
   ],
   "source": [
    "df2020['SalaryUSD'].isnull().sum()"
   ]
  },
  {
   "cell_type": "code",
   "execution_count": 324,
   "metadata": {},
   "outputs": [
    {
     "name": "stdout",
     "output_type": "stream",
     "text": [
      "Age                       0\n",
      "Gender                    0\n",
      "SalaryUSD                 0\n",
      "Country                   0\n",
      "DevType                   0\n",
      "Hobbyist                  0\n",
      "EdLevel                   0\n",
      "Employment                0\n",
      "Ethnicity                 0\n",
      "CurrentJobSatis           0\n",
      "JobStatus                 0\n",
      "LanguageDesireNextYear    0\n",
      "LanguageWorkedWith        0\n",
      "Profession                0\n",
      "UndergradMajor            0\n",
      "YearsCodePro              0\n",
      "JobSeek                   0\n",
      "dtype: int64\n"
     ]
    }
   ],
   "source": [
    "print(df2020.isnull().sum())"
   ]
  },
  {
   "cell_type": "code",
   "execution_count": 325,
   "metadata": {},
   "outputs": [],
   "source": [
    "#resetting the index values\n",
    "df2020 = df2020.reset_index(drop=True)"
   ]
  },
  {
   "cell_type": "code",
   "execution_count": 326,
   "metadata": {},
   "outputs": [
    {
     "data": {
      "text/html": [
       "<div>\n",
       "<style scoped>\n",
       "    .dataframe tbody tr th:only-of-type {\n",
       "        vertical-align: middle;\n",
       "    }\n",
       "\n",
       "    .dataframe tbody tr th {\n",
       "        vertical-align: top;\n",
       "    }\n",
       "\n",
       "    .dataframe thead th {\n",
       "        text-align: right;\n",
       "    }\n",
       "</style>\n",
       "<table border=\"1\" class=\"dataframe\">\n",
       "  <thead>\n",
       "    <tr style=\"text-align: right;\">\n",
       "      <th></th>\n",
       "      <th>Age</th>\n",
       "      <th>Gender</th>\n",
       "      <th>SalaryUSD</th>\n",
       "      <th>Country</th>\n",
       "      <th>DevType</th>\n",
       "      <th>Hobbyist</th>\n",
       "      <th>EdLevel</th>\n",
       "      <th>Employment</th>\n",
       "      <th>Ethnicity</th>\n",
       "      <th>CurrentJobSatis</th>\n",
       "      <th>JobStatus</th>\n",
       "      <th>LanguageDesireNextYear</th>\n",
       "      <th>LanguageWorkedWith</th>\n",
       "      <th>Profession</th>\n",
       "      <th>UndergradMajor</th>\n",
       "      <th>YearsCodePro</th>\n",
       "      <th>JobSeek</th>\n",
       "    </tr>\n",
       "  </thead>\n",
       "  <tbody>\n",
       "    <tr>\n",
       "      <th>0</th>\n",
       "      <td>31</td>\n",
       "      <td>Man</td>\n",
       "      <td>214247.736842</td>\n",
       "      <td>United States</td>\n",
       "      <td>Developer, back-end;Developer, desktop or ente...</td>\n",
       "      <td>Yes</td>\n",
       "      <td>Bachelors</td>\n",
       "      <td>Full-time</td>\n",
       "      <td>White or of European descent</td>\n",
       "      <td>Slightly dissatisfied</td>\n",
       "      <td>I’m not actively looking, but I am open to new...</td>\n",
       "      <td>Java;Ruby;Scala</td>\n",
       "      <td>HTML/CSS;Ruby;SQL</td>\n",
       "      <td>Ex-Developer</td>\n",
       "      <td>Computer Science</td>\n",
       "      <td>8.0</td>\n",
       "      <td>Not seeking</td>\n",
       "    </tr>\n",
       "    <tr>\n",
       "      <th>1</th>\n",
       "      <td>36</td>\n",
       "      <td>Man</td>\n",
       "      <td>116000.000000</td>\n",
       "      <td>United States</td>\n",
       "      <td>Developer, back-end;Developer, desktop or ente...</td>\n",
       "      <td>Yes</td>\n",
       "      <td>Bachelors</td>\n",
       "      <td>Full-time</td>\n",
       "      <td>White or of European descent</td>\n",
       "      <td>Slightly dissatisfied</td>\n",
       "      <td>I’m not actively looking, but I am open to new...</td>\n",
       "      <td>JavaScript</td>\n",
       "      <td>Python;SQL</td>\n",
       "      <td>Developer</td>\n",
       "      <td>Computer Science</td>\n",
       "      <td>13.0</td>\n",
       "      <td>Not seeking</td>\n",
       "    </tr>\n",
       "    <tr>\n",
       "      <th>2</th>\n",
       "      <td>22</td>\n",
       "      <td>Man</td>\n",
       "      <td>32315.000000</td>\n",
       "      <td>United Kingdom</td>\n",
       "      <td>Database administrator;Developer, full-stack;D...</td>\n",
       "      <td>Yes</td>\n",
       "      <td>Masters</td>\n",
       "      <td>Full-time</td>\n",
       "      <td>White or of European descent</td>\n",
       "      <td>Very satisfied</td>\n",
       "      <td>I’m not actively looking, but I am open to new...</td>\n",
       "      <td>HTML/CSS;Java;JavaScript;Python;R;SQL</td>\n",
       "      <td>HTML/CSS;Java;JavaScript;Python;SQL</td>\n",
       "      <td>Developer</td>\n",
       "      <td>Math/Stat</td>\n",
       "      <td>4.0</td>\n",
       "      <td>Not seeking</td>\n",
       "    </tr>\n",
       "    <tr>\n",
       "      <th>3</th>\n",
       "      <td>23</td>\n",
       "      <td>Man</td>\n",
       "      <td>40070.000000</td>\n",
       "      <td>United Kingdom</td>\n",
       "      <td>Developer, back-end;Developer, desktop or ente...</td>\n",
       "      <td>Yes</td>\n",
       "      <td>Bachelors</td>\n",
       "      <td>Full-time</td>\n",
       "      <td>White or of European descent</td>\n",
       "      <td>Slightly dissatisfied</td>\n",
       "      <td>I am actively looking for a job</td>\n",
       "      <td>Go;JavaScript;Swift;TypeScript</td>\n",
       "      <td>C#;JavaScript;Swift</td>\n",
       "      <td>Developer</td>\n",
       "      <td>Computer Science</td>\n",
       "      <td>2.0</td>\n",
       "      <td>Seeking</td>\n",
       "    </tr>\n",
       "    <tr>\n",
       "      <th>4</th>\n",
       "      <td>49</td>\n",
       "      <td>Man</td>\n",
       "      <td>14268.000000</td>\n",
       "      <td>Spain</td>\n",
       "      <td>Designer;Developer, front-end</td>\n",
       "      <td>No</td>\n",
       "      <td>No Degree</td>\n",
       "      <td>Full-time</td>\n",
       "      <td>White or of European descent</td>\n",
       "      <td>Very dissatisfied</td>\n",
       "      <td>I’m not actively looking, but I am open to new...</td>\n",
       "      <td>HTML/CSS;JavaScript</td>\n",
       "      <td>HTML/CSS;JavaScript</td>\n",
       "      <td>Developer</td>\n",
       "      <td>Math/Stat</td>\n",
       "      <td>7.0</td>\n",
       "      <td>Not seeking</td>\n",
       "    </tr>\n",
       "  </tbody>\n",
       "</table>\n",
       "</div>"
      ],
      "text/plain": [
       "   Age Gender      SalaryUSD         Country  \\\n",
       "0   31    Man  214247.736842   United States   \n",
       "1   36    Man  116000.000000   United States   \n",
       "2   22    Man   32315.000000  United Kingdom   \n",
       "3   23    Man   40070.000000  United Kingdom   \n",
       "4   49    Man   14268.000000           Spain   \n",
       "\n",
       "                                             DevType Hobbyist    EdLevel  \\\n",
       "0  Developer, back-end;Developer, desktop or ente...      Yes  Bachelors   \n",
       "1  Developer, back-end;Developer, desktop or ente...      Yes  Bachelors   \n",
       "2  Database administrator;Developer, full-stack;D...      Yes    Masters   \n",
       "3  Developer, back-end;Developer, desktop or ente...      Yes  Bachelors   \n",
       "4                      Designer;Developer, front-end       No  No Degree   \n",
       "\n",
       "  Employment                     Ethnicity        CurrentJobSatis  \\\n",
       "0  Full-time  White or of European descent  Slightly dissatisfied   \n",
       "1  Full-time  White or of European descent  Slightly dissatisfied   \n",
       "2  Full-time  White or of European descent         Very satisfied   \n",
       "3  Full-time  White or of European descent  Slightly dissatisfied   \n",
       "4  Full-time  White or of European descent      Very dissatisfied   \n",
       "\n",
       "                                           JobStatus  \\\n",
       "0  I’m not actively looking, but I am open to new...   \n",
       "1  I’m not actively looking, but I am open to new...   \n",
       "2  I’m not actively looking, but I am open to new...   \n",
       "3                    I am actively looking for a job   \n",
       "4  I’m not actively looking, but I am open to new...   \n",
       "\n",
       "                  LanguageDesireNextYear                   LanguageWorkedWith  \\\n",
       "0                        Java;Ruby;Scala                    HTML/CSS;Ruby;SQL   \n",
       "1                             JavaScript                           Python;SQL   \n",
       "2  HTML/CSS;Java;JavaScript;Python;R;SQL  HTML/CSS;Java;JavaScript;Python;SQL   \n",
       "3         Go;JavaScript;Swift;TypeScript                  C#;JavaScript;Swift   \n",
       "4                    HTML/CSS;JavaScript                  HTML/CSS;JavaScript   \n",
       "\n",
       "     Profession    UndergradMajor  YearsCodePro      JobSeek  \n",
       "0  Ex-Developer  Computer Science           8.0  Not seeking  \n",
       "1     Developer  Computer Science          13.0  Not seeking  \n",
       "2     Developer         Math/Stat           4.0  Not seeking  \n",
       "3     Developer  Computer Science           2.0      Seeking  \n",
       "4     Developer         Math/Stat           7.0  Not seeking  "
      ]
     },
     "execution_count": 326,
     "metadata": {},
     "output_type": "execute_result"
    }
   ],
   "source": [
    "df2020.head(5)"
   ]
  },
  {
   "cell_type": "markdown",
   "metadata": {},
   "source": [
    "Adding some changes"
   ]
  },
  {
   "cell_type": "code",
   "execution_count": 327,
   "metadata": {},
   "outputs": [
    {
     "name": "stdout",
     "output_type": "stream",
     "text": [
      "<class 'pandas.core.frame.DataFrame'>\n",
      "RangeIndex: 41569 entries, 0 to 41568\n",
      "Data columns (total 17 columns):\n",
      " #   Column                  Non-Null Count  Dtype  \n",
      "---  ------                  --------------  -----  \n",
      " 0   Age                     41569 non-null  int64  \n",
      " 1   Gender                  41569 non-null  object \n",
      " 2   SalaryUSD               41569 non-null  float64\n",
      " 3   Country                 41569 non-null  object \n",
      " 4   DevType                 41569 non-null  object \n",
      " 5   Hobbyist                41569 non-null  object \n",
      " 6   EdLevel                 41569 non-null  object \n",
      " 7   Employment              41569 non-null  object \n",
      " 8   Ethnicity               41569 non-null  object \n",
      " 9   CurrentJobSatis         41569 non-null  object \n",
      " 10  JobStatus               41569 non-null  object \n",
      " 11  LanguageDesireNextYear  41569 non-null  object \n",
      " 12  LanguageWorkedWith      41569 non-null  object \n",
      " 13  Profession              41569 non-null  object \n",
      " 14  UndergradMajor          41569 non-null  object \n",
      " 15  YearsCodePro            41569 non-null  float64\n",
      " 16  JobSeek                 41569 non-null  object \n",
      "dtypes: float64(2), int64(1), object(14)\n",
      "memory usage: 5.4+ MB\n"
     ]
    }
   ],
   "source": [
    "df2020.info()"
   ]
  },
  {
   "cell_type": "markdown",
   "metadata": {},
   "source": [
    "## To find whether there is any difference between men and women's income from latest stack overflow survey (2020)"
   ]
  },
  {
   "cell_type": "code",
   "execution_count": 328,
   "metadata": {},
   "outputs": [],
   "source": [
    "plt.style.use('seaborn-darkgrid')\n",
    "plt.rcParams[\"figure.figsize\"] = (20,10)"
   ]
  },
  {
   "cell_type": "code",
   "execution_count": 329,
   "metadata": {},
   "outputs": [],
   "source": [
    "#sns.boxplot('SalaryUSD', data=df2020, width=0.3) \n",
    "#Cleaning SalaryUSD's outliers\n",
    "df2020 = df2020[(df2020['SalaryUSD'] < 200000)]"
   ]
  },
  {
   "cell_type": "code",
   "execution_count": 330,
   "metadata": {},
   "outputs": [
    {
     "data": {
      "text/plain": [
       "Text(0.5, 1.0, 'Income vs Gender')"
      ]
     },
     "execution_count": 330,
     "metadata": {},
     "output_type": "execute_result"
    },
    {
     "data": {
      "image/png": "[encoded data removed]",
      "text/plain": [
       "<Figure size 1440x720 with 1 Axes>"
      ]
     },
     "metadata": {},
     "output_type": "display_data"
    }
   ],
   "source": [
    "sns.boxplot(x ='Gender', y='SalaryUSD', data=df2020)\n",
    "plt.title('Income vs Gender', fontsize = 14)"
   ]
  },
  {
   "cell_type": "markdown",
   "metadata": {},
   "source": [
    "**Analysis**<br>\n",
    "There is a slight difference between Gender and income they recieve respectively. Men tend to recive more salry than women from the above analysis."
   ]
  },
  {
   "cell_type": "markdown",
   "metadata": {},
   "source": [
    "## Impact on participation rate due to different ethnicity based on country."
   ]
  },
  {
   "cell_type": "code",
   "execution_count": 331,
   "metadata": {},
   "outputs": [
    {
     "name": "stdout",
     "output_type": "stream",
     "text": [
      "['White or of European descent', 'South Asian', 'Hispanic or Latino', 'Middle Eastern', 'East Asian', 'Southeast Asian', 'Black or of African descent', 'Multiracial', 'Biracial', 'Indigenous']\n",
      "[24573, 4585, 2877, 1757, 1539, 1348, 1336, 226, 133, 62]\n"
     ]
    }
   ],
   "source": [
    "participation_rate = df2020['Ethnicity'].value_counts().keys().tolist()\n",
    "print(participation_rate)\n",
    "count = df2020['Ethnicity'].value_counts().tolist()\n",
    "print(count)"
   ]
  },
  {
   "cell_type": "code",
   "execution_count": 332,
   "metadata": {},
   "outputs": [
    {
     "data": {
      "image/png": "[encoded data removed]",
      "text/plain": [
       "<Figure size 1440x720 with 1 Axes>"
      ]
     },
     "metadata": {},
     "output_type": "display_data"
    }
   ],
   "source": [
    "fig, ax = plt.subplots()    \n",
    " \n",
    "ax.bar(participation_rate,count)\n",
    "plt.title('Ethinicity VS Participation',size=20)\n",
    "plt.xlabel('Total Count',size = 20)\n",
    "plt.ylabel('# Of Developer Did Survey',size = 20) \n",
    "for i, v in enumerate(count):\n",
    "    ax.text(i-.15, \n",
    "              v+3,\n",
    "              count[i],\n",
    "              style = 'italic',\n",
    "              fontsize=14,\n",
    "              color = 'magenta')\n",
    "ax.grid(True)"
   ]
  },
  {
   "cell_type": "code",
   "execution_count": 333,
   "metadata": {},
   "outputs": [
    {
     "data": {
      "image/png": "[encoded data removed]",
      "text/plain": [
       "<Figure size 1080x360 with 1 Axes>"
      ]
     },
     "metadata": {},
     "output_type": "display_data"
    }
   ],
   "source": [
    "fig, ax = plt.subplots(figsize=(15, 5))\n",
    "sns.barplot(x = count, y = participation_rate, palette = 'Set1')\n",
    "plt.xlabel('Ethnicity', size = 16)\n",
    "for i, v in enumerate(count):\n",
    "    ax.text(  v+3,\n",
    "              i-.15,\n",
    "              f'{count[i]*100/sum(count):.2f}%',\n",
    "              style = 'italic',\n",
    "              fontsize=14,\n",
    "              )"
   ]
  },
  {
   "cell_type": "markdown",
   "metadata": {},
   "source": [
    "**From the Survey Analysis The more particpation has been happened from White or of European Ethinicity which is 24573 participation which is very high comparing to others.<br>\n",
    "Most least has been recorded as only 0.16% from Indegenious.<br>\n",
    "The second top survey contributors are from South Asians which is 11.93% of the respondants.**"
   ]
  }
 ],
 "metadata": {
  "kernelspec": {
   "display_name": "Python 3",
   "language": "python",
   "name": "python3"
  },
  "language_info": {
   "codemirror_mode": {
    "name": "ipython",
    "version": 3
   },
   "file_extension": ".py",
   "mimetype": "text/x-python",
   "name": "python",
   "nbconvert_exporter": "python",
   "pygments_lexer": "ipython3",
   "version": "3.8.5"
  }
 },
 "nbformat": 4,
 "nbformat_minor": 4
}
