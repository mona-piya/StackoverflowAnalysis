{
 "cells": [
  {
   "cell_type": "markdown",
   "metadata": {},
   "source": [
    "## Stackoverflow_Survey_Analysis_2018"
   ]
  },
  {
   "cell_type": "code",
   "execution_count": 1,
   "metadata": {},
   "outputs": [],
   "source": [
    "import numpy as np\n",
    "import pandas as pd\n",
    "import matplotlib.pyplot as plt\n",
    "%matplotlib inline\n",
    "import seaborn as sns\n",
    "import warnings; \n",
    "warnings.simplefilter('ignore')"
   ]
  },
  {
   "cell_type": "markdown",
   "metadata": {},
   "source": [
    "## Exlporing 2018 Dataset"
   ]
  },
  {
   "cell_type": "code",
   "execution_count": 2,
   "metadata": {},
   "outputs": [
    {
     "data": {
      "text/html": [
       "<div>\n",
       "<style scoped>\n",
       "    .dataframe tbody tr th:only-of-type {\n",
       "        vertical-align: middle;\n",
       "    }\n",
       "\n",
       "    .dataframe tbody tr th {\n",
       "        vertical-align: top;\n",
       "    }\n",
       "\n",
       "    .dataframe thead th {\n",
       "        text-align: right;\n",
       "    }\n",
       "</style>\n",
       "<table border=\"1\" class=\"dataframe\">\n",
       "  <thead>\n",
       "    <tr style=\"text-align: right;\">\n",
       "      <th></th>\n",
       "      <th>Respondent</th>\n",
       "      <th>Hobby</th>\n",
       "      <th>OpenSource</th>\n",
       "      <th>Country</th>\n",
       "      <th>Student</th>\n",
       "      <th>Employment</th>\n",
       "      <th>FormalEducation</th>\n",
       "      <th>UndergradMajor</th>\n",
       "      <th>CompanySize</th>\n",
       "      <th>DevType</th>\n",
       "      <th>...</th>\n",
       "      <th>Exercise</th>\n",
       "      <th>Gender</th>\n",
       "      <th>SexualOrientation</th>\n",
       "      <th>EducationParents</th>\n",
       "      <th>RaceEthnicity</th>\n",
       "      <th>Age</th>\n",
       "      <th>Dependents</th>\n",
       "      <th>MilitaryUS</th>\n",
       "      <th>SurveyTooLong</th>\n",
       "      <th>SurveyEasy</th>\n",
       "    </tr>\n",
       "  </thead>\n",
       "  <tbody>\n",
       "    <tr>\n",
       "      <th>0</th>\n",
       "      <td>1</td>\n",
       "      <td>Yes</td>\n",
       "      <td>No</td>\n",
       "      <td>Kenya</td>\n",
       "      <td>No</td>\n",
       "      <td>Employed part-time</td>\n",
       "      <td>Bachelor’s degree (BA, BS, B.Eng., etc.)</td>\n",
       "      <td>Mathematics or statistics</td>\n",
       "      <td>20 to 99 employees</td>\n",
       "      <td>Full-stack developer</td>\n",
       "      <td>...</td>\n",
       "      <td>3 - 4 times per week</td>\n",
       "      <td>Male</td>\n",
       "      <td>Straight or heterosexual</td>\n",
       "      <td>Bachelor’s degree (BA, BS, B.Eng., etc.)</td>\n",
       "      <td>Black or of African descent</td>\n",
       "      <td>25 - 34 years old</td>\n",
       "      <td>Yes</td>\n",
       "      <td>NaN</td>\n",
       "      <td>The survey was an appropriate length</td>\n",
       "      <td>Very easy</td>\n",
       "    </tr>\n",
       "    <tr>\n",
       "      <th>1</th>\n",
       "      <td>3</td>\n",
       "      <td>Yes</td>\n",
       "      <td>Yes</td>\n",
       "      <td>United Kingdom</td>\n",
       "      <td>No</td>\n",
       "      <td>Employed full-time</td>\n",
       "      <td>Bachelor’s degree (BA, BS, B.Eng., etc.)</td>\n",
       "      <td>A natural science (ex. biology, chemistry, phy...</td>\n",
       "      <td>10,000 or more employees</td>\n",
       "      <td>Database administrator;DevOps specialist;Full-...</td>\n",
       "      <td>...</td>\n",
       "      <td>Daily or almost every day</td>\n",
       "      <td>Male</td>\n",
       "      <td>Straight or heterosexual</td>\n",
       "      <td>Bachelor’s degree (BA, BS, B.Eng., etc.)</td>\n",
       "      <td>White or of European descent</td>\n",
       "      <td>35 - 44 years old</td>\n",
       "      <td>Yes</td>\n",
       "      <td>NaN</td>\n",
       "      <td>The survey was an appropriate length</td>\n",
       "      <td>Somewhat easy</td>\n",
       "    </tr>\n",
       "  </tbody>\n",
       "</table>\n",
       "<p>2 rows × 129 columns</p>\n",
       "</div>"
      ],
      "text/plain": [
       "   Respondent Hobby OpenSource         Country Student          Employment  \\\n",
       "0           1   Yes         No           Kenya      No  Employed part-time   \n",
       "1           3   Yes        Yes  United Kingdom      No  Employed full-time   \n",
       "\n",
       "                            FormalEducation  \\\n",
       "0  Bachelor’s degree (BA, BS, B.Eng., etc.)   \n",
       "1  Bachelor’s degree (BA, BS, B.Eng., etc.)   \n",
       "\n",
       "                                      UndergradMajor  \\\n",
       "0                          Mathematics or statistics   \n",
       "1  A natural science (ex. biology, chemistry, phy...   \n",
       "\n",
       "                CompanySize  \\\n",
       "0        20 to 99 employees   \n",
       "1  10,000 or more employees   \n",
       "\n",
       "                                             DevType  ...  \\\n",
       "0                               Full-stack developer  ...   \n",
       "1  Database administrator;DevOps specialist;Full-...  ...   \n",
       "\n",
       "                    Exercise Gender         SexualOrientation  \\\n",
       "0       3 - 4 times per week   Male  Straight or heterosexual   \n",
       "1  Daily or almost every day   Male  Straight or heterosexual   \n",
       "\n",
       "                           EducationParents                 RaceEthnicity  \\\n",
       "0  Bachelor’s degree (BA, BS, B.Eng., etc.)   Black or of African descent   \n",
       "1  Bachelor’s degree (BA, BS, B.Eng., etc.)  White or of European descent   \n",
       "\n",
       "                 Age Dependents  MilitaryUS  \\\n",
       "0  25 - 34 years old        Yes         NaN   \n",
       "1  35 - 44 years old        Yes         NaN   \n",
       "\n",
       "                          SurveyTooLong     SurveyEasy  \n",
       "0  The survey was an appropriate length      Very easy  \n",
       "1  The survey was an appropriate length  Somewhat easy  \n",
       "\n",
       "[2 rows x 129 columns]"
      ]
     },
     "execution_count": 2,
     "metadata": {},
     "output_type": "execute_result"
    }
   ],
   "source": [
    "df2018 = pd.read_csv(r'C:\\Users\\sanja\\Stack_Data\\survey_results_public_2018.csv')\n",
    "df2018.head(2)"
   ]
  },
  {
   "cell_type": "code",
   "execution_count": 3,
   "metadata": {},
   "outputs": [
    {
     "data": {
      "text/plain": [
       "(98855, 129)"
      ]
     },
     "execution_count": 3,
     "metadata": {},
     "output_type": "execute_result"
    }
   ],
   "source": [
    "df2018.shape"
   ]
  },
  {
   "cell_type": "code",
   "execution_count": 4,
   "metadata": {},
   "outputs": [],
   "source": [
    "#print(df2018.columns.tolist()      !--> Listing coloumsn in table"
   ]
  },
  {
   "cell_type": "code",
   "execution_count": 5,
   "metadata": {},
   "outputs": [],
   "source": [
    "#dropping the columns\n",
    "#drop_cols = ['Respondent', 'OpenSource', 'Student', 'FormalEducation', 'CompanySize', 'CareerSatisfaction', 'HopeFiveYears', 'LastNewJob', 'AssessJob1', 'AssessJob2', 'AssessJob3', 'AssessJob4', 'AssessJob5', 'AssessJob6', 'AssessJob7', 'AssessJob8', 'AssessJob9', 'AssessJob10', 'AssessBenefits1', 'AssessBenefits2', 'AssessBenefits3', 'AssessBenefits4', 'AssessBenefits5', 'AssessBenefits6', 'AssessBenefits7', 'AssessBenefits8', 'AssessBenefits9', 'AssessBenefits10', 'AssessBenefits11', 'JobContactPriorities1', 'JobContactPriorities2', 'JobContactPriorities3', 'JobContactPriorities4', 'JobContactPriorities5', 'JobEmailPriorities1', 'JobEmailPriorities2', 'JobEmailPriorities3', 'JobEmailPriorities4', 'JobEmailPriorities5', 'JobEmailPriorities6', 'JobEmailPriorities7', 'UpdateCV', 'CommunicationTools', 'TimeFullyProductive', 'EducationTypes', 'SelfTaughtTypes', 'TimeAfterBootcamp', 'HackathonReasons', 'AgreeDisagree1', 'AgreeDisagree2', 'AgreeDisagree3', 'DatabaseWorkedWith', 'DatabaseDesireNextYear', 'PlatformDesireNextYear', 'FrameworkWorkedWith', 'FrameworkDesireNextYear', 'IDE', 'NumberMonitors', 'Methodology', 'VersionControl', 'CheckInCode', 'AdBlocker', 'AdBlockerDisable', 'AdBlockerReasons', 'AdsAgreeDisagree1', 'AdsAgreeDisagree2', 'AdsAgreeDisagree3', 'AdsActions', 'AdsPriorities1', 'AdsPriorities2', 'AdsPriorities3', 'AdsPriorities4', 'AdsPriorities5', 'AdsPriorities6', 'AdsPriorities7', 'AIDangerous', 'AIInteresting', 'AIResponsible', 'AIFuture', 'EthicsChoice', 'EthicsReport', 'EthicsResponsible', 'EthicalImplications', 'StackOverflowRecommend', 'StackOverflowVisit', 'StackOverflowHasAccount', 'StackOverflowParticipate', 'StackOverflowJobs', 'StackOverflowDevStory', 'StackOverflowJobsRecommend', 'StackOverflowConsiderMember', 'HypotheticalTools1', 'HypotheticalTools2', 'HypotheticalTools3', 'HypotheticalTools4', 'HypotheticalTools5', 'WakeTime', 'HoursComputer', 'HoursOutside', 'SkipMeals', 'ErgonomicDevices', 'Exercise', 'SexualOrientation', 'EducationParents', 'Dependents', 'MilitaryUS', 'SurveyTooLong', 'SurveyEasy']\n",
    "#df2018.drop(drop_cols, axis=1, inplace=True)"
   ]
  },
  {
   "cell_type": "code",
   "execution_count": 6,
   "metadata": {},
   "outputs": [],
   "source": [
    "#df2018.shape #checking rows and col after dropping the table"
   ]
  },
  {
   "cell_type": "markdown",
   "metadata": {},
   "source": [
    "### Data Filtering - Sorting & Renaming\n"
   ]
  },
  {
   "cell_type": "code",
   "execution_count": 7,
   "metadata": {},
   "outputs": [],
   "source": [
    "col=['Age','Salary','ConvertedSalary','Country','Currency','DevType','Employment','RaceEthnicity','Gender','SalaryType','Hobby','JobSatisfaction','JobSearchStatus','OperatingSystem','UndergradMajor','YearsCoding','YearsCodingProf','LanguageDesireNextYear','LanguageWorkedWith',]\n",
    "df=df2018[col]"
   ]
  },
  {
   "cell_type": "code",
   "execution_count": 8,
   "metadata": {},
   "outputs": [],
   "source": [
    "#renaming the colo\n",
    "# 'ConvertedSalary': 'SalaryUSD'\n",
    "df.rename(columns={'ConvertedSalary': 'SalaryUSD' }, inplace =True)"
   ]
  },
  {
   "cell_type": "code",
   "execution_count": 9,
   "metadata": {},
   "outputs": [
    {
     "data": {
      "text/html": [
       "<div>\n",
       "<style scoped>\n",
       "    .dataframe tbody tr th:only-of-type {\n",
       "        vertical-align: middle;\n",
       "    }\n",
       "\n",
       "    .dataframe tbody tr th {\n",
       "        vertical-align: top;\n",
       "    }\n",
       "\n",
       "    .dataframe thead th {\n",
       "        text-align: right;\n",
       "    }\n",
       "</style>\n",
       "<table border=\"1\" class=\"dataframe\">\n",
       "  <thead>\n",
       "    <tr style=\"text-align: right;\">\n",
       "      <th></th>\n",
       "      <th>Age</th>\n",
       "      <th>Country</th>\n",
       "      <th>Currency</th>\n",
       "      <th>DevType</th>\n",
       "      <th>Employment</th>\n",
       "      <th>Gender</th>\n",
       "      <th>Hobby</th>\n",
       "      <th>JobSatisfaction</th>\n",
       "      <th>JobSearchStatus</th>\n",
       "      <th>LanguageDesireNextYear</th>\n",
       "      <th>LanguageWorkedWith</th>\n",
       "      <th>OperatingSystem</th>\n",
       "      <th>RaceEthnicity</th>\n",
       "      <th>Salary</th>\n",
       "      <th>SalaryType</th>\n",
       "      <th>SalaryUSD</th>\n",
       "      <th>UndergradMajor</th>\n",
       "      <th>YearsCoding</th>\n",
       "      <th>YearsCodingProf</th>\n",
       "    </tr>\n",
       "  </thead>\n",
       "  <tbody>\n",
       "    <tr>\n",
       "      <th>0</th>\n",
       "      <td>25 - 34 years old</td>\n",
       "      <td>Kenya</td>\n",
       "      <td>NaN</td>\n",
       "      <td>Full-stack developer</td>\n",
       "      <td>Employed part-time</td>\n",
       "      <td>Male</td>\n",
       "      <td>Yes</td>\n",
       "      <td>Extremely satisfied</td>\n",
       "      <td>I’m not actively looking, but I am open to new...</td>\n",
       "      <td>JavaScript;Python;HTML;CSS</td>\n",
       "      <td>JavaScript;Python;HTML;CSS</td>\n",
       "      <td>Linux-based</td>\n",
       "      <td>Black or of African descent</td>\n",
       "      <td>NaN</td>\n",
       "      <td>Monthly</td>\n",
       "      <td>NaN</td>\n",
       "      <td>Mathematics or statistics</td>\n",
       "      <td>3-5 years</td>\n",
       "      <td>3-5 years</td>\n",
       "    </tr>\n",
       "    <tr>\n",
       "      <th>1</th>\n",
       "      <td>35 - 44 years old</td>\n",
       "      <td>United Kingdom</td>\n",
       "      <td>British pounds sterling (£)</td>\n",
       "      <td>Database administrator;DevOps specialist;Full-...</td>\n",
       "      <td>Employed full-time</td>\n",
       "      <td>Male</td>\n",
       "      <td>Yes</td>\n",
       "      <td>Moderately dissatisfied</td>\n",
       "      <td>I am actively looking for a job</td>\n",
       "      <td>Go;Python</td>\n",
       "      <td>JavaScript;Python;Bash/Shell</td>\n",
       "      <td>Linux-based</td>\n",
       "      <td>White or of European descent</td>\n",
       "      <td>51000</td>\n",
       "      <td>Yearly</td>\n",
       "      <td>70841.0</td>\n",
       "      <td>A natural science (ex. biology, chemistry, phy...</td>\n",
       "      <td>30 or more years</td>\n",
       "      <td>18-20 years</td>\n",
       "    </tr>\n",
       "  </tbody>\n",
       "</table>\n",
       "</div>"
      ],
      "text/plain": [
       "                 Age         Country                     Currency  \\\n",
       "0  25 - 34 years old           Kenya                          NaN   \n",
       "1  35 - 44 years old  United Kingdom  British pounds sterling (£)   \n",
       "\n",
       "                                             DevType          Employment  \\\n",
       "0                               Full-stack developer  Employed part-time   \n",
       "1  Database administrator;DevOps specialist;Full-...  Employed full-time   \n",
       "\n",
       "  Gender Hobby          JobSatisfaction  \\\n",
       "0   Male   Yes      Extremely satisfied   \n",
       "1   Male   Yes  Moderately dissatisfied   \n",
       "\n",
       "                                     JobSearchStatus  \\\n",
       "0  I’m not actively looking, but I am open to new...   \n",
       "1                    I am actively looking for a job   \n",
       "\n",
       "       LanguageDesireNextYear            LanguageWorkedWith OperatingSystem  \\\n",
       "0  JavaScript;Python;HTML;CSS    JavaScript;Python;HTML;CSS     Linux-based   \n",
       "1                   Go;Python  JavaScript;Python;Bash/Shell     Linux-based   \n",
       "\n",
       "                  RaceEthnicity Salary SalaryType  SalaryUSD  \\\n",
       "0   Black or of African descent    NaN    Monthly        NaN   \n",
       "1  White or of European descent  51000     Yearly    70841.0   \n",
       "\n",
       "                                      UndergradMajor       YearsCoding  \\\n",
       "0                          Mathematics or statistics         3-5 years   \n",
       "1  A natural science (ex. biology, chemistry, phy...  30 or more years   \n",
       "\n",
       "  YearsCodingProf  \n",
       "0       3-5 years  \n",
       "1     18-20 years  "
      ]
     },
     "execution_count": 9,
     "metadata": {},
     "output_type": "execute_result"
    }
   ],
   "source": [
    "df.sort_index(axis=1).head(2)"
   ]
  },
  {
   "cell_type": "code",
   "execution_count": 10,
   "metadata": {},
   "outputs": [
    {
     "data": {
      "text/plain": [
       "(98855, 19)"
      ]
     },
     "execution_count": 10,
     "metadata": {},
     "output_type": "execute_result"
    }
   ],
   "source": [
    "#21 col has been selected rfom 129, compared the shape\n",
    "df.shape"
   ]
  },
  {
   "cell_type": "code",
   "execution_count": 11,
   "metadata": {},
   "outputs": [
    {
     "name": "stdout",
     "output_type": "stream",
     "text": [
      "Age                       34281\n",
      "Salary                    48277\n",
      "SalaryUSD                 51153\n",
      "Country                     412\n",
      "Currency                  36847\n",
      "DevType                    6757\n",
      "Employment                 3534\n",
      "RaceEthnicity             41382\n",
      "Gender                    34386\n",
      "SalaryType                47785\n",
      "Hobby                         0\n",
      "JobSatisfaction           29579\n",
      "JobSearchStatus           19367\n",
      "OperatingSystem           22676\n",
      "UndergradMajor            19819\n",
      "YearsCoding                5020\n",
      "YearsCodingProf           20952\n",
      "LanguageDesireNextYear    25611\n",
      "LanguageWorkedWith        20521\n",
      "dtype: int64\n"
     ]
    }
   ],
   "source": [
    "print(df.isnull().sum()) #Finding Null Values"
   ]
  },
  {
   "cell_type": "code",
   "execution_count": 12,
   "metadata": {},
   "outputs": [
    {
     "data": {
      "text/plain": [
       "Age                        object\n",
       "Salary                     object\n",
       "SalaryUSD                 float64\n",
       "Country                    object\n",
       "Currency                   object\n",
       "DevType                    object\n",
       "Employment                 object\n",
       "RaceEthnicity              object\n",
       "Gender                     object\n",
       "SalaryType                 object\n",
       "Hobby                      object\n",
       "JobSatisfaction            object\n",
       "JobSearchStatus            object\n",
       "OperatingSystem            object\n",
       "UndergradMajor             object\n",
       "YearsCoding                object\n",
       "YearsCodingProf            object\n",
       "LanguageDesireNextYear     object\n",
       "LanguageWorkedWith         object\n",
       "dtype: object"
      ]
     },
     "execution_count": 12,
     "metadata": {},
     "output_type": "execute_result"
    }
   ],
   "source": [
    "df.dtypes #data_types"
   ]
  },
  {
   "cell_type": "markdown",
   "metadata": {},
   "source": [
    "## Data Validation - Total Cells vs Missing %"
   ]
  },
  {
   "cell_type": "code",
   "execution_count": 13,
   "metadata": {},
   "outputs": [
    {
     "name": "stdout",
     "output_type": "stream",
     "text": [
      "Total :  1878245\n",
      "Total missing :  468359\n",
      "Missing Percentage:  24.93599077862579 %\n"
     ]
    }
   ],
   "source": [
    "#Find % of missing data\n",
    "missing_count = df.isnull().sum() #number of missing\n",
    "total_cells = np.product(df.shape) # number of cells (cols x rows)\n",
    "total_missing = missing_count.sum()\n",
    "missing_percent = (total_missing*100)/total_cells\n",
    "\n",
    "print('Total : ', total_cells)\n",
    "print('Total missing : ', total_missing)\n",
    "print('Missing Percentage: ', missing_percent, '%')"
   ]
  },
  {
   "cell_type": "markdown",
   "metadata": {},
   "source": [
    "## Gender Filtering          \n",
    "#### Data Cleaning Starts"
   ]
  },
  {
   "cell_type": "code",
   "execution_count": 14,
   "metadata": {},
   "outputs": [
    {
     "data": {
      "text/plain": [
       "Gender\n",
       "Female                                                                        4025\n",
       "Female;Male                                                                     98\n",
       "Female;Male;Non-binary, genderqueer, or gender non-conforming                    3\n",
       "Female;Male;Transgender                                                         14\n",
       "Female;Male;Transgender;Non-binary, genderqueer, or gender non-conforming       50\n",
       "Female;Non-binary, genderqueer, or gender non-conforming                        50\n",
       "Female;Transgender                                                             145\n",
       "Female;Transgender;Non-binary, genderqueer, or gender non-conforming            24\n",
       "Male                                                                         59458\n",
       "Male;Non-binary, genderqueer, or gender non-conforming                         128\n",
       "Male;Transgender                                                                29\n",
       "Male;Transgender;Non-binary, genderqueer, or gender non-conforming               5\n",
       "Non-binary, genderqueer, or gender non-conforming                              284\n",
       "Transgender                                                                    105\n",
       "Transgender;Non-binary, genderqueer, or gender non-conforming                   51\n",
       "Name: Gender, dtype: int64"
      ]
     },
     "execution_count": 14,
     "metadata": {},
     "output_type": "execute_result"
    }
   ],
   "source": [
    "#Gender: null = 13312 (21.6%)\n",
    "df['Gender'].unique()\n",
    "#count number of each gender\n",
    "df.groupby('Gender')['Gender'].count()"
   ]
  },
  {
   "cell_type": "code",
   "execution_count": 15,
   "metadata": {},
   "outputs": [],
   "source": [
    "#replace\n",
    "df['Gender'] = df['Gender'].fillna('Non-binary, genderqueer, or gender non-conforming')\n",
    "df['Gender'].replace('Female;Male;Non-binary, genderqueer, or gender non-conforming', 'Female', inplace =True)\n",
    "df['Gender'].replace('Female;Male;Transgender;Non-binary, genderqueer, or gender non-conforming', 'Female', inplace =True)\n",
    "df['Gender'].replace('Female;Non-binary, genderqueer, or gender non-conforming', 'Female', inplace =True)\n",
    "df['Gender'].replace('Female;Transgender;Non-binary, genderqueer, or gender non-conforming', 'Female', inplace =True)\n",
    "df['Gender'].replace('Male;Non-binary, genderqueer, or gender non-conforming', 'Male', inplace =True)\n",
    "df['Gender'].replace('Male;Transgender;Non-binary, genderqueer, or gender non-conforming', 'Male', inplace =True)\n",
    "df['Gender'].replace('Transgender;Non-binary, genderqueer, or gender non-conforming', 'Non-conforming', inplace =True) ##not sure\n",
    "df['Gender'].replace('Female;Male', 'Female', inplace =True)\n",
    "df['Gender'].replace('Female;Male;Transgender', 'Female', inplace =True)\n",
    "df['Gender'].replace('Female;Transgender', 'Female', inplace =True)\n",
    "df['Gender'].replace('Male;Transgender', 'Female', inplace =True) \n",
    "df['Gender'].replace('Non-binary, genderqueer, or gender non-conforming', 'Non-conforming', inplace =True) #\n",
    "df['Gender'].replace('Transgender', 'Male', inplace =True) "
   ]
  },
  {
   "cell_type": "code",
   "execution_count": 16,
   "metadata": {
    "scrolled": true
   },
   "outputs": [
    {
     "data": {
      "text/plain": [
       "Gender\n",
       "Female             4438\n",
       "Male              59696\n",
       "Non-conforming    34721\n",
       "Name: Gender, dtype: int64"
      ]
     },
     "execution_count": 16,
     "metadata": {},
     "output_type": "execute_result"
    }
   ],
   "source": [
    "df.groupby('Gender')['Gender'].count()"
   ]
  },
  {
   "cell_type": "code",
   "execution_count": 17,
   "metadata": {},
   "outputs": [
    {
     "data": {
      "text/plain": [
       "(98855, 19)"
      ]
     },
     "execution_count": 17,
     "metadata": {},
     "output_type": "execute_result"
    }
   ],
   "source": [
    "df.shape"
   ]
  },
  {
   "cell_type": "markdown",
   "metadata": {},
   "source": [
    "## Country"
   ]
  },
  {
   "cell_type": "code",
   "execution_count": 18,
   "metadata": {},
   "outputs": [
    {
     "data": {
      "text/plain": [
       "Country\n",
       "Afghanistan                              64\n",
       "Albania                                 109\n",
       "Algeria                                 130\n",
       "Andorra                                  15\n",
       "Angola                                   11\n",
       "                                       ... \n",
       "Venezuela, Bolivarian Republic of...    123\n",
       "Viet Nam                                331\n",
       "Yemen                                    13\n",
       "Zambia                                    9\n",
       "Zimbabwe                                 39\n",
       "Name: Country, Length: 183, dtype: int64"
      ]
     },
     "execution_count": 18,
     "metadata": {},
     "output_type": "execute_result"
    }
   ],
   "source": [
    "df.groupby('Country')['Country'].count()"
   ]
  },
  {
   "cell_type": "code",
   "execution_count": 19,
   "metadata": {},
   "outputs": [
    {
     "data": {
      "text/plain": [
       "412"
      ]
     },
     "execution_count": 19,
     "metadata": {},
     "output_type": "execute_result"
    }
   ],
   "source": [
    "df['Country'].isnull().sum()"
   ]
  },
  {
   "cell_type": "markdown",
   "metadata": {},
   "source": [
    "## Hobby"
   ]
  },
  {
   "cell_type": "code",
   "execution_count": 20,
   "metadata": {},
   "outputs": [
    {
     "data": {
      "text/plain": [
       "0"
      ]
     },
     "execution_count": 20,
     "metadata": {},
     "output_type": "execute_result"
    }
   ],
   "source": [
    "df['Hobby'].isnull().sum()"
   ]
  },
  {
   "cell_type": "code",
   "execution_count": 21,
   "metadata": {},
   "outputs": [
    {
     "data": {
      "text/plain": [
       "Hobby\n",
       "No     18958\n",
       "Yes    79897\n",
       "Name: Hobby, dtype: int64"
      ]
     },
     "execution_count": 21,
     "metadata": {},
     "output_type": "execute_result"
    }
   ],
   "source": [
    "df.groupby('Hobby')['Hobby'].count()"
   ]
  },
  {
   "cell_type": "markdown",
   "metadata": {},
   "source": [
    "## undergrad"
   ]
  },
  {
   "cell_type": "code",
   "execution_count": 22,
   "metadata": {},
   "outputs": [
    {
     "data": {
      "text/plain": [
       "19819"
      ]
     },
     "execution_count": 22,
     "metadata": {},
     "output_type": "execute_result"
    }
   ],
   "source": [
    "df['UndergradMajor'].isnull().sum()"
   ]
  },
  {
   "cell_type": "code",
   "execution_count": 23,
   "metadata": {},
   "outputs": [
    {
     "data": {
      "text/plain": [
       "Computer science, computer engineering, or software engineering          50336\n",
       "Another engineering discipline (ex. civil, electrical, mechanical)        6945\n",
       "Information systems, information technology, or system administration     6507\n",
       "A natural science (ex. biology, chemistry, physics)                       3050\n",
       "Mathematics or statistics                                                 2818\n",
       "Web development or web design                                             2418\n",
       "A business discipline (ex. accounting, finance, marketing)                1921\n",
       "A humanities discipline (ex. literature, history, philosophy)             1590\n",
       "A social science (ex. anthropology, psychology, political science)        1377\n",
       "Fine arts or performing arts (ex. graphic design, music, studio art)      1135\n",
       "I never declared a major                                                   693\n",
       "A health science (ex. nursing, pharmacy, radiology)                        246\n",
       "Name: UndergradMajor, dtype: int64"
      ]
     },
     "execution_count": 23,
     "metadata": {},
     "output_type": "execute_result"
    }
   ],
   "source": [
    "df['UndergradMajor'].value_counts()"
   ]
  },
  {
   "cell_type": "code",
   "execution_count": 24,
   "metadata": {},
   "outputs": [],
   "source": [
    "def refactor_major(df):\n",
    "    conditions_major = [(df['UndergradMajor'] == 'Computer science, computer engineering, or software engineering'), \n",
    "                        (df['UndergradMajor'] == 'Another engineering discipline (ex. civil, electrical, mechanical)'),\n",
    "                        (df['UndergradMajor'] == 'Information systems, information technology, or system administration'), \n",
    "                        (df['UndergradMajor'] == 'Mathematics or statistics'),\n",
    "                        (df['UndergradMajor'] == 'A natural science (ex. biology, chemistry, physics)') \n",
    "                        |(df['UndergradMajor'] == 'A health science (ex. nursing, pharmacy, radiology)'), \n",
    "                        (df['UndergradMajor'] == 'Web development or web design'), \n",
    "                        (df['UndergradMajor'] == 'A business discipline (ex. accounting, finance, marketing)'), \n",
    "                        (df['UndergradMajor'] == 'A humanities discipline (ex. literature, history, philosophy)')\n",
    "                        | (df['UndergradMajor'] == 'A social science (ex. anthropology, psychology, political science)')\n",
    "                        | (df['UndergradMajor'] == 'Fine arts or performing arts (ex. graphic design, music, studio art)'),\n",
    "                        (df['UndergradMajor'] == 'I never declared a major') ]\n",
    "    \n",
    "    choices_major = ['Computer Science', 'Engineering', 'Info Systems', 'Math/Stat', 'Other Science',\n",
    "                     'Web Design/Dev', 'Business', 'Arts and Science', 'No major']\n",
    "    df['UndergradMajor'] = np.select(conditions_major, choices_major, default = np.NaN)\n",
    "    return df\n",
    "\n",
    "df = refactor_major(df)\n",
    "df['UndergradMajor'].replace('nan', 'No major', inplace=True)"
   ]
  },
  {
   "cell_type": "code",
   "execution_count": 25,
   "metadata": {},
   "outputs": [
    {
     "data": {
      "text/plain": [
       "Computer Science    50336\n",
       "No major            20512\n",
       "Engineering          6945\n",
       "Info Systems         6507\n",
       "Arts and Science     4102\n",
       "Other Science        3296\n",
       "Math/Stat            2818\n",
       "Web Design/Dev       2418\n",
       "Business             1921\n",
       "Name: UndergradMajor, dtype: int64"
      ]
     },
     "execution_count": 25,
     "metadata": {},
     "output_type": "execute_result"
    }
   ],
   "source": [
    "df['UndergradMajor'].value_counts()"
   ]
  },
  {
   "cell_type": "markdown",
   "metadata": {},
   "source": [
    "## Job Status"
   ]
  },
  {
   "cell_type": "code",
   "execution_count": 26,
   "metadata": {},
   "outputs": [
    {
     "data": {
      "text/plain": [
       "I’m not actively looking, but I am open to new opportunities    47556\n",
       "I am not interested in new job opportunities                    19296\n",
       "I am actively looking for a job                                 12636\n",
       "Name: JobSearchStatus, dtype: int64"
      ]
     },
     "execution_count": 26,
     "metadata": {},
     "output_type": "execute_result"
    }
   ],
   "source": [
    "df['JobSearchStatus'].value_counts()"
   ]
  },
  {
   "cell_type": "code",
   "execution_count": 27,
   "metadata": {},
   "outputs": [],
   "source": [
    "df.dropna(subset=['JobSearchStatus'], inplace=True)"
   ]
  },
  {
   "cell_type": "code",
   "execution_count": 28,
   "metadata": {},
   "outputs": [],
   "source": [
    "# refactoring JobStatus\n",
    "# changing the jobstatus to seeking and non seeking\n",
    "def refactor_job(df):\n",
    "    '''function to change JobStatus category to Seeking and Non Seeking'''\n",
    "    \n",
    "    conditions_job = [(df['JobSearchStatus'] == 'I am actively looking for a job'),\n",
    "                    (df['JobSearchStatus'] == 'I am not interested in new job opportunities')\n",
    "                    | (df['JobSearchStatus'] == 'I’m not actively looking, but I am open to new opportunities')]\n",
    "    \n",
    "    choices_job = ['Seeking', 'Not seeking']\n",
    "    \n",
    "    df['JobSearchStatus'] = np.select(conditions_job, choices_job, default=np.nan)\n",
    "                       \n",
    "    return df\n",
    "\n",
    "df = refactor_job(df)"
   ]
  },
  {
   "cell_type": "code",
   "execution_count": 29,
   "metadata": {},
   "outputs": [
    {
     "data": {
      "text/plain": [
       "Not seeking    66852\n",
       "Seeking        12636\n",
       "Name: JobSearchStatus, dtype: int64"
      ]
     },
     "execution_count": 29,
     "metadata": {},
     "output_type": "execute_result"
    }
   ],
   "source": [
    "df['JobSearchStatus'].value_counts()"
   ]
  },
  {
   "cell_type": "markdown",
   "metadata": {},
   "source": [
    "## Employment"
   ]
  },
  {
   "cell_type": "code",
   "execution_count": 30,
   "metadata": {},
   "outputs": [
    {
     "data": {
      "text/plain": [
       "Employed full-time                                      58551\n",
       "Independent contractor, freelancer, or self-employed     7797\n",
       "Not employed, but looking for work                       4604\n",
       "Employed part-time                                       4170\n",
       "Not employed, and not looking for work                   3210\n",
       "Retired                                                   138\n",
       "Name: Employment, dtype: int64"
      ]
     },
     "execution_count": 30,
     "metadata": {},
     "output_type": "execute_result"
    }
   ],
   "source": [
    "df['Employment'].value_counts()"
   ]
  },
  {
   "cell_type": "code",
   "execution_count": 31,
   "metadata": {},
   "outputs": [
    {
     "data": {
      "text/plain": [
       "1018"
      ]
     },
     "execution_count": 31,
     "metadata": {},
     "output_type": "execute_result"
    }
   ],
   "source": [
    "df['Employment'].isnull().sum()"
   ]
  },
  {
   "cell_type": "code",
   "execution_count": 32,
   "metadata": {},
   "outputs": [],
   "source": [
    "df.dropna(subset=['Employment'], inplace=True)"
   ]
  },
  {
   "cell_type": "code",
   "execution_count": 33,
   "metadata": {},
   "outputs": [],
   "source": [
    "#im not considering the retired person here\n",
    "#Refactoring the employment\n",
    "def refactor_emp(df):\n",
    "    \n",
    "    conditions_emp = [(df['Employment'] == 'Employed full-time'),\n",
    "                    (df['Employment'] == 'Independent contractor, freelancer, or self-employed'),\n",
    "                    (df['Employment'] == 'Not employed, but looking for work'),\n",
    "                    (df['Employment'] == 'Employed part-time')]\n",
    "    \n",
    "    choices_emp = ['Full-time', 'Self-employed', 'Not employed', 'Part-time']\n",
    "    \n",
    "    df['Employment'] = np.select(conditions_emp, choices_emp, default=np.nan)\n",
    "                       \n",
    "    return df\n",
    "\n",
    "df = refactor_emp(df)"
   ]
  },
  {
   "cell_type": "code",
   "execution_count": 34,
   "metadata": {},
   "outputs": [
    {
     "data": {
      "text/plain": [
       "Full-time        58551\n",
       "Self-employed     7797\n",
       "Not employed      4604\n",
       "Part-time         4170\n",
       "nan               3348\n",
       "Name: Employment, dtype: int64"
      ]
     },
     "execution_count": 34,
     "metadata": {},
     "output_type": "execute_result"
    }
   ],
   "source": [
    "df['Employment'].value_counts()"
   ]
  },
  {
   "cell_type": "markdown",
   "metadata": {},
   "source": [
    "## JobSatisfaction"
   ]
  },
  {
   "cell_type": "code",
   "execution_count": 35,
   "metadata": {},
   "outputs": [
    {
     "data": {
      "text/plain": [
       "Moderately satisfied                  25908\n",
       "Extremely satisfied                   12395\n",
       "Slightly satisfied                     9973\n",
       "Slightly dissatisfied                  7037\n",
       "Moderately dissatisfied                6286\n",
       "Neither satisfied nor dissatisfied     4935\n",
       "Extremely dissatisfied                 2472\n",
       "Name: JobSatisfaction, dtype: int64"
      ]
     },
     "execution_count": 35,
     "metadata": {},
     "output_type": "execute_result"
    }
   ],
   "source": [
    "df['JobSatisfaction'].value_counts()"
   ]
  },
  {
   "cell_type": "code",
   "execution_count": 36,
   "metadata": {},
   "outputs": [
    {
     "name": "stdout",
     "output_type": "stream",
     "text": [
      "Age                       16201\n",
      "Salary                    28075\n",
      "SalaryUSD                 30923\n",
      "Country                       0\n",
      "Currency                  17153\n",
      "DevType                     671\n",
      "Employment                    0\n",
      "RaceEthnicity             22976\n",
      "Gender                        0\n",
      "SalaryType                27828\n",
      "Hobby                         0\n",
      "JobSatisfaction            9464\n",
      "JobSearchStatus               0\n",
      "OperatingSystem           10101\n",
      "UndergradMajor                0\n",
      "YearsCoding                  80\n",
      "YearsCodingProf            3074\n",
      "LanguageDesireNextYear    13836\n",
      "LanguageWorkedWith         9721\n",
      "dtype: int64\n"
     ]
    }
   ],
   "source": [
    "print(df.isnull().sum())"
   ]
  },
  {
   "cell_type": "code",
   "execution_count": 42,
   "metadata": {},
   "outputs": [
    {
     "data": {
      "text/plain": [
       "60000       1094\n",
       "100000      1083\n",
       "0           1081\n",
       "50000       1067\n",
       "80000        887\n",
       "            ... \n",
       "3890           1\n",
       "76553          1\n",
       "87686          1\n",
       "4489           1\n",
       "2,346.15       1\n",
       "Name: Salary, Length: 3986, dtype: int64"
      ]
     },
     "execution_count": 42,
     "metadata": {},
     "output_type": "execute_result"
    }
   ],
   "source": [
    "df['Salary'].value_counts()"
   ]
  },
  {
   "cell_type": "markdown",
   "metadata": {},
   "source": [
    "## Ethnicity"
   ]
  },
  {
   "cell_type": "code",
   "execution_count": 44,
   "metadata": {},
   "outputs": [
    {
     "data": {
      "text/plain": [
       "22976"
      ]
     },
     "execution_count": 44,
     "metadata": {},
     "output_type": "execute_result"
    }
   ],
   "source": [
    "df['RaceEthnicity'].isnull().sum()"
   ]
  },
  {
   "cell_type": "code",
   "execution_count": null,
   "metadata": {},
   "outputs": [],
   "source": []
  },
  {
   "cell_type": "code",
   "execution_count": null,
   "metadata": {},
   "outputs": [],
   "source": []
  },
  {
   "cell_type": "code",
   "execution_count": null,
   "metadata": {},
   "outputs": [],
   "source": []
  },
  {
   "cell_type": "markdown",
   "metadata": {},
   "source": [
    "## Cleaned Dataset : 2018_Survey"
   ]
  },
  {
   "cell_type": "code",
   "execution_count": 38,
   "metadata": {},
   "outputs": [
    {
     "data": {
      "text/plain": [
       "(78470, 19)"
      ]
     },
     "execution_count": 38,
     "metadata": {},
     "output_type": "execute_result"
    }
   ],
   "source": [
    "cleaned_2018 = df[df.notnull()]\n",
    "cleaned_2018.shape"
   ]
  },
  {
   "cell_type": "code",
   "execution_count": 39,
   "metadata": {},
   "outputs": [
    {
     "data": {
      "text/html": [
       "<div>\n",
       "<style scoped>\n",
       "    .dataframe tbody tr th:only-of-type {\n",
       "        vertical-align: middle;\n",
       "    }\n",
       "\n",
       "    .dataframe tbody tr th {\n",
       "        vertical-align: top;\n",
       "    }\n",
       "\n",
       "    .dataframe thead th {\n",
       "        text-align: right;\n",
       "    }\n",
       "</style>\n",
       "<table border=\"1\" class=\"dataframe\">\n",
       "  <thead>\n",
       "    <tr style=\"text-align: right;\">\n",
       "      <th></th>\n",
       "      <th>Age</th>\n",
       "      <th>Salary</th>\n",
       "      <th>SalaryUSD</th>\n",
       "      <th>Country</th>\n",
       "      <th>Currency</th>\n",
       "      <th>DevType</th>\n",
       "      <th>Employment</th>\n",
       "      <th>RaceEthnicity</th>\n",
       "      <th>Gender</th>\n",
       "      <th>SalaryType</th>\n",
       "      <th>Hobby</th>\n",
       "      <th>JobSatisfaction</th>\n",
       "      <th>JobSearchStatus</th>\n",
       "      <th>OperatingSystem</th>\n",
       "      <th>UndergradMajor</th>\n",
       "      <th>YearsCoding</th>\n",
       "      <th>YearsCodingProf</th>\n",
       "      <th>LanguageDesireNextYear</th>\n",
       "      <th>LanguageWorkedWith</th>\n",
       "    </tr>\n",
       "  </thead>\n",
       "  <tbody>\n",
       "    <tr>\n",
       "      <th>0</th>\n",
       "      <td>25 - 34 years old</td>\n",
       "      <td>NaN</td>\n",
       "      <td>NaN</td>\n",
       "      <td>Kenya</td>\n",
       "      <td>NaN</td>\n",
       "      <td>Full-stack developer</td>\n",
       "      <td>Part-time</td>\n",
       "      <td>Black or of African descent</td>\n",
       "      <td>Male</td>\n",
       "      <td>Monthly</td>\n",
       "      <td>Yes</td>\n",
       "      <td>Extremely satisfied</td>\n",
       "      <td>Not seeking</td>\n",
       "      <td>Linux-based</td>\n",
       "      <td>Math/Stat</td>\n",
       "      <td>3-5 years</td>\n",
       "      <td>3-5 years</td>\n",
       "      <td>JavaScript;Python;HTML;CSS</td>\n",
       "      <td>JavaScript;Python;HTML;CSS</td>\n",
       "    </tr>\n",
       "    <tr>\n",
       "      <th>1</th>\n",
       "      <td>35 - 44 years old</td>\n",
       "      <td>51000</td>\n",
       "      <td>70841.0</td>\n",
       "      <td>United Kingdom</td>\n",
       "      <td>British pounds sterling (£)</td>\n",
       "      <td>Database administrator;DevOps specialist;Full-...</td>\n",
       "      <td>Full-time</td>\n",
       "      <td>White or of European descent</td>\n",
       "      <td>Male</td>\n",
       "      <td>Yearly</td>\n",
       "      <td>Yes</td>\n",
       "      <td>Moderately dissatisfied</td>\n",
       "      <td>Seeking</td>\n",
       "      <td>Linux-based</td>\n",
       "      <td>Other Science</td>\n",
       "      <td>30 or more years</td>\n",
       "      <td>18-20 years</td>\n",
       "      <td>Go;Python</td>\n",
       "      <td>JavaScript;Python;Bash/Shell</td>\n",
       "    </tr>\n",
       "    <tr>\n",
       "      <th>2</th>\n",
       "      <td>NaN</td>\n",
       "      <td>NaN</td>\n",
       "      <td>NaN</td>\n",
       "      <td>United States</td>\n",
       "      <td>NaN</td>\n",
       "      <td>Engineering manager;Full-stack developer</td>\n",
       "      <td>Full-time</td>\n",
       "      <td>NaN</td>\n",
       "      <td>Non-conforming</td>\n",
       "      <td>NaN</td>\n",
       "      <td>Yes</td>\n",
       "      <td>Moderately satisfied</td>\n",
       "      <td>Not seeking</td>\n",
       "      <td>NaN</td>\n",
       "      <td>Computer Science</td>\n",
       "      <td>24-26 years</td>\n",
       "      <td>6-8 years</td>\n",
       "      <td>NaN</td>\n",
       "      <td>NaN</td>\n",
       "    </tr>\n",
       "    <tr>\n",
       "      <th>3</th>\n",
       "      <td>35 - 44 years old</td>\n",
       "      <td>NaN</td>\n",
       "      <td>NaN</td>\n",
       "      <td>United States</td>\n",
       "      <td>U.S. dollars ($)</td>\n",
       "      <td>Full-stack developer</td>\n",
       "      <td>Full-time</td>\n",
       "      <td>White or of European descent</td>\n",
       "      <td>Male</td>\n",
       "      <td>NaN</td>\n",
       "      <td>No</td>\n",
       "      <td>Neither satisfied nor dissatisfied</td>\n",
       "      <td>Not seeking</td>\n",
       "      <td>Windows</td>\n",
       "      <td>Computer Science</td>\n",
       "      <td>18-20 years</td>\n",
       "      <td>12-14 years</td>\n",
       "      <td>C#;JavaScript;SQL;TypeScript;HTML;CSS;Bash/Shell</td>\n",
       "      <td>C#;JavaScript;SQL;TypeScript;HTML;CSS;Bash/Shell</td>\n",
       "    </tr>\n",
       "    <tr>\n",
       "      <th>4</th>\n",
       "      <td>18 - 24 years old</td>\n",
       "      <td>260000</td>\n",
       "      <td>21426.0</td>\n",
       "      <td>South Africa</td>\n",
       "      <td>South African rands (R)</td>\n",
       "      <td>Data or business analyst;Desktop or enterprise...</td>\n",
       "      <td>Full-time</td>\n",
       "      <td>White or of European descent</td>\n",
       "      <td>Male</td>\n",
       "      <td>Yearly</td>\n",
       "      <td>Yes</td>\n",
       "      <td>Slightly satisfied</td>\n",
       "      <td>Not seeking</td>\n",
       "      <td>Windows</td>\n",
       "      <td>Computer Science</td>\n",
       "      <td>6-8 years</td>\n",
       "      <td>0-2 years</td>\n",
       "      <td>Assembly;C;C++;Matlab;SQL;Bash/Shell</td>\n",
       "      <td>C;C++;Java;Matlab;R;SQL;Bash/Shell</td>\n",
       "    </tr>\n",
       "    <tr>\n",
       "      <th>5</th>\n",
       "      <td>18 - 24 years old</td>\n",
       "      <td>30000</td>\n",
       "      <td>41671.0</td>\n",
       "      <td>United Kingdom</td>\n",
       "      <td>British pounds sterling (£)</td>\n",
       "      <td>Back-end developer;Database administrator;Fron...</td>\n",
       "      <td>Full-time</td>\n",
       "      <td>White or of European descent</td>\n",
       "      <td>Male</td>\n",
       "      <td>NaN</td>\n",
       "      <td>Yes</td>\n",
       "      <td>Moderately satisfied</td>\n",
       "      <td>Seeking</td>\n",
       "      <td>Linux-based</td>\n",
       "      <td>Computer Science</td>\n",
       "      <td>6-8 years</td>\n",
       "      <td>3-5 years</td>\n",
       "      <td>C#;Go;Java;JavaScript;Python;SQL;TypeScript;HT...</td>\n",
       "      <td>Java;JavaScript;Python;TypeScript;HTML;CSS</td>\n",
       "    </tr>\n",
       "    <tr>\n",
       "      <th>6</th>\n",
       "      <td>18 - 24 years old</td>\n",
       "      <td>120000</td>\n",
       "      <td>120000.0</td>\n",
       "      <td>United States</td>\n",
       "      <td>U.S. dollars ($)</td>\n",
       "      <td>Back-end developer;Front-end developer;Full-st...</td>\n",
       "      <td>Full-time</td>\n",
       "      <td>White or of European descent</td>\n",
       "      <td>Male</td>\n",
       "      <td>Yearly</td>\n",
       "      <td>Yes</td>\n",
       "      <td>Slightly satisfied</td>\n",
       "      <td>Not seeking</td>\n",
       "      <td>MacOS</td>\n",
       "      <td>Computer Science</td>\n",
       "      <td>9-11 years</td>\n",
       "      <td>0-2 years</td>\n",
       "      <td>C;Go;JavaScript;Python;HTML;CSS</td>\n",
       "      <td>JavaScript;HTML;CSS</td>\n",
       "    </tr>\n",
       "    <tr>\n",
       "      <th>7</th>\n",
       "      <td>25 - 34 years old</td>\n",
       "      <td>NaN</td>\n",
       "      <td>NaN</td>\n",
       "      <td>Nigeria</td>\n",
       "      <td>NaN</td>\n",
       "      <td>Designer;Front-end developer;QA or test developer</td>\n",
       "      <td>Full-time</td>\n",
       "      <td>Black or of African descent</td>\n",
       "      <td>Female</td>\n",
       "      <td>NaN</td>\n",
       "      <td>Yes</td>\n",
       "      <td>Slightly satisfied</td>\n",
       "      <td>Not seeking</td>\n",
       "      <td>Windows</td>\n",
       "      <td>Computer Science</td>\n",
       "      <td>0-2 years</td>\n",
       "      <td>3-5 years</td>\n",
       "      <td>Matlab;SQL;Kotlin;Bash/Shell</td>\n",
       "      <td>JavaScript;TypeScript;HTML;CSS</td>\n",
       "    </tr>\n",
       "    <tr>\n",
       "      <th>8</th>\n",
       "      <td>35 - 44 years old</td>\n",
       "      <td>250000</td>\n",
       "      <td>250000.0</td>\n",
       "      <td>United States</td>\n",
       "      <td>U.S. dollars ($)</td>\n",
       "      <td>Back-end developer;C-suite executive (CEO, CTO...</td>\n",
       "      <td>Full-time</td>\n",
       "      <td>White or of European descent</td>\n",
       "      <td>Male</td>\n",
       "      <td>Yearly</td>\n",
       "      <td>Yes</td>\n",
       "      <td>Moderately satisfied</td>\n",
       "      <td>Not seeking</td>\n",
       "      <td>MacOS</td>\n",
       "      <td>Arts and Science</td>\n",
       "      <td>30 or more years</td>\n",
       "      <td>21-23 years</td>\n",
       "      <td>Erlang;Go;Python;Rust;SQL</td>\n",
       "      <td>Assembly;CoffeeScript;Erlang;Go;JavaScript;Lua...</td>\n",
       "    </tr>\n",
       "    <tr>\n",
       "      <th>13</th>\n",
       "      <td>NaN</td>\n",
       "      <td>NaN</td>\n",
       "      <td>NaN</td>\n",
       "      <td>India</td>\n",
       "      <td>NaN</td>\n",
       "      <td>Back-end developer;Full-stack developer</td>\n",
       "      <td>Full-time</td>\n",
       "      <td>NaN</td>\n",
       "      <td>Non-conforming</td>\n",
       "      <td>NaN</td>\n",
       "      <td>No</td>\n",
       "      <td>Extremely satisfied</td>\n",
       "      <td>Not seeking</td>\n",
       "      <td>Linux-based</td>\n",
       "      <td>Engineering</td>\n",
       "      <td>3-5 years</td>\n",
       "      <td>3-5 years</td>\n",
       "      <td>Java;Python</td>\n",
       "      <td>Java</td>\n",
       "    </tr>\n",
       "  </tbody>\n",
       "</table>\n",
       "</div>"
      ],
      "text/plain": [
       "                  Age  Salary  SalaryUSD         Country  \\\n",
       "0   25 - 34 years old     NaN        NaN           Kenya   \n",
       "1   35 - 44 years old   51000    70841.0  United Kingdom   \n",
       "2                 NaN     NaN        NaN   United States   \n",
       "3   35 - 44 years old     NaN        NaN   United States   \n",
       "4   18 - 24 years old  260000    21426.0    South Africa   \n",
       "5   18 - 24 years old   30000    41671.0  United Kingdom   \n",
       "6   18 - 24 years old  120000   120000.0   United States   \n",
       "7   25 - 34 years old     NaN        NaN         Nigeria   \n",
       "8   35 - 44 years old  250000   250000.0   United States   \n",
       "13                NaN     NaN        NaN           India   \n",
       "\n",
       "                       Currency  \\\n",
       "0                           NaN   \n",
       "1   British pounds sterling (£)   \n",
       "2                           NaN   \n",
       "3              U.S. dollars ($)   \n",
       "4       South African rands (R)   \n",
       "5   British pounds sterling (£)   \n",
       "6              U.S. dollars ($)   \n",
       "7                           NaN   \n",
       "8              U.S. dollars ($)   \n",
       "13                          NaN   \n",
       "\n",
       "                                              DevType Employment  \\\n",
       "0                                Full-stack developer  Part-time   \n",
       "1   Database administrator;DevOps specialist;Full-...  Full-time   \n",
       "2            Engineering manager;Full-stack developer  Full-time   \n",
       "3                                Full-stack developer  Full-time   \n",
       "4   Data or business analyst;Desktop or enterprise...  Full-time   \n",
       "5   Back-end developer;Database administrator;Fron...  Full-time   \n",
       "6   Back-end developer;Front-end developer;Full-st...  Full-time   \n",
       "7   Designer;Front-end developer;QA or test developer  Full-time   \n",
       "8   Back-end developer;C-suite executive (CEO, CTO...  Full-time   \n",
       "13            Back-end developer;Full-stack developer  Full-time   \n",
       "\n",
       "                   RaceEthnicity          Gender SalaryType Hobby  \\\n",
       "0    Black or of African descent            Male    Monthly   Yes   \n",
       "1   White or of European descent            Male     Yearly   Yes   \n",
       "2                            NaN  Non-conforming        NaN   Yes   \n",
       "3   White or of European descent            Male        NaN    No   \n",
       "4   White or of European descent            Male     Yearly   Yes   \n",
       "5   White or of European descent            Male        NaN   Yes   \n",
       "6   White or of European descent            Male     Yearly   Yes   \n",
       "7    Black or of African descent          Female        NaN   Yes   \n",
       "8   White or of European descent            Male     Yearly   Yes   \n",
       "13                           NaN  Non-conforming        NaN    No   \n",
       "\n",
       "                       JobSatisfaction JobSearchStatus OperatingSystem  \\\n",
       "0                  Extremely satisfied     Not seeking     Linux-based   \n",
       "1              Moderately dissatisfied         Seeking     Linux-based   \n",
       "2                 Moderately satisfied     Not seeking             NaN   \n",
       "3   Neither satisfied nor dissatisfied     Not seeking         Windows   \n",
       "4                   Slightly satisfied     Not seeking         Windows   \n",
       "5                 Moderately satisfied         Seeking     Linux-based   \n",
       "6                   Slightly satisfied     Not seeking           MacOS   \n",
       "7                   Slightly satisfied     Not seeking         Windows   \n",
       "8                 Moderately satisfied     Not seeking           MacOS   \n",
       "13                 Extremely satisfied     Not seeking     Linux-based   \n",
       "\n",
       "      UndergradMajor       YearsCoding YearsCodingProf  \\\n",
       "0          Math/Stat         3-5 years       3-5 years   \n",
       "1      Other Science  30 or more years     18-20 years   \n",
       "2   Computer Science       24-26 years       6-8 years   \n",
       "3   Computer Science       18-20 years     12-14 years   \n",
       "4   Computer Science         6-8 years       0-2 years   \n",
       "5   Computer Science         6-8 years       3-5 years   \n",
       "6   Computer Science        9-11 years       0-2 years   \n",
       "7   Computer Science         0-2 years       3-5 years   \n",
       "8   Arts and Science  30 or more years     21-23 years   \n",
       "13       Engineering         3-5 years       3-5 years   \n",
       "\n",
       "                               LanguageDesireNextYear  \\\n",
       "0                          JavaScript;Python;HTML;CSS   \n",
       "1                                           Go;Python   \n",
       "2                                                 NaN   \n",
       "3    C#;JavaScript;SQL;TypeScript;HTML;CSS;Bash/Shell   \n",
       "4                Assembly;C;C++;Matlab;SQL;Bash/Shell   \n",
       "5   C#;Go;Java;JavaScript;Python;SQL;TypeScript;HT...   \n",
       "6                     C;Go;JavaScript;Python;HTML;CSS   \n",
       "7                        Matlab;SQL;Kotlin;Bash/Shell   \n",
       "8                           Erlang;Go;Python;Rust;SQL   \n",
       "13                                        Java;Python   \n",
       "\n",
       "                                   LanguageWorkedWith  \n",
       "0                          JavaScript;Python;HTML;CSS  \n",
       "1                        JavaScript;Python;Bash/Shell  \n",
       "2                                                 NaN  \n",
       "3    C#;JavaScript;SQL;TypeScript;HTML;CSS;Bash/Shell  \n",
       "4                  C;C++;Java;Matlab;R;SQL;Bash/Shell  \n",
       "5          Java;JavaScript;Python;TypeScript;HTML;CSS  \n",
       "6                                 JavaScript;HTML;CSS  \n",
       "7                      JavaScript;TypeScript;HTML;CSS  \n",
       "8   Assembly;CoffeeScript;Erlang;Go;JavaScript;Lua...  \n",
       "13                                               Java  "
      ]
     },
     "execution_count": 39,
     "metadata": {},
     "output_type": "execute_result"
    }
   ],
   "source": [
    "cleaned_2018.head(10)"
   ]
  },
  {
   "cell_type": "code",
   "execution_count": null,
   "metadata": {},
   "outputs": [],
   "source": []
  },
  {
   "cell_type": "code",
   "execution_count": null,
   "metadata": {},
   "outputs": [],
   "source": []
  },
  {
   "cell_type": "code",
   "execution_count": null,
   "metadata": {},
   "outputs": [],
   "source": []
  },
  {
   "cell_type": "code",
   "execution_count": null,
   "metadata": {},
   "outputs": [],
   "source": []
  },
  {
   "cell_type": "code",
   "execution_count": null,
   "metadata": {},
   "outputs": [],
   "source": []
  },
  {
   "cell_type": "code",
   "execution_count": null,
   "metadata": {},
   "outputs": [],
   "source": [
    "#replace\n",
    "df['DevType'].replace('Back-end developer', 'Developer', inplace =True)\n",
    "df['DevType'].replace('Back-end developer;C-suite executive', 'Developer', inplace =True)\n",
    "df['DevType'].replace('Back-end developer;C-suite executive (CEO, CTO, etc.);Data or business analyst', 'Developer', inplace =True)\n",
    "df['DevType'].replace('Back-end developer;C-suite executive (CEO, CTO, etc.)', 'Developer', inplace =True)\n",
    "df['DevType'].replace('Back-end developer;C-suite executive (CEO, CTO, etc.);Data or business analyst;Data scientist or machine learning specialist', 'Developer', inplace =True)\n",
    "df['DevType'].replace('Back-end developer;C-suite executive (CEO, CTO, etc.);Data or business analyst;Data scientist or machine learning specialist;Database administrator;Designer;Desktop or enterprise applications developer', 'Developer', inplace =True)\n",
    "df['DevType'].replace('Back-end developer;C-suite executive (CEO, CTO, etc.);Data or business analyst;Data scientist or machine learning specialist;Database administrator;Designer;Desktop or enterprise applications developer;DevOps specialist;Educator or academic researcher;Embedded applications or devices developer', 'Developer', inplace =True)\n",
    "df['DevType'].replace('QA or test developer;Student;System administrator', 'Non developer', inplace =True)\n",
    "df['DevType'].replace('QA or test developer;System administrator', 'Non developer', inplace =True)\n",
    "df['DevType'].replace('Student;System administrator', 'Student', inplace =True)\n",
    "df['DevType'].replace('Student;System administrator', 'Student', inplace =True)\n",
    "df['DevType'].replace('System administrator', 'Developer', inplace =True)\n",
    "df['DevType'].replace('Back-end developer;C-suite executive (CEO, CTO, etc.);Data or business analyst;Data scientist or machine learning specialist;Database administrator;Designer;Desktop or enterprise applications developer;DevOps specialist;Educator or academic researcher;Embedded applications or devices developer;Engineering manager;Front-end developer;Full-stack developer;Game or graphics developer;Marketing or sales professional;Mobile developer;Product manager;QA or test developer;Student;System administrator', 'Developer', inplace =True)\n",
    "df['DevType'].replace('Back-end developer;C-suite executive (CEO, CTO, etc.);Data or business analyst;Data scientist or machine learning specialist;Database administrator;Designer;Desktop or enterprise applications developer;DevOps specialist;Educator or academic researcher;Embedded applications or devices developer;Engineering manager;Front-end developer;Full-stack developer;Game or graphics developer;Marketing or sales professional;Mobile developer;Product manager;QA or test developer;System administrator', 'Developer', inplace =True)\n",
    "df['DevType'].replace('Back-end developer;C-suite executive (CEO, CTO, etc.);Data or business analyst;Data scientist or machine learning specialist;Database administrator;Designer;Desktop or enterprise applications developer;DevOps specialist;Educator or academic researcher;Embedded applications or devices developer;Engineering manager;Front-end developer;Full-stack developer;Game or graphics developer;Product manager;QA or test developer;Student;System administrator', 'Developer', inplace =True)\n",
    "df['DevType'].replace('Back-end developer;C-suite executive (CEO, CTO, etc.);Data or business analyst;Data scientist or machine learning specialist;Database administrator;Designer;Desktop or enterprise applications developer;DevOps specialist;Educator or academic researcher;Embedded applications or devices developer;Engineering manager;Front-end developer;Full-stack developer;Marketing or sales professional;Mobile developer;Product manager;QA or test developer;Student;System administrator', 'Developer', inplace =True)\n",
    "df['DevType'].replace('Back-end developer;C-suite executive (CEO, CTO, etc.);Data or business analyst;Data scientist or machine learning specialist;Database administrator;Designer;Desktop or enterprise applications developer;DevOps specialist;Educator or academic researcher;Embedded applications or devices developer;Engineering manager;Front-end developer;Full-stack developer;Marketing or sales professional;Mobile developer;Product manager;QA or test developer;System administrator', 'Developer', inplace =True)\n",
    "df['DevType'].replace('Back-end developer;C-suite executive (CEO, CTO, etc.);Data or business analyst;Data scientist or machine learning specialist;Database administrator;Designer;Desktop or enterprise applications developer;DevOps specialist;Educator or academic researcher;Embedded applications or devices developer;Engineering manager;Front-end developer;Full-stack developer;Marketing or sales professional;Mobile developer;QA or test developer;Student;System administrator', 'Developer', inplace =True)\n",
    "df['DevType'].replace('Back-end developer;C-suite executive (CEO, CTO, etc.);Data or business analyst;Data scientist or machine learning specialist;Database administrator;Designer;Desktop or enterprise applications developer;DevOps specialist;Educator or academic researcher;Embedded applications or devices developer;Engineering manager;Front-end developer;Full-stack developer;Marketing or sales professional;Product manager;QA or test developer;Student;System administrator', 'Developer', inplace =True)\n",
    "df['DevType'].replace('Back-end developer;C-suite executive (CEO, CTO, etc.);Data or business analyst;Data scientist or machine learning specialist;Database administrator;Designer;Desktop or enterprise applications developer;DevOps specialist;Educator or academic researcher;Embedded applications or devices developer;Engineering manager;Front-end developer;Full-stack developer;System administrator', 'Developer', inplace =True)\n",
    "df['DevType'].replace('Back-end developer;C-suite executive (CEO, CTO, etc.);Data or business analyst;Data scientist or machine learning specialist;Database administrator;Designer;Desktop or enterprise applications developer;DevOps specialist;Educator or academic researcher;Embedded applications or devices developer;Front-end developer;Full-stack developer;Game or graphics developer;Marketing or sales professional;Mobile developer;Product manager;QA or test developer;System administrator', 'Developer', inplace =True)\n",
    "df['DevType'].replace('Product manager;Student;System administrator', 'Non developer', inplace =True)\n",
    "df['DevType'].replace('Product manager;System administrator', 'Non developer', inplace =True)\n",
    "df['DevType'].replace('QA or test developer', 'Non developer', inplace =True)\n",
    "df['DevType'].replace('QA or test developer;Student ', 'Non developer', inplace =True)"
   ]
  },
  {
   "cell_type": "code",
   "execution_count": null,
   "metadata": {},
   "outputs": [],
   "source": [
    "df.groupby('DevType')['DevType'].count()"
   ]
  },
  {
   "cell_type": "markdown",
   "metadata": {},
   "source": [
    "## Salary"
   ]
  },
  {
   "cell_type": "code",
   "execution_count": null,
   "metadata": {},
   "outputs": [],
   "source": [
    "#df.groupby('Salary')['Salary'].count()"
   ]
  },
  {
   "cell_type": "code",
   "execution_count": null,
   "metadata": {},
   "outputs": [],
   "source": [
    "#print(df.isnull().sum())"
   ]
  },
  {
   "cell_type": "code",
   "execution_count": null,
   "metadata": {},
   "outputs": [],
   "source": [
    "df.shape"
   ]
  },
  {
   "cell_type": "markdown",
   "metadata": {},
   "source": [
    "## Age"
   ]
  },
  {
   "cell_type": "code",
   "execution_count": null,
   "metadata": {},
   "outputs": [],
   "source": [
    "df['Age'].unique()"
   ]
  },
  {
   "cell_type": "code",
   "execution_count": null,
   "metadata": {},
   "outputs": [],
   "source": [
    "#sns.scatterplot(x='Gender', y='Age', data=df) #I can arrange a random variable here, but need input from the user.\n",
    "#df = df[(df['Age'] >= 'Under 18 years old') & (df['Age'] <= '65 years or older')]"
   ]
  },
  {
   "cell_type": "code",
   "execution_count": null,
   "metadata": {},
   "outputs": [],
   "source": [
    "#df.info()   #  My age,Gender is object here"
   ]
  },
  {
   "cell_type": "markdown",
   "metadata": {},
   "source": [
    "## After Cleaning Data"
   ]
  },
  {
   "cell_type": "code",
   "execution_count": null,
   "metadata": {},
   "outputs": [],
   "source": [
    "#Find % of missing data\n",
    "missing_count = df.isnull().sum() #number of missing\n",
    "total_cells = np.product(df.shape) # number of cells (cols x rows)\n",
    "total_missing = missing_count.sum()\n",
    "missing_percent = (total_missing*100)/total_cells\n",
    "\n",
    "print('Total : ', total_cells)\n",
    "print('Total missing : ', total_missing)\n",
    "print('Missing Percentage: ', missing_percent, '%')"
   ]
  },
  {
   "cell_type": "code",
   "execution_count": null,
   "metadata": {},
   "outputs": [],
   "source": []
  }
 ],
 "metadata": {
  "kernelspec": {
   "display_name": "Python 3",
   "language": "python",
   "name": "python3"
  },
  "language_info": {
   "codemirror_mode": {
    "name": "ipython",
    "version": 3
   },
   "file_extension": ".py",
   "mimetype": "text/x-python",
   "name": "python",
   "nbconvert_exporter": "python",
   "pygments_lexer": "ipython3",
   "version": "3.8.5"
  }
 },
 "nbformat": 4,
 "nbformat_minor": 4
}
